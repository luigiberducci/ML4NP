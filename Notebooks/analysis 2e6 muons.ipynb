{
 "cells": [
  {
   "cell_type": "markdown",
   "metadata": {},
   "source": [
    "# Analysis 2e6 muons by CJ - ROI cut\n",
    "In this notebook, we will see the last data from CJ. Only the entries within the ROI are considered. The ROI is defined as follows:\n",
    "- `x`, `y` in `[-500, +500]`\n",
    "- `z` in `[-1000, +1000]`"
   ]
  },
  {
   "cell_type": "code",
   "execution_count": 11,
   "metadata": {},
   "outputs": [
    {
     "name": "stdout",
     "output_type": "stream",
     "text": [
      "423347\n"
     ]
    }
   ],
   "source": [
    "dir_in = os.path.join(\"..\", \"Data\", \"cutROI\")\n",
    "files = [\"output2eROI_part1.csv\", \"output2eROI_part2.csv\", \"output2eROI_part3.csv\", \"output2eROI_part4.csv\", \"output2eROI_part5.csv\"]\n",
    "df = pd.read_csv(os.path.join(dir_in, files[0]))\n",
    "for file in files[1:]:\n",
    "    dfi = pd.read_csv(os.path.join(dir_in, file))\n",
    "    df = pd.concat([df, dfi])"
   ]
  },
  {
   "cell_type": "code",
   "execution_count": 18,
   "metadata": {},
   "outputs": [
    {
     "name": "stdout",
     "output_type": "stream",
     "text": [
      "[Info] Number of entries: 9324212\n",
      "[Info] Number of distinct events: 423347\n"
     ]
    }
   ],
   "source": [
    "print(\"[Info] Number of entries: {}\".format(df.shape[0]))\n",
    "print(\"[Info] Number of distinct events: {}\".format(df.eventnumber.nunique()))"
   ]
  },
  {
   "cell_type": "code",
   "execution_count": 16,
   "metadata": {},
   "outputs": [
    {
     "data": {
      "text/plain": [
       "(9324212, 15)"
      ]
     },
     "execution_count": 16,
     "metadata": {},
     "output_type": "execute_result"
    }
   ],
   "source": [
    "df.shape\n",
    "\n"
   ]
  },
  {
   "cell_type": "code",
   "execution_count": null,
   "metadata": {},
   "outputs": [],
   "source": []
  }
 ],
 "metadata": {
  "kernelspec": {
   "display_name": "Python 3",
   "language": "python",
   "name": "python3"
  },
  "language_info": {
   "codemirror_mode": {
    "name": "ipython",
    "version": 3
   },
   "file_extension": ".py",
   "mimetype": "text/x-python",
   "name": "python",
   "nbconvert_exporter": "python",
   "pygments_lexer": "ipython3",
   "version": "3.6.9"
  }
 },
 "nbformat": 4,
 "nbformat_minor": 2
}
