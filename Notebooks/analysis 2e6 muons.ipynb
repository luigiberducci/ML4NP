{
 "cells": [
  {
   "cell_type": "markdown",
   "metadata": {},
   "source": [
    "# Analysis 2e6 muons by CJ - ROI cut\n",
    "In this notebook, we will see the last data from CJ. Only the entries within the ROI are considered. The ROI is defined as follows:\n",
    "- `x`, `y` in `[-500, +500]`\n",
    "- `z` in `[-1000, +1000]`\n",
    "\n",
    "The file after the cut has `9324212` entries and `11077` events."
   ]
  },
  {
   "cell_type": "code",
   "execution_count": 1,
   "metadata": {},
   "outputs": [
    {
     "data": {
      "text/html": [
       "<div>\n",
       "<style scoped>\n",
       "    .dataframe tbody tr th:only-of-type {\n",
       "        vertical-align: middle;\n",
       "    }\n",
       "\n",
       "    .dataframe tbody tr th {\n",
       "        vertical-align: top;\n",
       "    }\n",
       "\n",
       "    .dataframe thead th {\n",
       "        text-align: right;\n",
       "    }\n",
       "</style>\n",
       "<table border=\"1\" class=\"dataframe\">\n",
       "  <thead>\n",
       "    <tr style=\"text-align: right;\">\n",
       "      <th></th>\n",
       "      <th>PID</th>\n",
       "      <th>ParentTrackID</th>\n",
       "      <th>energydeposition</th>\n",
       "      <th>kineticenergy</th>\n",
       "      <th>time</th>\n",
       "      <th>x</th>\n",
       "      <th>y</th>\n",
       "      <th>z</th>\n",
       "      <th>px</th>\n",
       "      <th>py</th>\n",
       "      <th>pz</th>\n",
       "      <th>eventnumber</th>\n",
       "      <th>tracknumber</th>\n",
       "      <th>creatorprocess</th>\n",
       "      <th>parentnucleusPID</th>\n",
       "    </tr>\n",
       "  </thead>\n",
       "  <tbody>\n",
       "    <tr>\n",
       "      <th>0</th>\n",
       "      <td>22</td>\n",
       "      <td>341</td>\n",
       "      <td>0.00000</td>\n",
       "      <td>174.972</td>\n",
       "      <td>43.8606</td>\n",
       "      <td>491.864</td>\n",
       "      <td>275.561</td>\n",
       "      <td>-885.022</td>\n",
       "      <td>-0.464690</td>\n",
       "      <td>-0.633466</td>\n",
       "      <td>-0.618696</td>\n",
       "      <td>210</td>\n",
       "      <td>1123</td>\n",
       "      <td>eBrem</td>\n",
       "      <td>0</td>\n",
       "    </tr>\n",
       "    <tr>\n",
       "      <th>1</th>\n",
       "      <td>22</td>\n",
       "      <td>341</td>\n",
       "      <td>0.00000</td>\n",
       "      <td>171.427</td>\n",
       "      <td>44.0266</td>\n",
       "      <td>468.746</td>\n",
       "      <td>244.047</td>\n",
       "      <td>-915.800</td>\n",
       "      <td>-0.604181</td>\n",
       "      <td>-0.731574</td>\n",
       "      <td>-0.315855</td>\n",
       "      <td>210</td>\n",
       "      <td>1123</td>\n",
       "      <td>eBrem</td>\n",
       "      <td>0</td>\n",
       "    </tr>\n",
       "    <tr>\n",
       "      <th>2</th>\n",
       "      <td>22</td>\n",
       "      <td>341</td>\n",
       "      <td>3.20630</td>\n",
       "      <td>0.000</td>\n",
       "      <td>44.3455</td>\n",
       "      <td>410.980</td>\n",
       "      <td>174.100</td>\n",
       "      <td>-946.000</td>\n",
       "      <td>-0.604181</td>\n",
       "      <td>-0.731574</td>\n",
       "      <td>-0.315855</td>\n",
       "      <td>210</td>\n",
       "      <td>1123</td>\n",
       "      <td>eBrem</td>\n",
       "      <td>0</td>\n",
       "    </tr>\n",
       "    <tr>\n",
       "      <th>3</th>\n",
       "      <td>11</td>\n",
       "      <td>1123</td>\n",
       "      <td>168.22100</td>\n",
       "      <td>0.000</td>\n",
       "      <td>44.3460</td>\n",
       "      <td>411.045</td>\n",
       "      <td>174.073</td>\n",
       "      <td>-946.066</td>\n",
       "      <td>0.673383</td>\n",
       "      <td>-0.283750</td>\n",
       "      <td>-0.682672</td>\n",
       "      <td>210</td>\n",
       "      <td>1590</td>\n",
       "      <td>phot</td>\n",
       "      <td>0</td>\n",
       "    </tr>\n",
       "    <tr>\n",
       "      <th>4</th>\n",
       "      <td>11</td>\n",
       "      <td>1123</td>\n",
       "      <td>3.54527</td>\n",
       "      <td>0.000</td>\n",
       "      <td>44.0266</td>\n",
       "      <td>468.747</td>\n",
       "      <td>244.047</td>\n",
       "      <td>-915.800</td>\n",
       "      <td>0.369252</td>\n",
       "      <td>0.241678</td>\n",
       "      <td>-0.897355</td>\n",
       "      <td>210</td>\n",
       "      <td>1589</td>\n",
       "      <td>compt</td>\n",
       "      <td>0</td>\n",
       "    </tr>\n",
       "  </tbody>\n",
       "</table>\n",
       "</div>"
      ],
      "text/plain": [
       "   PID  ParentTrackID  energydeposition  kineticenergy     time        x  \\\n",
       "0   22            341           0.00000        174.972  43.8606  491.864   \n",
       "1   22            341           0.00000        171.427  44.0266  468.746   \n",
       "2   22            341           3.20630          0.000  44.3455  410.980   \n",
       "3   11           1123         168.22100          0.000  44.3460  411.045   \n",
       "4   11           1123           3.54527          0.000  44.0266  468.747   \n",
       "\n",
       "         y        z        px        py        pz  eventnumber  tracknumber  \\\n",
       "0  275.561 -885.022 -0.464690 -0.633466 -0.618696          210         1123   \n",
       "1  244.047 -915.800 -0.604181 -0.731574 -0.315855          210         1123   \n",
       "2  174.100 -946.000 -0.604181 -0.731574 -0.315855          210         1123   \n",
       "3  174.073 -946.066  0.673383 -0.283750 -0.682672          210         1590   \n",
       "4  244.047 -915.800  0.369252  0.241678 -0.897355          210         1589   \n",
       "\n",
       "  creatorprocess  parentnucleusPID  \n",
       "0          eBrem                 0  \n",
       "1          eBrem                 0  \n",
       "2          eBrem                 0  \n",
       "3           phot                 0  \n",
       "4          compt                 0  "
      ]
     },
     "execution_count": 1,
     "metadata": {},
     "output_type": "execute_result"
    }
   ],
   "source": [
    "import pandas as pd\n",
    "import os\n",
    "\n",
    "dir_in = os.path.join(\"..\", \"Data\", \"cutROI\")\n",
    "files = [\"output2eROI_part1.csv\", \"output2eROI_part2.csv\", \"output2eROI_part3.csv\", \"output2eROI_part4.csv\", \"output2eROI_part5.csv\"]\n",
    "df = pd.read_csv(os.path.join(dir_in, files[0]), index_col=False)\n",
    "for file in files[1:]:\n",
    "    dfi = pd.read_csv(os.path.join(dir_in, file), index_col=False)\n",
    "    df = pd.concat([df, dfi])\n",
    "df.head()"
   ]
  },
  {
   "cell_type": "code",
   "execution_count": 2,
   "metadata": {},
   "outputs": [
    {
     "name": "stdout",
     "output_type": "stream",
     "text": [
      "[Info] Number of entries: 9324212\n",
      "[Info] Number of distinct events: 11077\n"
     ]
    }
   ],
   "source": [
    "print(\"[Info] Number of entries: {}\".format(df.shape[0]))\n",
    "print(\"[Info] Number of distinct events: {}\".format(df.eventnumber.nunique()))"
   ]
  },
  {
   "cell_type": "code",
   "execution_count": 28,
   "metadata": {},
   "outputs": [
    {
     "data": {
      "text/plain": [
       "count    1.107700e+04\n",
       "mean     3.281521e+05\n",
       "std      1.707332e+06\n",
       "min      0.000000e+00\n",
       "25%      1.501759e+03\n",
       "50%      1.272726e+05\n",
       "75%      3.599918e+05\n",
       "max      1.429126e+08\n",
       "Name: energydeposition, dtype: float64"
      ]
     },
     "execution_count": 28,
     "metadata": {},
     "output_type": "execute_result"
    }
   ],
   "source": [
    "edep_gb = df.groupby(\"eventnumber\").energydeposition.sum().reset_index()\n",
    "stats = edep_gb.energydeposition.describe()\n",
    "stats"
   ]
  },
  {
   "cell_type": "code",
   "execution_count": 25,
   "metadata": {},
   "outputs": [],
   "source": [
    "import matplotlib.pyplot as plt\n",
    "import numpy as np\n",
    "plt.rcParams['figure.figsize'] = [25, 15]\n",
    "plt.rcParams.update({'font.size': 18})"
   ]
  },
  {
   "cell_type": "code",
   "execution_count": 39,
   "metadata": {},
   "outputs": [
    {
     "data": {
      "image/png": "[encoded data removed]",
      "text/plain": [
       "<Figure size 1800x1080 with 1 Axes>"
      ]
     },
     "metadata": {
      "needs_background": "light"
     },
     "output_type": "display_data"
    }
   ],
   "source": [
    "label = \"min: {:.2f} MeV, max: {:.2f} MeV\\n\".format(stats.loc[\"min\"], stats.loc[\"max\"]/1000)\n",
    "label += \"mean: {:.2f} MeV, std: {:.2f}\\n\".format(stats.loc[\"mean\"]/1000, stats.loc[\"std\"])\n",
    "\n",
    "bins = np.logspace(0, 9, 100)\n",
    "plt.hist(edep_gb.energydeposition, bins)\n",
    "plt.title(\"Cumulative Edep Distribution in ROI\")\n",
    "plt.xlabel(\"Cumulative Edep (KeV)\")\n",
    "plt.ylabel(\"count(#entries)\")\n",
    "plt.xscale('log')\n",
    "plt.text(10, 600, label)\n",
    "plt.show()"
   ]
  },
  {
   "cell_type": "code",
   "execution_count": null,
   "metadata": {},
   "outputs": [],
   "source": []
  }
 ],
 "metadata": {
  "kernelspec": {
   "display_name": "Python 3",
   "language": "python",
   "name": "python3"
  },
  "language_info": {
   "codemirror_mode": {
    "name": "ipython",
    "version": 3
   },
   "file_extension": ".py",
   "mimetype": "text/x-python",
   "name": "python",
   "nbconvert_exporter": "python",
   "pygments_lexer": "ipython3",
   "version": "3.6.9"
  }
 },
 "nbformat": 4,
 "nbformat_minor": 2
}
