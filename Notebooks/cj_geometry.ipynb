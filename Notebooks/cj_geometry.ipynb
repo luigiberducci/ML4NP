{
 "cells": [
  {
   "cell_type": "markdown",
   "metadata": {},
   "source": [
    "## CJ Geometry\n",
    "In this notebook, we aim to explore the CJ geometry and understand where the argon volume ends."
   ]
  },
  {
   "cell_type": "code",
   "execution_count": 3,
   "metadata": {},
   "outputs": [
    {
     "data": {
      "text/html": [
       "<div>\n",
       "<style scoped>\n",
       "    .dataframe tbody tr th:only-of-type {\n",
       "        vertical-align: middle;\n",
       "    }\n",
       "\n",
       "    .dataframe tbody tr th {\n",
       "        vertical-align: top;\n",
       "    }\n",
       "\n",
       "    .dataframe thead th {\n",
       "        text-align: right;\n",
       "    }\n",
       "</style>\n",
       "<table border=\"1\" class=\"dataframe\">\n",
       "  <thead>\n",
       "    <tr style=\"text-align: right;\">\n",
       "      <th></th>\n",
       "      <th>PID</th>\n",
       "      <th>x</th>\n",
       "      <th>y</th>\n",
       "      <th>z</th>\n",
       "      <th>time</th>\n",
       "    </tr>\n",
       "  </thead>\n",
       "  <tbody>\n",
       "    <tr>\n",
       "      <th>count</th>\n",
       "      <td>3.332620e+05</td>\n",
       "      <td>333262.000000</td>\n",
       "      <td>333262.000000</td>\n",
       "      <td>333262.000000</td>\n",
       "      <td>3.332620e+05</td>\n",
       "    </tr>\n",
       "    <tr>\n",
       "      <th>mean</th>\n",
       "      <td>2.385955e+06</td>\n",
       "      <td>-88.576490</td>\n",
       "      <td>131.190801</td>\n",
       "      <td>203.040828</td>\n",
       "      <td>9.964905e+14</td>\n",
       "    </tr>\n",
       "    <tr>\n",
       "      <th>std</th>\n",
       "      <td>4.879223e+07</td>\n",
       "      <td>1023.786801</td>\n",
       "      <td>977.521887</td>\n",
       "      <td>1159.309405</td>\n",
       "      <td>1.613200e+17</td>\n",
       "    </tr>\n",
       "    <tr>\n",
       "      <th>min</th>\n",
       "      <td>-1.200000e+01</td>\n",
       "      <td>-1950.000000</td>\n",
       "      <td>-1950.000000</td>\n",
       "      <td>-1950.000000</td>\n",
       "      <td>5.350400e+01</td>\n",
       "    </tr>\n",
       "    <tr>\n",
       "      <th>25%</th>\n",
       "      <td>1.100000e+01</td>\n",
       "      <td>-1101.880000</td>\n",
       "      <td>-615.610500</td>\n",
       "      <td>-809.701000</td>\n",
       "      <td>5.630130e+01</td>\n",
       "    </tr>\n",
       "    <tr>\n",
       "      <th>50%</th>\n",
       "      <td>1.100000e+01</td>\n",
       "      <td>-78.248900</td>\n",
       "      <td>212.511000</td>\n",
       "      <td>295.779000</td>\n",
       "      <td>5.950150e+01</td>\n",
       "    </tr>\n",
       "    <tr>\n",
       "      <th>75%</th>\n",
       "      <td>2.200000e+01</td>\n",
       "      <td>785.554000</td>\n",
       "      <td>821.224000</td>\n",
       "      <td>1257.430000</td>\n",
       "      <td>6.316980e+01</td>\n",
       "    </tr>\n",
       "    <tr>\n",
       "      <th>max</th>\n",
       "      <td>1.000190e+09</td>\n",
       "      <td>1942.800000</td>\n",
       "      <td>1949.960000</td>\n",
       "      <td>1950.000000</td>\n",
       "      <td>3.118410e+19</td>\n",
       "    </tr>\n",
       "  </tbody>\n",
       "</table>\n",
       "</div>"
      ],
      "text/plain": [
       "                PID              x              y              z          time\n",
       "count  3.332620e+05  333262.000000  333262.000000  333262.000000  3.332620e+05\n",
       "mean   2.385955e+06     -88.576490     131.190801     203.040828  9.964905e+14\n",
       "std    4.879223e+07    1023.786801     977.521887    1159.309405  1.613200e+17\n",
       "min   -1.200000e+01   -1950.000000   -1950.000000   -1950.000000  5.350400e+01\n",
       "25%    1.100000e+01   -1101.880000    -615.610500    -809.701000  5.630130e+01\n",
       "50%    1.100000e+01     -78.248900     212.511000     295.779000  5.950150e+01\n",
       "75%    2.200000e+01     785.554000     821.224000    1257.430000  6.316980e+01\n",
       "max    1.000190e+09    1942.800000    1949.960000    1950.000000  3.118410e+19"
      ]
     },
     "execution_count": 3,
     "metadata": {},
     "output_type": "execute_result"
    }
   ],
   "source": [
    "import pandas as pd\n",
    "import os\n",
    "import matplotlib.pyplot as plt\n",
    "\n",
    "fields = [\"PID\", \"x\", \"y\", \"z\", \"time\"]\n",
    "filepath = os.path.join(\"..\", \"Data\", \"output123456789.csv\")\n",
    "df = pd.read_csv(filepath, index_col=False)[fields]\n",
    "df.describe()"
   ]
  },
  {
   "cell_type": "markdown",
   "metadata": {},
   "source": [
    "# Observations:\n",
    "- the axis ranges in [-1950, +1950] mm, then the LAr volume is **1.95x1.95x1.95 m**\n",
    "- then, the **thickness** of the LAr bulk is **0.05 m**\n"
   ]
  },
  {
   "cell_type": "code",
   "execution_count": null,
   "metadata": {},
   "outputs": [],
   "source": []
  }
 ],
 "metadata": {
  "kernelspec": {
   "display_name": "Python 3",
   "language": "python",
   "name": "python3"
  },
  "language_info": {
   "codemirror_mode": {
    "name": "ipython",
    "version": 3
   },
   "file_extension": ".py",
   "mimetype": "text/x-python",
   "name": "python",
   "nbconvert_exporter": "python",
   "pygments_lexer": "ipython3",
   "version": "3.6.9"
  }
 },
 "nbformat": 4,
 "nbformat_minor": 2
}
