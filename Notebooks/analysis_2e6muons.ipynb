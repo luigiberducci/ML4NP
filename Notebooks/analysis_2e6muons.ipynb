{
 "cells": [
  {
   "cell_type": "markdown",
   "metadata": {},
   "source": [
    "# Analysis 2e6 muons by CJ - ROI cut\n",
    "In this notebook, we will see the last data from CJ. Only the entries within the ROI are considered. The ROI is defined as follows:\n",
    "- `x`, `y` in `[-500, +500]`\n",
    "- `z` in `[-1000, +1000]`\n",
    "\n",
    "The file after the cut has `9324212` entries and `11077` events."
   ]
  },
  {
   "cell_type": "code",
   "execution_count": null,
   "metadata": {},
   "outputs": [],
   "source": [
    "import pandas as pd\n",
    "import os\n",
    "\n",
    "dir_in = os.path.join(\"..\", \"Data\", \"cutROI\")\n",
    "#files = [\"output2eROI_part1.csv\", \"output2eROI_part2.csv\", \"output2eROI_part3.csv\", \"output2eROI_part4.csv\", \"output2eROI_part5.csv\"]\n",
    "#df = pd.read_csv(os.path.join(dir_in, files[0]), index_col=False)\n",
    "#for file in files[1:]:\n",
    "#    dfi = pd.read_csv(os.path.join(dir_in, file), index_col=False)\n",
    "#    df = pd.concat([df, dfi])\n",
    "#df.head()\n",
    "\n",
    "new_file = \"output2eROI_all_wt_ops.csv\"\n",
    "opyield = 40\n",
    "df = pd.read_csv(os.path.join(dir_in, new_file), index_col=False)\n",
    "df.columns"
   ]
  },
  {
   "cell_type": "code",
   "execution_count": null,
   "metadata": {},
   "outputs": [],
   "source": [
    "df = df[df.energydeposition > 0]\n",
    "df[\"OPcounter\"] = df.energydeposition * op_yield * df.OPs\n",
    "\n",
    "op_yield = 40 # 40 op /kev\n",
    "dfdet = df[df.OPcounter > 0]\n",
    "print(\"[Info] Number of entries: {}\".format(df.shape[0]))\n",
    "print(\"[Info] Number of distinct events: {}\".format(df.eventnumber.nunique()))\n",
    "print(\"[Info] Number of detected entries: {}\".format(dfdet.shape[0]))\n",
    "print(\"[Info] Number of detected events: {}\".format(dfdet.eventnumber.nunique()))\n",
    "df.head()"
   ]
  },
  {
   "cell_type": "code",
   "execution_count": null,
   "metadata": {},
   "outputs": [],
   "source": [
    "edep_gb = df.groupby(\"eventnumber\").energydeposition.sum().reset_index()\n",
    "edep_muons_gb = df[df.PID==13].groupby(\"eventnumber\").energydeposition.sum().reset_index()\n",
    "edep_electrons_gamma_gb = df[(df.PID.isin([11, 22]))].groupby(\"eventnumber\").energydeposition.sum().reset_index()\n",
    "stats = edep_gb.energydeposition.describe()\n",
    "stats_muons = edep_muons_gb.energydeposition.describe()\n",
    "stats_electron_gamma = edep_electrons_gamma_gb.energydeposition.describe()\n",
    "\n",
    "pd.DataFrame([stats, stats_muons, stats_electron_gamma], index=['all', 'muons', 'e- or gammas'])"
   ]
  },
  {
   "cell_type": "code",
   "execution_count": null,
   "metadata": {},
   "outputs": [],
   "source": [
    "import matplotlib.pyplot as plt\n",
    "import numpy as np\n",
    "plt.rcParams['figure.figsize'] = [25, 15]\n",
    "plt.rcParams.update({'font.size': 18})"
   ]
  },
  {
   "cell_type": "code",
   "execution_count": null,
   "metadata": {},
   "outputs": [],
   "source": [
    "label_template = \"number events: {:}\\n\" \\\n",
    "                 \"min: {:.2f} MeV, max: {:.2f} MeV\\n\" \\\n",
    "                 \"mean: {:.2f} MeV, std: {:.2f}\"\n",
    "\n",
    "label_all = label_template.format(stats.loc[\"count\"], stats.loc[\"min\"]/1000, stats.loc[\"max\"]/1000, \n",
    "                                  stats.loc[\"mean\"]/1000, stats.loc[\"std\"])\n",
    "label_muon = label_template.format(stats_muons.loc[\"count\"], stats_muons.loc[\"min\"]/1000, stats_muons.loc[\"max\"]/1000, \n",
    "                                   stats_muons.loc[\"mean\"]/1000, stats_muons.loc[\"std\"])\n",
    "label_egam = label_template.format(stats_electron_gamma.loc[\"count\"], stats_electron_gamma.loc[\"min\"]/1000, stats_electron_gamma.loc[\"max\"]/1000,\n",
    "                                   stats_electron_gamma.loc[\"mean\"]/1000, stats_electron_gamma.loc[\"std\"])\n",
    "\n",
    "bins = np.logspace(0, 9, 100)\n",
    "plt.subplot(3, 1, 1)\n",
    "plt.hist(edep_gb.energydeposition, bins, label=\"All entries\", alpha=0.5, color='b')\n",
    "plt.title(\"Cumulative Edep Distribution in ROI\")\n",
    "plt.xlabel(\"Cumulative Edep (KeV)\")\n",
    "plt.ylabel(\"count(#entries)\")\n",
    "plt.xscale('log')\n",
    "plt.ylim(0, 1000)\n",
    "plt.legend()\n",
    "plt.text(10, 600, label_all)\n",
    "\n",
    "\n",
    "plt.subplot(3, 1, 2)\n",
    "plt.hist(edep_muons_gb.energydeposition, bins, label=\"Muon entries\", alpha=0.5, color='orange')\n",
    "plt.xlabel(\"Cumulative Edep (KeV)\")\n",
    "plt.ylabel(\"count(#entries)\")\n",
    "plt.xscale('log')\n",
    "plt.ylim(0, 1000)\n",
    "plt.legend()\n",
    "plt.text(10, 600, label_muon)\n",
    "\n",
    "plt.subplot(3, 1, 3)\n",
    "plt.hist(edep_electrons_gamma_gb.energydeposition, bins, label=\"e- or gamma entries\", alpha=0.5, color='g')\n",
    "plt.xlabel(\"Cumulative Edep (KeV)\")\n",
    "plt.ylabel(\"count(#entries)\")\n",
    "plt.xscale('log')\n",
    "plt.ylim(0, 1000)\n",
    "plt.legend()\n",
    "plt.text(10, 400, label_egam)\n",
    "\n",
    "plt.show()"
   ]
  },
  {
   "cell_type": "markdown",
   "metadata": {},
   "source": [
    "The above plots reveal interesting thing about energy deposition distribution.\n",
    "\n",
    "1. **first plot**: we consider the scenario in which *all the entries* with Edep>0 deposit in LAr and then potentially generate scintillation\n",
    "1. **second plot**: we consider only the energy deposition by *muon entries*. If the Edep consider also the energy passed to other particles, then this entries are not meaningful for out purposes.\n",
    "1. **third plot**: we consider only the energy depositions by *electrons and gammas* particles. This is the scenario in which the Edep field consider both the deposited energy and the energy passed to other particles. In this case, the only particle that lead to scintillation are electrons and gammas."
   ]
  },
  {
   "cell_type": "markdown",
   "metadata": {},
   "source": [
    "# Analysis OP counter"
   ]
  },
  {
   "cell_type": "code",
   "execution_count": null,
   "metadata": {},
   "outputs": [],
   "source": [
    "op_yield = 40\n",
    "df[\"OPcounter\"] = df.energydeposition * op_yield * df.OPs\n",
    "\n",
    "opcounter_gb = df.groupby(\"eventnumber\").OPcounter.sum().reset_index()\n",
    "stats_opcounter = opcounter_gb.OPcounter.describe()\n",
    "stats_opcounter"
   ]
  },
  {
   "cell_type": "code",
   "execution_count": null,
   "metadata": {},
   "outputs": [],
   "source": [
    "label = \"min: {:.2f}, max: {:.2f}\\n\".format(stats_opcounter.loc[\"min\"], stats_opcounter.loc[\"max\"]/1000)\n",
    "label += \"mean: {:.2f}, std: {:.2f}\\n\".format(stats_opcounter.loc[\"mean\"]/1000, stats_opcounter.loc[\"std\"])\n",
    "\n",
    "bins = np.logspace(0, 9, 100)\n",
    "\n",
    "# histo edep\n",
    "plt.hist(edep_gb.energydeposition, bins, alpha=0.7, label=\"Cum.Edep\")\n",
    "# histo op counter\n",
    "plt.hist(opcounter_gb.OPcounter, bins, alpha=0.7, label=\"#OPs Detected\")\n",
    "\n",
    "# layout\n",
    "plt.title(\"Comparison Cum.Edep vs OP Detected\")\n",
    "plt.xlabel(\"Cumulative Edep (KeV) or Number OPs Detected\")\n",
    "plt.ylabel(\"count(#entries)\")\n",
    "plt.xscale('log')\n",
    "plt.legend()\n",
    "plt.show()"
   ]
  },
  {
   "cell_type": "code",
   "execution_count": null,
   "metadata": {},
   "outputs": [],
   "source": []
  }
 ],
 "metadata": {
  "kernelspec": {
   "display_name": "Python 3",
   "language": "python",
   "name": "python3"
  },
  "language_info": {
   "codemirror_mode": {
    "name": "ipython",
    "version": 3
   },
   "file_extension": ".py",
   "mimetype": "text/x-python",
   "name": "python",
   "nbconvert_exporter": "python",
   "pygments_lexer": "ipython3",
   "version": "3.6.9"
  }
 },
 "nbformat": 4,
 "nbformat_minor": 2
}
