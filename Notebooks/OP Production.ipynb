{
 "cells": [
  {
   "cell_type": "markdown",
   "metadata": {},
   "source": [
    "# OP Production by Edep\n",
    "Starting from energy deposition, we try to reconstruct the number of optical photons produced in LAr.\n",
    "\n",
    "By [(1)], we can compute the number of optical photons (OP) produced by scintillation of LAr in a certain position `(x, y, z)` where the energy `Edep` is deposited and detected by the SiPM machinery:\n",
    "\n",
    "`# OP detected = detection_probability * 40000 / 1000 * Edep`\n",
    "\n",
    "Note that to compute this number, **we need the optical map** by Neil McFadden.\n",
    "For now, we simply segment the LAr volume in large voxels with associated detection efficiency.\n",
    "\n",
    "[(1)]: https://absuploads.aps.org/presentation.cfm?pid=14736"
   ]
  },
  {
   "cell_type": "markdown",
   "metadata": {},
   "source": []
  }
 ],
 "metadata": {
  "kernelspec": {
   "display_name": "Python 3",
   "language": "python",
   "name": "python3"
  },
  "language_info": {
   "codemirror_mode": {
    "name": "ipython",
    "version": 3
   },
   "file_extension": ".py",
   "mimetype": "text/x-python",
   "name": "python",
   "nbconvert_exporter": "python",
   "pygments_lexer": "ipython3",
   "version": "3.6.9"
  }
 },
 "nbformat": 4,
 "nbformat_minor": 2
}
