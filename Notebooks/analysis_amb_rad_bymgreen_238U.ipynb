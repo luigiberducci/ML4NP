{
 "cells": [
  {
   "cell_type": "markdown",
   "metadata": {},
   "source": [
    "# Ambiental Radioactivity by M. Green - Chain 238U\n",
    "In this notebook, we analyse the events contained in the root file by Matt Green about ambiental radioactivity of Thorium. He said that they simulated the full **238U-chain**."
   ]
  },
  {
   "cell_type": "markdown",
   "metadata": {},
   "source": [
    "## File: `A238_Z92` (*i.e Uranium's decay chain*)\n",
    "Explaination of the name: A=238, Z=92 is **238U**, an isotope of Uranium. \n",
    "The name suggests to contain the simulation of the full 238U-chain."
   ]
  },
  {
   "cell_type": "code",
   "execution_count": null,
   "metadata": {},
   "outputs": [],
   "source": [
    "import pandas as pd\n",
    "import os\n",
    "\n",
    "# Since input file is large, we have to distribute the workload\n",
    "filepath1 = os.path.join(\"..\", \"Data\", \"output_AmbRad_A238_Z92_100000_part1.csv\")\n",
    "filepath2 = os.path.join(\"..\", \"Data\", \"output_AmbRad_A238_Z92_100000_part2.csv\")\n",
    "filepath3 = os.path.join(\"..\", \"Data\", \"output_AmbRad_A238_Z92_100000_part3.csv\")\n",
    "filepath4 = os.path.join(\"..\", \"Data\", \"output_AmbRad_A238_Z92_100000_part4.csv\")\n",
    "# create multiple dataframes\n",
    "df1 = pd.read_csv(filepath1, index_col=False)\n",
    "df2 = pd.read_csv(filepath2, index_col=False)\n",
    "df3 = pd.read_csv(filepath3, index_col=False)\n",
    "df4 = pd.read_csv(filepath4, index_col=False)\n",
    "# concatenate the dfs in a single one and force the mem release\n",
    "df = pd.concat([df1, df2, df3, df4], ignore_index=True)\n",
    "del df1\n",
    "del df2\n",
    "del df3\n",
    "del df4"
   ]
  },
  {
   "cell_type": "markdown",
   "metadata": {},
   "source": [
    "## Atoms involved in this simulation."
   ]
  },
  {
   "cell_type": "code",
   "execution_count": null,
   "metadata": {},
   "outputs": [],
   "source": [
    "sorted(df.PID.unique())"
   ]
  },
  {
   "cell_type": "markdown",
   "metadata": {},
   "source": [
    "These are:\n",
    "- `PID=-11, 11, 22` positrons, electrons, photons\n",
    "- `PID=1000020040` Helium isotope 4He\n",
    "- `PID=1000180360, 1000180380, 1000180400` Argon isotopes 36Ar, 38Ar and 40Ar\n",
    "- `PID=1000320740, 1000320760` Germanium isotopes 74Ge and 76Ge\n",
    "- `PID=1000822060, 1000822100, 1000822140` Lead isotopes 206Pb, 210Pb and 214Pb\n",
    "- `PID=1000832100/9, 1000832140/9` Bismuth isotopes 210Bi, 210Bi*, 214Bi, 214Bi*\n",
    "- `PID=1000842100/9, 1000832180` Polonium isotopes 210Po, 210Po*, 218Po\n",
    "- `PID=1000862220` Radon isotope 222Rn\n",
    "- `PID=1000882260` Radium isotope 226Ra\n",
    "- `PID=1000902300` Thorium isotope 230Th\n",
    "- `PID=1000922380` Uranium isotope 238U\n",
    "\n",
    "**Questions**:\n",
    "1. We can notice some excited states. Their simulation has been supported by G4 or they manually simulated that? (*Check email by CJ, maybe it was referring to this*)\n",
    "\n",
    "## Energy depositions\n",
    "**Note** that since (*probably*) there are cuts on particles, the energy deposition in the next analysis is only a partial description of the real energy deposition."
   ]
  },
  {
   "cell_type": "code",
   "execution_count": null,
   "metadata": {},
   "outputs": [],
   "source": [
    "edep_entries = df[df.energydeposition>0].energydeposition.reset_index()\n",
    "edep_gby_event = df.groupby(\"eventnumber\").energydeposition.sum().reset_index()\n",
    "edep_gby_event.columns = ['eventnumber', 'cum_edep']    # to distinguish\n",
    "\n",
    "pd.DataFrame([edep_entries.energydeposition.describe(), edep_gby_event.cum_edep.describe()])\n",
    "del edep_entries\n",
    "del edep_gby_event"
   ]
  },
  {
   "cell_type": "markdown",
   "metadata": {},
   "source": [
    "The deposited energy is very low, in the order of few units (keV or MeV???).\n",
    "\n",
    "**Questions**:\n",
    "1. What are the units used in MC out scheme (*Edep is keV? Time is ns?*)? Maybe Giuseppe and Danila can recognize the units...\n",
    "\n",
    "## Time distribution"
   ]
  },
  {
   "cell_type": "code",
   "execution_count": null,
   "metadata": {},
   "outputs": [],
   "source": [
    "import matplotlib.pyplot as plt\n",
    "import matplotlib.ticker as ticker\n",
    "import numpy as np\n",
    "plt.rcParams['figure.figsize'] = [10, 7.5]\n",
    "plt.rcParams.update({'font.size': 15})"
   ]
  },
  {
   "cell_type": "code",
   "execution_count": null,
   "metadata": {},
   "outputs": [],
   "source": [
    "fig, ax = plt.subplots()\n",
    "ax.hist(df.time, 100)\n",
    "ax.set_title(\"Time distribution - All events\")\n",
    "ax.set_xlabel(\"time (unit?)\")\n",
    "ax.set_ylabel(\"entries (#counts)\")\n",
    "plt.show()"
   ]
  },
  {
   "cell_type": "markdown",
   "metadata": {},
   "source": [
    "## Space distribution\n",
    "### All entries"
   ]
  },
  {
   "cell_type": "code",
   "execution_count": null,
   "metadata": {},
   "outputs": [],
   "source": [
    "fig, (ax1, ax2) = plt.subplots(1, 2)\n",
    "nbins = 100\n",
    "ax1.hist(df.x, nbins, label='X', color='b')\n",
    "ax1.hist(df.y, nbins, label='Y', color='orange')\n",
    "ax2.hist(df.z, nbins, label='Z', color='g')\n",
    "ax1.set_title(\"X-Y Distribution - All events\")\n",
    "ax2.set_title(\"Z Distribution - All events\")\n",
    "ax1.set_xlabel(\"coordinates (unit?)\")\n",
    "ax2.set_xlabel(\"coordinates (unit?)\")\n",
    "ax1.set_ylabel(\"entries (#count)\")\n",
    "ax2.set_ylabel(\"entries (#count)\")\n",
    "ax1.legend()\n",
    "plt.show()\n",
    "\n",
    "pd.DataFrame(df[[\"x\", \"y\", \"z\"]].describe())"
   ]
  },
  {
   "cell_type": "markdown",
   "metadata": {},
   "source": [
    "#### Observations:\n",
    "- The space distribution ranges in the whole LAr volume (*x, y, z in ~[-1950, +1950]*).\n",
    "- We can see a greater focus around the origin.\n",
    "\n",
    "\n",
    "**Questions:** \n",
    "1. The sampling x, y, z is *uniform*? Maybe they defined a sensitive area to write only entries around the ROI."
   ]
  },
  {
   "cell_type": "markdown",
   "metadata": {},
   "source": [
    "### Only Primary events"
   ]
  },
  {
   "cell_type": "code",
   "execution_count": null,
   "metadata": {},
   "outputs": [],
   "source": [
    "primary_xyz = df.sort_values(\"time\").groupby(\"eventnumber\").first()\n",
    "\n",
    "fig, (ax1, ax2, ax3) = plt.subplots(1, 3)\n",
    "nbins = 100\n",
    "ax1.hist(primary_xyz.x, nbins, label='X')\n",
    "ax2.hist(primary_xyz.y, nbins, label='Y')\n",
    "ax3.hist(primary_xyz.z, nbins, label='Z')\n",
    "ax1.set_title(\"X Distribution - Primary events\")\n",
    "ax2.set_title(\"Y Distribution - Primary events\")\n",
    "ax3.set_title(\"Z Distribution - Primary events\")\n",
    "ax1.set_xlabel(\"X\")\n",
    "ax2.set_xlabel(\"Y\")\n",
    "ax3.set_xlabel(\"Z\")\n",
    "ax1.set_ylabel(\"entries (#count)\")\n",
    "ax2.set_ylabel(\"entries (#count)\")\n",
    "ax3.set_ylabel(\"entries (#count)\")\n",
    "plt.show()\n",
    "\n",
    "print(primary_xyz[[\"PID\", \"x\", \"y\", \"z\"]].describe())\n",
    "del primary_xyz"
   ]
  },
  {
   "cell_type": "markdown",
   "metadata": {},
   "source": [
    "**Observations**\n",
    "- all the coordinates are sampled in a bounded region around the origin (+/- 200, +/-\n",
    "- x, y distributions are weird: they seem some sort of discrete sampling."
   ]
  }
 ],
 "metadata": {
  "kernelspec": {
   "display_name": "Python 3",
   "language": "python",
   "name": "python3"
  },
  "language_info": {
   "codemirror_mode": {
    "name": "ipython",
    "version": 3
   },
   "file_extension": ".py",
   "mimetype": "text/x-python",
   "name": "python",
   "nbconvert_exporter": "python",
   "pygments_lexer": "ipython3",
   "version": "3.6.9"
  }
 },
 "nbformat": 4,
 "nbformat_minor": 2
}
