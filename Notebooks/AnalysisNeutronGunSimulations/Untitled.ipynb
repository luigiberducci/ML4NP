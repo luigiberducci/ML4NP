{
 "cells": [
  {
   "cell_type": "code",
   "execution_count": 1,
   "metadata": {},
   "outputs": [],
   "source": [
    "import os\n",
    "import pandas as pd\n",
    "import matplotlib.pyplot as plt\n",
    "from mpl_toolkits.mplot3d import Axes3D\n",
    "plt.rcParams['figure.figsize'] = [25, 15]\n",
    "plt.rcParams.update({'font.size': 20})"
   ]
  },
  {
   "cell_type": "code",
   "execution_count": 2,
   "metadata": {},
   "outputs": [],
   "source": [
    "filein = os.path.join(\"..\", \"..\", \"Data\", \"neutrons\", \"LGND_200_exampleNeutron_part1.csv\")\n",
    "df = pd.read_csv(filein, index_col=False)"
   ]
  },
  {
   "cell_type": "code",
   "execution_count": 3,
   "metadata": {},
   "outputs": [
    {
     "data": {
      "text/html": [
       "<div>\n",
       "<style scoped>\n",
       "    .dataframe tbody tr th:only-of-type {\n",
       "        vertical-align: middle;\n",
       "    }\n",
       "\n",
       "    .dataframe tbody tr th {\n",
       "        vertical-align: top;\n",
       "    }\n",
       "\n",
       "    .dataframe thead th {\n",
       "        text-align: right;\n",
       "    }\n",
       "</style>\n",
       "<table border=\"1\" class=\"dataframe\">\n",
       "  <thead>\n",
       "    <tr style=\"text-align: right;\">\n",
       "      <th></th>\n",
       "      <th>PID</th>\n",
       "      <th>ParentTrackID</th>\n",
       "      <th>energydeposition</th>\n",
       "      <th>kineticenergy</th>\n",
       "      <th>time</th>\n",
       "      <th>x</th>\n",
       "      <th>y</th>\n",
       "      <th>z</th>\n",
       "      <th>px</th>\n",
       "      <th>py</th>\n",
       "      <th>pz</th>\n",
       "      <th>eventnumber</th>\n",
       "      <th>tracknumber</th>\n",
       "      <th>creatorprocess</th>\n",
       "      <th>parentnucleusPID</th>\n",
       "    </tr>\n",
       "  </thead>\n",
       "  <tbody>\n",
       "    <tr>\n",
       "      <th>0</th>\n",
       "      <td>2112</td>\n",
       "      <td>0</td>\n",
       "      <td>0.000000</td>\n",
       "      <td>1.000000</td>\n",
       "      <td>0.000000</td>\n",
       "      <td>244.956000</td>\n",
       "      <td>-32.281800</td>\n",
       "      <td>-177.399000</td>\n",
       "      <td>43.360500</td>\n",
       "      <td>0.000000</td>\n",
       "      <td>0.000000</td>\n",
       "      <td>0</td>\n",
       "      <td>1</td>\n",
       "      <td>primaryParticle</td>\n",
       "      <td>666</td>\n",
       "    </tr>\n",
       "    <tr>\n",
       "      <th>1</th>\n",
       "      <td>22</td>\n",
       "      <td>1</td>\n",
       "      <td>0.000000</td>\n",
       "      <td>0.497713</td>\n",
       "      <td>60.976735</td>\n",
       "      <td>529.246018</td>\n",
       "      <td>458.146976</td>\n",
       "      <td>367.037670</td>\n",
       "      <td>0.122311</td>\n",
       "      <td>0.262676</td>\n",
       "      <td>0.404672</td>\n",
       "      <td>0</td>\n",
       "      <td>5</td>\n",
       "      <td>neutronInelastic</td>\n",
       "      <td>666</td>\n",
       "    </tr>\n",
       "    <tr>\n",
       "      <th>2</th>\n",
       "      <td>22</td>\n",
       "      <td>1</td>\n",
       "      <td>0.000015</td>\n",
       "      <td>0.470814</td>\n",
       "      <td>61.446747</td>\n",
       "      <td>563.873306</td>\n",
       "      <td>532.512596</td>\n",
       "      <td>481.603263</td>\n",
       "      <td>-0.030075</td>\n",
       "      <td>0.305982</td>\n",
       "      <td>0.356561</td>\n",
       "      <td>0</td>\n",
       "      <td>5</td>\n",
       "      <td>compt</td>\n",
       "      <td>666</td>\n",
       "    </tr>\n",
       "    <tr>\n",
       "      <th>3</th>\n",
       "      <td>22</td>\n",
       "      <td>1</td>\n",
       "      <td>0.000249</td>\n",
       "      <td>0.179635</td>\n",
       "      <td>61.457331</td>\n",
       "      <td>563.670619</td>\n",
       "      <td>534.574704</td>\n",
       "      <td>484.006237</td>\n",
       "      <td>0.125489</td>\n",
       "      <td>-0.054530</td>\n",
       "      <td>-0.116395</td>\n",
       "      <td>0</td>\n",
       "      <td>5</td>\n",
       "      <td>compt</td>\n",
       "      <td>666</td>\n",
       "    </tr>\n",
       "    <tr>\n",
       "      <th>4</th>\n",
       "      <td>22</td>\n",
       "      <td>1</td>\n",
       "      <td>0.000015</td>\n",
       "      <td>0.141682</td>\n",
       "      <td>61.482854</td>\n",
       "      <td>569.015723</td>\n",
       "      <td>532.252040</td>\n",
       "      <td>479.048503</td>\n",
       "      <td>-0.063748</td>\n",
       "      <td>0.019056</td>\n",
       "      <td>-0.125087</td>\n",
       "      <td>0</td>\n",
       "      <td>5</td>\n",
       "      <td>compt</td>\n",
       "      <td>666</td>\n",
       "    </tr>\n",
       "  </tbody>\n",
       "</table>\n",
       "</div>"
      ],
      "text/plain": [
       "    PID  ParentTrackID  energydeposition  kineticenergy       time  \\\n",
       "0  2112              0          0.000000       1.000000   0.000000   \n",
       "1    22              1          0.000000       0.497713  60.976735   \n",
       "2    22              1          0.000015       0.470814  61.446747   \n",
       "3    22              1          0.000249       0.179635  61.457331   \n",
       "4    22              1          0.000015       0.141682  61.482854   \n",
       "\n",
       "            x           y           z         px        py        pz  \\\n",
       "0  244.956000  -32.281800 -177.399000  43.360500  0.000000  0.000000   \n",
       "1  529.246018  458.146976  367.037670   0.122311  0.262676  0.404672   \n",
       "2  563.873306  532.512596  481.603263  -0.030075  0.305982  0.356561   \n",
       "3  563.670619  534.574704  484.006237   0.125489 -0.054530 -0.116395   \n",
       "4  569.015723  532.252040  479.048503  -0.063748  0.019056 -0.125087   \n",
       "\n",
       "   eventnumber  tracknumber    creatorprocess  parentnucleusPID  \n",
       "0            0            1   primaryParticle               666  \n",
       "1            0            5  neutronInelastic               666  \n",
       "2            0            5             compt               666  \n",
       "3            0            5             compt               666  \n",
       "4            0            5             compt               666  "
      ]
     },
     "execution_count": 3,
     "metadata": {},
     "output_type": "execute_result"
    }
   ],
   "source": [
    "df.head()"
   ]
  },
  {
   "cell_type": "code",
   "execution_count": 99,
   "metadata": {},
   "outputs": [
    {
     "name": "stdout",
     "output_type": "stream",
     "text": [
      "[Info] There are 79 events of Ar41 de-excitation\n"
     ]
    }
   ],
   "source": [
    "events_ar41 = df[(df.PID==1000180410) & (df.creatorprocess=='nCapture')].eventnumber.unique()\n",
    "print(\"[Info] There are {} events of Ar41 de-excitation\".format(len(events_ar41)))"
   ]
  },
  {
   "cell_type": "code",
   "execution_count": 100,
   "metadata": {},
   "outputs": [
    {
     "data": {
      "text/html": [
       "<div>\n",
       "<style scoped>\n",
       "    .dataframe tbody tr th:only-of-type {\n",
       "        vertical-align: middle;\n",
       "    }\n",
       "\n",
       "    .dataframe tbody tr th {\n",
       "        vertical-align: top;\n",
       "    }\n",
       "\n",
       "    .dataframe thead th {\n",
       "        text-align: right;\n",
       "    }\n",
       "</style>\n",
       "<table border=\"1\" class=\"dataframe\">\n",
       "  <thead>\n",
       "    <tr style=\"text-align: right;\">\n",
       "      <th></th>\n",
       "      <th>PID</th>\n",
       "      <th>ParentTrackID</th>\n",
       "      <th>energydeposition</th>\n",
       "      <th>kineticenergy</th>\n",
       "      <th>time</th>\n",
       "      <th>x</th>\n",
       "      <th>y</th>\n",
       "      <th>z</th>\n",
       "      <th>px</th>\n",
       "      <th>py</th>\n",
       "      <th>pz</th>\n",
       "      <th>eventnumber</th>\n",
       "      <th>tracknumber</th>\n",
       "      <th>creatorprocess</th>\n",
       "      <th>parentnucleusPID</th>\n",
       "    </tr>\n",
       "  </thead>\n",
       "  <tbody>\n",
       "    <tr>\n",
       "      <th>7233</th>\n",
       "      <td>22</td>\n",
       "      <td>1</td>\n",
       "      <td>0.000000</td>\n",
       "      <td>0.562549</td>\n",
       "      <td>112.620190</td>\n",
       "      <td>211.057728</td>\n",
       "      <td>28.209353</td>\n",
       "      <td>-87.723080</td>\n",
       "      <td>-0.374525</td>\n",
       "      <td>-0.045609</td>\n",
       "      <td>0.417267</td>\n",
       "      <td>99</td>\n",
       "      <td>11</td>\n",
       "      <td>neutronInelastic</td>\n",
       "      <td>666</td>\n",
       "    </tr>\n",
       "    <tr>\n",
       "      <th>7234</th>\n",
       "      <td>22</td>\n",
       "      <td>1</td>\n",
       "      <td>0.000015</td>\n",
       "      <td>0.350823</td>\n",
       "      <td>112.705724</td>\n",
       "      <td>193.985821</td>\n",
       "      <td>26.130347</td>\n",
       "      <td>-68.702858</td>\n",
       "      <td>-0.069286</td>\n",
       "      <td>0.292920</td>\n",
       "      <td>0.180207</td>\n",
       "      <td>99</td>\n",
       "      <td>11</td>\n",
       "      <td>compt</td>\n",
       "      <td>666</td>\n",
       "    </tr>\n",
       "    <tr>\n",
       "      <th>7235</th>\n",
       "      <td>22</td>\n",
       "      <td>1</td>\n",
       "      <td>0.000038</td>\n",
       "      <td>0.268917</td>\n",
       "      <td>112.936518</td>\n",
       "      <td>180.321105</td>\n",
       "      <td>83.900730</td>\n",
       "      <td>-33.162060</td>\n",
       "      <td>-0.211296</td>\n",
       "      <td>0.027985</td>\n",
       "      <td>0.163973</td>\n",
       "      <td>99</td>\n",
       "      <td>11</td>\n",
       "      <td>compt</td>\n",
       "      <td>666</td>\n",
       "    </tr>\n",
       "    <tr>\n",
       "      <th>7236</th>\n",
       "      <td>22</td>\n",
       "      <td>1</td>\n",
       "      <td>0.000015</td>\n",
       "      <td>0.144206</td>\n",
       "      <td>113.158164</td>\n",
       "      <td>128.110994</td>\n",
       "      <td>90.815697</td>\n",
       "      <td>7.354730</td>\n",
       "      <td>0.020516</td>\n",
       "      <td>0.065570</td>\n",
       "      <td>-0.126787</td>\n",
       "      <td>99</td>\n",
       "      <td>11</td>\n",
       "      <td>compt</td>\n",
       "      <td>666</td>\n",
       "    </tr>\n",
       "    <tr>\n",
       "      <th>7237</th>\n",
       "      <td>22</td>\n",
       "      <td>1</td>\n",
       "      <td>0.000015</td>\n",
       "      <td>0.095406</td>\n",
       "      <td>113.214316</td>\n",
       "      <td>130.505977</td>\n",
       "      <td>98.469995</td>\n",
       "      <td>-7.445768</td>\n",
       "      <td>-0.004632</td>\n",
       "      <td>0.011473</td>\n",
       "      <td>0.094600</td>\n",
       "      <td>99</td>\n",
       "      <td>11</td>\n",
       "      <td>compt</td>\n",
       "      <td>666</td>\n",
       "    </tr>\n",
       "    <tr>\n",
       "      <th>...</th>\n",
       "      <td>...</td>\n",
       "      <td>...</td>\n",
       "      <td>...</td>\n",
       "      <td>...</td>\n",
       "      <td>...</td>\n",
       "      <td>...</td>\n",
       "      <td>...</td>\n",
       "      <td>...</td>\n",
       "      <td>...</td>\n",
       "      <td>...</td>\n",
       "      <td>...</td>\n",
       "      <td>...</td>\n",
       "      <td>...</td>\n",
       "      <td>...</td>\n",
       "      <td>...</td>\n",
       "    </tr>\n",
       "    <tr>\n",
       "      <th>341493</th>\n",
       "      <td>22</td>\n",
       "      <td>22</td>\n",
       "      <td>0.003178</td>\n",
       "      <td>0.000000</td>\n",
       "      <td>25.918940</td>\n",
       "      <td>529.449398</td>\n",
       "      <td>121.749732</td>\n",
       "      <td>78.089202</td>\n",
       "      <td>-0.000000</td>\n",
       "      <td>-0.000000</td>\n",
       "      <td>0.000000</td>\n",
       "      <td>4758</td>\n",
       "      <td>32</td>\n",
       "      <td>phot</td>\n",
       "      <td>666</td>\n",
       "    </tr>\n",
       "    <tr>\n",
       "      <th>341497</th>\n",
       "      <td>22</td>\n",
       "      <td>1</td>\n",
       "      <td>0.000000</td>\n",
       "      <td>2.784901</td>\n",
       "      <td>25.659176</td>\n",
       "      <td>683.987354</td>\n",
       "      <td>148.866715</td>\n",
       "      <td>-123.052400</td>\n",
       "      <td>2.391327</td>\n",
       "      <td>1.372966</td>\n",
       "      <td>0.390122</td>\n",
       "      <td>4758</td>\n",
       "      <td>4</td>\n",
       "      <td>nCapture</td>\n",
       "      <td>666</td>\n",
       "    </tr>\n",
       "    <tr>\n",
       "      <th>341498</th>\n",
       "      <td>22</td>\n",
       "      <td>1</td>\n",
       "      <td>0.000249</td>\n",
       "      <td>1.313404</td>\n",
       "      <td>25.694950</td>\n",
       "      <td>693.196291</td>\n",
       "      <td>154.153972</td>\n",
       "      <td>-121.550049</td>\n",
       "      <td>0.800487</td>\n",
       "      <td>0.911160</td>\n",
       "      <td>-0.504023</td>\n",
       "      <td>4758</td>\n",
       "      <td>4</td>\n",
       "      <td>compt</td>\n",
       "      <td>666</td>\n",
       "    </tr>\n",
       "    <tr>\n",
       "      <th>341499</th>\n",
       "      <td>22</td>\n",
       "      <td>1</td>\n",
       "      <td>0.000249</td>\n",
       "      <td>0.703492</td>\n",
       "      <td>26.377032</td>\n",
       "      <td>817.823578</td>\n",
       "      <td>296.011811</td>\n",
       "      <td>-200.021065</td>\n",
       "      <td>0.653281</td>\n",
       "      <td>-0.044867</td>\n",
       "      <td>-0.257121</td>\n",
       "      <td>4758</td>\n",
       "      <td>4</td>\n",
       "      <td>compt</td>\n",
       "      <td>666</td>\n",
       "    </tr>\n",
       "    <tr>\n",
       "      <th>341500</th>\n",
       "      <td>22</td>\n",
       "      <td>1</td>\n",
       "      <td>0.003178</td>\n",
       "      <td>0.000000</td>\n",
       "      <td>26.831475</td>\n",
       "      <td>944.338432</td>\n",
       "      <td>287.322927</td>\n",
       "      <td>-249.815379</td>\n",
       "      <td>0.000000</td>\n",
       "      <td>-0.000000</td>\n",
       "      <td>-0.000000</td>\n",
       "      <td>4758</td>\n",
       "      <td>4</td>\n",
       "      <td>phot</td>\n",
       "      <td>666</td>\n",
       "    </tr>\n",
       "  </tbody>\n",
       "</table>\n",
       "<p>2793 rows × 15 columns</p>\n",
       "</div>"
      ],
      "text/plain": [
       "        PID  ParentTrackID  energydeposition  kineticenergy        time  \\\n",
       "7233     22              1          0.000000       0.562549  112.620190   \n",
       "7234     22              1          0.000015       0.350823  112.705724   \n",
       "7235     22              1          0.000038       0.268917  112.936518   \n",
       "7236     22              1          0.000015       0.144206  113.158164   \n",
       "7237     22              1          0.000015       0.095406  113.214316   \n",
       "...     ...            ...               ...            ...         ...   \n",
       "341493   22             22          0.003178       0.000000   25.918940   \n",
       "341497   22              1          0.000000       2.784901   25.659176   \n",
       "341498   22              1          0.000249       1.313404   25.694950   \n",
       "341499   22              1          0.000249       0.703492   26.377032   \n",
       "341500   22              1          0.003178       0.000000   26.831475   \n",
       "\n",
       "                 x           y           z        px        py        pz  \\\n",
       "7233    211.057728   28.209353  -87.723080 -0.374525 -0.045609  0.417267   \n",
       "7234    193.985821   26.130347  -68.702858 -0.069286  0.292920  0.180207   \n",
       "7235    180.321105   83.900730  -33.162060 -0.211296  0.027985  0.163973   \n",
       "7236    128.110994   90.815697    7.354730  0.020516  0.065570 -0.126787   \n",
       "7237    130.505977   98.469995   -7.445768 -0.004632  0.011473  0.094600   \n",
       "...            ...         ...         ...       ...       ...       ...   \n",
       "341493  529.449398  121.749732   78.089202 -0.000000 -0.000000  0.000000   \n",
       "341497  683.987354  148.866715 -123.052400  2.391327  1.372966  0.390122   \n",
       "341498  693.196291  154.153972 -121.550049  0.800487  0.911160 -0.504023   \n",
       "341499  817.823578  296.011811 -200.021065  0.653281 -0.044867 -0.257121   \n",
       "341500  944.338432  287.322927 -249.815379  0.000000 -0.000000 -0.000000   \n",
       "\n",
       "        eventnumber  tracknumber    creatorprocess  parentnucleusPID  \n",
       "7233             99           11  neutronInelastic               666  \n",
       "7234             99           11             compt               666  \n",
       "7235             99           11             compt               666  \n",
       "7236             99           11             compt               666  \n",
       "7237             99           11             compt               666  \n",
       "...             ...          ...               ...               ...  \n",
       "341493         4758           32              phot               666  \n",
       "341497         4758            4          nCapture               666  \n",
       "341498         4758            4             compt               666  \n",
       "341499         4758            4             compt               666  \n",
       "341500         4758            4              phot               666  \n",
       "\n",
       "[2793 rows x 15 columns]"
      ]
     },
     "execution_count": 100,
     "metadata": {},
     "output_type": "execute_result"
    }
   ],
   "source": [
    "gammas = df[(df.PID==22) & (df.eventnumber.isin(events_ar41))]\n",
    "gammas"
   ]
  },
  {
   "cell_type": "code",
   "execution_count": 101,
   "metadata": {},
   "outputs": [],
   "source": [
    "first_gammas = gammas.sort_values(\"time\").groupby([\"eventnumber\", \"tracknumber\"]).first()"
   ]
  },
  {
   "cell_type": "code",
   "execution_count": 102,
   "metadata": {},
   "outputs": [
    {
     "data": {
      "image/png": "[encoded data removed]",
      "text/plain": [
       "<Figure size 1800x1080 with 1 Axes>"
      ]
     },
     "metadata": {
      "needs_background": "light"
     },
     "output_type": "display_data"
    }
   ],
   "source": [
    "plt.hist(first_gammas.kineticenergy, bins=200, alpha=1)\n",
    "ymax = 120\n",
    "#plt.vlines(x=6.099, ymin=0, ymax=ymax, color='r', linestyles='solid', label=\"6.099 MeV\")\n",
    "plt.vlines(x=4.270, ymin=0, ymax=ymax, color='r', linestyles='dotted', label=\"4.270 MeV\")\n",
    "#plt.vlines(x=3.968, ymin=0, ymax=ymax, color='r', linestyles='dashed', label=\"3.968 MeV\")\n",
    "#plt.vlines(x=3.327, ymin=0, ymax=ymax, color='r', linestyles='dashdot', label=\"3.327 MeV\")\n",
    "#plt.vlines(x=3.010, ymin=0, ymax=ymax, color='orange', linestyles='solid', label=\"3.010 MeV\")\n",
    "#plt.vlines(x=2.949, ymin=0, ymax=ymax, color='orange', linestyles='dotted', label=\"2.949 MeV\")\n",
    "plt.vlines(x=2.733, ymin=0, ymax=ymax, color='orange', linestyles='dashed', label=\"2.733 MeV\")\n",
    "plt.vlines(x=2.398, ymin=0, ymax=ymax, color='orange', linestyles='dashdot', label=\"2.398 MeV\")\n",
    "plt.vlines(x=2.321, ymin=0, ymax=ymax, color='y', linestyles='solid', label=\"2.321 MeV\")\n",
    "plt.vlines(x=1.869, ymin=0, ymax=ymax, color='y', linestyles='dotted', label=\"1.869 MeV\")\n",
    "#plt.vlines(x=1.635, ymin=0, ymax=ymax, color='y', linestyles='dashed', label=\"1.635 MeV\")\n",
    "plt.vlines(x=1.354, ymin=0, ymax=ymax, color='y', linestyles='dashdot', label=\"1.354 MeV\")\n",
    "#plt.vlines(x=1.035, ymin=0, ymax=ymax, color='g', linestyles='solid', label=\"1.035 MeV\")\n",
    "plt.vlines(x=0.516, ymin=0, ymax=ymax, color='g', linestyles='dashed', label=\"0.516 MeV\")\n",
    "plt.vlines(x=0.167, ymin=0, ymax=ymax, color='g', linestyles='dashdot', label=\"0.167 MeV\")\n",
    "plt.legend()\n",
    "plt.xlabel(\"Kinetic Energy of Gammas (MeV)\")\n",
    "plt.show()"
   ]
  },
  {
   "cell_type": "code",
   "execution_count": 103,
   "metadata": {},
   "outputs": [
    {
     "data": {
      "text/plain": [
       "239"
      ]
     },
     "execution_count": 103,
     "metadata": {},
     "output_type": "execute_result"
    }
   ],
   "source": [
    "df[df.creatorprocess==\"nCapture\"].eventnumber.nunique()"
   ]
  },
  {
   "cell_type": "code",
   "execution_count": 20,
   "metadata": {},
   "outputs": [
    {
     "data": {
      "text/plain": [
       "array(['primaryParticle', 'neutronInelastic', 'compt', 'phot', 'msc',\n",
       "       'eIoni', 'hadElastic', 'ionIoni', 'annihil', 'nCapture',\n",
       "       'RadioactiveDecay', 'eBrem', 'conv', 'Transportation', 'hIoni'],\n",
       "      dtype=object)"
      ]
     },
     "execution_count": 20,
     "metadata": {},
     "output_type": "execute_result"
    }
   ],
   "source": [
    "# loooking for scintillation\n",
    "df.creatorprocess.unique()"
   ]
  },
  {
   "cell_type": "code",
   "execution_count": 23,
   "metadata": {},
   "outputs": [
    {
     "data": {
      "text/plain": [
       "239"
      ]
     },
     "execution_count": 23,
     "metadata": {},
     "output_type": "execute_result"
    }
   ],
   "source": [
    "df[df.creatorprocess==\"nCapture\"].eventnumber.nunique()"
   ]
  },
  {
   "cell_type": "code",
   "execution_count": 26,
   "metadata": {},
   "outputs": [
    {
     "data": {
      "text/plain": [
       "79"
      ]
     },
     "execution_count": 26,
     "metadata": {},
     "output_type": "execute_result"
    }
   ],
   "source": [
    "df[(df.PID==1000180410) & (df.creatorprocess==\"nCapture\")].eventnumber.nunique()"
   ]
  },
  {
   "cell_type": "code",
   "execution_count": 27,
   "metadata": {},
   "outputs": [
    {
     "data": {
      "text/plain": [
       "0.3305439330543933"
      ]
     },
     "execution_count": 27,
     "metadata": {},
     "output_type": "execute_result"
    }
   ],
   "source": [
    "79/239"
   ]
  },
  {
   "cell_type": "code",
   "execution_count": null,
   "metadata": {},
   "outputs": [],
   "source": []
  }
 ],
 "metadata": {
  "kernelspec": {
   "display_name": "Python 3",
   "language": "python",
   "name": "python3"
  },
  "language_info": {
   "codemirror_mode": {
    "name": "ipython",
    "version": 3
   },
   "file_extension": ".py",
   "mimetype": "text/x-python",
   "name": "python",
   "nbconvert_exporter": "python",
   "pygments_lexer": "ipython3",
   "version": "3.6.9"
  }
 },
 "nbformat": 4,
 "nbformat_minor": 4
}
