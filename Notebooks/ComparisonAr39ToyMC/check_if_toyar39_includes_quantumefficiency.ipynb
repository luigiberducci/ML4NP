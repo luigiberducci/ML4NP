{
 "cells": [
  {
   "cell_type": "markdown",
   "metadata": {},
   "source": [
    "# Comparison toy MC wt sim data\n",
    "Check if M.Schwarz included the quantum efficiency"
   ]
  },
  {
   "cell_type": "code",
   "execution_count": 1,
   "metadata": {},
   "outputs": [],
   "source": [
    "import os, numpy as np, pandas as pd\n",
    "import matplotlib.pyplot as plt\n",
    "plt.rcParams['figure.figsize'] = [25, 15]\n",
    "plt.rcParams.update({'font.size': 18})"
   ]
  },
  {
   "cell_type": "code",
   "execution_count": 2,
   "metadata": {},
   "outputs": [],
   "source": [
    "def load_dataframe_from_files(dirin, fileprefix):\n",
    "    import glob\n",
    "    files = glob.glob(os.path.join(dirin, fileprefix))\n",
    "    print(\"[Info] Loading {}\".format(files[0]))\n",
    "    df = pd.read_csv(files[0], comment='#', index_col=False)\n",
    "    for file in files[1:]:\n",
    "        print(\"[Info] Loading {}\".format(file))\n",
    "        dftmp = pd.read_csv(file, comment='#', index_col=False)\n",
    "        df = pd.concat([df, dftmp])\n",
    "    return df"
   ]
  },
  {
   "cell_type": "code",
   "execution_count": 3,
   "metadata": {},
   "outputs": [
    {
     "name": "stdout",
     "output_type": "stream",
     "text": [
      "[Info] Loading ../../Data/ar39/06-14-2020-10M/roi_RndSeed123456789_part1_part1.csv\n",
      "[Info] Loading ../../Data/ar39/06-14-2020-10M/roi_RndSeed123456789_part1_part2.csv\n",
      "[Info] Loading ../../Data/ar39/06-14-2020-10M/roi_RndSeed123456789_part1_part3.csv\n"
     ]
    },
    {
     "name": "stderr",
     "output_type": "stream",
     "text": [
      "/home/luigi/.local/lib/python3.6/site-packages/IPython/core/interactiveshell.py:3254: DtypeWarning: Columns (4) have mixed types.Specify dtype option on import or set low_memory=False.\n",
      "  if (await self.run_code(code, result,  async_=asy)):\n"
     ]
    },
    {
     "name": "stdout",
     "output_type": "stream",
     "text": [
      "[Info] Loading ../../Data/ar39/06-14-2020-10M/roi_RndSeed123456789_part1_part4.csv\n",
      "[Info] Loading ../../Data/ar39/06-14-2020-10M/roi_RndSeed123456789_part1_part5.csv\n"
     ]
    }
   ],
   "source": [
    "dirin = os.path.join(\"..\", \"..\", \"Data\", \"ar39\", \"06-14-2020-10M\")\n",
    "fileprefix = \"roi_RndSeed123456789_part1_part*.csv\"\n",
    "\n",
    "df = load_dataframe_from_files(dirin, fileprefix)"
   ]
  },
  {
   "cell_type": "code",
   "execution_count": 5,
   "metadata": {},
   "outputs": [],
   "source": [
    "df = df[df.columns[:-1]]"
   ]
  },
  {
   "cell_type": "code",
   "execution_count": 6,
   "metadata": {},
   "outputs": [
    {
     "data": {
      "text/plain": [
       "9832142"
      ]
     },
     "execution_count": 6,
     "metadata": {},
     "output_type": "execute_result"
    }
   ],
   "source": [
    "df.eventnumber.nunique()"
   ]
  },
  {
   "cell_type": "code",
   "execution_count": 7,
   "metadata": {},
   "outputs": [
    {
     "data": {
      "text/html": [
       "<div>\n",
       "<style scoped>\n",
       "    .dataframe tbody tr th:only-of-type {\n",
       "        vertical-align: middle;\n",
       "    }\n",
       "\n",
       "    .dataframe tbody tr th {\n",
       "        vertical-align: top;\n",
       "    }\n",
       "\n",
       "    .dataframe thead th {\n",
       "        text-align: right;\n",
       "    }\n",
       "</style>\n",
       "<table border=\"1\" class=\"dataframe\">\n",
       "  <thead>\n",
       "    <tr style=\"text-align: right;\">\n",
       "      <th></th>\n",
       "      <th>PID</th>\n",
       "      <th>ParentTrackID</th>\n",
       "      <th>energydeposition</th>\n",
       "      <th>kineticenergy</th>\n",
       "      <th>time</th>\n",
       "      <th>x</th>\n",
       "      <th>y</th>\n",
       "      <th>z</th>\n",
       "      <th>px</th>\n",
       "      <th>py</th>\n",
       "      <th>pz</th>\n",
       "      <th>eventnumber</th>\n",
       "      <th>tracknumber</th>\n",
       "      <th>creatorprocess</th>\n",
       "      <th>parentnucleusPID</th>\n",
       "      <th>detectionefficiency</th>\n",
       "    </tr>\n",
       "  </thead>\n",
       "  <tbody>\n",
       "    <tr>\n",
       "      <th>0</th>\n",
       "      <td>11</td>\n",
       "      <td>1</td>\n",
       "      <td>328.529918</td>\n",
       "      <td>0.000000</td>\n",
       "      <td>11464308371431671808</td>\n",
       "      <td>-344.445324</td>\n",
       "      <td>-119.348029</td>\n",
       "      <td>511.779003</td>\n",
       "      <td>0.113927</td>\n",
       "      <td>-0.412221</td>\n",
       "      <td>0.903933</td>\n",
       "      <td>0</td>\n",
       "      <td>4</td>\n",
       "      <td>eIoni</td>\n",
       "      <td>0</td>\n",
       "      <td>0.000656</td>\n",
       "    </tr>\n",
       "    <tr>\n",
       "      <th>1</th>\n",
       "      <td>11</td>\n",
       "      <td>1</td>\n",
       "      <td>139.349628</td>\n",
       "      <td>0.000000</td>\n",
       "      <td>27891997106451349504</td>\n",
       "      <td>-329.611182</td>\n",
       "      <td>181.991834</td>\n",
       "      <td>711.103243</td>\n",
       "      <td>0.541476</td>\n",
       "      <td>0.715440</td>\n",
       "      <td>0.441531</td>\n",
       "      <td>1</td>\n",
       "      <td>4</td>\n",
       "      <td>eIoni</td>\n",
       "      <td>0</td>\n",
       "      <td>0.000984</td>\n",
       "    </tr>\n",
       "    <tr>\n",
       "      <th>2</th>\n",
       "      <td>11</td>\n",
       "      <td>1</td>\n",
       "      <td>353.693250</td>\n",
       "      <td>34.262027</td>\n",
       "      <td>9313250882323568640</td>\n",
       "      <td>-135.129531</td>\n",
       "      <td>-254.823677</td>\n",
       "      <td>-301.085876</td>\n",
       "      <td>-0.548984</td>\n",
       "      <td>0.723592</td>\n",
       "      <td>0.418368</td>\n",
       "      <td>2</td>\n",
       "      <td>4</td>\n",
       "      <td>eIoni</td>\n",
       "      <td>0</td>\n",
       "      <td>0.002952</td>\n",
       "    </tr>\n",
       "    <tr>\n",
       "      <th>3</th>\n",
       "      <td>11</td>\n",
       "      <td>1</td>\n",
       "      <td>34.262027</td>\n",
       "      <td>0.000000</td>\n",
       "      <td>9313250882323568640</td>\n",
       "      <td>-135.457606</td>\n",
       "      <td>-254.758617</td>\n",
       "      <td>-300.944470</td>\n",
       "      <td>-0.548984</td>\n",
       "      <td>0.723592</td>\n",
       "      <td>0.418368</td>\n",
       "      <td>2</td>\n",
       "      <td>4</td>\n",
       "      <td>eIoni</td>\n",
       "      <td>0</td>\n",
       "      <td>0.002952</td>\n",
       "    </tr>\n",
       "    <tr>\n",
       "      <th>4</th>\n",
       "      <td>11</td>\n",
       "      <td>1</td>\n",
       "      <td>91.591954</td>\n",
       "      <td>0.000000</td>\n",
       "      <td>17256965188529301504</td>\n",
       "      <td>193.351075</td>\n",
       "      <td>-427.208468</td>\n",
       "      <td>55.204848</td>\n",
       "      <td>-0.742827</td>\n",
       "      <td>-0.660542</td>\n",
       "      <td>-0.109055</td>\n",
       "      <td>3</td>\n",
       "      <td>4</td>\n",
       "      <td>eIoni</td>\n",
       "      <td>0</td>\n",
       "      <td>0.000328</td>\n",
       "    </tr>\n",
       "  </tbody>\n",
       "</table>\n",
       "</div>"
      ],
      "text/plain": [
       "   PID  ParentTrackID  energydeposition  kineticenergy                  time  \\\n",
       "0   11              1        328.529918       0.000000  11464308371431671808   \n",
       "1   11              1        139.349628       0.000000  27891997106451349504   \n",
       "2   11              1        353.693250      34.262027   9313250882323568640   \n",
       "3   11              1         34.262027       0.000000   9313250882323568640   \n",
       "4   11              1         91.591954       0.000000  17256965188529301504   \n",
       "\n",
       "            x           y           z        px        py        pz  \\\n",
       "0 -344.445324 -119.348029  511.779003  0.113927 -0.412221  0.903933   \n",
       "1 -329.611182  181.991834  711.103243  0.541476  0.715440  0.441531   \n",
       "2 -135.129531 -254.823677 -301.085876 -0.548984  0.723592  0.418368   \n",
       "3 -135.457606 -254.758617 -300.944470 -0.548984  0.723592  0.418368   \n",
       "4  193.351075 -427.208468   55.204848 -0.742827 -0.660542 -0.109055   \n",
       "\n",
       "   eventnumber  tracknumber creatorprocess  parentnucleusPID  \\\n",
       "0            0            4          eIoni                 0   \n",
       "1            1            4          eIoni                 0   \n",
       "2            2            4          eIoni                 0   \n",
       "3            2            4          eIoni                 0   \n",
       "4            3            4          eIoni                 0   \n",
       "\n",
       "   detectionefficiency  \n",
       "0             0.000656  \n",
       "1             0.000984  \n",
       "2             0.002952  \n",
       "3             0.002952  \n",
       "4             0.000328  "
      ]
     },
     "execution_count": 7,
     "metadata": {},
     "output_type": "execute_result"
    }
   ],
   "source": [
    "df.head()"
   ]
  },
  {
   "cell_type": "code",
   "execution_count": 29,
   "metadata": {},
   "outputs": [],
   "source": [
    "op_yield = 40\n",
    "quantum_eff = .40\n",
    "df[\"pedetected_noquantum\"] = round(df[\"energydeposition\"] * op_yield * df[\"detectionefficiency\"])\n",
    "df[\"pedetected_wtquantum\"] = round(df[\"energydeposition\"] * op_yield * df[\"detectionefficiency\"] * quantum_eff)"
   ]
  },
  {
   "cell_type": "code",
   "execution_count": 30,
   "metadata": {},
   "outputs": [],
   "source": [
    "pe_gby = df.groupby(\"eventnumber\")[[\"pedetected_noquantum\", \"pedetected_wtquantum\"]].sum()"
   ]
  },
  {
   "cell_type": "code",
   "execution_count": 31,
   "metadata": {},
   "outputs": [
    {
     "data": {
      "image/png": "[encoded data removed]",
      "text/plain": [
       "<Figure size 1800x1080 with 1 Axes>"
      ]
     },
     "metadata": {
      "needs_background": "light"
     },
     "output_type": "display_data"
    }
   ],
   "source": [
    "bins = np.linspace(0, 150, 151)\n",
    "plt.hist(pe_gby.pedetected_noquantum, bins=bins, label=\"no quantum efficiency\", edgecolor='w')\n",
    "plt.hist(pe_gby.pedetected_wtquantum, bins=bins, label=\"wt quantum eff. 0.40\", edgecolor='w')\n",
    "plt.yscale(\"log\")\n",
    "plt.title(\"PE Spectrum - Simulation of 10M Ar39 decays\")\n",
    "plt.legend()\n",
    "plt.show()"
   ]
  },
  {
   "cell_type": "code",
   "execution_count": 34,
   "metadata": {},
   "outputs": [
    {
     "name": "stdout",
     "output_type": "stream",
     "text": [
      "[Info] P(PE>0|quantum eff=1.0) = 0.6984523819936693\n",
      "[Info] P(PE>0|quantum eff=0.4) = 0.6416759440618331\n"
     ]
    }
   ],
   "source": [
    "print(\"[Info] P(PE>0|quantum eff=1.0) = {}\".format(len(pe_gby[pe_gby.pedetected_noquantum>0])/len(pe_gby)))\n",
    "print(\"[Info] P(PE>0|quantum eff=0.4) = {}\".format(len(pe_gby[pe_gby.pedetected_wtquantum>0])/len(pe_gby)))"
   ]
  },
  {
   "cell_type": "markdown",
   "metadata": {},
   "source": [
    "**Conclusion**: M.Schwarz haven't used quantum eff in his code, however in the simulated data we found P(PE>0) ~ .65"
   ]
  },
  {
   "cell_type": "code",
   "execution_count": null,
   "metadata": {},
   "outputs": [],
   "source": []
  }
 ],
 "metadata": {
  "kernelspec": {
   "display_name": "Python 3",
   "language": "python",
   "name": "python3"
  },
  "language_info": {
   "codemirror_mode": {
    "name": "ipython",
    "version": 3
   },
   "file_extension": ".py",
   "mimetype": "text/x-python",
   "name": "python",
   "nbconvert_exporter": "python",
   "pygments_lexer": "ipython3",
   "version": "3.6.9"
  }
 },
 "nbformat": 4,
 "nbformat_minor": 4
}
