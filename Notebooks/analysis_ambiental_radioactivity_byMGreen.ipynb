{
 "cells": [
  {
   "cell_type": "markdown",
   "metadata": {},
   "source": [
    "# Analysis of ambiental radioactivity ntuples by Matthew Green\n",
    "In this notebook, we analyse the events contained in the root files by Matt Green about ambiental radioactivity.\n",
    "\n",
    "TODO list:\n",
    "1. adapt python script to ntuple output scheme - **Done**\n",
    "1. run the script to extract csv from root - **Done**\n",
    "1. start analysis\n",
    "\n",
    "Note:\n",
    "1. The csv files are huge, in the order of 1-2gb. I will try to split in smaller files ordered by event number."
   ]
  },
  {
   "cell_type": "markdown",
   "metadata": {},
   "source": [
    "## First file: A228_Z90\n",
    "Explaination of the name: A=228, Z=90 is **228Th**, an isotope of Thorium.\n",
    "Then, take a look at the atom involves in the simulations."
   ]
  },
  {
   "cell_type": "code",
   "execution_count": 5,
   "metadata": {},
   "outputs": [],
   "source": [
    "import pandas as pd\n",
    "import os\n",
    "\n",
    "filepath = os.path.join(\"..\", \"Data\", \"output_AmbRad_A228_Z90_100000_part1.csv\")\n",
    "df = pd.read_csv(filepath, index_col=False)"
   ]
  },
  {
   "cell_type": "code",
   "execution_count": 11,
   "metadata": {},
   "outputs": [
    {
     "data": {
      "text/plain": [
       "array([1000020040,         22,         11, 1000180400,        -11,\n",
       "       1000320760, 1000320740, 1000180360, 1000180380])"
      ]
     },
     "execution_count": 11,
     "metadata": {},
     "output_type": "execute_result"
    }
   ],
   "source": [
    "df.PID.unique()"
   ]
  },
  {
   "cell_type": "markdown",
   "metadata": {},
   "source": [
    "These are:\n",
    "- `PID=-11` positrons\n",
    "- `PID=11` electrons\n",
    "- `PID=22` photons\n",
    "- `PID=1000020040` Helium isotope 4He\n",
    "- `PID=1000180360` Argon isotope 36Ar\n",
    "- `PID=1000180380` Argon isotope 38Ar\n",
    "- `PID=1000180400` Argon isotope 40Ar\n",
    "- `PID=1000320740` Germanium isotope 74Ge\n",
    "- `PID=1000320760` Germanium isotope 76Ge"
   ]
  },
  {
   "cell_type": "code",
   "execution_count": null,
   "metadata": {},
   "outputs": [],
   "source": []
  }
 ],
 "metadata": {
  "kernelspec": {
   "display_name": "Python 3",
   "language": "python",
   "name": "python3"
  },
  "language_info": {
   "codemirror_mode": {
    "name": "ipython",
    "version": 3
   },
   "file_extension": ".py",
   "mimetype": "text/x-python",
   "name": "python",
   "nbconvert_exporter": "python",
   "pygments_lexer": "ipython3",
   "version": "3.6.9"
  }
 },
 "nbformat": 4,
 "nbformat_minor": 2
}
