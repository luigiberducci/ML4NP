{
 "cells": [
  {
   "cell_type": "markdown",
   "metadata": {},
   "source": [
    "# Analysis of Ambiental Radioactivity by Matt Green\n",
    "In this notebook, we analyse the events contained in the root files by Matt Green about ambiental radioactivity. He said that they simulated the full **232Th-chain, 238U-chain and 40K-chain**."
   ]
  },
  {
   "cell_type": "markdown",
   "metadata": {},
   "source": [
    "## First file: `A228_Z90` (*i.e Thorium's decay chain*)\n",
    "Explaination of the name: A=228, Z=90 is **228Th**, an isotope of Thorium. Then, this file containes the simulation of the full decay-chain of Thorium.\n",
    "\n",
    "First, we look for the atoms involved in this simulation."
   ]
  },
  {
   "cell_type": "code",
   "execution_count": 1,
   "metadata": {},
   "outputs": [
    {
     "data": {
      "text/html": [
       "<div>\n",
       "<style scoped>\n",
       "    .dataframe tbody tr th:only-of-type {\n",
       "        vertical-align: middle;\n",
       "    }\n",
       "\n",
       "    .dataframe tbody tr th {\n",
       "        vertical-align: top;\n",
       "    }\n",
       "\n",
       "    .dataframe thead th {\n",
       "        text-align: right;\n",
       "    }\n",
       "</style>\n",
       "<table border=\"1\" class=\"dataframe\">\n",
       "  <thead>\n",
       "    <tr style=\"text-align: right;\">\n",
       "      <th></th>\n",
       "      <th>PID</th>\n",
       "      <th>ParentTrackID</th>\n",
       "      <th>energydeposition</th>\n",
       "      <th>kineticenergy</th>\n",
       "      <th>time</th>\n",
       "      <th>x</th>\n",
       "      <th>y</th>\n",
       "      <th>z</th>\n",
       "      <th>px</th>\n",
       "      <th>py</th>\n",
       "      <th>pz</th>\n",
       "      <th>eventnumber</th>\n",
       "      <th>tracknumber</th>\n",
       "      <th>creatorprocess</th>\n",
       "      <th>parentnucleusPID</th>\n",
       "    </tr>\n",
       "  </thead>\n",
       "  <tbody>\n",
       "    <tr>\n",
       "      <th>0</th>\n",
       "      <td>1000902280</td>\n",
       "      <td>0</td>\n",
       "      <td>0.000000</td>\n",
       "      <td>0.000000</td>\n",
       "      <td>0.000000e+00</td>\n",
       "      <td>-190.082</td>\n",
       "      <td>-3.79929</td>\n",
       "      <td>31.5809</td>\n",
       "      <td>0.000000</td>\n",
       "      <td>0.000000</td>\n",
       "      <td>-0.000000</td>\n",
       "      <td>0</td>\n",
       "      <td>1</td>\n",
       "      <td>primaryParticle</td>\n",
       "      <td>666</td>\n",
       "    </tr>\n",
       "    <tr>\n",
       "      <th>1</th>\n",
       "      <td>1000020040</td>\n",
       "      <td>2</td>\n",
       "      <td>0.000000</td>\n",
       "      <td>3.208800</td>\n",
       "      <td>3.594670e-04</td>\n",
       "      <td>-190.086</td>\n",
       "      <td>-3.80098</td>\n",
       "      <td>31.5845</td>\n",
       "      <td>-122.561000</td>\n",
       "      <td>-37.971500</td>\n",
       "      <td>86.418100</td>\n",
       "      <td>0</td>\n",
       "      <td>5</td>\n",
       "      <td>RadioactiveDecay</td>\n",
       "      <td>666</td>\n",
       "    </tr>\n",
       "    <tr>\n",
       "      <th>2</th>\n",
       "      <td>1000020040</td>\n",
       "      <td>2</td>\n",
       "      <td>3.208800</td>\n",
       "      <td>0.000000</td>\n",
       "      <td>2.197580e-03</td>\n",
       "      <td>-190.104</td>\n",
       "      <td>-3.80659</td>\n",
       "      <td>31.5973</td>\n",
       "      <td>-0.000000</td>\n",
       "      <td>-0.000000</td>\n",
       "      <td>0.000000</td>\n",
       "      <td>0</td>\n",
       "      <td>5</td>\n",
       "      <td>ionIoni</td>\n",
       "      <td>666</td>\n",
       "    </tr>\n",
       "    <tr>\n",
       "      <th>3</th>\n",
       "      <td>22</td>\n",
       "      <td>10</td>\n",
       "      <td>0.000000</td>\n",
       "      <td>0.300089</td>\n",
       "      <td>2.809210e+13</td>\n",
       "      <td>-190.050</td>\n",
       "      <td>-3.66345</td>\n",
       "      <td>31.5127</td>\n",
       "      <td>0.060967</td>\n",
       "      <td>0.262583</td>\n",
       "      <td>-0.131857</td>\n",
       "      <td>0</td>\n",
       "      <td>14</td>\n",
       "      <td>RadioactiveDecay</td>\n",
       "      <td>666</td>\n",
       "    </tr>\n",
       "    <tr>\n",
       "      <th>4</th>\n",
       "      <td>22</td>\n",
       "      <td>10</td>\n",
       "      <td>0.003178</td>\n",
       "      <td>0.246502</td>\n",
       "      <td>2.809210e+13</td>\n",
       "      <td>-187.493</td>\n",
       "      <td>7.35200</td>\n",
       "      <td>25.9812</td>\n",
       "      <td>-0.092471</td>\n",
       "      <td>0.099071</td>\n",
       "      <td>-0.205906</td>\n",
       "      <td>0</td>\n",
       "      <td>14</td>\n",
       "      <td>compt</td>\n",
       "      <td>666</td>\n",
       "    </tr>\n",
       "  </tbody>\n",
       "</table>\n",
       "</div>"
      ],
      "text/plain": [
       "          PID  ParentTrackID  energydeposition  kineticenergy          time  \\\n",
       "0  1000902280              0          0.000000       0.000000  0.000000e+00   \n",
       "1  1000020040              2          0.000000       3.208800  3.594670e-04   \n",
       "2  1000020040              2          3.208800       0.000000  2.197580e-03   \n",
       "3          22             10          0.000000       0.300089  2.809210e+13   \n",
       "4          22             10          0.003178       0.246502  2.809210e+13   \n",
       "\n",
       "         x        y        z          px         py         pz  eventnumber  \\\n",
       "0 -190.082 -3.79929  31.5809    0.000000   0.000000  -0.000000            0   \n",
       "1 -190.086 -3.80098  31.5845 -122.561000 -37.971500  86.418100            0   \n",
       "2 -190.104 -3.80659  31.5973   -0.000000  -0.000000   0.000000            0   \n",
       "3 -190.050 -3.66345  31.5127    0.060967   0.262583  -0.131857            0   \n",
       "4 -187.493  7.35200  25.9812   -0.092471   0.099071  -0.205906            0   \n",
       "\n",
       "   tracknumber    creatorprocess  parentnucleusPID  \n",
       "0            1   primaryParticle               666  \n",
       "1            5  RadioactiveDecay               666  \n",
       "2            5           ionIoni               666  \n",
       "3           14  RadioactiveDecay               666  \n",
       "4           14             compt               666  "
      ]
     },
     "execution_count": 1,
     "metadata": {},
     "output_type": "execute_result"
    }
   ],
   "source": [
    "import pandas as pd\n",
    "import os\n",
    "\n",
    "# Since input file is large, we have to distribute the workload\n",
    "filepath1 = os.path.join(\"..\", \"Data\", \"output_AmbRad_A228_Z90_100000_part1.csv\")\n",
    "filepath2 = os.path.join(\"..\", \"Data\", \"output_AmbRad_A228_Z90_100000_part2.csv\")\n",
    "filepath3 = os.path.join(\"..\", \"Data\", \"output_AmbRad_A228_Z90_100000_part3.csv\")\n",
    "filepath4 = os.path.join(\"..\", \"Data\", \"output_AmbRad_A228_Z90_100000_part4.csv\")\n",
    "# create multiple dataframes\n",
    "df1 = pd.read_csv(filepath1, index_col=False)\n",
    "df2 = pd.read_csv(filepath2, index_col=False)\n",
    "df3 = pd.read_csv(filepath3, index_col=False)\n",
    "df4 = pd.read_csv(filepath4, index_col=False)\n",
    "# concatenate the dfs in a single one and force the mem release\n",
    "df = pd.concat([df1, df2, df3, df4], ignore_index=True)\n",
    "del df1\n",
    "del df2\n",
    "del df3\n",
    "del df4\n",
    "df.head()"
   ]
  },
  {
   "cell_type": "code",
   "execution_count": 3,
   "metadata": {},
   "outputs": [
    {
     "name": "stdout",
     "output_type": "stream",
     "text": [
      "[-11, 11, 22, 1000020040, 1000180360, 1000180380, 1000180400, 1000320740, 1000320760, 1000902280]\n"
     ]
    }
   ],
   "source": [
    "print(sorted(df.PID.unique()))"
   ]
  },
  {
   "cell_type": "markdown",
   "metadata": {},
   "source": [
    "These are:\n",
    "- `PID=-11` positrons\n",
    "- `PID=11` electrons\n",
    "- `PID=22` photons\n",
    "- `PID=1000020040` Helium isotope 4He\n",
    "- `PID=1000180360` Argon isotope 36Ar\n",
    "- `PID=1000180380` Argon isotope 38Ar\n",
    "- `PID=1000180400` Argon isotope 40Ar\n",
    "- `PID=1000320740` Germanium isotope 74Ge\n",
    "- `PID=1000320760` Germanium isotope 76Ge\n",
    "- `PID=1000902290` Thorium isotope 229Th\n",
    "\n",
    "There is something weird:\n",
    "1. Why there is no 232Th? Why there is 229Th if in the 232Th-chain it is not reported?\n",
    "1. Why there are no the elements involed in 232Th-chain (*e.g. Ra, Ac, Rn, Po, Pb, Bi, Tl*)?\n",
    "\n",
    "Now, we observe the energy depositions."
   ]
  },
  {
   "cell_type": "code",
   "execution_count": 19,
   "metadata": {},
   "outputs": [
    {
     "name": "stdout",
     "output_type": "stream",
     "text": [
      "count    1.006648e+07\n",
      "mean     3.360898e-02\n",
      "std      2.358649e-01\n",
      "min      2.077170e-10\n",
      "25%      2.488150e-03\n",
      "50%      1.371690e-02\n",
      "75%      2.465830e-02\n",
      "max      6.605850e+00\n",
      "Name: energydeposition, dtype: float64\n",
      "\n",
      "count    99293.000000\n",
      "mean         3.407331\n",
      "std          3.940104\n",
      "min          0.000818\n",
      "25%          0.965960\n",
      "50%          1.968218\n",
      "75%          4.200668\n",
      "max         34.748797\n",
      "Name: cum_edep, dtype: float64\n"
     ]
    }
   ],
   "source": [
    "edep_entries = df[df.energydeposition>0].energydeposition.reset_index()\n",
    "edep_gby_event = df.groupby(\"eventnumber\").energydeposition.sum().reset_index()\n",
    "edep_gby_event.columns = ['eventnumber', 'cum_edep']    # to distinguish\n",
    "\n",
    "print(edep_entries.energydeposition.describe())\n",
    "print()\n",
    "print(edep_gby_event.cum_edep.describe())"
   ]
  },
  {
   "cell_type": "markdown",
   "metadata": {},
   "source": [
    "The deposited energy is very low, in the order of few keV.\n",
    "\n",
    "**[TODO]** Check that the unit of edep in MC out scheme is keV."
   ]
  },
  {
   "cell_type": "markdown",
   "metadata": {},
   "source": [
    "### Single event\n",
    "Now, we observe a single event to understand the time and space distribution."
   ]
  },
  {
   "cell_type": "code",
   "execution_count": 23,
   "metadata": {},
   "outputs": [],
   "source": [
    "eventnumber = 666\n",
    "event = df[df.eventnumber==eventnumber].sort_values(\"time\")"
   ]
  },
  {
   "cell_type": "markdown",
   "metadata": {},
   "source": [
    "#### Time distribution"
   ]
  },
  {
   "cell_type": "code",
   "execution_count": 54,
   "metadata": {},
   "outputs": [],
   "source": [
    "import matplotlib.pyplot as plt\n",
    "import matplotlib.ticker as ticker\n",
    "import numpy as np\n",
    "plt.rcParams['figure.figsize'] = [25, 15]\n",
    "plt.rcParams.update({'font.size': 30})"
   ]
  },
  {
   "cell_type": "code",
   "execution_count": 56,
   "metadata": {},
   "outputs": [
    {
     "data": {
      "image/png": "[encoded data removed]",
      "text/plain": [
       "<Figure size 1800x1080 with 1 Axes>"
      ]
     },
     "metadata": {
      "needs_background": "light"
     },
     "output_type": "display_data"
    }
   ],
   "source": [
    "fig, ax = plt.subplots()\n",
    "bins = np.logspace(-5, 14, 100)\n",
    "ax.hist(event.time, bins=bins)\n",
    "ax.set_xscale('log')\n",
    "ax.set_title(\"Time distribution - Event {}\".format(eventnumber))\n",
    "ax.set_xlabel(\"time (unit?)\")\n",
    "ax.set_ylabel(\"entris (unit?)\")\n",
    "plt.show()"
   ]
  },
  {
   "cell_type": "code",
   "execution_count": null,
   "metadata": {},
   "outputs": [],
   "source": []
  }
 ],
 "metadata": {
  "kernelspec": {
   "display_name": "Python 3",
   "language": "python",
   "name": "python3"
  },
  "language_info": {
   "codemirror_mode": {
    "name": "ipython",
    "version": 3
   },
   "file_extension": ".py",
   "mimetype": "text/x-python",
   "name": "python",
   "nbconvert_exporter": "python",
   "pygments_lexer": "ipython3",
   "version": "3.6.9"
  }
 },
 "nbformat": 4,
 "nbformat_minor": 2
}
