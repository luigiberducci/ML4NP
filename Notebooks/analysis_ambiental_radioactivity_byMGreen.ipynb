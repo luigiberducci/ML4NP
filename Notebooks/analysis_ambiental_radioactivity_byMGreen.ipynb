{
 "cells": [
  {
   "cell_type": "markdown",
   "metadata": {},
   "source": [
    "# Analysis of ambiental radioactivity ntuples by Matthew Green\n",
    "In this notebook, we analyse the events contained in the root files by Matt Green about ambiental radioactivity.\n",
    "\n",
    "TODO list:\n",
    "1. adapt python script to ntuple output scheme\n",
    "1. run the script to extract csv from root\n",
    "1. start analysis"
   ]
  },
  {
   "cell_type": "code",
   "execution_count": null,
   "metadata": {},
   "outputs": [],
   "source": []
  }
 ],
 "metadata": {
  "kernelspec": {
   "display_name": "Python 3",
   "language": "python",
   "name": "python3"
  },
  "language_info": {
   "codemirror_mode": {
    "name": "ipython",
    "version": 3
   },
   "file_extension": ".py",
   "mimetype": "text/x-python",
   "name": "python",
   "nbconvert_exporter": "python",
   "pygments_lexer": "ipython3",
   "version": "3.6.9"
  }
 },
 "nbformat": 4,
 "nbformat_minor": 2
}
