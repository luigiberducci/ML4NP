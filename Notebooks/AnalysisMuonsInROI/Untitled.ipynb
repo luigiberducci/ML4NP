{
 "cells": [
  {
   "cell_type": "code",
   "execution_count": 8,
   "metadata": {},
   "outputs": [],
   "source": [
    "import os, numpy as np, pandas as pd\n",
    "import matplotlib.pyplot as plt"
   ]
  },
  {
   "cell_type": "code",
   "execution_count": 9,
   "metadata": {},
   "outputs": [],
   "source": [
    "def load_dataframe_from_files(dirin, fileprefix, max_files=100):\n",
    "    import glob, sys\n",
    "    files = glob.glob(os.path.join(dirin, fileprefix))\n",
    "    df = pd.read_csv(files[0], comment='#', index_col=False)\n",
    "    df[\"file\"] = files[0].split(\"/\")[-1]\n",
    "    for i, file in enumerate(files[1:max_files]):\n",
    "        print(\".\", end=\"\")\n",
    "        dftmp = pd.read_csv(file, comment='#', index_col=False)\n",
    "        # keep only meaningful fields\n",
    "        dftmp[\"file\"] = file.split(\"/\")[-1]\n",
    "        df = pd.concat([df, dftmp])\n",
    "    print()\n",
    "    return df"
   ]
  },
  {
   "cell_type": "code",
   "execution_count": 10,
   "metadata": {},
   "outputs": [
    {
     "name": "stdout",
     "output_type": "stream",
     "text": [
      "98"
     ]
    }
   ],
   "source": [
    "dirin = os.path.join(\"..\", \"..\", \"Data\", \"MuonsROI\", \"07-04-2020-VirtualShrouds\")\n",
    "prefix = \"output*csv\"\n",
    "\n",
    "df = load_dataframe_from_files(dirin, prefix)"
   ]
  },
  {
   "cell_type": "code",
   "execution_count": 69,
   "metadata": {},
   "outputs": [
    {
     "name": "stdout",
     "output_type": "stream",
     "text": [
      "[Info] There are 22636 events\n",
      "[Info] There are 22439 non-zero events\n"
     ]
    }
   ],
   "source": [
    "df_gby = df.groupby([\"file\", \"eventnumber\"]).energydeposition.sum().reset_index()\n",
    "print(\"[Info] There are {} events\".format(len(df_gby)))\n",
    "print(\"[Info] There are {} non-zero events\".format(len(df_gby[df_gby.energydeposition>0])))"
   ]
  },
  {
   "cell_type": "code",
   "execution_count": null,
   "metadata": {},
   "outputs": [],
   "source": []
  },
  {
   "cell_type": "code",
   "execution_count": 22,
   "metadata": {},
   "outputs": [
    {
     "data": {
      "image/png": "[encoded data removed]",
      "text/plain": [
       "<Figure size 432x288 with 1 Axes>"
      ]
     },
     "metadata": {
      "needs_background": "light"
     },
     "output_type": "display_data"
    }
   ],
   "source": [
    "bins = np.logspace(0, 9, 100)\n",
    "plt.hist(df_gby.energydeposition, bins=bins)\n",
    "plt.xscale(\"log\")\n",
    "plt.show()"
   ]
  },
  {
   "cell_type": "markdown",
   "metadata": {},
   "source": [
    "# Observations:\n",
    "1. The energy spectrum per event is qualitatevely the same.\n",
    "1. The number of events in this new run is much higher than the previous one. In the previous 2M muon simulation, there are `20 751` events in ROI (`1` of the have at least a non-zero deposit). In this 1M run, there are `22 636` (`22 439` of them non-zero).\n",
    "1. Why there are so many events in ROI even if the run simulates 1M muons?"
   ]
  },
  {
   "cell_type": "code",
   "execution_count": 28,
   "metadata": {},
   "outputs": [],
   "source": [
    "df[\"r\"] = (df.x**2 + df.y**2)**.5"
   ]
  },
  {
   "cell_type": "code",
   "execution_count": 44,
   "metadata": {},
   "outputs": [],
   "source": [
    "# Extract Ar41 de-excitation\n",
    "df[\"file_event_key\"] = df[\"file\"] + \" \" + df[\"eventnumber\"].astype(str)\n",
    "events_ar41_list = df[(df.creatorprocess==\"nCapture\") & (df.PID==1000180410)].file_event_key.unique()"
   ]
  },
  {
   "cell_type": "code",
   "execution_count": 59,
   "metadata": {},
   "outputs": [],
   "source": [
    "gammas_ar41_df = df[(df.PID==22) & (df.creatorprocess==\"nCapture\") & (df.file_event_key.isin(events_ar41_list))]"
   ]
  },
  {
   "cell_type": "code",
   "execution_count": 60,
   "metadata": {},
   "outputs": [],
   "source": [
    "first_gammas_ar41 = gammas_ar41_df.groupby([\"file_event_key\", \"tracknumber\"]).first().reset_index()"
   ]
  },
  {
   "cell_type": "code",
   "execution_count": 62,
   "metadata": {},
   "outputs": [
    {
     "data": {
      "image/png": "[encoded data removed]",
      "text/plain": [
       "<Figure size 432x288 with 1 Axes>"
      ]
     },
     "metadata": {
      "needs_background": "light"
     },
     "output_type": "display_data"
    }
   ],
   "source": [
    "plt.hist(first_gammas_ar41.groupby(\"file_event_key\").kineticenergy.sum(), bins=100)\n",
    "plt.show()"
   ]
  },
  {
   "cell_type": "code",
   "execution_count": 64,
   "metadata": {},
   "outputs": [],
   "source": [
    "cum_ke_gammas = first_gammas_ar41.groupby(\"file_event_key\").kineticenergy.sum()"
   ]
  },
  {
   "cell_type": "code",
   "execution_count": 66,
   "metadata": {},
   "outputs": [
    {
     "data": {
      "text/plain": [
       "file_event_key\n",
       "output3881417_part1.csv 378     19549.913870\n",
       "output569191_part1.csv 6668     12491.024181\n",
       "output9023907_part1.csv 5982    18516.377304\n",
       "Name: kineticenergy, dtype: float64"
      ]
     },
     "execution_count": 66,
     "metadata": {},
     "output_type": "execute_result"
    }
   ],
   "source": [
    "cum_ke_gammas[cum_ke_gammas>10000]"
   ]
  },
  {
   "cell_type": "code",
   "execution_count": 68,
   "metadata": {},
   "outputs": [
    {
     "data": {
      "text/plain": [
       "89996.66431935997"
      ]
     },
     "execution_count": 68,
     "metadata": {},
     "output_type": "execute_result"
    }
   ],
   "source": [
    "df[(df.file==\"output569191_part1.csv\") & (df.eventnumber==6668)].energydeposition.sum()"
   ]
  },
  {
   "cell_type": "code",
   "execution_count": null,
   "metadata": {},
   "outputs": [],
   "source": []
  }
 ],
 "metadata": {
  "kernelspec": {
   "display_name": "Python 3",
   "language": "python",
   "name": "python3"
  },
  "language_info": {
   "codemirror_mode": {
    "name": "ipython",
    "version": 3
   },
   "file_extension": ".py",
   "mimetype": "text/x-python",
   "name": "python",
   "nbconvert_exporter": "python",
   "pygments_lexer": "ipython3",
   "version": "3.6.9"
  }
 },
 "nbformat": 4,
 "nbformat_minor": 4
}
