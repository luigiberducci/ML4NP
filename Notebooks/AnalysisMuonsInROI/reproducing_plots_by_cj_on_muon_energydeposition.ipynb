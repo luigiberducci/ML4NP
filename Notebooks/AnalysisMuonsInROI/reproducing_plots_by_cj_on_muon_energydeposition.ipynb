{
 "cells": [
  {
   "cell_type": "code",
   "execution_count": 1,
   "metadata": {},
   "outputs": [],
   "source": [
    "import os, numpy as np, pandas as pd\n",
    "import matplotlib.pyplot as plt\n",
    "plt.rcParams['figure.figsize'] = [25, 15]\n",
    "plt.rcParams.update({'font.size': 25})"
   ]
  },
  {
   "cell_type": "code",
   "execution_count": 4,
   "metadata": {},
   "outputs": [],
   "source": [
    "def load_dataframe_from_files(dirin, fileprefix):\n",
    "    import glob\n",
    "    files = glob.glob(os.path.join(dirin, fileprefix))\n",
    "    print(\"[Info] Loading {}\".format(files[0]))\n",
    "    df = pd.read_csv(files[0], comment='#', index_col=False)\n",
    "    for file in files[1:]:\n",
    "        print(\"[Info] Loading {}\".format(file))\n",
    "        dftmp = pd.read_csv(file, comment='#', index_col=False)\n",
    "        df = pd.concat([df, dftmp])\n",
    "    return df"
   ]
  },
  {
   "cell_type": "code",
   "execution_count": 8,
   "metadata": {},
   "outputs": [
    {
     "name": "stdout",
     "output_type": "stream",
     "text": [
      "[Info] Loading ../../Data/MuonsROI/06-14-2020-QuantumEff/roi_RndSeed123456789_part1_part1.csv\n",
      "[Info] Loading ../../Data/MuonsROI/06-14-2020-QuantumEff/roi_RndSeed123456789_part1_part2.csv\n",
      "[Info] Loading ../../Data/MuonsROI/06-14-2020-QuantumEff/roi_RndSeed123456789_part1_part3.csv\n",
      "[Info] Loading ../../Data/MuonsROI/06-14-2020-QuantumEff/roi_RndSeed123456789_part1_part4.csv\n",
      "[Info] Loading ../../Data/MuonsROI/06-14-2020-QuantumEff/roi_RndSeed123456789_part1_part5.csv\n",
      "[Info] Loading ../../Data/MuonsROI/06-14-2020-QuantumEff/roi_RndSeed123456789_part1_part6.csv\n",
      "[Info] Loading ../../Data/MuonsROI/06-14-2020-QuantumEff/roi_RndSeed123456789_part1_part7.csv\n"
     ]
    }
   ],
   "source": [
    "dirin = os.path.join(\"..\", \"..\", \"Data\", \"MuonsROI\", \"06-14-2020-QuantumEff\")\n",
    "filepref = \"roi_RndSeed123456789_part1_part*csv\"\n",
    "df = load_dataframe_from_files(dirin, filepref)\n",
    "df = df[df.columns[:-1]]"
   ]
  },
  {
   "cell_type": "code",
   "execution_count": 9,
   "metadata": {},
   "outputs": [],
   "source": [
    "op_yield = 40    # 40 OP / KeV\n",
    "quantum_eff = 0.40\n",
    "df[\"pedetected\"] = np.ceil(df.energydeposition * op_yield * quantum_eff * df.detectionefficiency)    # round to next int\n",
    "df[\"energydetected\"] = df.pedetected / op_yield"
   ]
  },
  {
   "cell_type": "code",
   "execution_count": 41,
   "metadata": {},
   "outputs": [
    {
     "name": "stdout",
     "output_type": "stream",
     "text": [
      "Considering ALL Depositions in ROI:\n",
      "Number of events: 20751\n",
      "Number of events <20MeV: 8264 (39.82%)\n",
      "Number of events <=0MeV: 886 (4.27%)\n"
     ]
    }
   ],
   "source": [
    "edep_gby_event = df.groupby(\"eventnumber\").energydeposition.sum()\n",
    "nr_events_20mev = len(edep_gby_event[edep_gby_event<20000])\n",
    "nr_events_zero = len(edep_gby_event[edep_gby_event==0])\n",
    "nr_events = len(edep_gby_event)\n",
    "print(\"Considering ALL Depositions in ROI:\")\n",
    "print(\"Number of events: {}\".format(nr_events))\n",
    "print(\"Number of events <20MeV: {} ({:.2f}%)\".format(nr_events_20mev, nr_events_20mev/nr_events*100))\n",
    "print(\"Number of events <=0MeV: {} ({:.2f}%)\".format(nr_events_zero, nr_events_zero/nr_events*100))"
   ]
  },
  {
   "cell_type": "code",
   "execution_count": 45,
   "metadata": {},
   "outputs": [
    {
     "name": "stdout",
     "output_type": "stream",
     "text": [
      "Considering Non-Zero Depositions in ROI:\n",
      "Number of events: 19865\n",
      "Number of events <20MeV: 7378 (37.14%)\n"
     ]
    }
   ],
   "source": [
    "nonzero_edep_df = df[df.energydeposition>0]\n",
    "edep_gby_event = nonzero_edep_df.groupby(\"eventnumber\").energydeposition.sum()\n",
    "nr_events_20mev = len(edep_gby_event[edep_gby_event<20000])\n",
    "nr_events = len(edep_gby_event)\n",
    "print(\"Considering Non-Zero Depositions in ROI:\")\n",
    "print(\"Number of events: {}\".format(nr_events))\n",
    "print(\"Number of events <20MeV: {} ({:.2f}%)\".format(nr_events_20mev, nr_events_20mev/nr_events*100))"
   ]
  },
  {
   "cell_type": "code",
   "execution_count": null,
   "metadata": {},
   "outputs": [],
   "source": [
    "plt.hist(edep_gby_event/1000, bins=1524460, cumulative=True, density=True, color='w', edgecolor='b')\n",
    "plt.xlim(0, 100)\n",
    "plt.ylim(0, 0.50)\n",
    "plt.vlines(20, ymin=0, ymax=0.50, color='red')\n",
    "plt.title(\"Integral Curve of Edep in LAr - [0,100] MeV\")\n",
    "plt.ylabel(\"Fraction of events below this energy\")\n",
    "plt.xlabel(\"Total LAr energy deposition (MeV)\")\n",
    "plt.show()"
   ]
  },
  {
   "cell_type": "code",
   "execution_count": null,
   "metadata": {},
   "outputs": [],
   "source": []
  }
 ],
 "metadata": {
  "kernelspec": {
   "display_name": "Python 3",
   "language": "python",
   "name": "python3"
  },
  "language_info": {
   "codemirror_mode": {
    "name": "ipython",
    "version": 3
   },
   "file_extension": ".py",
   "mimetype": "text/x-python",
   "name": "python",
   "nbconvert_exporter": "python",
   "pygments_lexer": "ipython3",
   "version": "3.6.9"
  }
 },
 "nbformat": 4,
 "nbformat_minor": 4
}
