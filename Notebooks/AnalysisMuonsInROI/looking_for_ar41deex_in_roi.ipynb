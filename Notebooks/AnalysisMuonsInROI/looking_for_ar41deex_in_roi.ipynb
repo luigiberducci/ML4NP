{
 "cells": [
  {
   "cell_type": "code",
   "execution_count": 1,
   "metadata": {},
   "outputs": [],
   "source": [
    "import os, numpy as np, pandas as pd\n",
    "import matplotlib.pyplot as plt\n",
    "plt.rcParams['figure.figsize'] = [25, 15]\n",
    "plt.rcParams.update({'font.size': 20})"
   ]
  },
  {
   "cell_type": "code",
   "execution_count": 33,
   "metadata": {},
   "outputs": [],
   "source": [
    "def load_dataframe_from_files(dirin, fileprefix):\n",
    "    import glob\n",
    "    files = glob.glob(os.path.join(dirin, fileprefix))\n",
    "    useless_columns = [\"muonenergy\", \"muonx\", \"muony\", \"muonz\", \"muonpx\", \"muonpy\", \"muonpz\"]\n",
    "    print(\"[Info] Loading {}\".format(files[0]))\n",
    "    df = pd.read_csv(os.path.join(dirin, files[0]), comment='#', index_col=False)\n",
    "    df = df[df.columns[:-1]]\n",
    "    df = df[set(df.columns).difference(useless_columns)]\n",
    "    for file in files[1:]:\n",
    "        print(\"[Info] Loading {}\".format(file))\n",
    "        dftmp = pd.read_csv(os.path.join(dirin, file), comment='#', index_col=False)\n",
    "        # keep only meaningful fields\n",
    "        dftmp = dftmp[dftmp.columns[:-1]]\n",
    "        dftmp = dftmp[set(df.columns).difference(useless_columns)]\n",
    "        df = pd.concat([df, dftmp])\n",
    "    return df\n"
   ]
  },
  {
   "cell_type": "code",
   "execution_count": 34,
   "metadata": {},
   "outputs": [
    {
     "name": "stdout",
     "output_type": "stream",
     "text": [
      "[Info] Loading ../../Data/MuonsROI/roi_RndSeed123456789_part1_part1.csv\n",
      "[Info] Loading ../../Data/MuonsROI/roi_RndSeed123456789_part1_part2.csv\n",
      "[Info] Loading ../../Data/MuonsROI/roi_RndSeed123456789_part1_part3.csv\n",
      "[Info] Loading ../../Data/MuonsROI/roi_RndSeed123456789_part1_part4.csv\n",
      "[Info] Loading ../../Data/MuonsROI/roi_RndSeed123456789_part1_part5.csv\n",
      "[Info] Loading ../../Data/MuonsROI/roi_RndSeed123456789_part1_part6.csv\n",
      "[Info] Loading ../../Data/MuonsROI/roi_RndSeed123456789_part1_part7.csv\n"
     ]
    }
   ],
   "source": [
    "dirin = os.path.join(\"..\", \"..\", \"Data\", \"MuonsROI\")\n",
    "filepref = \"roi_RndSeed123456789_part1_part*\"\n",
    "roi = load_dataframe_from_files(dirin, filepref)"
   ]
  },
  {
   "cell_type": "code",
   "execution_count": 36,
   "metadata": {},
   "outputs": [
    {
     "name": "stdout",
     "output_type": "stream",
     "text": [
      "Entries: 15608416\n",
      "Events: 20751\n"
     ]
    },
    {
     "data": {
      "text/html": [
       "<div>\n",
       "<style scoped>\n",
       "    .dataframe tbody tr th:only-of-type {\n",
       "        vertical-align: middle;\n",
       "    }\n",
       "\n",
       "    .dataframe tbody tr th {\n",
       "        vertical-align: top;\n",
       "    }\n",
       "\n",
       "    .dataframe thead th {\n",
       "        text-align: right;\n",
       "    }\n",
       "</style>\n",
       "<table border=\"1\" class=\"dataframe\">\n",
       "  <thead>\n",
       "    <tr style=\"text-align: right;\">\n",
       "      <th></th>\n",
       "      <th>parentnucleusPID</th>\n",
       "      <th>ParentTrackID</th>\n",
       "      <th>energydeposition</th>\n",
       "      <th>kineticenergy</th>\n",
       "      <th>creatorprocess</th>\n",
       "      <th>time</th>\n",
       "      <th>eventnumber</th>\n",
       "      <th>y</th>\n",
       "      <th>px</th>\n",
       "      <th>tracknumber</th>\n",
       "      <th>z</th>\n",
       "      <th>detectionefficiency</th>\n",
       "      <th>pz</th>\n",
       "      <th>py</th>\n",
       "      <th>x</th>\n",
       "      <th>PID</th>\n",
       "    </tr>\n",
       "  </thead>\n",
       "  <tbody>\n",
       "    <tr>\n",
       "      <th>0</th>\n",
       "      <td>0</td>\n",
       "      <td>0</td>\n",
       "      <td>35488.673379</td>\n",
       "      <td>1.599984e+07</td>\n",
       "      <td>None</td>\n",
       "      <td>37.811098</td>\n",
       "      <td>5</td>\n",
       "      <td>-497.878904</td>\n",
       "      <td>0.443481</td>\n",
       "      <td>1</td>\n",
       "      <td>779.462441</td>\n",
       "      <td>0.000656</td>\n",
       "      <td>-0.793294</td>\n",
       "      <td>0.417143</td>\n",
       "      <td>-76.662224</td>\n",
       "      <td>13</td>\n",
       "    </tr>\n",
       "    <tr>\n",
       "      <th>1</th>\n",
       "      <td>0</td>\n",
       "      <td>0</td>\n",
       "      <td>8334.193088</td>\n",
       "      <td>1.599112e+07</td>\n",
       "      <td>None</td>\n",
       "      <td>37.945860</td>\n",
       "      <td>5</td>\n",
       "      <td>-481.068470</td>\n",
       "      <td>0.443809</td>\n",
       "      <td>1</td>\n",
       "      <td>747.399497</td>\n",
       "      <td>0.000328</td>\n",
       "      <td>-0.793586</td>\n",
       "      <td>0.416239</td>\n",
       "      <td>-58.731288</td>\n",
       "      <td>13</td>\n",
       "    </tr>\n",
       "    <tr>\n",
       "      <th>2</th>\n",
       "      <td>0</td>\n",
       "      <td>0</td>\n",
       "      <td>129.223275</td>\n",
       "      <td>1.599053e+07</td>\n",
       "      <td>None</td>\n",
       "      <td>37.948375</td>\n",
       "      <td>5</td>\n",
       "      <td>-480.754588</td>\n",
       "      <td>0.443791</td>\n",
       "      <td>1</td>\n",
       "      <td>746.801060</td>\n",
       "      <td>0.000328</td>\n",
       "      <td>-0.793610</td>\n",
       "      <td>0.416213</td>\n",
       "      <td>-58.396614</td>\n",
       "      <td>13</td>\n",
       "    </tr>\n",
       "    <tr>\n",
       "      <th>3</th>\n",
       "      <td>0</td>\n",
       "      <td>0</td>\n",
       "      <td>18822.988750</td>\n",
       "      <td>1.597142e+07</td>\n",
       "      <td>None</td>\n",
       "      <td>38.293771</td>\n",
       "      <td>5</td>\n",
       "      <td>-437.657976</td>\n",
       "      <td>0.444276</td>\n",
       "      <td>1</td>\n",
       "      <td>664.626949</td>\n",
       "      <td>0.000656</td>\n",
       "      <td>-0.792988</td>\n",
       "      <td>0.416879</td>\n",
       "      <td>-12.444372</td>\n",
       "      <td>13</td>\n",
       "    </tr>\n",
       "    <tr>\n",
       "      <th>4</th>\n",
       "      <td>0</td>\n",
       "      <td>0</td>\n",
       "      <td>5000.453740</td>\n",
       "      <td>1.596597e+07</td>\n",
       "      <td>None</td>\n",
       "      <td>38.379425</td>\n",
       "      <td>5</td>\n",
       "      <td>-426.953327</td>\n",
       "      <td>0.444474</td>\n",
       "      <td>1</td>\n",
       "      <td>644.264532</td>\n",
       "      <td>0.000656</td>\n",
       "      <td>-0.792658</td>\n",
       "      <td>0.417296</td>\n",
       "      <td>-1.036219</td>\n",
       "      <td>13</td>\n",
       "    </tr>\n",
       "  </tbody>\n",
       "</table>\n",
       "</div>"
      ],
      "text/plain": [
       "   parentnucleusPID  ParentTrackID  energydeposition  kineticenergy  \\\n",
       "0                 0              0      35488.673379   1.599984e+07   \n",
       "1                 0              0       8334.193088   1.599112e+07   \n",
       "2                 0              0        129.223275   1.599053e+07   \n",
       "3                 0              0      18822.988750   1.597142e+07   \n",
       "4                 0              0       5000.453740   1.596597e+07   \n",
       "\n",
       "  creatorprocess       time  eventnumber           y        px  tracknumber  \\\n",
       "0           None  37.811098            5 -497.878904  0.443481            1   \n",
       "1           None  37.945860            5 -481.068470  0.443809            1   \n",
       "2           None  37.948375            5 -480.754588  0.443791            1   \n",
       "3           None  38.293771            5 -437.657976  0.444276            1   \n",
       "4           None  38.379425            5 -426.953327  0.444474            1   \n",
       "\n",
       "            z  detectionefficiency        pz        py          x  PID  \n",
       "0  779.462441             0.000656 -0.793294  0.417143 -76.662224   13  \n",
       "1  747.399497             0.000328 -0.793586  0.416239 -58.731288   13  \n",
       "2  746.801060             0.000328 -0.793610  0.416213 -58.396614   13  \n",
       "3  664.626949             0.000656 -0.792988  0.416879 -12.444372   13  \n",
       "4  644.264532             0.000656 -0.792658  0.417296  -1.036219   13  "
      ]
     },
     "execution_count": 36,
     "metadata": {},
     "output_type": "execute_result"
    }
   ],
   "source": [
    "print(\"Entries: {}\".format(len(roi)))\n",
    "print(\"Events: {}\".format(roi.eventnumber.nunique()))\n",
    "roi = roi.sort_values([\"eventnumber\", \"tracknumber\", \"time\"])\n",
    "roi.head()"
   ]
  },
  {
   "cell_type": "code",
   "execution_count": 46,
   "metadata": {},
   "outputs": [
    {
     "data": {
      "text/plain": [
       "135"
      ]
     },
     "execution_count": 46,
     "metadata": {},
     "output_type": "execute_result"
    }
   ],
   "source": [
    "len(roi[(roi.creatorprocess=='nCapture')].eventnumber.unique())"
   ]
  },
  {
   "cell_type": "code",
   "execution_count": 53,
   "metadata": {},
   "outputs": [
    {
     "data": {
      "image/png": "[encoded data removed]",
      "text/plain": [
       "<Figure size 1800x1080 with 1 Axes>"
      ]
     },
     "metadata": {
      "needs_background": "light"
     },
     "output_type": "display_data"
    },
    {
     "data": {
      "text/plain": [
       "count    1.560842e+07\n",
       "mean     5.075384e-04\n",
       "std      7.167851e-04\n",
       "min      0.000000e+00\n",
       "25%      0.000000e+00\n",
       "50%      3.280000e-04\n",
       "75%      6.560000e-04\n",
       "max      9.184000e-03\n",
       "Name: detectionefficiency, dtype: float64"
      ]
     },
     "execution_count": 53,
     "metadata": {},
     "output_type": "execute_result"
    }
   ],
   "source": [
    "plt.hist(roi.detectionefficiency, bins=100)\n",
    "plt.show()\n",
    "roi.detectionefficiency.describe()"
   ]
  },
  {
   "cell_type": "code",
   "execution_count": null,
   "metadata": {},
   "outputs": [],
   "source": []
  }
 ],
 "metadata": {
  "kernelspec": {
   "display_name": "Python 3",
   "language": "python",
   "name": "python3"
  },
  "language_info": {
   "codemirror_mode": {
    "name": "ipython",
    "version": 3
   },
   "file_extension": ".py",
   "mimetype": "text/x-python",
   "name": "python",
   "nbconvert_exporter": "python",
   "pygments_lexer": "ipython3",
   "version": "3.6.9"
  }
 },
 "nbformat": 4,
 "nbformat_minor": 4
}
