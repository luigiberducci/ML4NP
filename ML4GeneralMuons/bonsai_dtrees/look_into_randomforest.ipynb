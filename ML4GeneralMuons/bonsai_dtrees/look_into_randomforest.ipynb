{
 "cells": [
  {
   "cell_type": "markdown",
   "metadata": {},
   "source": [
    "# look into RForest model"
   ]
  },
  {
   "cell_type": "code",
   "execution_count": 2,
   "metadata": {},
   "outputs": [],
   "source": [
    "import os, glob, numpy as np, pandas as pd\n",
    "import matplotlib.pyplot as plt\n",
    "import time\n",
    "plt.rcParams['figure.figsize'] = [25, 15]\n",
    "plt.rcParams.update({'font.size': 45})"
   ]
  },
  {
   "cell_type": "code",
   "execution_count": 3,
   "metadata": {},
   "outputs": [
    {
     "name": "stdout",
     "output_type": "stream",
     "text": [
      "[Info] Loaded models in 0.51 seconds\n"
     ]
    }
   ],
   "source": [
    "from joblib import load\n",
    "import time\n",
    "\n",
    "init = time.time()\n",
    "rf = load(\"rf_10est_5depth.joblib\")\n",
    "print(\"[Info] Loaded models in {:.2f} seconds\".format(time.time() - init))"
   ]
  },
  {
   "cell_type": "code",
   "execution_count": 4,
   "metadata": {},
   "outputs": [],
   "source": [
    "from sklearn.tree import plot_tree, export_text, export_graphviz\n",
    "import matplotlib.pyplot as plt\n",
    "import graphviz"
   ]
  },
  {
   "cell_type": "code",
   "execution_count": 5,
   "metadata": {},
   "outputs": [],
   "source": [
    "my_features = [\"NPE_outer\", \"NAS_outer\", \"MeanNPEActive_outer\", \"SpatlVar_outer\", \"SpatRange_outer\", \n",
    "               \"NPE_inner\", \"NAS_inner\", \"MeanNPEActive_inner\", \"SpatlVar_inner\", \"SpatRange_inner\",\n",
    "               \"NPE_tot\", \"NAS_tot\", \"MeanNPEActive_tot\"]"
   ]
  },
  {
   "cell_type": "code",
   "execution_count": 16,
   "metadata": {},
   "outputs": [],
   "source": [
    "for i, estimator in enumerate(rf.estimators_):\n",
    "    est_text = export_text(estimator, feature_names=my_features)\n",
    "    with open(f'tree{i}.txt', 'w') as f:\n",
    "        f.write(est_text)"
   ]
  },
  {
   "cell_type": "code",
   "execution_count": 7,
   "metadata": {},
   "outputs": [],
   "source": [
    "for i, estimator in enumerate(rf.estimators_):\n",
    "    export_graphviz(estimator, out_file=f\"tree{i}.dot\", \n",
    "                feature_names=my_features, class_names=[\"Ar39\", \"Mu\"],  \n",
    "                filled=True, rounded=True,\n",
    "                special_characters=True)"
   ]
  },
  {
   "cell_type": "code",
   "execution_count": 40,
   "metadata": {},
   "outputs": [],
   "source": [
    "# rewrite estimator 0 as function\n",
    "def estimator0(x):\n",
    "    result = 0\n",
    "    if x[1]<=5.5:\n",
    "        if x[0]<=7.5:\n",
    "            if x[8]<=-0.50:                \n",
    "                result = 0 if x[10]<=5.50 else 1                \n",
    "            else:\n",
    "                result = 0 if x[10]<=15.5 else 1\n",
    "                \n",
    "        else:\n",
    "            if x[9] <= 0:\n",
    "                result = 1\n",
    "            else:\n",
    "                result = 0 if x[12] <= 2.65 else 1\n",
    "    else:\n",
    "        if x[0] <= 10.5:\n",
    "            if x[5]<=0.50:\n",
    "                if x[2]<=1.21:\n",
    "                    result = 1 if x[3]<=8.06 else 0                    \n",
    "                else:\n",
    "                    result = 1\n",
    "            else:    \n",
    "                result = 0 if x[4]<=16.5 else 1        \n",
    "        else:\n",
    "            result = 1\n",
    "    return result"
   ]
  },
  {
   "cell_type": "code",
   "execution_count": 41,
   "metadata": {},
   "outputs": [],
   "source": [
    "def estimator1(x):\n",
    "    if x[4] <= 17.50:\n",
    "        if x[1] <= 5.50:\n",
    "            if x[7] <= 0.00:\n",
    "                result = 0 if x[10] <= 6.50 else 1\n",
    "            else:\n",
    "                if x[10] <= 15.50:\n",
    "                    result = 0\n",
    "                else:\n",
    "                    result = 1 if x[3] <= 3.86 else 0\n",
    "        else:\n",
    "            if x[0] <= 11.50:\n",
    "                if x[7] <= 0.00:\n",
    "                    result = 0 if x[0] <= 7.50 else 1\n",
    "                else:\n",
    "                    result = 0\n",
    "            else:\n",
    "                result = 1\n",
    "    else:\n",
    "        result = 1\n",
    "    return result"
   ]
  },
  {
   "cell_type": "code",
   "execution_count": 42,
   "metadata": {},
   "outputs": [],
   "source": [
    "def estimator2(x):\n",
    "    if x[1] <= 5.50:\n",
    "        if x[0] <= 7.50:\n",
    "            if x[0] <= 4.50:\n",
    "                if x[7] <= 0.00:\n",
    "                    result = 0 if x[4] <= 17.50 else 1\n",
    "                else:\n",
    "                    result = 0\n",
    "            else:\n",
    "                if x[9] <= 0.00:\n",
    "                    result = 0 if x[2] <= 1.32 else 1\n",
    "                else:\n",
    "                    result = 0\n",
    "        else:\n",
    "            if x[9] <= 0.00:\n",
    "                result = 1\n",
    "            else:\n",
    "                result = 0 if x[10] <= 15.50 else 1\n",
    "    else:\n",
    "        if x[10] <= 13.50:\n",
    "            if x[8] <= -0.50:\n",
    "                if x[2] <= 1.17:\n",
    "                    result = 0 if x[12] <= 1.15 else 1\n",
    "                else:\n",
    "                    result = 1\n",
    "            else:\n",
    "                result = 0 if x[3] <= 33.69 else 1\n",
    "        else:\n",
    "            result = 1\n",
    "    return result"
   ]
  },
  {
   "cell_type": "code",
   "execution_count": 43,
   "metadata": {},
   "outputs": [],
   "source": [
    "def estimator3(x):\n",
    "    if x[10] <= 12.50:\n",
    "        if x[7] <= 0.00:\n",
    "            if x[2] <= 1.27:\n",
    "                if x[0] <= 4.50:\n",
    "                    result = 0 if x[3] <= 43.38 else 1\n",
    "                else:\n",
    "                    result = 0 if x[1] <= 4.50 else 1\n",
    "            else:\n",
    "                result = 1\n",
    "        else:\n",
    "            result = 0\n",
    "    else:\n",
    "        if x[6] <= 2.50:\n",
    "            if x[2] <= 1.84:\n",
    "                result = 0 if x[0] <= 11.50 else 1\n",
    "            else:\n",
    "                if x[10] <= 15.50:\n",
    "                    result = 1 if x[6] <= 1.50 else 0\n",
    "                else:\n",
    "                    result = 1\n",
    "        else:\n",
    "            if x[12] <= 1.88:\n",
    "                result = 0 if x[0] <= 11.50 else 1\n",
    "            else:\n",
    "                result = 0 if x[1] <= 4.50 else 1\n",
    "    return result"
   ]
  },
  {
   "cell_type": "markdown",
   "metadata": {},
   "source": [
    "# load data"
   ]
  },
  {
   "cell_type": "code",
   "execution_count": 19,
   "metadata": {},
   "outputs": [],
   "source": [
    "def load_dataframe_from_files(dirin, fileprefix, max_files=100):\n",
    "    import glob\n",
    "    files = glob.glob(os.path.join(dirin, fileprefix))\n",
    "    print(\"[Info] Loading {} files wt prefix:\\n{}\".format(len(files), fileprefix))\n",
    "    df = pd.read_csv(files[0], comment='#', index_col=False)\n",
    "    for file in files[1:max_files]:\n",
    "        print(\".\", end='')\n",
    "        dftmp = pd.read_csv(file, comment='#', index_col=False)\n",
    "        df = pd.concat([df, dftmp])\n",
    "    print(\"\")\n",
    "    return df"
   ]
  },
  {
   "cell_type": "code",
   "execution_count": 20,
   "metadata": {},
   "outputs": [],
   "source": [
    "n_inner_slices, n_outer_slices = 12, 20"
   ]
  },
  {
   "cell_type": "code",
   "execution_count": 21,
   "metadata": {},
   "outputs": [
    {
     "name": "stdout",
     "output_type": "stream",
     "text": [
      "[Info] Loading 100 files wt prefix:\n",
      "Snapshot1Ar39*\n",
      "...................................................................................................\n",
      "[Info] Loading 100 files wt prefix:\n",
      "Snapshot2Ar39*\n",
      "...................................................................................................\n",
      "[Info] Loading 100 files wt prefix:\n",
      "Snapshot3Ar39*\n",
      "...................................................................................................\n",
      "[Info] Loading 100 files wt prefix:\n",
      "Snapshot4Ar39*\n",
      "...................................................................................................\n",
      "[Info] Loading 100 files wt prefix:\n",
      "Snapshot5Ar39*\n",
      "...................................................................................................\n",
      "[Info] Loaded all 1, 2, 3, 4, 5 Ar39 Pileups in 15.36 seconds\n",
      "[Info] Loading 100 files wt prefix:\n",
      "SnapshotMuons*\n",
      "...................................................................................................\n",
      "[Info] Loaded all Muons in 0.79 seconds\n"
     ]
    }
   ],
   "source": [
    "# Load Ar39\n",
    "init = time.time()\n",
    "dirin = os.path.join(\"..\", \"..\", \"Data\", \"OutputProcessing\", \"UnseenTestData_11_10_2020\", \"Ar39\", \"Ar39_Snapshots\")\n",
    "\n",
    "fileprefix = \"Snapshot1Ar39*\"\n",
    "dfall1ar39 = load_dataframe_from_files(dirin, fileprefix)\n",
    "\n",
    "fileprefix = \"Snapshot2Ar39*\"\n",
    "dfall2ar39 = load_dataframe_from_files(dirin, fileprefix)\n",
    "\n",
    "fileprefix = \"Snapshot3Ar39*\"\n",
    "dfall3ar39 = load_dataframe_from_files(dirin, fileprefix)\n",
    "\n",
    "fileprefix = \"Snapshot4Ar39*\"\n",
    "dfall4ar39 = load_dataframe_from_files(dirin, fileprefix)\n",
    "\n",
    "fileprefix = \"Snapshot5Ar39*\"\n",
    "dfall5ar39 = load_dataframe_from_files(dirin, fileprefix)\n",
    "\n",
    "print(\"[Info] Loaded all 1, 2, 3, 4, 5 Ar39 Pileups in {:.2f} seconds\".format(time.time() - init))\n",
    "\n",
    "# Load Muons\n",
    "init = time.time()\n",
    "dirin = os.path.join(\"..\", \"..\", \"Data\", \"OutputProcessing\", \"UnseenTestData_11_10_2020\", \"Muons\", \"Muons_Snapshots\")\n",
    "\n",
    "fileprefix = \"SnapshotMuons*\"\n",
    "dfallmu = load_dataframe_from_files(dirin, fileprefix)\n",
    "print(\"[Info] Loaded all Muons in {:.2f} seconds\".format(time.time() - init))"
   ]
  },
  {
   "cell_type": "code",
   "execution_count": 22,
   "metadata": {},
   "outputs": [],
   "source": [
    "# prepare data\n",
    "dfallmu[\"group\"] = 0\n",
    "dfall1ar39[\"group\"] = 1\n",
    "dfall2ar39[\"group\"] = 2\n",
    "dfall3ar39[\"group\"] = 3\n",
    "dfall4ar39[\"group\"] = 4\n",
    "dfall5ar39[\"group\"] = 5\n",
    "dfallmu[\"y\"] = 1\n",
    "dfall1ar39[\"y\"] = 0\n",
    "dfall2ar39[\"y\"] = 0\n",
    "dfall3ar39[\"y\"] = 0\n",
    "dfall4ar39[\"y\"] = 0\n",
    "dfall5ar39[\"y\"] = 0\n",
    "dfallar39 = pd.concat([dfall1ar39, dfall2ar39, dfall3ar39, dfall4ar39, dfall5ar39], axis=0)"
   ]
  },
  {
   "cell_type": "code",
   "execution_count": 23,
   "metadata": {},
   "outputs": [],
   "source": [
    "# Create Features\n",
    "def pe_detected(row):\n",
    "    return np.sum(row.to_numpy())\n",
    "\n",
    "def nr_active_slices(row):\n",
    "    return np.nonzero(row.to_numpy())[0].shape[0]\n",
    "\n",
    "def mean_npe(row):\n",
    "    return np.mean(row.to_numpy())\n",
    "\n",
    "def mean_npe_active(row):\n",
    "    rownp = row.to_numpy()\n",
    "    rownonzero = np.nonzero(rownp)[0]\n",
    "    return np.mean(rownp[rownonzero]) if rownonzero.shape[0]>0 else -1\n",
    "\n",
    "def std_npe(row):\n",
    "    return np.std(row.to_numpy())\n",
    "\n",
    "def std_npe_active(row):\n",
    "    rownp = row.to_numpy()\n",
    "    rownonzero = np.nonzero(rownp)[0]\n",
    "    return np.std(rownp[rownonzero]) if rownonzero.shape[0]>0 else -1\n",
    "\n",
    "def range_detections(row):\n",
    "    rownp = row.to_numpy()\n",
    "    rownonzero = np.nonzero(rownp)[0]\n",
    "    return rownonzero[-1] - rownonzero[0] + 1 if rownonzero.shape[0]>0 else -1\n",
    "\n",
    "def spatial_var(row):\n",
    "    rownp = row.to_numpy()\n",
    "    ids = np.repeat(np.argwhere(rownp>0), rownp[rownp>0])\n",
    "    return np.var(ids) if ids.shape[0]>0 else -1\n",
    "\n",
    "def spatial_std(row):\n",
    "    rownp = row.to_numpy()\n",
    "    ids = np.repeat(np.argwhere(rownp>0), rownp[rownp>0])\n",
    "    return np.std(ids) if ids.shape[0]>0 else -1"
   ]
  },
  {
   "cell_type": "code",
   "execution_count": 24,
   "metadata": {},
   "outputs": [
    {
     "name": "stdout",
     "output_type": "stream",
     "text": [
      "Compute Mu Inner features: 2.898 sec\n",
      "Compute Mu Outer features: 3.520 sec\n",
      "Compute combined features: 0.008 sec\n",
      "Compute Ar39 Inner features: 190.339 sec\n",
      "Compute Ar39 Outer features: 248.847 sec\n",
      "Compute combined features: 0.132 sec\n"
     ]
    }
   ],
   "source": [
    "# features for rforest\n",
    "my_features = [\"PEDetected_outer\", \"NActiveSlices_outer\", \"MeanNPEActive_outer\", \"SpatialVar_outer\", \"SpatialRange_outer\", \n",
    "               \"PEDetected_inner\", \"NActiveSlices_inner\", \"MeanNPEActive_inner\", \"SpatialVar_inner\", \"SpatialRange_inner\",\n",
    "               \"PEDetected_tot\", \"NActiveSlices_tot\", \"MeanNPEActive_tot\"]\n",
    "\n",
    "init = time.time()\n",
    "dfallmu[\"PEDetected_inner\"] = dfallmu.iloc[:, 3:3+n_inner_slices].apply(lambda row: pe_detected(row), axis=1)\n",
    "dfallmu[\"NActiveSlices_inner\"] = dfallmu.iloc[:, 3:3+n_inner_slices].apply(lambda row: nr_active_slices(row), axis=1)\n",
    "dfallmu[\"MeanNPEActive_inner\"] = dfallmu.iloc[:, 3:3+n_inner_slices].apply(lambda row: mean_npe_active(row), axis=1)\n",
    "dfallmu[\"StdNPEActive_inner\"] = dfallmu.iloc[:, 3:3+n_inner_slices].apply(lambda row: std_npe_active(row), axis=1)\n",
    "dfallmu[\"SpatialRange_inner\"] = dfallmu.iloc[:, 3:3+n_inner_slices].apply(lambda row: range_detections(row), axis=1)\n",
    "dfallmu[\"SpatialVar_inner\"] = dfallmu.iloc[:, 3:3+n_inner_slices].apply(lambda row: spatial_var(row), axis=1)\n",
    "dfallmu[\"SpatialStd_inner\"] = dfallmu.iloc[:, 3:3+n_inner_slices].apply(lambda row: spatial_std(row), axis=1)\n",
    "print(\"Compute Mu Inner features: {:.3f} sec\".format(time.time() - init))\n",
    "init = time.time()\n",
    "dfallmu[\"PEDetected_outer\"] = dfallmu.iloc[:, 3+n_inner_slices:3+n_inner_slices+n_outer_slices].apply(lambda row: pe_detected(row), axis=1)\n",
    "dfallmu[\"NActiveSlices_outer\"] = dfallmu.iloc[:, 3+n_inner_slices:3+n_inner_slices+n_outer_slices].apply(lambda row: nr_active_slices(row), axis=1)\n",
    "dfallmu[\"MeanNPEActive_outer\"] = dfallmu.iloc[:, 3+n_inner_slices:3+n_inner_slices+n_outer_slices].apply(lambda row: mean_npe_active(row), axis=1)\n",
    "dfallmu[\"StdNPEActive_outer\"] = dfallmu.iloc[:, 3+n_inner_slices:3+n_inner_slices+n_outer_slices].apply(lambda row: std_npe_active(row), axis=1)\n",
    "dfallmu[\"SpatialRange_outer\"] = dfallmu.iloc[:, 3+n_inner_slices:3+n_inner_slices+n_outer_slices].apply(lambda row: range_detections(row), axis=1)\n",
    "dfallmu[\"SpatialVar_outer\"] = dfallmu.iloc[:, 3+n_inner_slices:3+n_inner_slices+n_outer_slices].apply(lambda row: spatial_var(row), axis=1)\n",
    "dfallmu[\"SpatialStd_outer\"] = dfallmu.iloc[:, 3+n_inner_slices:3+n_inner_slices+n_outer_slices].apply(lambda row: spatial_std(row), axis=1)\n",
    "print(\"Compute Mu Outer features: {:.3f} sec\".format(time.time() - init))\n",
    "init = time.time()\n",
    "dfallmu[\"PEDetected_tot\"] = dfallmu[\"PEDetected_inner\"] + dfallmu[\"PEDetected_outer\"]\n",
    "dfallmu[\"NActiveSlices_tot\"] = dfallmu[\"NActiveSlices_inner\"] + dfallmu[\"NActiveSlices_outer\"]\n",
    "dfallmu[\"MeanNPEActive_tot\"] = dfallmu[\"PEDetected_tot\"] / dfallmu[\"NActiveSlices_tot\"]\n",
    "dfallmu = dfallmu.fillna(-1)\n",
    "print(\"Compute combined features: {:.3f} sec\".format(time.time() - init))\n",
    "\n",
    "init = time.time()\n",
    "dfallar39[\"PEDetected_inner\"] = dfallar39.iloc[:, 3:3+n_inner_slices].apply(lambda row: pe_detected(row), axis=1)\n",
    "dfallar39[\"NActiveSlices_inner\"] = dfallar39.iloc[:, 3:3+n_inner_slices].apply(lambda row: nr_active_slices(row), axis=1)\n",
    "dfallar39[\"MeanNPEActive_inner\"] = dfallar39.iloc[:, 3:3+n_inner_slices].apply(lambda row: mean_npe_active(row), axis=1)\n",
    "dfallar39[\"StdNPEActive_inner\"] = dfallar39.iloc[:, 3:3+n_inner_slices].apply(lambda row: std_npe_active(row), axis=1)\n",
    "dfallar39[\"SpatialRange_inner\"] = dfallar39.iloc[:, 3:3+n_inner_slices].apply(lambda row: range_detections(row), axis=1)\n",
    "dfallar39[\"SpatialVar_inner\"] = dfallar39.iloc[:, 3:3+n_inner_slices].apply(lambda row: spatial_var(row), axis=1)\n",
    "dfallar39[\"SpatialStd_inner\"] = dfallar39.iloc[:, 3:3+n_inner_slices].apply(lambda row: spatial_std(row), axis=1)\n",
    "print(\"Compute Ar39 Inner features: {:.3f} sec\".format(time.time() - init))\n",
    "init = time.time()\n",
    "dfallar39[\"PEDetected_outer\"] = dfallar39.iloc[:, 3+n_inner_slices:3+n_inner_slices+n_outer_slices].apply(lambda row: pe_detected(row), axis=1)\n",
    "dfallar39[\"NActiveSlices_outer\"] = dfallar39.iloc[:, 3+n_inner_slices:3+n_inner_slices+n_outer_slices].apply(lambda row: nr_active_slices(row), axis=1)\n",
    "dfallar39[\"MeanNPEActive_outer\"] = dfallar39.iloc[:, 3+n_inner_slices:3+n_inner_slices+n_outer_slices].apply(lambda row: mean_npe_active(row), axis=1)\n",
    "dfallar39[\"StdNPEActive_outer\"] = dfallar39.iloc[:, 3+n_inner_slices:3+n_inner_slices+n_outer_slices].apply(lambda row: std_npe_active(row), axis=1)\n",
    "dfallar39[\"SpatialRange_outer\"] = dfallar39.iloc[:, 3+n_inner_slices:3+n_inner_slices+n_outer_slices].apply(lambda row: range_detections(row), axis=1)\n",
    "dfallar39[\"SpatialVar_outer\"] = dfallar39.iloc[:, 3+n_inner_slices:3+n_inner_slices+n_outer_slices].apply(lambda row: spatial_var(row), axis=1)\n",
    "dfallar39[\"SpatialStd_outer\"] = dfallar39.iloc[:, 3+n_inner_slices:3+n_inner_slices+n_outer_slices].apply(lambda row: spatial_std(row), axis=1)\n",
    "print(\"Compute Ar39 Outer features: {:.3f} sec\".format(time.time() - init))\n",
    "init = time.time()\n",
    "dfallar39[\"PEDetected_tot\"] = dfallar39[\"PEDetected_inner\"] + dfallar39[\"PEDetected_outer\"]\n",
    "dfallar39[\"NActiveSlices_tot\"] = dfallar39[\"NActiveSlices_inner\"] + dfallar39[\"NActiveSlices_outer\"]\n",
    "dfallar39[\"MeanNPEActive_tot\"] = dfallar39[\"PEDetected_tot\"] / dfallar39[\"NActiveSlices_tot\"]\n",
    "dfallar39 = dfallar39.fillna(-1)\n",
    "print(\"Compute combined features: {:.3f} sec\".format(time.time() - init))"
   ]
  },
  {
   "cell_type": "code",
   "execution_count": 25,
   "metadata": {},
   "outputs": [],
   "source": [
    "data = pd.concat([dfallar39, dfallmu], axis=0)"
   ]
  },
  {
   "cell_type": "markdown",
   "metadata": {},
   "source": [
    "# predictions"
   ]
  },
  {
   "cell_type": "code",
   "execution_count": 32,
   "metadata": {},
   "outputs": [],
   "source": [
    "X_rf, y_rf = data.loc[:, my_features], data.loc[:, \"y\"]\n",
    "X_rf = np.array(X_rf)\n",
    "y_rf = np.array(y_rf)"
   ]
  },
  {
   "cell_type": "code",
   "execution_count": 63,
   "metadata": {},
   "outputs": [
    {
     "name": "stdout",
     "output_type": "stream",
     "text": [
      "[Info] Estimator 0 predict in 0.098 seconds\n",
      "[Info] Estimator 1 predict in 0.059 seconds\n",
      "[Info] Estimator 2 predict in 0.064 seconds\n",
      "[Info] Estimator 3 predict in 0.059 seconds\n"
     ]
    }
   ],
   "source": [
    "for id_estimator in range(4):\n",
    "    dt = rf.estimators_[id_estimator]\n",
    "    init = time.time()\n",
    "    data[f'y_original_est{id_estimator}_pred'] = dt.predict(X_rf)\n",
    "    print(\"[Info] Estimator {} predict in {:.3f} seconds\".format(id_estimator, time.time() - init))"
   ]
  },
  {
   "cell_type": "code",
   "execution_count": 59,
   "metadata": {},
   "outputs": [
    {
     "name": "stdout",
     "output_type": "stream",
     "text": [
      "[Info] Estimator 0 predict in 4.094 seconds\n",
      "[Info] Estimator 1 predict in 4.067 seconds\n",
      "[Info] Estimator 2 predict in 4.334 seconds\n",
      "[Info] Estimator 3 predict in 4.029 seconds\n"
     ]
    }
   ],
   "source": [
    "est_fn = [estimator0, estimator1, estimator2, estimator3]\n",
    "for id_estimator in range(4):\n",
    "    dt_fn = est_fn[id_estimator]\n",
    "    init = time.time()\n",
    "    data[f'y_est{id_estimator}_pred'] = np.apply_along_axis(dt_fn, axis=1, arr=X_rf)\n",
    "    print(\"[Info] Estimator {} predict in {:.3f} seconds\".format(id_estimator, time.time() - init))"
   ]
  },
  {
   "cell_type": "code",
   "execution_count": 77,
   "metadata": {},
   "outputs": [
    {
     "data": {
      "text/plain": [
       "True"
      ]
     },
     "execution_count": 77,
     "metadata": {},
     "output_type": "execute_result"
    }
   ],
   "source": [
    "any(data[\"y_original_est3_pred\"] != data[\"y_est3_pred\"])"
   ]
  },
  {
   "cell_type": "code",
   "execution_count": null,
   "metadata": {},
   "outputs": [],
   "source": []
  }
 ],
 "metadata": {
  "kernelspec": {
   "display_name": "Python 3",
   "language": "python",
   "name": "python3"
  },
  "language_info": {
   "codemirror_mode": {
    "name": "ipython",
    "version": 3
   },
   "file_extension": ".py",
   "mimetype": "text/x-python",
   "name": "python",
   "nbconvert_exporter": "python",
   "pygments_lexer": "ipython3",
   "version": "3.6.9"
  }
 },
 "nbformat": 4,
 "nbformat_minor": 4
}
