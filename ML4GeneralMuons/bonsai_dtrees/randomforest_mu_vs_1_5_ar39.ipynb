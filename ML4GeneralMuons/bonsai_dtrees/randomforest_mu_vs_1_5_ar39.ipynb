{
 "cells": [
  {
   "cell_type": "markdown",
   "metadata": {},
   "source": [
    "# Mu vs Pileups wt Bonsai DTrees\n",
    "In this notebook, we try to use an ensemble model for classification of Muons vs Ar39 Background.\n",
    "\n",
    "We consider the following data:\n",
    "- **Muons**: snapshot of acquisitions from any muon-induced process (*ionization, scattering, etc.*)\n",
    "- **Ar39**: snapshot of acquisitions from pileups of 1, ..., 5 decays\n",
    "\n",
    "We further assume to have directly the **features** from acquisitions:\n",
    "- NPE, Number of Active Slices for each shroud\n",
    "- Range, Var, Std Dev of active slices\n",
    "- Total number of PE detected, Total Number of Active Slices from both shrouds"
   ]
  },
  {
   "cell_type": "code",
   "execution_count": 1,
   "metadata": {},
   "outputs": [],
   "source": [
    "import os, glob, numpy as np, pandas as pd\n",
    "import matplotlib.pyplot as plt\n",
    "import time\n",
    "plt.rcParams['figure.figsize'] = [25, 15]\n",
    "plt.rcParams.update({'font.size': 18})"
   ]
  },
  {
   "cell_type": "code",
   "execution_count": 2,
   "metadata": {},
   "outputs": [],
   "source": [
    "def load_dataframe_from_files(dirin, fileprefix, max_files=100):\n",
    "    import glob\n",
    "    files = glob.glob(os.path.join(dirin, fileprefix))\n",
    "    print(\"[Info] Loading {} files wt prefix:\\n{}\".format(len(files), fileprefix))\n",
    "    df = pd.read_csv(files[0], comment='#', index_col=False)\n",
    "    for file in files[1:max_files]:\n",
    "        print(\".\", end='')\n",
    "        dftmp = pd.read_csv(file, comment='#', index_col=False)\n",
    "        df = pd.concat([df, dftmp])\n",
    "    print(\"\")\n",
    "    return df"
   ]
  },
  {
   "cell_type": "code",
   "execution_count": 3,
   "metadata": {},
   "outputs": [
    {
     "name": "stdout",
     "output_type": "stream",
     "text": [
      "[Info] Loading 100 files wt prefix:\n",
      "Snapshot1Ar39*\n",
      "...................................................................................................\n",
      "[Info] Loading 100 files wt prefix:\n",
      "Snapshot2Ar39*\n",
      "...................................................................................................\n",
      "[Info] Loading 100 files wt prefix:\n",
      "Snapshot3Ar39*\n",
      "...................................................................................................\n",
      "[Info] Loading 100 files wt prefix:\n",
      "Snapshot4Ar39*\n",
      "...................................................................................................\n",
      "[Info] Loading 100 files wt prefix:\n",
      "Snapshot5Ar39*\n",
      "...................................................................................................\n",
      "[Info] Loaded all 1, 2, 3, 4, 5 Ar39 Pileups in 195.59 seconds\n",
      "[Info] Loading 100 files wt prefix:\n",
      "SnapshotMuons*\n",
      "...................................................................................................\n",
      "[Info] Loaded all Muons in 2.36 seconds\n"
     ]
    }
   ],
   "source": [
    "# Load Ar39\n",
    "init = time.time()\n",
    "dirin = os.path.join(\"..\", \"..\", \"Data\", \"OutputProcessing\", \"Ar39_08_18_2020\", \"Ar39_Snapshots\")\n",
    "\n",
    "fileprefix = \"Snapshot1Ar39*\"\n",
    "dfall1ar39 = load_dataframe_from_files(dirin, fileprefix)\n",
    "\n",
    "fileprefix = \"Snapshot2Ar39*\"\n",
    "dfall2ar39 = load_dataframe_from_files(dirin, fileprefix)\n",
    "\n",
    "fileprefix = \"Snapshot3Ar39*\"\n",
    "dfall3ar39 = load_dataframe_from_files(dirin, fileprefix)\n",
    "\n",
    "fileprefix = \"Snapshot4Ar39*\"\n",
    "dfall4ar39 = load_dataframe_from_files(dirin, fileprefix)\n",
    "\n",
    "fileprefix = \"Snapshot5Ar39*\"\n",
    "dfall5ar39 = load_dataframe_from_files(dirin, fileprefix)\n",
    "\n",
    "print(\"[Info] Loaded all 1, 2, 3, 4, 5 Ar39 Pileups in {:.2f} seconds\".format(time.time() - init))\n",
    "\n",
    "# Load Muons\n",
    "init = time.time()\n",
    "dirin = os.path.join(\"..\", \"..\", \"Data\", \"OutputProcessing\", \"Muons_08_18_2020\", \"Muons_Snapshots\")\n",
    "\n",
    "fileprefix = \"SnapshotMuons*\"\n",
    "dfallmu = load_dataframe_from_files(dirin, fileprefix)\n",
    "print(\"[Info] Loaded all Muons in {:.2f} seconds\".format(time.time() - init))"
   ]
  },
  {
   "cell_type": "markdown",
   "metadata": {},
   "source": [
    "# preliminary cut: Nr Active Slices on Outer Shroud"
   ]
  },
  {
   "cell_type": "code",
   "execution_count": 4,
   "metadata": {},
   "outputs": [
    {
     "name": "stdout",
     "output_type": "stream",
     "text": [
      "[Preliminary Cut on Nr Active Slices of outer shroud]\n",
      "[Muons] Select >= 4 Outer NAS: 132050 (84.08%)\n",
      "[1Ar39] Select >= 4 Outer NAS: 121738 (2.30%)\n",
      "[2Ar39] Select >= 4 Outer NAS: 482387 (18.19%)\n",
      "[3Ar39] Select >= 4 Outer NAS: 920580 (52.07%)\n",
      "[4Ar39] Select >= 4 Outer NAS: 1097976 (82.81%)\n",
      "[5Ar39] Select >= 4 Outer NAS: 1097976 (95.19%)\n",
      "\n",
      "[Info] Cut performed in 143.550 seconds\n"
     ]
    }
   ],
   "source": [
    "def nr_active_slices(row):\n",
    "    return np.nonzero(row.to_numpy())[0].shape[0]\n",
    "n_inner_slices, n_outer_slices = 12, 20\n",
    "cut_out_nas = 4\n",
    "\n",
    "init = time.time()\n",
    "\n",
    "# store original nr events\n",
    "original_len_1ar39 = len(dfall1ar39)\n",
    "original_len_2ar39 = len(dfall2ar39)\n",
    "original_len_3ar39 = len(dfall3ar39)\n",
    "original_len_4ar39 = len(dfall4ar39)\n",
    "original_len_5ar39 = len(dfall5ar39)\n",
    "original_len_mu = len(dfallmu)\n",
    "\n",
    "print(\"[Preliminary Cut on Nr Active Slices of outer shroud]\")\n",
    "dfall1ar39[\"NActiveSlices_outer\"] = dfall1ar39.iloc[:, 3+n_inner_slices:3+n_inner_slices+n_outer_slices].apply(lambda row: nr_active_slices(row), axis=1)\n",
    "dfall1ar39 = dfall1ar39[dfall1ar39.NActiveSlices_outer >= cut_out_nas]\n",
    "\n",
    "dfall2ar39[\"NActiveSlices_outer\"] = dfall2ar39.iloc[:, 3+n_inner_slices:3+n_inner_slices+n_outer_slices].apply(lambda row: nr_active_slices(row), axis=1)\n",
    "dfall2ar39 = dfall2ar39[dfall2ar39.NActiveSlices_outer >= cut_out_nas]\n",
    "\n",
    "dfall3ar39[\"NActiveSlices_outer\"] = dfall3ar39.iloc[:, 3+n_inner_slices:3+n_inner_slices+n_outer_slices].apply(lambda row: nr_active_slices(row), axis=1)\n",
    "dfall3ar39 = dfall3ar39[dfall3ar39.NActiveSlices_outer >= cut_out_nas]\n",
    "\n",
    "dfall4ar39[\"NActiveSlices_outer\"] = dfall4ar39.iloc[:, 3+n_inner_slices:3+n_inner_slices+n_outer_slices].apply(lambda row: nr_active_slices(row), axis=1)\n",
    "dfall4ar39 = dfall4ar39[dfall4ar39.NActiveSlices_outer >= cut_out_nas]\n",
    "\n",
    "dfall5ar39[\"NActiveSlices_outer\"] = dfall5ar39.iloc[:, 3+n_inner_slices:3+n_inner_slices+n_outer_slices].apply(lambda row: nr_active_slices(row), axis=1)\n",
    "dfall5ar39 = dfall5ar39[dfall5ar39.NActiveSlices_outer >= cut_out_nas]\n",
    "\n",
    "dfallmu[\"NActiveSlices_outer\"] = dfallmu.iloc[:, 3+n_inner_slices:3+n_inner_slices+n_outer_slices].apply(lambda row: nr_active_slices(row), axis=1)\n",
    "dfallmu = dfallmu[dfallmu.NActiveSlices_outer >= cut_out_nas]\n",
    "\n",
    "print(\"[Muons] Select >= {} Outer NAS: {} ({:.2f}%)\".format(cut_out_nas, len(dfallmu), len(dfallmu)/original_len_mu*100))\n",
    "print(\"[1Ar39] Select >= {} Outer NAS: {} ({:.2f}%)\".format(cut_out_nas, len(dfall1ar39), len(dfall1ar39)/original_len_1ar39*100))\n",
    "print(\"[2Ar39] Select >= {} Outer NAS: {} ({:.2f}%)\".format(cut_out_nas, len(dfall2ar39), len(dfall2ar39)/original_len_2ar39*100))\n",
    "print(\"[3Ar39] Select >= {} Outer NAS: {} ({:.2f}%)\".format(cut_out_nas, len(dfall3ar39), len(dfall3ar39)/original_len_3ar39*100))\n",
    "print(\"[4Ar39] Select >= {} Outer NAS: {} ({:.2f}%)\".format(cut_out_nas, len(dfall4ar39), len(dfall4ar39)/original_len_4ar39*100))\n",
    "print(\"[5Ar39] Select >= {} Outer NAS: {} ({:.2f}%)\".format(cut_out_nas, len(dfall4ar39), len(dfall5ar39)/original_len_5ar39*100))\n",
    "print()\n",
    "print(\"[Info] Cut performed in {:.3f} seconds\".format(time.time() - init))"
   ]
  },
  {
   "cell_type": "markdown",
   "metadata": {},
   "source": [
    "# dataset composition"
   ]
  },
  {
   "cell_type": "code",
   "execution_count": 5,
   "metadata": {},
   "outputs": [
    {
     "data": {
      "text/plain": [
       "55"
      ]
     },
     "execution_count": 5,
     "metadata": {},
     "output_type": "execute_result"
    }
   ],
   "source": [
    "dfall5ar39.pedetected.max()"
   ]
  },
  {
   "cell_type": "code",
   "execution_count": 6,
   "metadata": {},
   "outputs": [
    {
     "name": "stdout",
     "output_type": "stream",
     "text": [
      "[Info] Considering 132050 Muons wt >= 4 Outer Active Slices\n",
      "[Info] Select 23334 Muons wt <= 60 PE Detected\n"
     ]
    }
   ],
   "source": [
    "max_pe_lowenergy = 60\n",
    "tot=len(dfallmu)\n",
    "tot_lemu=len(dfallmu[dfallmu.pedetected<=max_pe_lowenergy])\n",
    "print(\"[Info] Considering {} Muons wt >= {} Outer Active Slices\".format(tot, cut_out_nas))\n",
    "print(\"[Info] Select {} Muons wt <= {} PE Detected\".format(tot_lemu, max_pe_lowenergy))"
   ]
  },
  {
   "cell_type": "code",
   "execution_count": 7,
   "metadata": {},
   "outputs": [
    {
     "name": "stdout",
     "output_type": "stream",
     "text": [
      "[Muons Dataset]\n",
      "\tInstances Test Muons: 3334\n",
      "\tInstances Training Muons: 20000\n",
      "[Ar39 Dataset]\n",
      "\tInstances Test Ar39: all the rest\n",
      "\tInstances Training 1 Ar39: 10000\n",
      "\tInstances Training 2 Ar39: 5000\n",
      "\tInstances Training 3 Ar39: 2500\n",
      "\tInstances Training 4 Ar39: 1250\n",
      "\tInstances Training 5 Ar39: 1250\n"
     ]
    }
   ],
   "source": [
    "# parameters\n",
    "#ww = (ar39_weights * ar39_fprs) / (ar39_weights * ar39_fprs).sum()\n",
    "fract_1ar39 = .50\n",
    "ww = [fract_1ar39, \n",
    "      (1-fract_1ar39) * fract_1ar39, \n",
    "      (1-fract_1ar39)**2 * fract_1ar39, \n",
    "      (1-fract_1ar39)**3 * fract_1ar39, \n",
    "      (1-fract_1ar39)**4]\n",
    "      \n",
    "test = 3334    # to round the mu training data to 20K\n",
    "# compute ar39 dataset size\n",
    "print(\"[Muons Dataset]\")\n",
    "print(\"\\tInstances Test Muons: {}\".format(test))\n",
    "print(\"\\tInstances Training Muons: {}\".format(tot_lemu-test))\n",
    "\n",
    "print(\"[Ar39 Dataset]\")\n",
    "print(\"\\tInstances Test Ar39: all the rest\")\n",
    "ar39_dataset_sizes = []\n",
    "for i in range(5):\n",
    "    current = (tot_lemu-test) * ww[i]\n",
    "    print(\"\\tInstances Training {} Ar39: {:.0f}\".format(i+1, round(current)))\n",
    "    ar39_dataset_sizes.append(round(current))"
   ]
  },
  {
   "cell_type": "markdown",
   "metadata": {},
   "source": [
    "# remove test data"
   ]
  },
  {
   "cell_type": "code",
   "execution_count": 8,
   "metadata": {},
   "outputs": [
    {
     "name": "stdout",
     "output_type": "stream",
     "text": [
      "[Info] Muon Train:\t20000,\tTest 3334\n",
      "[Info] 1 Ar39 Train:\t21738,\tTest 100000\n",
      "[Info] 2 Ar39 Train:\t382387,\tTest 100000\n",
      "[Info] 3 Ar39 Train:\t820580,\tTest 100000\n",
      "[Info] 4 Ar39 Train:\t997976,\tTest 100000\n",
      "[Info] 5 Ar39 Train:\t909672,\tTest 100000\n"
     ]
    },
    {
     "name": "stderr",
     "output_type": "stream",
     "text": [
      "/home/luigi/Development/ML4NP/env/lib/python3.6/site-packages/ipykernel_launcher.py:37: SettingWithCopyWarning: \n",
      "A value is trying to be set on a copy of a slice from a DataFrame.\n",
      "Try using .loc[row_indexer,col_indexer] = value instead\n",
      "\n",
      "See the caveats in the documentation: https://pandas.pydata.org/pandas-docs/stable/user_guide/indexing.html#returning-a-view-versus-a-copy\n",
      "/home/luigi/Development/ML4NP/env/lib/python3.6/site-packages/ipykernel_launcher.py:38: SettingWithCopyWarning: \n",
      "A value is trying to be set on a copy of a slice from a DataFrame.\n",
      "Try using .loc[row_indexer,col_indexer] = value instead\n",
      "\n",
      "See the caveats in the documentation: https://pandas.pydata.org/pandas-docs/stable/user_guide/indexing.html#returning-a-view-versus-a-copy\n",
      "/home/luigi/Development/ML4NP/env/lib/python3.6/site-packages/ipykernel_launcher.py:39: SettingWithCopyWarning: \n",
      "A value is trying to be set on a copy of a slice from a DataFrame.\n",
      "Try using .loc[row_indexer,col_indexer] = value instead\n",
      "\n",
      "See the caveats in the documentation: https://pandas.pydata.org/pandas-docs/stable/user_guide/indexing.html#returning-a-view-versus-a-copy\n",
      "/home/luigi/Development/ML4NP/env/lib/python3.6/site-packages/ipykernel_launcher.py:40: SettingWithCopyWarning: \n",
      "A value is trying to be set on a copy of a slice from a DataFrame.\n",
      "Try using .loc[row_indexer,col_indexer] = value instead\n",
      "\n",
      "See the caveats in the documentation: https://pandas.pydata.org/pandas-docs/stable/user_guide/indexing.html#returning-a-view-versus-a-copy\n",
      "/home/luigi/Development/ML4NP/env/lib/python3.6/site-packages/ipykernel_launcher.py:41: SettingWithCopyWarning: \n",
      "A value is trying to be set on a copy of a slice from a DataFrame.\n",
      "Try using .loc[row_indexer,col_indexer] = value instead\n",
      "\n",
      "See the caveats in the documentation: https://pandas.pydata.org/pandas-docs/stable/user_guide/indexing.html#returning-a-view-versus-a-copy\n"
     ]
    }
   ],
   "source": [
    "# Remove test data for later eval\n",
    "n_test_mu, n_test_ar = test, 100000\n",
    "# split mu data\n",
    "dflemu = dfallmu[dfallmu.pedetected<=max_pe_lowenergy]\n",
    "id_mu = np.arange(len(dflemu))\n",
    "np.random.shuffle(id_mu)\n",
    "test_muons, train_muons = dflemu.iloc[id_mu[:n_test_mu], :], dflemu.iloc[id_mu[n_test_mu:], :]\n",
    "\n",
    "# split ar39 data\n",
    "id_ar = np.arange(len(dfall1ar39))\n",
    "np.random.shuffle(id_ar)\n",
    "test_1ar39, train_1ar39 = dfall1ar39.iloc[id_ar[:n_test_ar], :], dfall1ar39.iloc[id_ar[n_test_ar:], :]\n",
    "\n",
    "id_ar = np.arange(len(dfall2ar39))\n",
    "np.random.shuffle(id_ar)\n",
    "test_2ar39, train_2ar39 = dfall2ar39.iloc[id_ar[:n_test_ar], :], dfall2ar39.iloc[id_ar[n_test_ar:], :]\n",
    "\n",
    "id_ar = np.arange(len(dfall3ar39))\n",
    "np.random.shuffle(id_ar)\n",
    "test_3ar39, train_3ar39 = dfall3ar39.iloc[id_ar[:n_test_ar], :], dfall3ar39.iloc[id_ar[n_test_ar:], :]\n",
    "\n",
    "id_ar = np.arange(len(dfall4ar39))\n",
    "np.random.shuffle(id_ar)\n",
    "test_4ar39, train_4ar39 = dfall4ar39.iloc[id_ar[:n_test_ar], :], dfall4ar39.iloc[id_ar[n_test_ar:], :]\n",
    "\n",
    "id_ar = np.arange(len(dfall5ar39))\n",
    "np.random.shuffle(id_ar)\n",
    "test_5ar39, train_5ar39 = dfall5ar39.iloc[id_ar[:n_test_ar], :], dfall5ar39.iloc[id_ar[n_test_ar:], :]\n",
    "\n",
    "print(\"[Info] Muon Train:\\t{},\\tTest {}\".format(len(train_muons), len(test_muons)))\n",
    "print(\"[Info] 1 Ar39 Train:\\t{},\\tTest {}\".format(len(train_1ar39), len(test_1ar39)))\n",
    "print(\"[Info] 2 Ar39 Train:\\t{},\\tTest {}\".format(len(train_2ar39), len(test_2ar39)))\n",
    "print(\"[Info] 3 Ar39 Train:\\t{},\\tTest {}\".format(len(train_3ar39), len(test_3ar39)))\n",
    "print(\"[Info] 4 Ar39 Train:\\t{},\\tTest {}\".format(len(train_4ar39), len(test_4ar39)))\n",
    "print(\"[Info] 5 Ar39 Train:\\t{},\\tTest {}\".format(len(train_5ar39), len(test_5ar39)))\n",
    "\n",
    "test_1ar39[\"group\"] = 1\n",
    "test_2ar39[\"group\"] = 2\n",
    "test_3ar39[\"group\"] = 3\n",
    "test_4ar39[\"group\"] = 4\n",
    "test_5ar39[\"group\"] = 5\n",
    "test_ar39 = pd.concat([test_1ar39, test_2ar39, test_3ar39, test_4ar39, test_5ar39], axis=0)"
   ]
  },
  {
   "cell_type": "markdown",
   "metadata": {},
   "source": [
    "# undersample ar39"
   ]
  },
  {
   "cell_type": "code",
   "execution_count": 9,
   "metadata": {},
   "outputs": [],
   "source": [
    "def undersample_argon(ar39_df, number_of_instances=1000, augment_from_pe=35, augmentation_nr=5,\n",
    "                      skip_first_cols=2, nslices=72):\n",
    "    bins = np.linspace(0, ar39_df.pedetected.max()+1, ar39_df.pedetected.max()+2)\n",
    "    bin_cont, bin_edges, _ = plt.hist(ar39_df.pedetected, bins=bins, density=True, label=\"Ar39\", edgecolor='w')\n",
    "    # compute the nr of samples for each PE value,\n",
    "    # to undersample ar39 keeping the same distribution\n",
    "    avail_instances_per_pe = np.array([len(ar39_df[ar39_df.pedetected==pe]) for pe in range(0, ar39_df.pedetected.max()+1)])\n",
    "    nr_ar_samples_per_pe = np.array(np.where(np.ceil(bin_cont*number_of_instances)<=avail_instances_per_pe, np.ceil(bin_cont*number_of_instances), number_of_instances), dtype=int)\n",
    "    # Introduce a small bias on instances with \"high\" PE value\n",
    "    # to avoid to have just a few samples (e.g. 30,40,50,60 PE)\n",
    "    scaled_ar39 = pd.DataFrame()\n",
    "    for pe in range(1, ar39_df.pedetected.max()+1):\n",
    "        if pe > augment_from_pe:\n",
    "            nr_instances = augmentation_nr\n",
    "        else:\n",
    "            nr_instances = nr_ar_samples_per_pe[pe]\n",
    "        scaled_ar39 = pd.concat([scaled_ar39, ar39_df[ar39_df.pedetected==pe].iloc[:nr_instances]])\n",
    "    AA = scaled_ar39.iloc[:, skip_first_cols:skip_first_cols+nslices].to_numpy()\n",
    "    np.random.shuffle(AA)    # to avoid order by PE\n",
    "    return pd.DataFrame(AA)"
   ]
  },
  {
   "cell_type": "code",
   "execution_count": 10,
   "metadata": {},
   "outputs": [
    {
     "data": {
      "image/png": "[encoded data removed]",
      "text/plain": [
       "<Figure size 1800x1080 with 4 Axes>"
      ]
     },
     "metadata": {
      "needs_background": "light"
     },
     "output_type": "display_data"
    },
    {
     "name": "stdout",
     "output_type": "stream",
     "text": [
      "[Info] Undersample 1 Ar39: 10012 instances\n",
      "[Info] Undersample 2 Ar39: 5018 instances\n",
      "[Info] Undersample 3 Ar39: 2522 instances\n",
      "[Info] Undersample 4 Ar39: 1276 instances\n",
      "[Info] Undersample 5 Ar39: 1275 instances\n",
      "[Info] Total Ar39 Training data: 20103 instances\n"
     ]
    }
   ],
   "source": [
    "skip_first_cols, n_inner_slices, n_outer_slices = 3, 12, 20\n",
    "\n",
    "sampled_1ar39 = undersample_argon(train_1ar39, ar39_dataset_sizes[0], augment_from_pe=50, augmentation_nr=10, skip_first_cols=skip_first_cols, nslices=n_inner_slices+n_outer_slices)\n",
    "sampled_2ar39 = undersample_argon(train_2ar39, ar39_dataset_sizes[1], augment_from_pe=50, augmentation_nr=10, skip_first_cols=skip_first_cols, nslices=n_inner_slices+n_outer_slices)\n",
    "sampled_3ar39 = undersample_argon(train_3ar39, ar39_dataset_sizes[2], augment_from_pe=50, augmentation_nr=10, skip_first_cols=skip_first_cols, nslices=n_inner_slices+n_outer_slices)\n",
    "sampled_4ar39 = undersample_argon(train_4ar39, ar39_dataset_sizes[3], augment_from_pe=50, augmentation_nr=10, skip_first_cols=skip_first_cols, nslices=n_inner_slices+n_outer_slices)\n",
    "sampled_5ar39 = undersample_argon(train_5ar39, ar39_dataset_sizes[4], augment_from_pe=50, augmentation_nr=10, skip_first_cols=skip_first_cols, nslices=n_inner_slices+n_outer_slices)\n",
    "\n",
    "plt.cla()\n",
    "bins = np.linspace(0, 50, 51)\n",
    "alpha = 0.75\n",
    "\n",
    "plt.subplot(4, 1, 1)\n",
    "plt.title(\"1 Ar39 - Compare Undersampling Procedure\")\n",
    "plt.xlabel(\"Number of PE Detected\")\n",
    "plt.ylabel(\"Number of Events\")\n",
    "plt.hist(train_1ar39.pedetected, bins=bins, label=\"Whole Training Data\", density=False, alpha=alpha)\n",
    "plt.hist(sampled_1ar39.sum(axis=1), bins=np.linspace(0, 50, 51), label=\"Undersampled Data\", density=False, alpha=alpha)\n",
    "plt.yscale(\"log\")\n",
    "\n",
    "plt.subplot(5, 1, 2)\n",
    "plt.title(\"2 Ar39 - Compare Undersampling Procedure\")\n",
    "plt.xlabel(\"Number of PE Detected\")\n",
    "plt.ylabel(\"Number of Events\")\n",
    "plt.yscale(\"log\")\n",
    "plt.hist(train_2ar39.pedetected, bins=bins, label=\"Whole Training Data\", density=False, alpha=alpha)\n",
    "plt.hist(sampled_2ar39.sum(axis=1), bins=bins, label=\"Undersampled Data\", density=False, alpha=alpha)\n",
    "\n",
    "plt.subplot(5, 1, 3)\n",
    "plt.title(\"3 Ar39 - Compare Undersampling Procedure\")\n",
    "plt.xlabel(\"Number of PE Detected\")\n",
    "plt.ylabel(\"Number of Events\")\n",
    "plt.yscale(\"log\")\n",
    "plt.hist(train_3ar39.pedetected, bins=bins, label=\"Whole Training Data\", density=False, alpha=alpha)\n",
    "plt.hist(sampled_3ar39.sum(axis=1), bins=bins, label=\"Undersampled Data\", density=False, alpha=alpha)\n",
    "\n",
    "plt.subplot(5, 1, 4)\n",
    "plt.title(\"4 Ar39 - Compare Undersampling Procedure\")\n",
    "plt.xlabel(\"Number of PE Detected\")\n",
    "plt.ylabel(\"Number of Events\")\n",
    "plt.yscale(\"log\")\n",
    "plt.hist(train_4ar39.pedetected, bins=bins, label=\"Whole Training Data\", density=False, alpha=alpha)\n",
    "plt.hist(sampled_4ar39.sum(axis=1), bins=bins, label=\"Undersampled Data\", density=False, alpha=alpha)\n",
    "\n",
    "plt.subplot(5, 1, 5)\n",
    "plt.title(\"5 Ar39 - Compare Undersampling Procedure\")\n",
    "plt.xlabel(\"Number of PE Detected\")\n",
    "plt.ylabel(\"Number of Events\")\n",
    "plt.yscale(\"log\")\n",
    "plt.hist(train_5ar39.pedetected, bins=bins, label=\"Whole Training Data\", density=False, alpha=alpha)\n",
    "plt.hist(sampled_5ar39.sum(axis=1), bins=bins, label=\"Undersampled Data\", density=False, alpha=alpha)\n",
    "\n",
    "plt.show()\n",
    "\n",
    "train_15ar39 = pd.concat([sampled_1ar39, sampled_2ar39, sampled_3ar39, sampled_4ar39, sampled_5ar39], axis=0)\n",
    "print(\"[Info] Undersample 1 Ar39: {} instances\".format(sampled_1ar39.shape[0]))\n",
    "print(\"[Info] Undersample 2 Ar39: {} instances\".format(sampled_2ar39.shape[0]))\n",
    "print(\"[Info] Undersample 3 Ar39: {} instances\".format(sampled_3ar39.shape[0]))\n",
    "print(\"[Info] Undersample 4 Ar39: {} instances\".format(sampled_4ar39.shape[0]))\n",
    "print(\"[Info] Undersample 5 Ar39: {} instances\".format(sampled_5ar39.shape[0]))\n",
    "print(\"[Info] Total Ar39 Training data: {} instances\".format(train_15ar39.shape[0]))"
   ]
  },
  {
   "cell_type": "markdown",
   "metadata": {},
   "source": [
    "# compute features"
   ]
  },
  {
   "cell_type": "code",
   "execution_count": 11,
   "metadata": {},
   "outputs": [],
   "source": [
    "# Create Features\n",
    "def pe_detected(row):\n",
    "    return np.sum(row.to_numpy())\n",
    "\n",
    "def nr_active_slices(row):\n",
    "    return np.nonzero(row.to_numpy())[0].shape[0]\n",
    "\n",
    "def mean_npe(row):\n",
    "    return np.mean(row.to_numpy())\n",
    "\n",
    "def mean_npe_active(row):\n",
    "    rownp = row.to_numpy()\n",
    "    rownonzero = np.nonzero(rownp)[0]\n",
    "    return np.mean(rownp[rownonzero]) if rownonzero.shape[0]>0 else -1\n",
    "\n",
    "def std_npe(row):\n",
    "    return np.std(row.to_numpy())\n",
    "\n",
    "def std_npe_active(row):\n",
    "    rownp = row.to_numpy()\n",
    "    rownonzero = np.nonzero(rownp)[0]\n",
    "    return np.std(rownp[rownonzero]) if rownonzero.shape[0]>0 else -1\n",
    "\n",
    "def range_detections(row):\n",
    "    rownp = row.to_numpy()\n",
    "    rownonzero = np.nonzero(rownp)[0]\n",
    "    return rownonzero[-1] - rownonzero[0] + 1 if rownonzero.shape[0]>0 else -1\n",
    "\n",
    "def spatial_var(row):\n",
    "    rownp = row.to_numpy()\n",
    "    ids = np.repeat(np.argwhere(rownp>0), rownp[rownp>0])\n",
    "    return np.var(ids) if ids.shape[0]>0 else -1\n",
    "\n",
    "def spatial_std(row):\n",
    "    rownp = row.to_numpy()\n",
    "    ids = np.repeat(np.argwhere(rownp>0), rownp[rownp>0])\n",
    "    return np.std(ids) if ids.shape[0]>0 else -1"
   ]
  },
  {
   "cell_type": "code",
   "execution_count": 12,
   "metadata": {},
   "outputs": [
    {
     "name": "stdout",
     "output_type": "stream",
     "text": [
      "Compute Mu Inner features: 3.004 sec\n",
      "Compute Mu Outer features: 4.439 sec\n",
      "Compute combined features: 0.004 sec\n",
      "Compute Ar39 Inner features: 3.919 sec\n",
      "Compute Ar39 Outer features: 4.853 sec\n",
      "Compute combined features: 0.005 sec\n"
     ]
    }
   ],
   "source": [
    "# Compute features muon\n",
    "import time\n",
    "\n",
    "init = time.time()\n",
    "df_mu_feat = pd.DataFrame()\n",
    "df_mu_feat[\"PEDetected_inner\"] = train_muons.iloc[:, 3:3+n_inner_slices].apply(lambda row: pe_detected(row), axis=1)\n",
    "df_mu_feat[\"NActiveSlices_inner\"] = train_muons.iloc[:, 3:3+n_inner_slices].apply(lambda row: nr_active_slices(row), axis=1)\n",
    "df_mu_feat[\"MeanNPEActive_inner\"] = train_muons.iloc[:, 3:3+n_inner_slices].apply(lambda row: mean_npe_active(row), axis=1)\n",
    "df_mu_feat[\"StdNPEActive_inner\"] = train_muons.iloc[:, 3:3+n_inner_slices].apply(lambda row: std_npe_active(row), axis=1)\n",
    "df_mu_feat[\"SpatialRange_inner\"] = train_muons.iloc[:, 3:3+n_inner_slices].apply(lambda row: range_detections(row), axis=1)\n",
    "df_mu_feat[\"SpatialVar_inner\"] = train_muons.iloc[:, 3:3+n_inner_slices].apply(lambda row: spatial_var(row), axis=1)\n",
    "df_mu_feat[\"SpatialStd_inner\"] = train_muons.iloc[:, 3:3+n_inner_slices].apply(lambda row: spatial_std(row), axis=1)\n",
    "print(\"Compute Mu Inner features: {:.3f} sec\".format(time.time() - init))\n",
    "init = time.time()\n",
    "df_mu_feat[\"PEDetected_outer\"] = train_muons.iloc[:, 3+n_inner_slices:3+n_inner_slices+n_outer_slices].apply(lambda row: pe_detected(row), axis=1)\n",
    "df_mu_feat[\"NActiveSlices_outer\"] = train_muons.iloc[:, 3+n_inner_slices:3+n_inner_slices+n_outer_slices].apply(lambda row: nr_active_slices(row), axis=1)\n",
    "df_mu_feat[\"MeanNPEActive_outer\"] = train_muons.iloc[:, 3+n_inner_slices:3+n_inner_slices+n_outer_slices].apply(lambda row: mean_npe_active(row), axis=1)\n",
    "df_mu_feat[\"StdNPEActive_outer\"] = train_muons.iloc[:, 3+n_inner_slices:3+n_inner_slices+n_outer_slices].apply(lambda row: std_npe_active(row), axis=1)\n",
    "df_mu_feat[\"SpatialRange_outer\"] = train_muons.iloc[:, 3+n_inner_slices:3+n_inner_slices+n_outer_slices].apply(lambda row: range_detections(row), axis=1)\n",
    "df_mu_feat[\"SpatialVar_outer\"] = train_muons.iloc[:, 3+n_inner_slices:3+n_inner_slices+n_outer_slices].apply(lambda row: spatial_var(row), axis=1)\n",
    "df_mu_feat[\"SpatialStd_outer\"] = train_muons.iloc[:, 3+n_inner_slices:3+n_inner_slices+n_outer_slices].apply(lambda row: spatial_std(row), axis=1)\n",
    "print(\"Compute Mu Outer features: {:.3f} sec\".format(time.time() - init))\n",
    "init = time.time()\n",
    "df_mu_feat[\"PEDetected_tot\"] = df_mu_feat[\"PEDetected_inner\"] + df_mu_feat[\"PEDetected_outer\"]\n",
    "df_mu_feat[\"NActiveSlices_tot\"] = df_mu_feat[\"NActiveSlices_inner\"] + df_mu_feat[\"NActiveSlices_outer\"]\n",
    "df_mu_feat[\"MeanNPEActive_tot\"] = df_mu_feat[\"PEDetected_tot\"] / df_mu_feat[\"NActiveSlices_tot\"]\n",
    "df_mu_feat = df_mu_feat.fillna(-1)\n",
    "print(\"Compute combined features: {:.3f} sec\".format(time.time() - init))\n",
    "\n",
    "init = time.time()\n",
    "df_ar39_feat = pd.DataFrame()\n",
    "df_ar39_feat[\"PEDetected_inner\"] = train_15ar39.iloc[:, 3:3+n_inner_slices].apply(lambda row: pe_detected(row), axis=1)\n",
    "df_ar39_feat[\"NActiveSlices_inner\"] = train_15ar39.iloc[:, 3:3+n_inner_slices].apply(lambda row: nr_active_slices(row), axis=1)\n",
    "df_ar39_feat[\"MeanNPEActive_inner\"] = train_15ar39.iloc[:, 3:3+n_inner_slices].apply(lambda row: mean_npe_active(row), axis=1)\n",
    "df_ar39_feat[\"StdNPEActive_inner\"] = train_15ar39.iloc[:, 3:3+n_inner_slices].apply(lambda row: std_npe_active(row), axis=1)\n",
    "df_ar39_feat[\"SpatialRange_inner\"] = train_15ar39.iloc[:, 3:3+n_inner_slices].apply(lambda row: range_detections(row), axis=1)\n",
    "df_ar39_feat[\"SpatialVar_inner\"] = train_15ar39.iloc[:, 3:3+n_inner_slices].apply(lambda row: spatial_var(row), axis=1)\n",
    "df_ar39_feat[\"SpatialStd_inner\"] = train_15ar39.iloc[:, 3:3+n_inner_slices].apply(lambda row: spatial_std(row), axis=1)\n",
    "print(\"Compute Ar39 Inner features: {:.3f} sec\".format(time.time() - init))\n",
    "init = time.time()\n",
    "df_ar39_feat[\"PEDetected_outer\"] = train_15ar39.iloc[:, 3+n_inner_slices:3+n_inner_slices+n_outer_slices].apply(lambda row: pe_detected(row), axis=1)\n",
    "df_ar39_feat[\"NActiveSlices_outer\"] = train_15ar39.iloc[:, 3+n_inner_slices:3+n_inner_slices+n_outer_slices].apply(lambda row: nr_active_slices(row), axis=1)\n",
    "df_ar39_feat[\"MeanNPEActive_outer\"] = train_15ar39.iloc[:, 3+n_inner_slices:3+n_inner_slices+n_outer_slices].apply(lambda row: mean_npe_active(row), axis=1)\n",
    "df_ar39_feat[\"StdNPEActive_outer\"] = train_15ar39.iloc[:, 3+n_inner_slices:3+n_inner_slices+n_outer_slices].apply(lambda row: std_npe_active(row), axis=1)\n",
    "df_ar39_feat[\"SpatialRange_outer\"] = train_15ar39.iloc[:, 3+n_inner_slices:3+n_inner_slices+n_outer_slices].apply(lambda row: range_detections(row), axis=1)\n",
    "df_ar39_feat[\"SpatialVar_outer\"] = train_15ar39.iloc[:, 3+n_inner_slices:3+n_inner_slices+n_outer_slices].apply(lambda row: spatial_var(row), axis=1)\n",
    "df_ar39_feat[\"SpatialStd_outer\"] = train_15ar39.iloc[:, 3+n_inner_slices:3+n_inner_slices+n_outer_slices].apply(lambda row: spatial_std(row), axis=1)\n",
    "print(\"Compute Ar39 Outer features: {:.3f} sec\".format(time.time() - init))\n",
    "init = time.time()\n",
    "df_ar39_feat[\"PEDetected_tot\"] = df_ar39_feat[\"PEDetected_inner\"] + df_ar39_feat[\"PEDetected_outer\"]\n",
    "df_ar39_feat[\"NActiveSlices_tot\"] = df_ar39_feat[\"NActiveSlices_inner\"] + df_ar39_feat[\"NActiveSlices_outer\"]\n",
    "df_ar39_feat[\"MeanNPEActive_tot\"] = df_ar39_feat[\"PEDetected_tot\"] / df_ar39_feat[\"NActiveSlices_tot\"]\n",
    "df_ar39_feat = df_ar39_feat.fillna(-1)\n",
    "print(\"Compute combined features: {:.3f} sec\".format(time.time() - init))"
   ]
  },
  {
   "cell_type": "markdown",
   "metadata": {},
   "source": [
    "# feature selection"
   ]
  },
  {
   "cell_type": "code",
   "execution_count": 13,
   "metadata": {},
   "outputs": [],
   "source": [
    "from sklearn import tree\n",
    "from sklearn.tree import DecisionTreeClassifier\n",
    "\n",
    "# Prepare data for training\n",
    "df_mu_feat[\"y\"] = 1\n",
    "df_ar39_feat[\"y\"] = 0\n",
    "data = pd.concat([df_mu_feat, df_ar39_feat], axis=0)\n",
    "X, y = data.iloc[:, :-1], data.iloc[:, -1]\n",
    "X = np.array(X)\n",
    "y = np.array(y)"
   ]
  },
  {
   "cell_type": "code",
   "execution_count": 14,
   "metadata": {},
   "outputs": [
    {
     "name": "stdout",
     "output_type": "stream",
     "text": [
      "Feature: PEDetected_outer =>\tScore: 0.56642\n",
      "Feature: SpatialStd_inner =>\tScore: 0.14828\n",
      "Feature: SpatialRange_outer =>\tScore: 0.06926\n",
      "Feature: SpatialStd_outer =>\tScore: 0.05592\n",
      "Feature: PEDetected_tot =>\tScore: 0.04992\n",
      "Feature: SpatialVar_outer =>\tScore: 0.03287\n",
      "Feature: SpatialVar_inner =>\tScore: 0.02853\n",
      "Feature: StdNPEActive_outer =>\tScore: 0.01557\n",
      "Feature: PEDetected_inner =>\tScore: 0.00798\n",
      "Feature: MeanNPEActive_tot =>\tScore: 0.00697\n",
      "Feature: MeanNPEActive_outer =>\tScore: 0.00454\n",
      "Feature: NActiveSlices_tot =>\tScore: 0.00409\n",
      "Feature: StdNPEActive_inner =>\tScore: 0.00255\n",
      "Feature: NActiveSlices_outer =>\tScore: 0.00229\n",
      "Feature: SpatialRange_inner =>\tScore: 0.00195\n",
      "Feature: MeanNPEActive_inner =>\tScore: 0.00160\n",
      "Feature: NActiveSlices_inner =>\tScore: 0.00124\n"
     ]
    }
   ],
   "source": [
    "# Train final model\n",
    "final_clf = DecisionTreeClassifier()\n",
    "final_clf.fit(X, y)\n",
    "\n",
    "full_feature_names = df_ar39_feat.columns[:-1]\n",
    "short_feature_names = full_feature_names\n",
    "# get importance\n",
    "importances = final_clf.feature_importances_\n",
    "\n",
    "# summarize feature importance\n",
    "for imp_id in np.argsort(importances)[::-1]:\n",
    "    if(importances[imp_id]<=0): \n",
    "        continue\n",
    "    print('Feature: %s =>\\tScore: %.5f' % (short_feature_names[imp_id], importances[imp_id]))"
   ]
  },
  {
   "cell_type": "code",
   "execution_count": 15,
   "metadata": {},
   "outputs": [],
   "source": [
    "my_features = [\"PEDetected_outer\", \"NActiveSlices_outer\", \"MeanNPEActive_outer\", \"SpatialVar_outer\", \"SpatialRange_outer\", \n",
    "               \"PEDetected_inner\", \"NActiveSlices_inner\", \"MeanNPEActive_inner\", \"SpatialVar_inner\", \"SpatialRange_inner\",\n",
    "               \"PEDetected_tot\", \"NActiveSlices_tot\", \"MeanNPEActive_tot\"]"
   ]
  },
  {
   "cell_type": "markdown",
   "metadata": {},
   "source": [
    "# train bonsai decision treees"
   ]
  },
  {
   "cell_type": "code",
   "execution_count": 16,
   "metadata": {},
   "outputs": [],
   "source": [
    "from sklearn.ensemble import RandomForestClassifier\n",
    "from sklearn.model_selection import RandomizedSearchCV, GridSearchCV, cross_val_score\n",
    "from sklearn.metrics import confusion_matrix as cv"
   ]
  },
  {
   "cell_type": "code",
   "execution_count": 104,
   "metadata": {},
   "outputs": [],
   "source": [
    "init = time.time()\n",
    "\n",
    "# Prepare data for training\n",
    "df_mu_feat[\"y\"] = 1\n",
    "df_ar39_feat[\"y\"] = 0\n",
    "data = pd.concat([df_mu_feat, df_ar39_feat], axis=0)\n",
    "X, y = data.loc[:, my_features], data.iloc[:, -1]\n",
    "X = np.array(X)\n",
    "y = np.array(y)"
   ]
  },
  {
   "cell_type": "code",
   "execution_count": 44,
   "metadata": {},
   "outputs": [
    {
     "name": "stdout",
     "output_type": "stream",
     "text": [
      "[Info] Randomized Search\n",
      "Fitting 5 folds for each of 1000 candidates, totalling 5000 fits\n"
     ]
    },
    {
     "name": "stderr",
     "output_type": "stream",
     "text": [
      "[Parallel(n_jobs=-1)]: Using backend LokyBackend with 4 concurrent workers.\n",
      "[Parallel(n_jobs=-1)]: Done  33 tasks      | elapsed:    4.4s\n",
      "[Parallel(n_jobs=-1)]: Done 154 tasks      | elapsed:   19.7s\n",
      "[Parallel(n_jobs=-1)]: Done 357 tasks      | elapsed:   49.0s\n",
      "[Parallel(n_jobs=-1)]: Done 640 tasks      | elapsed:  1.4min\n",
      "[Parallel(n_jobs=-1)]: Done 1005 tasks      | elapsed:  2.1min\n",
      "[Parallel(n_jobs=-1)]: Done 1450 tasks      | elapsed:  2.9min\n",
      "[Parallel(n_jobs=-1)]: Done 1977 tasks      | elapsed:  3.9min\n",
      "[Parallel(n_jobs=-1)]: Done 2584 tasks      | elapsed:  5.0min\n",
      "[Parallel(n_jobs=-1)]: Done 3273 tasks      | elapsed:  6.2min\n",
      "[Parallel(n_jobs=-1)]: Done 4042 tasks      | elapsed:  7.5min\n",
      "[Parallel(n_jobs=-1)]: Done 4893 tasks      | elapsed:  9.2min\n",
      "[Parallel(n_jobs=-1)]: Done 5000 out of 5000 | elapsed:  9.4min finished\n"
     ]
    },
    {
     "name": "stdout",
     "output_type": "stream",
     "text": [
      "[Time] Random Search: 1000 iterations, time 563.786\n",
      "[Results]\n",
      "{'n_estimators': 11, 'min_samples_split': 40, 'min_samples_leaf': 106, 'max_features': 'auto', 'max_depth': 5, 'bootstrap': False}\n",
      "0.9012285642955321\n"
     ]
    }
   ],
   "source": [
    "rf_random_grid = {'n_estimators': range(10, 30),\n",
    "                  'max_features': ['auto', 'sqrt'],\n",
    "                  'max_depth': range(1, 6),\n",
    "                  'min_samples_split': range(2, 501),\n",
    "                  'min_samples_leaf':  range(100, 1000),\n",
    "                  'bootstrap': [True, False]\n",
    "                 }\n",
    "\n",
    "score = \"precision\"\n",
    "n_rnd_iters = 1000\n",
    "print(\"[Info] Randomized Search\")\n",
    "\n",
    "rf = RandomForestClassifier()\n",
    "rf_random = RandomizedSearchCV(estimator=rf, param_distributions=rf_random_grid, \n",
    "                               n_iter=n_rnd_iters, cv=5, n_jobs=-1, verbose=2)\n",
    "# random search\n",
    "init = time.time()\n",
    "rf_random.fit(X, y)\n",
    "print(\"[Time] Random Search: {} iterations, time {:.3f}\".format(n_rnd_iters, time.time() - init))\n",
    "print(\"[Results]\")\n",
    "print(rf_random.best_params_)\n",
    "print(rf_random.best_score_)"
   ]
  },
  {
   "cell_type": "markdown",
   "metadata": {},
   "source": [
    "# fine tune wt grid-search"
   ]
  },
  {
   "cell_type": "code",
   "execution_count": 47,
   "metadata": {},
   "outputs": [
    {
     "name": "stdout",
     "output_type": "stream",
     "text": [
      "[Info] Grid Search\n",
      "Fitting 5 folds for each of 1512 candidates, totalling 7560 fits\n"
     ]
    },
    {
     "name": "stderr",
     "output_type": "stream",
     "text": [
      "[Parallel(n_jobs=-1)]: Using backend LokyBackend with 4 concurrent workers.\n",
      "[Parallel(n_jobs=-1)]: Done  33 tasks      | elapsed:    3.1s\n",
      "[Parallel(n_jobs=-1)]: Done 154 tasks      | elapsed:   11.8s\n",
      "[Parallel(n_jobs=-1)]: Done 357 tasks      | elapsed:   27.6s\n",
      "[Parallel(n_jobs=-1)]: Done 640 tasks      | elapsed:   48.8s\n",
      "[Parallel(n_jobs=-1)]: Done 1005 tasks      | elapsed:  1.3min\n",
      "[Parallel(n_jobs=-1)]: Done 1450 tasks      | elapsed:  1.8min\n",
      "[Parallel(n_jobs=-1)]: Done 1977 tasks      | elapsed:  2.6min\n",
      "[Parallel(n_jobs=-1)]: Done 2584 tasks      | elapsed:  3.4min\n",
      "[Parallel(n_jobs=-1)]: Done 3273 tasks      | elapsed:  4.4min\n",
      "[Parallel(n_jobs=-1)]: Done 4042 tasks      | elapsed:  5.4min\n",
      "[Parallel(n_jobs=-1)]: Done 4893 tasks      | elapsed:  6.5min\n",
      "[Parallel(n_jobs=-1)]: Done 5824 tasks      | elapsed:  8.1min\n",
      "[Parallel(n_jobs=-1)]: Done 6837 tasks      | elapsed: 10.0min\n",
      "[Parallel(n_jobs=-1)]: Done 7560 out of 7560 | elapsed: 11.4min finished\n"
     ]
    },
    {
     "name": "stdout",
     "output_type": "stream",
     "text": [
      "[Time] Grid Search: 1000 iterations, time 685.873\n",
      "[Results]\n",
      "{'bootstrap': False, 'max_depth': 5, 'max_features': 'auto', 'min_samples_leaf': 100, 'min_samples_split': 100, 'n_estimators': 10}\n",
      "0.9044954593941525\n"
     ]
    }
   ],
   "source": [
    "init = time.time()\n",
    "\n",
    "rf_random_grid = {'n_estimators': range(10, 16),\n",
    "                  'max_features': ['auto'],\n",
    "                  'max_depth': range(3, 6),\n",
    "                  'min_samples_split': range(50, 201, 25),\n",
    "                  'min_samples_leaf':  range(100, 151, 10),\n",
    "                  'bootstrap': [True, False]\n",
    "                 }\n",
    "\n",
    "score = \"precision\"\n",
    "n_rnd_iters = 1000\n",
    "print(\"[Info] Grid Search\")\n",
    "\n",
    "rf = RandomForestClassifier()\n",
    "rf_random = GridSearchCV(estimator=rf, param_grid=rf_random_grid, \n",
    "                         cv=5, n_jobs=-1, verbose=2)\n",
    "# random search\n",
    "init = time.time()\n",
    "rf_random.fit(X, y)\n",
    "print(\"[Time] Grid Search: {} iterations, time {:.3f}\".format(n_rnd_iters, time.time() - init))\n",
    "print(\"[Results]\")\n",
    "print(rf_random.best_params_)\n",
    "print(rf_random.best_score_)"
   ]
  },
  {
   "cell_type": "markdown",
   "metadata": {},
   "source": [
    "# train final model"
   ]
  },
  {
   "cell_type": "code",
   "execution_count": 105,
   "metadata": {},
   "outputs": [
    {
     "data": {
      "text/plain": [
       "RandomForestClassifier(bootstrap=False, max_depth=5, min_samples_leaf=100,\n",
       "                       min_samples_split=100, n_estimators=10)"
      ]
     },
     "execution_count": 105,
     "metadata": {},
     "output_type": "execute_result"
    }
   ],
   "source": [
    "final_clf = RandomForestClassifier(n_estimators=10,\n",
    "                                   max_depth=5,\n",
    "                                   max_features='auto',\n",
    "                                   min_samples_split=100,\n",
    "                                   min_samples_leaf=100,\n",
    "                                   bootstrap=False)\n",
    "final_clf.fit(X, y)"
   ]
  },
  {
   "cell_type": "code",
   "execution_count": 106,
   "metadata": {},
   "outputs": [
    {
     "data": {
      "text/plain": [
       "['rf_10est_5depth.joblib']"
      ]
     },
     "execution_count": 106,
     "metadata": {},
     "output_type": "execute_result"
    }
   ],
   "source": [
    "from joblib import dump\n",
    "\n",
    "dump(final_clf, \"rf_10est_5depth.joblib\")"
   ]
  },
  {
   "cell_type": "code",
   "execution_count": 22,
   "metadata": {},
   "outputs": [],
   "source": [
    "import tensorflow as tf\n",
    "\n",
    "cnn = tf.keras.models.load_model(os.path.join(\"..\", \"mu_vs_pileups\", \"models\", \"model_20200911-111046\", \"model.oncerepeat1.epoch02-valacc0.91889\"))"
   ]
  },
  {
   "cell_type": "code",
   "execution_count": 23,
   "metadata": {},
   "outputs": [
    {
     "name": "stdout",
     "output_type": "stream",
     "text": [
      "Model: \"sequential\"\n",
      "_________________________________________________________________\n",
      "Layer (type)                 Output Shape              Param #   \n",
      "=================================================================\n",
      "conv1d (Conv1D)              (None, 27, 64)            448       \n",
      "_________________________________________________________________\n",
      "conv1d_1 (Conv1D)            (None, 25, 32)            6176      \n",
      "_________________________________________________________________\n",
      "max_pooling1d (MaxPooling1D) (None, 8, 32)             0         \n",
      "_________________________________________________________________\n",
      "conv1d_2 (Conv1D)            (None, 6, 32)             3104      \n",
      "_________________________________________________________________\n",
      "max_pooling1d_1 (MaxPooling1 (None, 2, 32)             0         \n",
      "_________________________________________________________________\n",
      "flatten (Flatten)            (None, 64)                0         \n",
      "_________________________________________________________________\n",
      "dense (Dense)                (None, 32)                2080      \n",
      "_________________________________________________________________\n",
      "dense_1 (Dense)              (None, 16)                528       \n",
      "_________________________________________________________________\n",
      "dense_2 (Dense)              (None, 1)                 17        \n",
      "=================================================================\n",
      "Total params: 12,353\n",
      "Trainable params: 12,353\n",
      "Non-trainable params: 0\n",
      "_________________________________________________________________\n"
     ]
    }
   ],
   "source": [
    "cnn.summary()"
   ]
  },
  {
   "cell_type": "markdown",
   "metadata": {},
   "source": [
    "# test cnn on unseen data"
   ]
  },
  {
   "cell_type": "code",
   "execution_count": 58,
   "metadata": {},
   "outputs": [],
   "source": [
    "from sklearn.metrics import accuracy_score\n",
    "from sklearn.metrics import precision_score\n",
    "from sklearn.metrics import recall_score\n",
    "from sklearn.metrics import f1_score\n",
    "from sklearn.metrics import confusion_matrix as cv"
   ]
  },
  {
   "cell_type": "code",
   "execution_count": 71,
   "metadata": {},
   "outputs": [
    {
     "name": "stderr",
     "output_type": "stream",
     "text": [
      "/home/luigi/Development/ML4NP/env/lib/python3.6/site-packages/ipykernel_launcher.py:3: SettingWithCopyWarning: \n",
      "A value is trying to be set on a copy of a slice from a DataFrame.\n",
      "Try using .loc[row_indexer,col_indexer] = value instead\n",
      "\n",
      "See the caveats in the documentation: https://pandas.pydata.org/pandas-docs/stable/user_guide/indexing.html#returning-a-view-versus-a-copy\n",
      "  This is separate from the ipykernel package so we can avoid doing imports until\n",
      "/home/luigi/Development/ML4NP/env/lib/python3.6/site-packages/ipykernel_launcher.py:4: SettingWithCopyWarning: \n",
      "A value is trying to be set on a copy of a slice from a DataFrame.\n",
      "Try using .loc[row_indexer,col_indexer] = value instead\n",
      "\n",
      "See the caveats in the documentation: https://pandas.pydata.org/pandas-docs/stable/user_guide/indexing.html#returning-a-view-versus-a-copy\n",
      "  after removing the cwd from sys.path.\n"
     ]
    }
   ],
   "source": [
    "mu_raw_test = test_muons\n",
    "ar39_raw_test = test_ar39\n",
    "mu_raw_test[\"y\"] = 1\n",
    "mu_raw_test[\"group\"] = 0\n",
    "ar39_raw_test[\"y\"] = 0\n",
    "\n",
    "raw_test_data = pd.concat([mu_raw_test, ar39_raw_test], axis=0)\n",
    "X, y = raw_test_data.iloc[:, 3:3+n_inner_slices+n_outer_slices], raw_test_data.iloc[:, -2]\n",
    "X = np.array(X)\n",
    "y = np.array(y)"
   ]
  },
  {
   "cell_type": "code",
   "execution_count": 72,
   "metadata": {},
   "outputs": [],
   "source": [
    "X = tf.expand_dims(X, axis=-1)"
   ]
  },
  {
   "cell_type": "code",
   "execution_count": 66,
   "metadata": {},
   "outputs": [
    {
     "name": "stdout",
     "output_type": "stream",
     "text": [
      "[Info] CNN Predict in 16.604 seconds\n"
     ]
    }
   ],
   "source": [
    "init = time.time()\n",
    "cnn_y_pred_proba = cnn.predict_proba(X)\n",
    "cnn_y_pred = tf.where(cnn_y_pred_proba>.50, 1, 0)\n",
    "print(\"[Info] CNN Predict in {:.3f} seconds\".format(time.time() - init))"
   ]
  },
  {
   "cell_type": "code",
   "execution_count": 75,
   "metadata": {},
   "outputs": [
    {
     "name": "stdout",
     "output_type": "stream",
     "text": [
      "[Result] Test(3334 Mu, 500000 Ar):\n",
      "Accuracy: 0.649, Precision: 0.018, Recall: 0.968, F1: 0.035, My Score: 0.649\n",
      "\n",
      "[Result] Conf. Matrix: TN: 323608, FP: 176392, FN: 106, TP: 3228 | TPR: 96.82%, FPR: 35.28%\n",
      "\n"
     ]
    }
   ],
   "source": [
    "accuracy = accuracy_score(y, cnn_y_pred)\n",
    "precision = precision_score(y, cnn_y_pred)\n",
    "recall = recall_score(y, cnn_y_pred)\n",
    "f1 = f1_score(y, cnn_y_pred)\n",
    "my_s = accuracy_score(y, cnn_y_pred)\n",
    "tn, fp, fn, tp = cv(y, cnn_y_pred).ravel()\n",
    "tpr, fpr = recall*100, fp/(fp+tn)*100\n",
    "\n",
    "result_template  = \"[Result] {}:\\nAccuracy: {:.3f}, Precision: {:.3f}, Recall: {:.3f}, F1: {:.3f}, My Score: {:.3f}\\n\"\n",
    "cm_template  =     \"[Result] Conf. Matrix: TN: {}, FP: {}, FN: {}, TP: {} | TPR: {:.2f}%, FPR: {:.2f}%\\n\"\n",
    "\n",
    "\n",
    "print(result_template.format(\"Test({} Mu, {} Ar)\".format(len(mu_test_feat), len(ar_test_feat)),\n",
    "                             accuracy, precision, recall, f1, my_s))    \n",
    "print(cm_template.format(tn, fp, fn, tp, tpr, fpr))    "
   ]
  },
  {
   "cell_type": "code",
   "execution_count": 76,
   "metadata": {},
   "outputs": [],
   "source": [
    "raw_test_data[\"cnn_y_pred\"] = cnn_y_pred_proba"
   ]
  },
  {
   "cell_type": "markdown",
   "metadata": {},
   "source": [
    "# test model on unseen data"
   ]
  },
  {
   "cell_type": "code",
   "execution_count": 19,
   "metadata": {},
   "outputs": [
    {
     "name": "stdout",
     "output_type": "stream",
     "text": [
      "Compute Mu Inner features: 0.558 sec\n",
      "Compute Mu Inner features: 0.795 sec\n",
      "Compute Mu Combined features: 0.798 sec\n",
      "Compute Ar features: 88.225 sec\n",
      "Compute Ar features: 112.593 sec\n",
      "Compute Ar Combined features: 112.627 sec\n"
     ]
    }
   ],
   "source": [
    "# Prepare data\n",
    "init = time.time()\n",
    "\n",
    "init = time.time()\n",
    "mu_test_feat = pd.DataFrame()\n",
    "mu_test_feat[\"PEDetected_inner\"] = test_muons.iloc[:, 3:3+n_inner_slices].apply(lambda row: pe_detected(row), axis=1)\n",
    "mu_test_feat[\"NActiveSlices_inner\"] = test_muons.iloc[:, 3:3+n_inner_slices].apply(lambda row: nr_active_slices(row), axis=1)\n",
    "mu_test_feat[\"MeanNPEActive_inner\"] = test_muons.iloc[:, 3:3+n_inner_slices].apply(lambda row: mean_npe_active(row), axis=1)\n",
    "mu_test_feat[\"StdNPEActive_inner\"] = test_muons.iloc[:, 3:3+n_inner_slices].apply(lambda row: std_npe_active(row), axis=1)\n",
    "mu_test_feat[\"SpatialRange_inner\"] = test_muons.iloc[:, 3:3+n_inner_slices].apply(lambda row: range_detections(row), axis=1)\n",
    "mu_test_feat[\"SpatialVar_inner\"] = test_muons.iloc[:, 3:3+n_inner_slices].apply(lambda row: spatial_var(row), axis=1)\n",
    "mu_test_feat[\"SpatialStd_inner\"] = test_muons.iloc[:, 3:3+n_inner_slices].apply(lambda row: spatial_std(row), axis=1)\n",
    "print(\"Compute Mu Inner features: {:.3f} sec\".format(time.time() - init))\n",
    "init = time.time()\n",
    "mu_test_feat[\"PEDetected_outer\"] = test_muons.iloc[:, 3+n_inner_slices:3+n_inner_slices+n_outer_slices].apply(lambda row: pe_detected(row), axis=1)\n",
    "mu_test_feat[\"NActiveSlices_outer\"] = test_muons.iloc[:, 3+n_inner_slices:3+n_inner_slices+n_outer_slices].apply(lambda row: nr_active_slices(row), axis=1)\n",
    "mu_test_feat[\"MeanNPEActive_outer\"] = test_muons.iloc[:, 3+n_inner_slices:3+n_inner_slices+n_outer_slices].apply(lambda row: mean_npe_active(row), axis=1)\n",
    "mu_test_feat[\"StdNPEActive_outer\"] = test_muons.iloc[:, 3+n_inner_slices:3+n_inner_slices+n_outer_slices].apply(lambda row: std_npe_active(row), axis=1)\n",
    "mu_test_feat[\"SpatialRange_outer\"] = test_muons.iloc[:, 3+n_inner_slices:3+n_inner_slices+n_outer_slices].apply(lambda row: range_detections(row), axis=1)\n",
    "mu_test_feat[\"SpatialVar_outer\"] = test_muons.iloc[:, 3+n_inner_slices:3+n_inner_slices+n_outer_slices].apply(lambda row: spatial_var(row), axis=1)\n",
    "mu_test_feat[\"SpatialStd_outer\"] = test_muons.iloc[:, 3+n_inner_slices:3+n_inner_slices+n_outer_slices].apply(lambda row: spatial_std(row), axis=1)\n",
    "print(\"Compute Mu Inner features: {:.3f} sec\".format(time.time() - init))\n",
    "mu_test_feat[\"PEDetected_tot\"] = mu_test_feat[\"PEDetected_inner\"] + mu_test_feat[\"PEDetected_outer\"]\n",
    "mu_test_feat[\"NActiveSlices_tot\"] = mu_test_feat[\"NActiveSlices_inner\"] + mu_test_feat[\"NActiveSlices_outer\"]\n",
    "mu_test_feat[\"MeanNPEActive_tot\"] = mu_test_feat[\"PEDetected_tot\"] / mu_test_feat[\"NActiveSlices_tot\"]\n",
    "mu_test_feat = mu_test_feat.fillna(-1)\n",
    "print(\"Compute Mu Combined features: {:.3f} sec\".format(time.time() - init))\n",
    "\n",
    "init = time.time()\n",
    "ar_test_feat = pd.DataFrame()\n",
    "ar_test_feat[\"PEDetected_inner\"] = test_ar39.iloc[:, 3:3+n_inner_slices].apply(lambda row: pe_detected(row), axis=1)\n",
    "ar_test_feat[\"NActiveSlices_inner\"] = test_ar39.iloc[:, 3:3+n_inner_slices].apply(lambda row: nr_active_slices(row), axis=1)\n",
    "ar_test_feat[\"MeanNPEActive_inner\"] = test_ar39.iloc[:, 3:3+n_inner_slices].apply(lambda row: mean_npe_active(row), axis=1)\n",
    "ar_test_feat[\"StdNPEActive_inner\"] = test_ar39.iloc[:, 3:3+n_inner_slices].apply(lambda row: std_npe_active(row), axis=1)\n",
    "ar_test_feat[\"SpatialRange_inner\"] = test_ar39.iloc[:, 3:3+n_inner_slices].apply(lambda row: range_detections(row), axis=1)\n",
    "ar_test_feat[\"SpatialVar_inner\"] = test_ar39.iloc[:, 3:3+n_inner_slices].apply(lambda row: spatial_var(row), axis=1)\n",
    "ar_test_feat[\"SpatialStd_inner\"] = test_ar39.iloc[:, 3:3+n_inner_slices].apply(lambda row: spatial_std(row), axis=1)\n",
    "print(\"Compute Ar features: {:.3f} sec\".format(time.time() - init))\n",
    "init = time.time()\n",
    "ar_test_feat[\"PEDetected_outer\"] = test_ar39.iloc[:, 3+n_inner_slices:3+n_inner_slices+n_outer_slices].apply(lambda row: pe_detected(row), axis=1)\n",
    "ar_test_feat[\"NActiveSlices_outer\"] = test_ar39.iloc[:, 3+n_inner_slices:3+n_inner_slices+n_outer_slices].apply(lambda row: nr_active_slices(row), axis=1)\n",
    "ar_test_feat[\"MeanNPEActive_outer\"] = test_ar39.iloc[:, 3+n_inner_slices:3+n_inner_slices+n_outer_slices].apply(lambda row: mean_npe_active(row), axis=1)\n",
    "ar_test_feat[\"StdNPEActive_outer\"] = test_ar39.iloc[:, 3+n_inner_slices:3+n_inner_slices+n_outer_slices].apply(lambda row: std_npe_active(row), axis=1)\n",
    "ar_test_feat[\"SpatialRange_outer\"] = test_ar39.iloc[:, 3+n_inner_slices:3+n_inner_slices+n_outer_slices].apply(lambda row: range_detections(row), axis=1)\n",
    "ar_test_feat[\"SpatialVar_outer\"] = test_ar39.iloc[:, 3+n_inner_slices:3+n_inner_slices+n_outer_slices].apply(lambda row: spatial_var(row), axis=1)\n",
    "ar_test_feat[\"SpatialStd_outer\"] = test_ar39.iloc[:, 3+n_inner_slices:3+n_inner_slices+n_outer_slices].apply(lambda row: spatial_std(row), axis=1)\n",
    "print(\"Compute Ar features: {:.3f} sec\".format(time.time() - init))\n",
    "ar_test_feat[\"PEDetected_tot\"] = ar_test_feat[\"PEDetected_inner\"] + ar_test_feat[\"PEDetected_outer\"]\n",
    "ar_test_feat[\"NActiveSlices_tot\"] = ar_test_feat[\"NActiveSlices_inner\"] + ar_test_feat[\"NActiveSlices_outer\"]\n",
    "ar_test_feat[\"MeanNPEActive_tot\"] = ar_test_feat[\"PEDetected_tot\"] / ar_test_feat[\"NActiveSlices_tot\"]\n",
    "ar_test_feat = ar_test_feat.fillna(-1)\n",
    "ar_test_feat[\"group\"] = test_ar39[\"group\"]\n",
    "print(\"Compute Ar Combined features: {:.3f} sec\".format(time.time() - init))"
   ]
  },
  {
   "cell_type": "code",
   "execution_count": 107,
   "metadata": {},
   "outputs": [
    {
     "name": "stdout",
     "output_type": "stream",
     "text": [
      "[Info] RForest predict in 0.559 seconds\n",
      "[Result] Test(3334 Mu, 500000 Ar):\n",
      "Accuracy: 0.701, Precision: 0.019, Recall: 0.892, F1: 0.038, My Score: 0.701\n",
      "\n",
      "[Result] Conf. Matrix: TN: 349756, FP: 150244, FN: 361, TP: 2973 | TPR: 89.17%, FPR: 30.05%\n",
      "\n"
     ]
    }
   ],
   "source": [
    "# Test model\n",
    "init = time.time()\n",
    "\n",
    "mu_test_feat[\"y\"] = 1\n",
    "mu_test_feat[\"group\"] = 0    # used only in ar39 to distinguish the subclasses\n",
    "ar_test_feat[\"y\"] = 0\n",
    "\n",
    "test_data = pd.concat([mu_test_feat, ar_test_feat], axis=0)\n",
    "X, y = test_data.loc[:, my_features], test_data.iloc[:, -2]\n",
    "X = np.array(X)\n",
    "y = np.array(y)\n",
    "\n",
    "init = time.time()\n",
    "y_pred = final_clf.predict(X)\n",
    "y_pred_proba = final_clf.predict_proba(X)\n",
    "print(\"[Info] RForest predict in {:.3f} seconds\".format(time.time() - init))\n",
    "\n",
    "accuracy = accuracy_score(y, y_pred)\n",
    "precision = precision_score(y, y_pred)\n",
    "recall = recall_score(y, y_pred)\n",
    "f1 = f1_score(y, y_pred)\n",
    "my_s = accuracy_score(y, y_pred)\n",
    "tn, fp, fn, tp = cv(y, y_pred).ravel()\n",
    "tpr, fpr = recall*100, fp/(fp+tn)*100\n",
    "\n",
    "result_template  = \"[Result] {}:\\nAccuracy: {:.3f}, Precision: {:.3f}, Recall: {:.3f}, F1: {:.3f}, My Score: {:.3f}\\n\"\n",
    "cm_template  =     \"[Result] Conf. Matrix: TN: {}, FP: {}, FN: {}, TP: {} | TPR: {:.2f}%, FPR: {:.2f}%\\n\"\n",
    "\n",
    "\n",
    "print(result_template.format(\"Test({} Mu, {} Ar)\".format(len(mu_test_feat), len(ar_test_feat)),\n",
    "                             accuracy, precision, recall, f1, my_s))    \n",
    "print(cm_template.format(tn, fp, fn, tp, tpr, fpr))    "
   ]
  },
  {
   "cell_type": "code",
   "execution_count": 108,
   "metadata": {},
   "outputs": [],
   "source": [
    "test_data[\"y_pred\"] = y_pred\n",
    "test_data[\"y_pred_proba\"] = y_pred_proba[:, 1]"
   ]
  },
  {
   "cell_type": "markdown",
   "metadata": {},
   "source": [
    "# estimate overall efficiency (considering cut NAS outer, cut 60 PE, RF tpr)"
   ]
  },
  {
   "cell_type": "code",
   "execution_count": 141,
   "metadata": {},
   "outputs": [],
   "source": [
    "testset_tpr_rf = len(test_data[(test_data.y==1) & (test_data.y_pred==1)]) / len(test_data[test_data.y==1])\n",
    "testset_tpr_cnn = len(raw_test_data[(raw_test_data.y==1) & (raw_test_data.cnn_y_pred>.50)]) / len(raw_test_data[raw_test_data.y>.5])\n",
    "\n",
    "rf_tpr = len(dfallmu[dfallmu.pedetected>max_pe_lowenergy]) / len(dfallmu) + \\\n",
    "        len(dfallmu[dfallmu.pedetected<=max_pe_lowenergy]) / len(dfallmu) * testset_tpr_rf\n",
    "cnn_tpr = len(dfallmu[dfallmu.pedetected>max_pe_lowenergy]) / len(dfallmu) + \\\n",
    "        len(dfallmu[dfallmu.pedetected<=max_pe_lowenergy]) / len(dfallmu) * testset_tpr_cnn"
   ]
  },
  {
   "cell_type": "code",
   "execution_count": 86,
   "metadata": {},
   "outputs": [
    {
     "name": "stdout",
     "output_type": "stream",
     "text": [
      "[Info] TPR Cut Out NAS + Dtree: 0.82367\n"
     ]
    }
   ],
   "source": [
    "cut_tpr = len(dfallmu) / original_len_mu\n",
    "print(\"[Info] TPR Cut Out NAS + Dtree: {:.5f}\".format(cut_tpr * rf_tpr))"
   ]
  },
  {
   "cell_type": "markdown",
   "metadata": {},
   "source": [
    "# estimate overall FPR (considering cut NAS + RF tnr)"
   ]
  },
  {
   "cell_type": "code",
   "execution_count": 87,
   "metadata": {},
   "outputs": [
    {
     "data": {
      "text/plain": [
       "[0.1813, 0.24757, 0.29246, 0.3635, 0.45465]"
      ]
     },
     "execution_count": 87,
     "metadata": {},
     "output_type": "execute_result"
    }
   ],
   "source": [
    "rf_fpr1 = len(test_data[(test_data.y==0) & (test_data.group==1) & (test_data.y_pred==1)]) / len(test_data[(test_data.y==0) & (test_data.group==1)])\n",
    "rf_fpr2 = len(test_data[(test_data.y==0) & (test_data.group==2) & (test_data.y_pred==1)]) / len(test_data[(test_data.y==0) & (test_data.group==2)])\n",
    "rf_fpr3 = len(test_data[(test_data.y==0) & (test_data.group==3) & (test_data.y_pred==1)]) / len(test_data[(test_data.y==0) & (test_data.group==3)])\n",
    "rf_fpr4 = len(test_data[(test_data.y==0) & (test_data.group==4) & (test_data.y_pred==1)]) / len(test_data[(test_data.y==0) & (test_data.group==4)])\n",
    "rf_fpr5 = len(test_data[(test_data.y==0) & (test_data.group==5) & (test_data.y_pred==1)]) / len(test_data[(test_data.y==0) & (test_data.group==5)])\n",
    "ar39_dtree_fprs = [rf_fpr1, rf_fpr2, rf_fpr3, rf_fpr4, rf_fpr5]\n",
    "ar39_dtree_fprs"
   ]
  },
  {
   "cell_type": "code",
   "execution_count": 113,
   "metadata": {},
   "outputs": [
    {
     "data": {
      "text/plain": [
       "[0.53669, 0.4344, 0.32706, 0.2512, 0.21457]"
      ]
     },
     "execution_count": 113,
     "metadata": {},
     "output_type": "execute_result"
    }
   ],
   "source": [
    "cnn_fpr1 = len(raw_test_data[(raw_test_data.y==0) & (raw_test_data.group==1) & (raw_test_data.cnn_y_pred>.5)]) / len(raw_test_data[(raw_test_data.y==0) & (raw_test_data.group==1)])\n",
    "cnn_fpr2 = len(raw_test_data[(raw_test_data.y==0) & (raw_test_data.group==2) & (raw_test_data.cnn_y_pred>.5)]) / len(raw_test_data[(raw_test_data.y==0) & (raw_test_data.group==2)])\n",
    "cnn_fpr3 = len(raw_test_data[(raw_test_data.y==0) & (raw_test_data.group==3) & (raw_test_data.cnn_y_pred>.5)]) / len(raw_test_data[(raw_test_data.y==0) & (raw_test_data.group==3)])\n",
    "cnn_fpr4 = len(raw_test_data[(raw_test_data.y==0) & (raw_test_data.group==4) & (raw_test_data.cnn_y_pred>.5)]) / len(raw_test_data[(raw_test_data.y==0) & (raw_test_data.group==4)])\n",
    "cnn_fpr5 = len(raw_test_data[(raw_test_data.y==0) & (raw_test_data.group==5) & (raw_test_data.cnn_y_pred>.5)]) / len(raw_test_data[(raw_test_data.y==0) & (raw_test_data.group==5)])\n",
    "ar39_cnn_fprs = [cnn_fpr1, cnn_fpr2, cnn_fpr3, cnn_fpr4, cnn_fpr5]\n",
    "ar39_cnn_fprs"
   ]
  },
  {
   "cell_type": "code",
   "execution_count": 112,
   "metadata": {},
   "outputs": [
    {
     "data": {
      "text/plain": [
       "count    503334.000000\n",
       "mean          2.980129\n",
       "std           1.430376\n",
       "min           0.000000\n",
       "25%           2.000000\n",
       "50%           3.000000\n",
       "75%           4.000000\n",
       "max           5.000000\n",
       "Name: group, dtype: float64"
      ]
     },
     "execution_count": 112,
     "metadata": {},
     "output_type": "execute_result"
    }
   ],
   "source": [
    "raw_test_data.group.describe()"
   ]
  },
  {
   "cell_type": "code",
   "execution_count": 125,
   "metadata": {},
   "outputs": [
    {
     "name": "stdout",
     "output_type": "stream",
     "text": [
      "[Info] Estimate overall TNR 1 Ar39:\n",
      "\tCut NAS: reject 0.97705 %,\n",
      "\tRndForest: reject 0.8187 %\n",
      "\tCNN: reject 0.46331 %\n",
      "\tCombined Cut+RF 0.99584 %\n",
      "\tCombined Cut+CNN 0.98768 %\n",
      "\n",
      "[Info] Estimate overall TNR 2 Ar39:\n",
      "\tCut NAS: reject 0.81809 %,\n",
      "\tRndForest: reject 0.75243 %\n",
      "\tCNN: reject 0.5656 %\n",
      "\tCombined Cut+RF 0.95496 %\n",
      "\tCombined Cut+CNN 0.92098 %\n",
      "\n",
      "[Info] Estimate overall TNR 3 Ar39:\n",
      "\tCut NAS: reject 0.47925 %,\n",
      "\tRndForest: reject 0.70754 %\n",
      "\tCNN: reject 0.67294 %\n",
      "\tCombined Cut+RF 0.8477 %\n",
      "\tCombined Cut+CNN 0.82968 %\n",
      "\n",
      "[Info] Estimate overall TNR 4 Ar39:\n",
      "\tCut NAS: reject 0.17186 %,\n",
      "\tRndForest: reject 0.6365 %\n",
      "\tCNN: reject 0.7488 %\n",
      "\tCombined Cut+RF 0.69897 %\n",
      "\tCombined Cut+CNN 0.79197 %\n",
      "\n",
      "[Info] Estimate overall TNR 5 Ar39:\n",
      "\tCut NAS: reject 0.048076 %,\n",
      "\tRndForest: reject 0.54535 %\n",
      "\tCNN: reject 0.78543 %\n",
      "\tCombined Cut+RF 0.56721 %\n",
      "\tCombined Cut+CNN 0.79575 %\n",
      "\n"
     ]
    }
   ],
   "source": [
    "cut_1ar39_fpr = len(dfall1ar39) / original_len_1ar39\n",
    "print(\"[Info] Estimate overall TNR 1 Ar39:\\n\" \\\n",
    "      \"\\tCut NAS: reject {:.5} %,\\n\" \\\n",
    "      \"\\tRndForest: reject {:.5} %\\n\" \\\n",
    "      \"\\tCNN: reject {:.5} %\\n\" \\\n",
    "      \"\\tCombined Cut+RF {:.5} %\\n\" \\\n",
    "      \"\\tCombined Cut+CNN {:.5} %\\n\".format(1 - cut_1ar39_fpr, \n",
    "                                  1 - rf_fpr1,\n",
    "                                  1 - cnn_fpr1,\n",
    "                                  (1-cut_1ar39_fpr) + cut_1ar39_fpr*(1-rf_fpr1), \n",
    "                                  (1-cut_1ar39_fpr) + cut_1ar39_fpr*(1-cnn_fpr1)))\n",
    "\n",
    "cut_2ar39_fpr = len(dfall2ar39) / original_len_2ar39\n",
    "print(\"[Info] Estimate overall TNR 2 Ar39:\\n\" \\\n",
    "      \"\\tCut NAS: reject {:.5} %,\\n\" \\\n",
    "      \"\\tRndForest: reject {:.5} %\\n\" \\\n",
    "      \"\\tCNN: reject {:.5} %\\n\" \\\n",
    "      \"\\tCombined Cut+RF {:.5} %\\n\" \\\n",
    "      \"\\tCombined Cut+CNN {:.5} %\\n\".format(1 - cut_2ar39_fpr, \n",
    "                                  1 - rf_fpr2,\n",
    "                                  1 - cnn_fpr2,\n",
    "                                  (1-cut_2ar39_fpr) + cut_2ar39_fpr*(1-rf_fpr2),\n",
    "                                  (1-cut_2ar39_fpr) + cut_2ar39_fpr*(1-cnn_fpr2)))\n",
    "\n",
    "cut_3ar39_fpr = len(dfall3ar39) / original_len_3ar39\n",
    "print(\"[Info] Estimate overall TNR 3 Ar39:\\n\" \\\n",
    "      \"\\tCut NAS: reject {:.5} %,\\n\" \\\n",
    "      \"\\tRndForest: reject {:.5} %\\n\" \\\n",
    "      \"\\tCNN: reject {:.5} %\\n\" \\\n",
    "      \"\\tCombined Cut+RF {:.5} %\\n\" \\\n",
    "      \"\\tCombined Cut+CNN {:.5} %\\n\".format(1 - cut_3ar39_fpr, \n",
    "                                  1 - rf_fpr3,\n",
    "                                  1 - cnn_fpr3,\n",
    "                                  (1-cut_3ar39_fpr) + cut_3ar39_fpr*(1-rf_fpr3),\n",
    "                                  (1-cut_3ar39_fpr) + cut_3ar39_fpr*(1-cnn_fpr3)))\n",
    "\n",
    "cut_4ar39_fpr = len(dfall4ar39) / original_len_4ar39\n",
    "print(\"[Info] Estimate overall TNR 4 Ar39:\\n\" \\\n",
    "      \"\\tCut NAS: reject {:.5} %,\\n\" \\\n",
    "      \"\\tRndForest: reject {:.5} %\\n\" \\\n",
    "      \"\\tCNN: reject {:.5} %\\n\" \\\n",
    "      \"\\tCombined Cut+RF {:.5} %\\n\" \\\n",
    "      \"\\tCombined Cut+CNN {:.5} %\\n\".format(1 - cut_4ar39_fpr, \n",
    "                                  1 - rf_fpr4,\n",
    "                                  1 - cnn_fpr4,\n",
    "                                  (1-cut_4ar39_fpr) + cut_4ar39_fpr*(1-rf_fpr4),\n",
    "                                  (1-cut_4ar39_fpr) + cut_4ar39_fpr*(1-cnn_fpr4)))\n",
    "\n",
    "cut_5ar39_fpr = len(dfall5ar39) / original_len_5ar39\n",
    "print(\"[Info] Estimate overall TNR 5 Ar39:\\n\" \\\n",
    "      \"\\tCut NAS: reject {:.5} %,\\n\" \\\n",
    "      \"\\tRndForest: reject {:.5} %\\n\" \\\n",
    "      \"\\tCNN: reject {:.5} %\\n\" \\\n",
    "      \"\\tCombined Cut+RF {:.5} %\\n\" \\\n",
    "      \"\\tCombined Cut+CNN {:.5} %\\n\".format(1 - cut_5ar39_fpr, \n",
    "                                  1 - rf_fpr5,\n",
    "                                  1 - cnn_fpr5,\n",
    "                                  (1-cut_5ar39_fpr) + cut_5ar39_fpr*(1-rf_fpr5),\n",
    "                                  (1-cut_5ar39_fpr) + cut_5ar39_fpr*(1-cnn_fpr5)))"
   ]
  },
  {
   "cell_type": "code",
   "execution_count": 143,
   "metadata": {},
   "outputs": [
    {
     "name": "stdout",
     "output_type": "stream",
     "text": [
      "[Info] Estimate overall TPR Muons:\n",
      "\tCut NAS: detect 0.84078 %,\n",
      "\tRndForest: detect 0.98087 %\n",
      "\tCNN: detect 0.99438 %\n",
      "\tCombined Cut+RF 0.99695 %\n",
      "\tCombined Cut+CNN 0.99911 %\n",
      "\n"
     ]
    }
   ],
   "source": [
    "cut_mu_tpr = len(dfallmu) / original_len_mu\n",
    "print(\"[Info] Estimate overall TPR Muons:\\n\" \\\n",
    "      \"\\tCut NAS: detect {:.5} %,\\n\" \\\n",
    "      \"\\tRndForest: detect {:.5} %\\n\" \\\n",
    "      \"\\tCNN: detect {:.5} %\\n\" \\\n",
    "      \"\\tCombined Cut+RF {:.5} %\\n\" \\\n",
    "      \"\\tCombined Cut+CNN {:.5} %\\n\".format(cut_mu_tpr, \n",
    "                                  rf_tpr,\n",
    "                                  cnn_tpr,\n",
    "                                  cut_mu_tpr + (1-cut_mu_tpr)*(rf_tpr),\n",
    "                                  cut_mu_tpr + (1-cut_mu_tpr)*(cnn_tpr)))"
   ]
  },
  {
   "cell_type": "code",
   "execution_count": 128,
   "metadata": {},
   "outputs": [
    {
     "data": {
      "text/plain": [
       "array([0.        , 0.0194961 , 0.02639472, ..., 0.99910018, 0.99970006,\n",
       "       1.        ])"
      ]
     },
     "execution_count": 128,
     "metadata": {},
     "output_type": "execute_result"
    }
   ],
   "source": [
    "rf_tpr"
   ]
  },
  {
   "cell_type": "markdown",
   "metadata": {},
   "source": [
    "# comparison CNN vs RForest"
   ]
  },
  {
   "cell_type": "code",
   "execution_count": 92,
   "metadata": {},
   "outputs": [],
   "source": [
    "# without combination preliminary cut\n",
    "from sklearn.metrics import roc_curve\n",
    "\n",
    "rf_fpr, rf_tpr, rf_thresholds = roc_curve(test_data.y, test_data.y_pred_proba)\n",
    "cnn_fpr, cnn_tpr, cnn_thresholds = roc_curve(raw_test_data.y, raw_test_data.cnn_y_pred)"
   ]
  },
  {
   "cell_type": "code",
   "execution_count": 121,
   "metadata": {},
   "outputs": [
    {
     "data": {
      "image/png": "[encoded data removed]",
      "text/plain": [
       "<Figure size 1800x1080 with 1 Axes>"
      ]
     },
     "metadata": {
      "needs_background": "light"
     },
     "output_type": "display_data"
    }
   ],
   "source": [
    "plt.plot(rf_fpr, rf_tpr, label=\"RandomForest\")\n",
    "plt.plot(cnn_fpr, cnn_tpr, label=\"CNN\")\n",
    "plt.xlabel(\"FPR = FP / N\")\n",
    "plt.ylabel(\"TPR = TP / P\")\n",
    "plt.legend()\n",
    "\n",
    "id_threshold = np.argmin(np.abs(rf_thresholds - .50))\n",
    "plt.scatter(rf_fpr[id_threshold], rf_tpr[id_threshold])\n",
    "id_threshold = np.argmin(np.abs(cnn_thresholds - .50))\n",
    "plt.scatter(cnn_fpr[id_threshold], cnn_tpr[id_threshold])\n",
    "plt.show()"
   ]
  },
  {
   "cell_type": "code",
   "execution_count": null,
   "metadata": {},
   "outputs": [],
   "source": []
  }
 ],
 "metadata": {
  "kernelspec": {
   "display_name": "Python 3",
   "language": "python",
   "name": "python3"
  },
  "language_info": {
   "codemirror_mode": {
    "name": "ipython",
    "version": 3
   },
   "file_extension": ".py",
   "mimetype": "text/x-python",
   "name": "python",
   "nbconvert_exporter": "python",
   "pygments_lexer": "ipython3",
   "version": "3.6.9"
  }
 },
 "nbformat": 4,
 "nbformat_minor": 4
}
