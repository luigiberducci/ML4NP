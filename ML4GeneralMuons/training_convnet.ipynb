{
 "cells": [
  {
   "cell_type": "code",
   "execution_count": 1,
   "metadata": {},
   "outputs": [],
   "source": [
    "import numpy as np, pandas as pd, os\n",
    "from sklearn.model_selection import train_test_split\n",
    "from sklearn.metrics import roc_curve, plot_roc_curve\n",
    "from sklearn.metrics import roc_auc_score\n",
    "from sklearn.metrics import accuracy_score\n",
    "import datetime\n",
    "\n",
    "import tensorflow as tf\n",
    "import tensorflow.python.util.deprecation as deprecation\n",
    "deprecation._PRINT_DEPRECATION_WARNINGS = False    # no deprecation warning print\n",
    "\n",
    "import logging\n",
    "logger = tf.get_logger()\n",
    "logger.setLevel(logging.ERROR)\n",
    "\n",
    "import matplotlib.pyplot as plt\n",
    "import numpy as np\n",
    "import pandas as pd\n",
    "import os, glob\n",
    "plt.rcParams['figure.figsize'] = [25, 15]\n",
    "plt.rcParams.update({'font.size': 18})"
   ]
  },
  {
   "cell_type": "code",
   "execution_count": 2,
   "metadata": {},
   "outputs": [],
   "source": [
    "dirin = \"data\"\n",
    "ar39filename = \"Ar39_{}Pileup_cut265PE.csv\"\n",
    "muonfilename = \"MarginalMuons_wt_{}ar39_cut265PE.csv\"\n",
    "def load_dataset():\n",
    "    # load ar39, mark various groups\n",
    "    dfar39 = pd.read_csv(os.path.join(dirin, \"Ar39\", ar39filename.format(1)), index_col=False)\n",
    "    dfar39['group'] = -1\n",
    "    for i in range(2, 7+1):\n",
    "        df = pd.read_csv(os.path.join(dirin, \"Ar39\", ar39filename.format(i)), index_col=False)        \n",
    "        df['group'] = -(i)\n",
    "        dfar39 = pd.concat([dfar39, df])\n",
    "    # load muons, mark various groups\n",
    "    dfmuons = pd.read_csv(os.path.join(dirin, \"Muons\", muonfilename.format(0)), index_col=False)\n",
    "    dfmuons['group'] = 0\n",
    "    for i in range(1, 3+1):\n",
    "        df = pd.read_csv(os.path.join(dirin, \"Muons\", muonfilename.format(i)), index_col=False)\n",
    "        df['group'] = i\n",
    "        dfmuons = pd.concat([dfmuons, df])\n",
    "    print(\"[Info] Loaded {} Ar39 events, {} Muon events.\".format(len(dfar39), len(dfmuons)))\n",
    "    # set boolean label\n",
    "    dfar39['y'] = 0\n",
    "    dfmuons['y'] = 1\n",
    "    dfall = pd.concat([dfmuons, dfar39]).to_numpy()\n",
    "    return dfall.reshape((dfall.shape[0], dfall.shape[1], 1))"
   ]
  },
  {
   "cell_type": "code",
   "execution_count": 3,
   "metadata": {},
   "outputs": [],
   "source": [
    "def get_baseline_model(n_delta_t=1, n_slices=72):\n",
    "    model = tf.keras.Sequential()\n",
    "    model.add(tf.keras.layers.Conv1D(filters=32, kernel_size=3, activation='relu', input_shape=(n_slices, n_delta_t)))\n",
    "    model.add(tf.keras.layers.MaxPooling1D(pool_size=3))\n",
    "    model.add(tf.keras.layers.Flatten())\n",
    "    model.add(tf.keras.layers.Dense(16, activation='relu'))\n",
    "    model.add(tf.keras.layers.Dense(1, activation='sigmoid'))\n",
    "    return model"
   ]
  },
  {
   "cell_type": "code",
   "execution_count": 4,
   "metadata": {},
   "outputs": [],
   "source": [
    "def get_twoconv_model(n_delta_t=1, n_slices=72):\n",
    "    model = tf.keras.Sequential()\n",
    "    model.add(tf.keras.layers.Conv1D(filters=32, kernel_size=6, activation='relu', input_shape=(n_slices, n_delta_t)))\n",
    "    model.add(tf.keras.layers.Conv1D(filters=32, kernel_size=3, activation='relu'))\n",
    "    model.add(tf.keras.layers.MaxPooling1D(pool_size=3))\n",
    "    model.add(tf.keras.layers.Flatten())\n",
    "    model.add(tf.keras.layers.Dense(16, activation='relu'))\n",
    "    model.add(tf.keras.layers.Dense(1, activation='sigmoid'))\n",
    "    return model"
   ]
  },
  {
   "cell_type": "code",
   "execution_count": 5,
   "metadata": {},
   "outputs": [],
   "source": [
    "def get_twoconv_model_forhingeloss(n_delta_t=1, n_slices=72):\n",
    "    model = tf.keras.Sequential()\n",
    "    model.add(tf.keras.layers.Conv1D(filters=32, kernel_size=6, activation='relu', input_shape=(n_slices, n_delta_t)))\n",
    "    model.add(tf.keras.layers.Conv1D(filters=32, kernel_size=3, activation='relu'))\n",
    "    model.add(tf.keras.layers.MaxPooling1D(pool_size=3))\n",
    "    model.add(tf.keras.layers.Flatten())\n",
    "    model.add(tf.keras.layers.Dense(16, activation='relu'))\n",
    "    model.add(tf.keras.layers.Dense(1, activation='tanh'))\n",
    "    return model"
   ]
  },
  {
   "cell_type": "code",
   "execution_count": 6,
   "metadata": {},
   "outputs": [],
   "source": [
    "def get_twoconv_model_wt_dropout(n_delta_t=1, n_slices=72):\n",
    "    model = tf.keras.Sequential()\n",
    "    model.add(tf.keras.layers.Conv1D(filters=32, kernel_size=6, activation='relu', input_shape=(n_slices, n_delta_t)))\n",
    "    model.add(tf.keras.layers.Conv1D(filters=32, kernel_size=3, activation='relu'))\n",
    "    model.add(tf.keras.layers.Dropout(0.5))\n",
    "    model.add(tf.keras.layers.MaxPooling1D(pool_size=3))\n",
    "    model.add(tf.keras.layers.Flatten())\n",
    "    model.add(tf.keras.layers.Dense(16, activation='relu'))\n",
    "    model.add(tf.keras.layers.Dense(1, activation='sigmoid'))\n",
    "    return model"
   ]
  },
  {
   "cell_type": "code",
   "execution_count": 7,
   "metadata": {},
   "outputs": [],
   "source": [
    "def print_my_confusion_matrix(g_test, y_pred):\n",
    "    # Note: group <0 are ar39 (-1, -2, ..., -7), others are mu (0, 1, 2, 3)\n",
    "    print(\"Test Set Size: {} ({} Ar39, {} Mu)\".format(g_test.shape[0], g_test[g_test<0].shape[0], g_test[g_test>=0].shape[0]))\n",
    "    print(\"\\t\\tPred\\tPred\\t| Nr\")\n",
    "    print(\"\\t\\tAr39\\tMu\\t| samples\")\n",
    "    print(\"--------------------------------------------\")\n",
    "    \n",
    "    ar39_pred_ids = np.nonzero(y_pred.round()==0)[0]\n",
    "    for i_pileup in range(1, 7 + 1):\n",
    "        ar39_pileup_ids = np.nonzero(g_test==-i_pileup)[0]\n",
    "        tp = len(np.intersect1d(ar39_pred_ids, ar39_pileup_ids))\n",
    "        print(\"{} Ar39\\t\\t{}\\t{}\\t| {}\".format(i_pileup, tp, len(ar39_pileup_ids)-tp, len(ar39_pileup_ids)))\n",
    "    print(\"--------------------------------------------\")\n",
    "    for i_mu in range(0, 3 + 1):\n",
    "        mu_pileup_ids = np.nonzero(g_test == i_mu)[0]        \n",
    "        fn = len(np.intersect1d(ar39_pred_ids, mu_pileup_ids))\n",
    "        print(\"Mu + {} Ar39\\t{}\\t{}\\t| {}\".format(i_mu, fn, len(mu_pileup_ids)-fn, len(mu_pileup_ids)))\n",
    "    print(\"--------------------------------------------\")\n",
    "    print(\"Total\\t\\t{}\\t{}\\t| {}\".format(len(ar39_pred_ids), len(y_pred)-len(ar39_pred_ids), len(y_pred)))\n",
    "    "
   ]
  },
  {
   "cell_type": "code",
   "execution_count": 8,
   "metadata": {},
   "outputs": [
    {
     "name": "stdout",
     "output_type": "stream",
     "text": [
      "[Info] Loaded 24500 Ar39 events, 25730 Muon events.\n"
     ]
    }
   ],
   "source": [
    "# Load dataset and label\n",
    "all_data = load_dataset()\n",
    "X, g, y = all_data[:, 2:-2], all_data[:, -2], all_data[:, -1]    # exclude edep, pedetected"
   ]
  },
  {
   "cell_type": "code",
   "execution_count": 9,
   "metadata": {},
   "outputs": [],
   "source": [
    "def repeat_train(model_generator, n_repeats=1, n_epochs=10, batch_size=32, model_name=\"model_\" + datetime.datetime.now().strftime(\"%Y%m%d-%H%M%S\")):\n",
    "    # output dir\n",
    "    print(\"[Warning] THIS IMPLEMENTATION HAS TO BE FIXED!\")\n",
    "    log_dir = \"logs/\" + model_name \n",
    "    model_dir = \"models/\" + model_name\n",
    "    \n",
    "    # Train and test\n",
    "    test_accuracy_list = []\n",
    "    print(\"[Info] Start Train/Test of {}\".format(model_name))\n",
    "    for repeat in range(n_repeats):\n",
    "        # Isolate test data (eval) and validation data (train)\n",
    "        X_train, X_test, id_train, id_test = train_test_split(X, np.arange(0, len(y)), test_size=0.1, random_state=1234+repeat)\n",
    "        y_train, y_test = y[id_train], y[id_test]\n",
    "        X_train, X_dev, y_train, y_dev = train_test_split(X, y, test_size=0.1, random_state=1)\n",
    "        print(\"[Info] Starting Repeatition {}, {} epochs\".format(repeat + 1, n_epochs))\n",
    "        # compile model\n",
    "        model = model_generator()\n",
    "        model.compile(loss='binary_crossentropy', optimizer='adam', metrics=['accuracy'])\n",
    "        # Callback: tensorboard and save best model\n",
    "        tensorboard_callback = tf.keras.callbacks.TensorBoard(log_dir=os.path.join(model_dir, \"model.repeat\" + str(repeat+1)), histogram_freq=1)\n",
    "        modelcheckpoint_callback = tf.keras.callbacks.ModelCheckpoint(filepath=os.path.join(model_dir, \"model.repeat\" + str(repeat+1) + \".epoch{epoch:02d}-valacc{val_accuracy:.5f}\"),\n",
    "                                                                      save_best_only=True, monitor='val_accuracy', mode='max',\n",
    "                                                                      save_weights_only=False)\n",
    "    \n",
    "        # train\n",
    "        model.fit(X_train, y_train, epochs = n_epochs, batch_size = batch_size, \n",
    "                  verbose = 0, callbacks=[tensorboard_callback, modelcheckpoint_callback], validation_data=(X_dev, y_dev))\n",
    "        # test\n",
    "        _, accuracy = model.evaluate(X_test, y_test, batch_size = batch_size, verbose = 1)\n",
    "        test_accuracy_list.append(accuracy)\n",
    "    print(\"[Result] Model: {}. Mean Accuracy on test set ({} repeats): {:.3f}\".format(model_name, n_repeats, np.mean(test_accuracy_list)))"
   ]
  },
  {
   "cell_type": "code",
   "execution_count": 10,
   "metadata": {},
   "outputs": [],
   "source": [
    "def train_once_plus_roc(X, y, model_generator, loss='binary_crossentropy', n_epochs=10, batch_size=32, model_name=\"model_\" + datetime.datetime.now().strftime(\"%Y%m%d-%H%M%S\")):\n",
    "    # output dir\n",
    "    log_dir = \"logs/\" + model_name \n",
    "    model_dir = \"models/\" + model_name\n",
    "    # Manage Hinge loss labels\n",
    "    if 'hinge' in loss:\n",
    "        y[y==0] = -1\n",
    "        threshold = 0.0\n",
    "    else:\n",
    "        threshold = 0.5\n",
    "    \n",
    "    print(\"[Info] Loss: {}\".format(loss))\n",
    "    print(\"[Info] Label Range: {}, {}. Threshold: {}\\n\".format(y.min(), y.max(), threshold))\n",
    "    # Train and test\n",
    "    print(\"[Info] Start Train/Test of {}\".format(model_name))\n",
    "    # Isolate test data (eval) and validation data (train)\n",
    "    X_train, X_test, id_train, id_test = train_test_split(X, np.arange(0, len(y)), test_size=0.1, random_state=1234)\n",
    "    y_train, y_test = y[id_train], y[id_test]\n",
    "    g_train, g_test = g[id_train], g[id_test]\n",
    "    X_train, X_dev, y_train, y_dev = train_test_split(X_train, y_train, test_size=0.1, random_state=1)\n",
    "    print(\"[Info] Starting Repeatition {}, {} epochs\".format(1, n_epochs))\n",
    "    # compile model\n",
    "    model = model_generator()\n",
    "    binary_accuracy = tf.keras.metrics.BinaryAccuracy(threshold=threshold)\n",
    "    model.compile(loss=loss, optimizer='adam', metrics=[binary_accuracy])\n",
    "    # Callback: tensorboard and save best model\n",
    "    tensorboard_callback = tf.keras.callbacks.TensorBoard(log_dir=os.path.join(log_dir, \"model.oncerepeat\" + str(1)), histogram_freq=1)\n",
    "    modelcheckpoint_callback = tf.keras.callbacks.ModelCheckpoint(filepath=os.path.join(model_dir, \"model.oncerepeat\" + str(1) + \".epoch{epoch:02d}-valacc{val_accuracy:.5f}\"),\n",
    "                                                                  save_best_only=True, monitor='val_accuracy', mode='max',\n",
    "                                                                  save_weights_only=False)\n",
    "    \n",
    "    # train\n",
    "    model.fit(X_train, y_train, epochs = n_epochs, batch_size = batch_size, \n",
    "                  verbose = 2, callbacks=[tensorboard_callback], validation_data=(X_dev, y_dev))\n",
    "    # test\n",
    "    y_pred = model.predict(X_test)\n",
    "    if \"hinge\" in loss:\n",
    "        y_binpred = [-1 if y<0 else +1 for y in y_pred]\n",
    "    else:\n",
    "        y_binpred = y_pred.round()\n",
    "    accuracy = accuracy_score(y_test, y_binpred)\n",
    "    fpr, tpr, thresholds = roc_curve(y_test, y_pred)\n",
    "    auc = roc_auc_score(y_test, y_pred)\n",
    "    \n",
    "    print(\"[Result] Model: {}. Accuracy on test set: {:.3f}\".format(model_name, accuracy))\n",
    "    plt.plot(fpr, tpr)\n",
    "    if \"hinge\" in loss:\n",
    "        threshold_id = np.argmin(abs(thresholds-threshold))\n",
    "    else:\n",
    "        threshold_id = np.argmin(abs(thresholds-threshold))\n",
    "    plt.scatter(fpr[threshold_id], tpr[threshold_id], color='r', label=\"Threshold: {:.2f}\".format(thresholds[threshold_id]))\n",
    "    plt.text(.5, .5, \"Training Set Size: {}, Test Set Size: {}\\nAUC: {:.3f}\".format(len(X_train), len(X_test), auc))\n",
    "    plt.xlabel(\"False Positive Rate (FPR)\")\n",
    "    plt.ylabel(\"True Positive Rate (TPR)\")\n",
    "    plt.title(\"ROC Curve\")\n",
    "    plt.legend()\n",
    "    plt.show()\n",
    "    print_my_confusion_matrix(g_test, y_pred)\n",
    "    return X_test, y_test, g_test, model"
   ]
  },
  {
   "cell_type": "code",
   "execution_count": 11,
   "metadata": {},
   "outputs": [
    {
     "name": "stdout",
     "output_type": "stream",
     "text": [
      "[PRE] Label Range: 0.0, 1.0. Threshold: ?\n",
      "\n",
      "[Info] Loss: binary_crossentropy\n",
      "[Info] Label Range: 0.0, 1.0. Threshold: 0.5\n",
      "\n",
      "[Info] Start Train/Test of model_2conv_1maxpool_1dense_batch32_binary_crossentropy_20200604-132558\n",
      "[Info] Starting Repeatition 1, 25 epochs\n",
      "Epoch 1/25\n",
      "1272/1272 - 5s - loss: 0.6090 - binary_accuracy: 0.6545 - val_loss: 0.6712 - val_binary_accuracy: 0.6120\n",
      "Epoch 2/25\n",
      "1272/1272 - 5s - loss: 0.5672 - binary_accuracy: 0.6906 - val_loss: 0.5894 - val_binary_accuracy: 0.6662\n",
      "Epoch 3/25\n",
      "1272/1272 - 5s - loss: 0.5469 - binary_accuracy: 0.7051 - val_loss: 0.5563 - val_binary_accuracy: 0.6861\n",
      "Epoch 4/25\n",
      "1272/1272 - 5s - loss: 0.5339 - binary_accuracy: 0.7112 - val_loss: 0.5365 - val_binary_accuracy: 0.7043\n",
      "Epoch 5/25\n",
      "1272/1272 - 5s - loss: 0.5246 - binary_accuracy: 0.7181 - val_loss: 0.5321 - val_binary_accuracy: 0.7089\n",
      "Epoch 6/25\n",
      "1272/1272 - 5s - loss: 0.5125 - binary_accuracy: 0.7303 - val_loss: 0.5291 - val_binary_accuracy: 0.7116\n",
      "Epoch 7/25\n",
      "1272/1272 - 5s - loss: 0.5045 - binary_accuracy: 0.7354 - val_loss: 0.5209 - val_binary_accuracy: 0.7189\n",
      "Epoch 8/25\n",
      "1272/1272 - 5s - loss: 0.4964 - binary_accuracy: 0.7397 - val_loss: 0.5207 - val_binary_accuracy: 0.7304\n",
      "Epoch 9/25\n",
      "1272/1272 - 5s - loss: 0.4882 - binary_accuracy: 0.7448 - val_loss: 0.5251 - val_binary_accuracy: 0.7231\n",
      "Epoch 10/25\n",
      "1272/1272 - 5s - loss: 0.4800 - binary_accuracy: 0.7508 - val_loss: 0.5182 - val_binary_accuracy: 0.7279\n",
      "Epoch 11/25\n",
      "1272/1272 - 5s - loss: 0.4738 - binary_accuracy: 0.7564 - val_loss: 0.5145 - val_binary_accuracy: 0.7255\n",
      "Epoch 12/25\n",
      "1272/1272 - 5s - loss: 0.4643 - binary_accuracy: 0.7640 - val_loss: 0.5183 - val_binary_accuracy: 0.7304\n",
      "Epoch 13/25\n",
      "1272/1272 - 5s - loss: 0.4574 - binary_accuracy: 0.7678 - val_loss: 0.5119 - val_binary_accuracy: 0.7341\n",
      "Epoch 14/25\n",
      "1272/1272 - 5s - loss: 0.4501 - binary_accuracy: 0.7708 - val_loss: 0.5198 - val_binary_accuracy: 0.7222\n",
      "Epoch 15/25\n",
      "1272/1272 - 5s - loss: 0.4438 - binary_accuracy: 0.7756 - val_loss: 0.5196 - val_binary_accuracy: 0.7233\n",
      "Epoch 16/25\n",
      "1272/1272 - 5s - loss: 0.4368 - binary_accuracy: 0.7793 - val_loss: 0.5199 - val_binary_accuracy: 0.7290\n",
      "Epoch 17/25\n",
      "1272/1272 - 5s - loss: 0.4307 - binary_accuracy: 0.7820 - val_loss: 0.5265 - val_binary_accuracy: 0.7244\n",
      "Epoch 18/25\n",
      "1272/1272 - 5s - loss: 0.4240 - binary_accuracy: 0.7865 - val_loss: 0.5410 - val_binary_accuracy: 0.7286\n",
      "Epoch 19/25\n",
      "1272/1272 - 5s - loss: 0.4179 - binary_accuracy: 0.7912 - val_loss: 0.5366 - val_binary_accuracy: 0.7255\n",
      "Epoch 20/25\n",
      "1272/1272 - 5s - loss: 0.4134 - binary_accuracy: 0.7950 - val_loss: 0.5391 - val_binary_accuracy: 0.7308\n",
      "Epoch 21/25\n",
      "1272/1272 - 5s - loss: 0.4098 - binary_accuracy: 0.7960 - val_loss: 0.5316 - val_binary_accuracy: 0.7337\n",
      "Epoch 22/25\n",
      "1272/1272 - 5s - loss: 0.4041 - binary_accuracy: 0.8003 - val_loss: 0.5423 - val_binary_accuracy: 0.7299\n",
      "Epoch 23/25\n",
      "1272/1272 - 5s - loss: 0.3983 - binary_accuracy: 0.8042 - val_loss: 0.5487 - val_binary_accuracy: 0.7341\n",
      "Epoch 24/25\n",
      "1272/1272 - 5s - loss: 0.3933 - binary_accuracy: 0.8069 - val_loss: 0.5661 - val_binary_accuracy: 0.7277\n",
      "Epoch 25/25\n",
      "1272/1272 - 5s - loss: 0.3901 - binary_accuracy: 0.8083 - val_loss: 0.5598 - val_binary_accuracy: 0.7308\n",
      "[Result] Model: model_2conv_1maxpool_1dense_batch32_binary_crossentropy_20200604-132558. Accuracy on test set: 0.737\n"
     ]
    },
    {
     "data": {
      "image/png": "[encoded data removed]",
      "text/plain": [
       "<Figure size 1800x1080 with 1 Axes>"
      ]
     },
     "metadata": {
      "needs_background": "light"
     },
     "output_type": "display_data"
    },
    {
     "name": "stdout",
     "output_type": "stream",
     "text": [
      "Test Set Size: 5023 (2519 Ar39, 2504 Mu)\n",
      "\t\tPred\tPred\t| Nr\n",
      "\t\tAr39\tMu\t| samples\n",
      "--------------------------------------------\n",
      "1 Ar39\t\t242\t93\t| 335\n",
      "2 Ar39\t\t233\t143\t| 376\n",
      "3 Ar39\t\t254\t98\t| 352\n",
      "4 Ar39\t\t254\t88\t| 342\n",
      "5 Ar39\t\t330\t58\t| 388\n",
      "6 Ar39\t\t311\t40\t| 351\n",
      "7 Ar39\t\t348\t27\t| 375\n",
      "--------------------------------------------\n",
      "Mu + 0 Ar39\t88\t568\t| 656\n",
      "Mu + 1 Ar39\t152\t459\t| 611\n",
      "Mu + 2 Ar39\t219\t427\t| 646\n",
      "Mu + 3 Ar39\t316\t275\t| 591\n",
      "--------------------------------------------\n",
      "Total\t\t2747\t2276\t| 5023\n"
     ]
    }
   ],
   "source": [
    "n_repeats = 1\n",
    "n_epochs = 25\n",
    "\n",
    "# Baseline model: training, test\n",
    "#model_name = \"baseline_1conv_1maxpool_1dense_batch32_\" + datetime.datetime.now().strftime(\"%Y%m%d-%H%M%S\")\n",
    "#repeat_train(model_generator=get_baseline_model, n_repeats=n_repeats, n_epochs=n_epochs, model_name=model_name)\n",
    "\n",
    "# 2Conv model: training, test\n",
    "#model_name = \"model_2conv_1maxpool_1dense_batch32_norm\" + datetime.datetime.now().strftime(\"%Y%m%d-%H%M%S\")\n",
    "#repeat_train(model_generator=get_twoconv_model, n_repeats=n_repeats, n_epochs=n_epochs, model_name=model_name)\n",
    "\n",
    "# 2Conv+Dropout model: training, test\n",
    "#model_name = \"model_2conv_1dropout_1maxpool_1dense_batch32_\" + datetime.datetime.now().strftime(\"%Y%m%d-%H%M%S\")\n",
    "#repeat_train(model_generator=get_twoconv_model_wt_dropout, n_repeats=n_repeats, n_epochs=n_epochs, model_name=model_name)\n",
    "\n",
    "# 2Conv model: training, test\n",
    "losses = [\"binary_crossentropy\"]\n",
    "for loss in losses:\n",
    "    X, g, y = all_data[:, 2:-2], all_data[:, -2], all_data[:, -1]    # exclude edep, pedetected\n",
    "    if loss == \"binary_crossentropy\":\n",
    "        model_gen = get_twoconv_model\n",
    "    else:\n",
    "        model_gen = get_twoconv_model_forhingeloss\n",
    "    model_name = \"model_2conv_1maxpool_1dense_batch32_\" + loss + \"_\" + datetime.datetime.now().strftime(\"%Y%m%d-%H%M%S\")\n",
    "    X_test, y_test, g_test, model = train_once_plus_roc(X, y, model_generator=model_gen, loss=loss, n_epochs=n_epochs, model_name=model_name)"
   ]
  },
  {
   "cell_type": "code",
   "execution_count": null,
   "metadata": {},
   "outputs": [],
   "source": [
    "fn_id = np.intersect1d(np.nonzero(y_test==1)[0], np.nonzero(y_pred.round()==0)[0])"
   ]
  },
  {
   "cell_type": "code",
   "execution_count": null,
   "metadata": {},
   "outputs": [],
   "source": [
    "df_test = pd.DataFrame(X_test.reshape((X_test.shape[0], X_test.shape[1])))\n",
    "df_test['pedetected'] = df_test.sum(axis=1)\n",
    "df_test['stddev'] = df_test.apply(lambda row: np.std(np.nonzero([row[:-1]])[1]), axis=1)\n",
    "df_test['y_true'] = y_test\n",
    "df_test['y_pred'] = y_pred\n",
    "df_fneg = df_test.iloc[fn_id, :]"
   ]
  },
  {
   "cell_type": "code",
   "execution_count": null,
   "metadata": {},
   "outputs": [],
   "source": [
    "bins_pe = np.linspace(0, 265, 266)\n",
    "bins_std = np.linspace(0, 35, 36)\n",
    "plt.subplot(2, 1, 1)\n",
    "plt.hist(df_test.pedetected, bins=bins_pe, color='g')\n",
    "plt.hist(df_fneg.pedetected, bins=bins_pe, color='r')\n",
    "plt.subplot(2, 1, 2)\n",
    "plt.hist(df_test.stddev, bins=bins_std, color='g')\n",
    "plt.hist(df_fneg.stddev, bins=bins_std, color='r')\n",
    "plt.show()"
   ]
  },
  {
   "cell_type": "code",
   "execution_count": null,
   "metadata": {},
   "outputs": [],
   "source": [
    "df_test[df_test.pedetected==1].stddev.describe()"
   ]
  },
  {
   "cell_type": "code",
   "execution_count": null,
   "metadata": {},
   "outputs": [],
   "source": [
    "row = df_test.iloc[0]\n"
   ]
  },
  {
   "cell_type": "code",
   "execution_count": null,
   "metadata": {},
   "outputs": [],
   "source": [
    "row = df_test.iloc[0]"
   ]
  },
  {
   "cell_type": "code",
   "execution_count": null,
   "metadata": {},
   "outputs": [],
   "source": [
    "np.nonzero([row[:-1]])[1]"
   ]
  },
  {
   "cell_type": "code",
   "execution_count": null,
   "metadata": {},
   "outputs": [],
   "source": []
  }
 ],
 "metadata": {
  "kernelspec": {
   "display_name": "Python 3",
   "language": "python",
   "name": "python3"
  },
  "language_info": {
   "codemirror_mode": {
    "name": "ipython",
    "version": 3
   },
   "file_extension": ".py",
   "mimetype": "text/x-python",
   "name": "python",
   "nbconvert_exporter": "python",
   "pygments_lexer": "ipython3",
   "version": "3.6.9"
  }
 },
 "nbformat": 4,
 "nbformat_minor": 4
}
