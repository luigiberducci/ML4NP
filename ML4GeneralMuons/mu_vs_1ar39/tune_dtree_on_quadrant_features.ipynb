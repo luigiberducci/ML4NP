{
 "cells": [
  {
   "cell_type": "code",
   "execution_count": 1,
   "metadata": {},
   "outputs": [],
   "source": [
    "# general imports\n",
    "import os, glob, numpy as np, pandas as pd\n",
    "import matplotlib.pyplot as plt\n",
    "plt.rcParams['figure.figsize'] = [25, 15]\n",
    "plt.rcParams.update({'font.size': 18})"
   ]
  },
  {
   "cell_type": "code",
   "execution_count": 2,
   "metadata": {},
   "outputs": [
    {
     "name": "stdout",
     "output_type": "stream",
     "text": [
      "[Info] Loaded 138701 Ar39 decays, with maximum 60 PE detected\n",
      "[Info] Loaded 1241 Muons, with maximum 60 PE detected\n"
     ]
    }
   ],
   "source": [
    "# Load Ar39 Data\n",
    "import numpy as np\n",
    "\n",
    "ar39_file = os.path.join(\"..\", \"data\", \"Ar39_PE_in_15_60.csv\")\n",
    "muon_file = os.path.join(\"..\", \"data\", \"LowEnergyMuons_PE_in_15_60.csv\")\n",
    "\n",
    "ar39  = pd.read_csv(ar39_file, index_col=False)\n",
    "ar39 = ar39[ar39.columns[1:]]\n",
    "muons = pd.read_csv(muon_file, index_col=False)\n",
    "muons = muons[muons.columns[1:]]\n",
    "\n",
    "print(\"[Info] Loaded {} Ar39 decays, with maximum {} PE detected\".format(len(ar39), ar39.pedetected.max()))\n",
    "print(\"[Info] Loaded {} Muons, with maximum {} PE detected\".format(len(muons), muons.pedetected.max()))"
   ]
  },
  {
   "cell_type": "code",
   "execution_count": 3,
   "metadata": {},
   "outputs": [
    {
     "name": "stdout",
     "output_type": "stream",
     "text": [
      "[Info] Muon Train 1000, Test 241\n",
      "[Info] Ar39 Train 38701, Test 100000\n"
     ]
    }
   ],
   "source": [
    "# Remove test data for later eval\n",
    "n_train_mu, n_train_ar = 241, 100000\n",
    "muons_test, muons_train = muons.iloc[:n_train_mu, :], muons.iloc[n_train_mu:, :]\n",
    "ar39_test, ar39_train = ar39.iloc[:n_train_ar, :], ar39.iloc[n_train_ar:, :]\n",
    "print(\"[Info] Muon Train {}, Test {}\".format(len(muons_train), len(muons_test)))\n",
    "print(\"[Info] Ar39 Train {}, Test {}\".format(len(ar39_train), len(ar39_test)))"
   ]
  },
  {
   "cell_type": "code",
   "execution_count": 4,
   "metadata": {},
   "outputs": [],
   "source": [
    "def undersample_argon(ar39_df, number_of_instances=1000, augment_from_pe=35, augmentation_nr=5,\n",
    "                      skip_first_cols=2, nslices=72):\n",
    "    bins = np.linspace(0, 61, 62)\n",
    "    bin_cont, bin_edges, _ = plt.hist(ar39_df.pedetected, bins=bins, density=True, label=\"1Ar39\", edgecolor='w')\n",
    "    # compute the nr of samples for each PE value,\n",
    "    # to undersample ar39 keeping the same distribution\n",
    "    avail_instances_per_pe = np.array([len(ar39_df[ar39_df.pedetected==pe]) for pe in range(61)])\n",
    "    nr_ar_samples_per_pe = np.array(np.where(np.ceil(bin_cont*number_of_instances)<=avail_instances_per_pe, np.ceil(bin_cont*number_of_instances), 0), dtype=int)\n",
    "    # Introduce a small bias on instances with \"high\" PE value\n",
    "    # to avoid to have just a few samples (e.g. 30,40,50,60 PE)\n",
    "    scaled_ar39 = pd.DataFrame()\n",
    "    for pe in range(1, 61):\n",
    "        if pe > augment_from_pe:\n",
    "            nr_instances = augmentation_nr\n",
    "        else:\n",
    "            nr_instances = nr_ar_samples_per_pe[pe]\n",
    "        scaled_ar39 = pd.concat([scaled_ar39, ar39_df[ar39_df.pedetected==pe].iloc[:nr_instances]])\n",
    "    AA = scaled_ar39.iloc[:, skip_first_cols:skip_first_cols+nslices].to_numpy()\n",
    "    np.random.shuffle(AA)    # to avoid order by PE\n",
    "    return pd.DataFrame(AA)\n",
    "\n",
    "def augment_muons_by_roll(muon_df, augmentation_factor=1, skip_first_cols=2, nslices=72):\n",
    "    X = muon_df.iloc[:, skip_first_cols:skip_first_cols+nslices].to_numpy()\n",
    "    for roll in np.array(np.linspace(0, 72, augmentation_factor+1)[:-1], dtype='int'):\n",
    "        if roll==0:\n",
    "            XX = X\n",
    "        else:\n",
    "            XX = np.concatenate([XX, np.roll(X, roll, axis=1)])\n",
    "    return pd.DataFrame(XX)"
   ]
  },
  {
   "cell_type": "code",
   "execution_count": 5,
   "metadata": {},
   "outputs": [
    {
     "name": "stdout",
     "output_type": "stream",
     "text": [
      "[Info] The Augmented Muons dataset has 1000 instances\n",
      "[Info] The Scaled Ar39 dataset has 1054 instances\n"
     ]
    },
    {
     "data": {
      "image/png": "[encoded data removed]",
      "text/plain": [
       "<Figure size 432x288 with 1 Axes>"
      ]
     },
     "metadata": {
      "needs_background": "light"
     },
     "output_type": "display_data"
    }
   ],
   "source": [
    "# Augment Muons\n",
    "muon_data = augment_muons_by_roll(muons_train, augmentation_factor=1)\n",
    "print(\"[Info] The Augmented Muons dataset has {} instances\".format(len(muon_data)))\n",
    "# Undersample Ar39\n",
    "ar39_data = undersample_argon(ar39_train, len(muon_data), augment_from_pe=35, augmentation_nr=5)\n",
    "print(\"[Info] The Scaled Ar39 dataset has {} instances\".format(len(ar39_data)))"
   ]
  },
  {
   "cell_type": "code",
   "execution_count": 6,
   "metadata": {},
   "outputs": [],
   "source": [
    "# function to compute the std deviation of active slices based on NPE\n",
    "def stddev_idslices_fun(row):\n",
    "    # given an array of aquisitions, it return the std of activated slices\n",
    "    # it create a populaion of slice ids, and compute stddev on them\n",
    "    id_population = [item for id_list in [[i] * int(row.iloc[i]) for i in range(len(row))] for item in id_list]\n",
    "    if id_population:    # check if the list of slice ids is not empty\n",
    "        return np.std(id_population)\n",
    "    else:\n",
    "        return -1\n",
    "\n",
    "# function to produce quadrant-based features in a parametric way\n",
    "def produce_quadrant_features(df, nslices=72, nshiftings=4, quadrant_width=36):\n",
    "    # split aquisitions in K \"shifted\" quadrant\n",
    "    # by construction, there are 72 slices\n",
    "    # we set quadrant_width = nslices // 2 because \n",
    "    # we know that the spread is within 15 slices\n",
    "    shift = nslices // nshiftings   # derived\n",
    "    assert(len(df.columns) == nslices)\n",
    "    # create quadrants\n",
    "    df_quadrants = []\n",
    "    for i_shift in range(nshiftings):\n",
    "        assert(i_shift*shift < nslices)\n",
    "        quadrant = df.iloc[:, i_shift*shift:i_shift*shift + quadrant_width]\n",
    "        if i_shift*shift + quadrant_width >= nslices:\n",
    "            quadrant = pd.concat([quadrant, df.iloc[:, :i_shift*shift + quadrant_width - nslices]], axis=1)\n",
    "        df_quadrants.append(quadrant)\n",
    "    # compute stddev and meanPE for each quadrant\n",
    "    for quadrant in df_quadrants:\n",
    "        quadrant[\"stdslices\"] = quadrant.apply(stddev_idslices_fun, axis=1)\n",
    "        quadrant[\"meanpe\"] = quadrant.apply(lambda row: row[:quadrant_width].mean(), axis=1)\n",
    "    # aggregate the features in a single dataset\n",
    "    features = pd.DataFrame()\n",
    "    for i, quadrant in enumerate(df_quadrants):\n",
    "        features = pd.concat([features, quadrant[[\"stdslices\", \"meanpe\"]]], axis=1)\n",
    "    features.columns = [\"{}_{}\".format(col, j) for j in range(len(df_quadrants)) for col in [\"stdslices\", \"meanpe\"]]\n",
    "    return features\n",
    "\n",
    "# function to produce quad-based features for multiple configurations\n",
    "def produce_datasets_for_various_quandrant_features(muon_data, ar39_data, nshiftings, widths):\n",
    "    muon_datasets, ar39_1_datasets = [], []\n",
    "    for nshifting, width in zip(nshiftings, widths):\n",
    "        muon_datasets.append(produce_quadrant_features(muon_data, nshiftings=nshifting, quadrant_width=width))\n",
    "        print(\"[Info] Computed quadrant features wt nshifting={}, width={} for Muons\".format(nshifting, width))\n",
    "        ar39_1_datasets.append(produce_quadrant_features(ar39_data, nshiftings=nshifting, quadrant_width=width))\n",
    "        print(\"[Info] Computed quadrant features wt nshifting={}, width={} for Ar39\".format(nshifting, width))\n",
    "    return muon_datasets, ar39_1_datasets"
   ]
  },
  {
   "cell_type": "code",
   "execution_count": 7,
   "metadata": {},
   "outputs": [
    {
     "name": "stdout",
     "output_type": "stream",
     "text": [
      "[Info] Computed quadrant features wt nshifting=1, width=72 for Muons\n",
      "[Info] Computed quadrant features wt nshifting=1, width=72 for Ar39\n"
     ]
    },
    {
     "name": "stderr",
     "output_type": "stream",
     "text": [
      "/home/luigi/.local/lib/python3.6/site-packages/ipykernel_launcher.py:29: SettingWithCopyWarning: \n",
      "A value is trying to be set on a copy of a slice from a DataFrame.\n",
      "Try using .loc[row_indexer,col_indexer] = value instead\n",
      "\n",
      "See the caveats in the documentation: http://pandas.pydata.org/pandas-docs/stable/indexing.html#indexing-view-versus-copy\n",
      "/home/luigi/.local/lib/python3.6/site-packages/ipykernel_launcher.py:30: SettingWithCopyWarning: \n",
      "A value is trying to be set on a copy of a slice from a DataFrame.\n",
      "Try using .loc[row_indexer,col_indexer] = value instead\n",
      "\n",
      "See the caveats in the documentation: http://pandas.pydata.org/pandas-docs/stable/indexing.html#indexing-view-versus-copy\n"
     ]
    },
    {
     "name": "stdout",
     "output_type": "stream",
     "text": [
      "[Info] Computed quadrant features wt nshifting=2, width=54 for Muons\n",
      "[Info] Computed quadrant features wt nshifting=2, width=54 for Ar39\n",
      "[Info] Computed quadrant features wt nshifting=4, width=36 for Muons\n",
      "[Info] Computed quadrant features wt nshifting=4, width=36 for Ar39\n"
     ]
    }
   ],
   "source": [
    "nshiftings = [1, 2, 4]\n",
    "widths = [72, 54, 36]\n",
    "muons_datasets, ar39_1_datasets = produce_datasets_for_various_quandrant_features(muon_data, ar39_data, nshiftings, widths)"
   ]
  },
  {
   "cell_type": "markdown",
   "metadata": {},
   "source": [
    "# Optimize DTree on raw input"
   ]
  },
  {
   "cell_type": "code",
   "execution_count": 8,
   "metadata": {},
   "outputs": [
    {
     "name": "stdout",
     "output_type": "stream",
     "text": [
      "[Info] Tune criterion\n",
      "{'criterion': 'entropy'}\n",
      "0.6864936707872371\n",
      "\n",
      "[Info] Tune Depth, Min Samples leaf\n",
      "{'max_depth': 2, 'min_samples_leaf': 1}\n",
      "0.7014291325255562\n",
      "\n",
      "[Info] 5 fold CV\n",
      "Results: [0.8        0.63414634 0.66315789 0.68965517 0.75      ]\n",
      "Mean Score: 0.70739188172281, Std Dev: 0.060046416951626824\n",
      "Elapsed time 4.771615743637085\n"
     ]
    }
   ],
   "source": [
    "from sklearn import decomposition\n",
    "from sklearn.pipeline import Pipeline\n",
    "from sklearn.preprocessing import StandardScaler\n",
    "from sklearn.tree import DecisionTreeClassifier\n",
    "from sklearn.model_selection import GridSearchCV, cross_val_score\n",
    "import time\n",
    "\n",
    "init = time.time()\n",
    "\n",
    "muon_features, ar39_features = muon_data, ar39_data\n",
    "# Prepare data for training\n",
    "muon_features[\"y\"] = 1\n",
    "ar39_features[\"y\"] = 0\n",
    "data = pd.concat([muon_features, ar39_features], axis=0)\n",
    "X, y = data.iloc[:, :-1], data.iloc[:, -1]\n",
    "X = np.array(X)\n",
    "y = np.array(y)\n",
    "\n",
    "print(\"[Info] Tune criterion\")\n",
    "parameters = {'criterion': ['gini', 'entropy']}        \n",
    "\n",
    "# Conduct Parameter Optmization With Pipeline\n",
    "# Create a grid search object\n",
    "clf = GridSearchCV(DecisionTreeClassifier(max_depth=8, min_samples_leaf=1), \n",
    "                   param_grid = parameters, \n",
    "                   scoring='precision', n_jobs=2, cv=5)\n",
    "\n",
    "# Fit the grid search\n",
    "clf.fit(X, y)\n",
    "print(clf.best_params_)\n",
    "print(clf.best_score_)\n",
    "\n",
    "print(\"\\n[Info] Tune Depth, Min Samples leaf\")\n",
    "parameters = {'max_depth': [2, 4, 6, 8, 12],\n",
    "             'min_samples_leaf': [1, 10, 30, 50, 100]}        \n",
    "\n",
    "# Conduct Parameter Optmization With Pipeline\n",
    "# Create a grid search object\n",
    "clf = GridSearchCV(DecisionTreeClassifier(criterion='entropy'), \n",
    "                   param_grid = parameters, \n",
    "                   scoring='precision', n_jobs=2, cv=5)\n",
    "\n",
    "# Fit the grid search\n",
    "clf.fit(X, y)\n",
    "print(clf.best_params_)\n",
    "print(clf.best_score_)\n",
    "\n",
    "print(\"\\n[Info] 5 fold CV\")\n",
    "# Use Cross Validation To Evaluate Model\n",
    "CV_Result = cross_val_score(clf, X, y, cv=5, scoring='precision')\n",
    "print(\"Results: {}\".format(CV_Result))\n",
    "print(\"Mean Score: {}, Std Dev: {}\".format(CV_Result.mean(), CV_Result.std()))\n",
    "\n",
    "print(\"Elapsed time {}\".format(time.time() - init))"
   ]
  },
  {
   "cell_type": "markdown",
   "metadata": {},
   "source": [
    "# Optimize DTree on quadrant features"
   ]
  },
  {
   "cell_type": "code",
   "execution_count": 9,
   "metadata": {},
   "outputs": [
    {
     "name": "stdout",
     "output_type": "stream",
     "text": [
      "[Info] Dataset 0\n",
      "  [Info] Tune criterion\n",
      "  [Info] Tune Depth, Min Samples leaf\n",
      "  [Result] Best model: criterion: entropy, depth: 2, min samples leaf: 1\n",
      "  [Eval 5CV] Mean Score: 0.8195, Std Dev: 0.0233\n",
      "\n",
      "  [Info] Elapsed time 0.36\n",
      "\n",
      "[Info] Dataset 1\n",
      "  [Info] Tune criterion\n",
      "  [Info] Tune Depth, Min Samples leaf\n",
      "  [Result] Best model: criterion: entropy, depth: 2, min samples leaf: 1\n",
      "  [Eval 5CV] Mean Score: 0.8287, Std Dev: 0.0237\n",
      "\n",
      "  [Info] Elapsed time 1.03\n",
      "\n",
      "[Info] Dataset 2\n",
      "  [Info] Tune criterion\n",
      "  [Info] Tune Depth, Min Samples leaf\n",
      "  [Result] Best model: criterion: gini, depth: 2, min samples leaf: 1\n",
      "  [Eval 5CV] Mean Score: 0.8030, Std Dev: 0.0284\n",
      "\n",
      "  [Info] Elapsed time 1.74\n",
      "\n"
     ]
    }
   ],
   "source": [
    "init = time.time()\n",
    "\n",
    "models = []\n",
    "for i, (muon_features, ar39_features) in enumerate(zip(muons_datasets, ar39_1_datasets)):\n",
    "    print(\"[Info] Dataset {}\".format(i))\n",
    "    # Prepare data for training\n",
    "    muon_features[\"y\"] = 1\n",
    "    ar39_features[\"y\"] = 0\n",
    "    data = pd.concat([muon_features, ar39_features], axis=0)\n",
    "    X, y = data.iloc[:, :-1], data.iloc[:, -1]\n",
    "    X = np.array(X)\n",
    "    y = np.array(y)\n",
    "\n",
    "    print(\"  [Info] Tune criterion\")\n",
    "    parameters = {'criterion': ['gini', 'entropy']}        \n",
    "\n",
    "    # Conduct Parameter Optmization With Pipeline\n",
    "    # Create a grid search object\n",
    "    clf = GridSearchCV(DecisionTreeClassifier(max_depth=8, min_samples_leaf=1), \n",
    "                       param_grid = parameters, \n",
    "                       scoring='precision', n_jobs=2, cv=5)\n",
    "\n",
    "    # Fit the grid search\n",
    "    clf.fit(X, y)\n",
    "    best_criterion = clf.best_params_[\"criterion\"]\n",
    "\n",
    "\n",
    "    print(\"  [Info] Tune Depth, Min Samples leaf\")\n",
    "    parameters = {'max_depth': [2, 4, 6, 8, 12],\n",
    "                 'min_samples_leaf': [1, 10, 30, 50, 100]}        \n",
    "\n",
    "    # Conduct Parameter Optmization With Pipeline\n",
    "    # Create a grid search object\n",
    "    clf = GridSearchCV(DecisionTreeClassifier(criterion='entropy'), \n",
    "                       param_grid = parameters, \n",
    "                       scoring='precision', n_jobs=2, cv=5)\n",
    "\n",
    "    # Fit the grid search\n",
    "    clf.fit(X, y)\n",
    "    best_depth = clf.best_params_[\"max_depth\"]\n",
    "    best_minsamples = clf.best_params_[\"min_samples_leaf\"]\n",
    "\n",
    "    # Use Cross Validation To Evaluate Model\n",
    "    print(\"  [Result] Best model: criterion: {}, depth: {}, min samples leaf: {}\".format(best_criterion, best_depth, best_minsamples))\n",
    "    clf = DecisionTreeClassifier(criterion=best_criterion, max_depth=best_depth, min_samples_leaf=best_minsamples)\n",
    "    clf.fit(X, y)\n",
    "    models.append(clf)\n",
    "    CV_Result = cross_val_score(clf, X, y, cv=5, scoring='precision')\n",
    "    print(\"  [Eval 5CV] Mean Score: {:.4f}, Std Dev: {:.4f}\".format(CV_Result.mean(), CV_Result.std()))\n",
    "\n",
    "    print(\"\\n  [Info] Elapsed time {:.2f}\".format(time.time() - init))\n",
    "    print()"
   ]
  },
  {
   "cell_type": "markdown",
   "metadata": {},
   "source": [
    "# Test model"
   ]
  },
  {
   "cell_type": "code",
   "execution_count": 122,
   "metadata": {},
   "outputs": [],
   "source": [
    "from sklearn.metrics import accuracy_score\n",
    "from sklearn.metrics import precision_score\n",
    "from sklearn.metrics import recall_score\n",
    "from sklearn.metrics import f1_score\n",
    "from sklearn.metrics import confusion_matrix as cv\n",
    "\n",
    "def test_model(muon_features, ar39_features, model, model_name):\n",
    "    data_template    = \"[Info] Dataset with {} features\"\n",
    "    model_template   = \"[Info] Model: {}\"\n",
    "    cm_template  = \"[Result] Conf. Matrix: TN: {}, FP: {}, FN: {}, TP: {} | TPR: {:.2f}%, FPR: {:.2f}%\\n\"\n",
    "    result_template  = \"[Result] {}: Accuracy: {:.3f}, Precision: {:.3f}, Recall: {:.3f}, F1: {:.3f}\\n\"\n",
    "\n",
    "    print(data_template.format(len(muon_features.columns)))\n",
    "    print(model_template.format(model_name))\n",
    "    # Prepare data for training\n",
    "    muon_features[\"y\"] = 1\n",
    "    ar39_features[\"y\"] = 0\n",
    "    # data preparation\n",
    "    data = pd.concat([muon_features, ar39_features], axis=0)\n",
    "    X, y = data.iloc[:, :-1], data.iloc[:, -1]\n",
    "    X = np.array(X)\n",
    "    y = np.array(y)\n",
    "    # evaluation\n",
    "    y_pred = model.predict(X)\n",
    "    accuracy = accuracy_score(y, y_pred)\n",
    "    precision = precision_score(y, y_pred)\n",
    "    recall = recall_score(y, y_pred)\n",
    "    f1 = f1_score(y, y_pred)\n",
    "    tn, fp, fn, tp = cv(y, y_pred).ravel()\n",
    "    #print(result_template.format(\"Test({} Mu, {} Ar)\".format(len(muon_features), len(ar39_1_features)),\n",
    "    #                            accuracy, precision, recall, f1))    \n",
    "    tpr, fpr = recall*100, fp/(fp+tn)*100\n",
    "    print(cm_template.format(tn, fp, fn, tp, tpr, fpr))    "
   ]
  },
  {
   "cell_type": "code",
   "execution_count": 116,
   "metadata": {},
   "outputs": [
    {
     "name": "stdout",
     "output_type": "stream",
     "text": [
      "[Info] Computed quadrant features wt nshifting=1, width=72 for Muons\n",
      "[Info] Computed quadrant features wt nshifting=1, width=72 for Ar39\n"
     ]
    },
    {
     "name": "stderr",
     "output_type": "stream",
     "text": [
      "/home/luigi/.local/lib/python3.6/site-packages/ipykernel_launcher.py:29: SettingWithCopyWarning: \n",
      "A value is trying to be set on a copy of a slice from a DataFrame.\n",
      "Try using .loc[row_indexer,col_indexer] = value instead\n",
      "\n",
      "See the caveats in the documentation: http://pandas.pydata.org/pandas-docs/stable/indexing.html#indexing-view-versus-copy\n",
      "/home/luigi/.local/lib/python3.6/site-packages/ipykernel_launcher.py:30: SettingWithCopyWarning: \n",
      "A value is trying to be set on a copy of a slice from a DataFrame.\n",
      "Try using .loc[row_indexer,col_indexer] = value instead\n",
      "\n",
      "See the caveats in the documentation: http://pandas.pydata.org/pandas-docs/stable/indexing.html#indexing-view-versus-copy\n"
     ]
    },
    {
     "name": "stdout",
     "output_type": "stream",
     "text": [
      "[Info] Computed quadrant features wt nshifting=2, width=54 for Muons\n",
      "[Info] Computed quadrant features wt nshifting=2, width=54 for Ar39\n",
      "[Info] Computed quadrant features wt nshifting=4, width=36 for Muons\n",
      "[Info] Computed quadrant features wt nshifting=4, width=36 for Ar39\n"
     ]
    }
   ],
   "source": [
    "# prepare test data\n",
    "skip_first_cols, nslices = 2, 72\n",
    "muon_test_data = pd.DataFrame(muons_test.iloc[:, skip_first_cols:skip_first_cols+nslices].to_numpy())\n",
    "ar39_test_data = pd.DataFrame(ar39_test.iloc[:, skip_first_cols:skip_first_cols+nslices].to_numpy())\n",
    "# prepare datasets\n",
    "prom_shiftings = [1, 2, 4]\n",
    "prom_widths = [72, 54, 36]\n",
    "muons_test_datasets, ar39_1_test_datasets = produce_datasets_for_various_quandrant_features(muon_test_data, ar39_test_data, prom_shiftings, prom_widths)"
   ]
  },
  {
   "cell_type": "code",
   "execution_count": 125,
   "metadata": {},
   "outputs": [
    {
     "name": "stdout",
     "output_type": "stream",
     "text": [
      "[Info] Dataset with 3 features\n",
      "[Info] Model: DTree\n",
      "{'class_weight': None, 'criterion': 'entropy', 'max_depth': 2, 'max_features': None, 'max_leaf_nodes': None, 'min_impurity_decrease': 0.0, 'min_impurity_split': None, 'min_samples_leaf': 1, 'min_samples_split': 2, 'min_weight_fraction_leaf': 0.0, 'presort': False, 'random_state': None, 'splitter': 'best'}\n",
      "[Result] Conf. Matrix: TN: 45457, FP: 4543, FN: 93, TP: 148 | TPR: 61.41%, FPR: 9.09%\n",
      "\n",
      "[Info] Dataset with 5 features\n",
      "[Info] Model: DTree\n",
      "{'class_weight': None, 'criterion': 'gini', 'max_depth': 2, 'max_features': None, 'max_leaf_nodes': None, 'min_impurity_decrease': 0.0, 'min_impurity_split': None, 'min_samples_leaf': 1, 'min_samples_split': 2, 'min_weight_fraction_leaf': 0.0, 'presort': False, 'random_state': None, 'splitter': 'best'}\n",
      "[Result] Conf. Matrix: TN: 44855, FP: 5145, FN: 95, TP: 146 | TPR: 60.58%, FPR: 10.29%\n",
      "\n",
      "[Info] Dataset with 9 features\n",
      "[Info] Model: DTree\n",
      "{'class_weight': None, 'criterion': 'entropy', 'max_depth': 6, 'max_features': None, 'max_leaf_nodes': None, 'min_impurity_decrease': 0.0, 'min_impurity_split': None, 'min_samples_leaf': 10, 'min_samples_split': 2, 'min_weight_fraction_leaf': 0.0, 'presort': False, 'random_state': None, 'splitter': 'best'}\n",
      "[Result] Conf. Matrix: TN: 45350, FP: 4650, FN: 99, TP: 142 | TPR: 58.92%, FPR: 9.30%\n",
      "\n"
     ]
    }
   ],
   "source": [
    "for model, muon_features, ar39_1_features in zip(models, muons_test_datasets, ar39_1_test_datasets):\n",
    "    test_model(muon_features, ar39_1_features, model, \"DTree\\n{}\".format(model.get_params()))"
   ]
  },
  {
   "cell_type": "code",
   "execution_count": null,
   "metadata": {},
   "outputs": [],
   "source": []
  }
 ],
 "metadata": {
  "kernelspec": {
   "display_name": "Python 3",
   "language": "python",
   "name": "python3"
  },
  "language_info": {
   "codemirror_mode": {
    "name": "ipython",
    "version": 3
   },
   "file_extension": ".py",
   "mimetype": "text/x-python",
   "name": "python",
   "nbconvert_exporter": "python",
   "pygments_lexer": "ipython3",
   "version": "3.6.9"
  }
 },
 "nbformat": 4,
 "nbformat_minor": 2
}
