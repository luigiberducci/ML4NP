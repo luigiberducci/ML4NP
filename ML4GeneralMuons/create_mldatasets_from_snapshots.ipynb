{
 "cells": [
  {
   "cell_type": "markdown",
   "metadata": {},
   "source": [
    "# Create ML Datasets from Snapshots\n",
    "In this notebook, we extract the dataset for ML (`csv`) from the snapshot created with `SnapshotCreator`. In particular, we perform the following steps:\n",
    "1. We load all 7 Ar39 Pileups and compute the cut w.r.t. the maximum simulated value.\n",
    "1. We select the low-energy muons and combine them wt 1,2,3 Ar39 Pileups.\n",
    "1. We create datasets of Ar39 Pileups."
   ]
  },
  {
   "cell_type": "code",
   "execution_count": 1,
   "metadata": {},
   "outputs": [],
   "source": [
    "import pandas as pd\n",
    "import matplotlib.pyplot as plt\n",
    "import os, glob"
   ]
  },
  {
   "cell_type": "code",
   "execution_count": 10,
   "metadata": {},
   "outputs": [
    {
     "name": "stdout",
     "output_type": "stream",
     "text": [
      "../Development/Out/T10us/Ar39_1to7Pileups/Ar39_06142020_10M_Snapshots_T10000_DT10000_Grp7_Seed123456789_Part10.csv\n",
      "../Development/Out/T10us/Ar39_1to7Pileups/Ar39_06142020_10M_Snapshots_T10000_DT10000_Grp7_Seed123456789_Part1.csv\n",
      "../Development/Out/T10us/Ar39_1to7Pileups/Ar39_06142020_10M_Snapshots_T10000_DT10000_Grp7_Seed123456789_Part2.csv\n",
      "../Development/Out/T10us/Ar39_1to7Pileups/Ar39_06142020_10M_Snapshots_T10000_DT10000_Grp7_Seed123456789_Part3.csv\n",
      "../Development/Out/T10us/Ar39_1to7Pileups/Ar39_06142020_10M_Snapshots_T10000_DT10000_Grp7_Seed123456789_Part4.csv\n",
      "../Development/Out/T10us/Ar39_1to7Pileups/Ar39_06142020_10M_Snapshots_T10000_DT10000_Grp7_Seed123456789_Part5.csv\n",
      "../Development/Out/T10us/Ar39_1to7Pileups/Ar39_06142020_10M_Snapshots_T10000_DT10000_Grp7_Seed123456789_Part6.csv\n",
      "../Development/Out/T10us/Ar39_1to7Pileups/Ar39_06142020_10M_Snapshots_T10000_DT10000_Grp7_Seed123456789_Part7.csv\n",
      "../Development/Out/T10us/Ar39_1to7Pileups/Ar39_06142020_10M_Snapshots_T10000_DT10000_Grp7_Seed123456789_Part8.csv\n",
      "../Development/Out/T10us/Ar39_1to7Pileups/Ar39_06142020_10M_Snapshots_T10000_DT10000_Grp7_Seed123456789_Part9.csv\n",
      "[Info] 7 Ar39 Pileups: 901292\n",
      "[Info] 7 Ar39 Pileups: 901292 non-zero detections\n"
     ]
    }
   ],
   "source": [
    "dirin = \"../Development/Out/T10us/Ar39_1to7Pileups\"\n",
    "filein = \"Ar39_06142020_10M_Snapshots_T10000_DT10000_Grp7_Seed123456789_Part*.csv\"\n",
    "\n",
    "df7ar39 = pd.DataFrame()\n",
    "for i, file in enumerate(glob.glob(os.path.join(dirin, filein))):\n",
    "    print(file)\n",
    "    if i==0:\n",
    "        df7ar39 = pd.read_csv(file, comment='#', index_col=False)\n",
    "        df7ar39 = df7ar39[df7ar39.columns[:-1]]    # remove last unnamed col\n",
    "    else:\n",
    "        tmp = pd.read_csv(file, comment='#', index_col=False)\n",
    "        tmp = tmp[tmp.columns[:-1]]    # remove last unnamed col\n",
    "        df7ar39 = pd.concat([df7ar39, tmp])\n",
    "print(\"[Info] 7 Ar39 Pileups: {}\".format(len(df7ar39)))\n",
    "df7ar39 = df7ar39[df7ar39.pedetected > 0]\n",
    "print(\"[Info] 7 Ar39 Pileups: {} non-zero detections\".format(len(df7ar39)))"
   ]
  },
  {
   "cell_type": "code",
   "execution_count": 14,
   "metadata": {},
   "outputs": [
    {
     "data": {
      "image/png": "[encoded data removed]",
      "text/plain": [
       "<Figure size 432x288 with 1 Axes>"
      ]
     },
     "metadata": {
      "needs_background": "light"
     },
     "output_type": "display_data"
    },
    {
     "data": {
      "text/plain": [
       "count    901292.000000\n",
       "mean         23.007388\n",
       "std           9.220154\n",
       "min           2.000000\n",
       "25%          16.000000\n",
       "50%          21.000000\n",
       "75%          28.000000\n",
       "max         117.000000\n",
       "Name: pedetected, dtype: float64"
      ]
     },
     "execution_count": 14,
     "metadata": {},
     "output_type": "execute_result"
    }
   ],
   "source": [
    "# Plot PE detection of 7 Ar39s pileups\n",
    "ar39_maxE = 565\n",
    "op_yield = 40\n",
    "max_op_detection_eff = 0.0092\n",
    "quantum_eff = 0.4\n",
    "ideal_max_pe = int(7 * ar39_maxE * op_yield * max_op_detection_eff * quantum_eff)\n",
    "plt.hist(df7ar39.pedetected, bins=100, label=\"7 Ar39 Pileups\", density=True)\n",
    "plt.vlines(df7ar39.pedetected.max(), ymin=0, ymax=.02, color='r', label=\"Max:{}PE\".format(df7ar39.pedetected.max()))\n",
    "plt.vlines(ideal_max_pe, ymin=0, ymax=.02, color='r', linestyles='dashed', label=\"Ideal Max:{}PE\".format(ideal_max_pe))\n",
    "plt.legend()\n",
    "plt.xlabel(\"Energy Deposition in T=10us (KeV)\")\n",
    "plt.ylabel(\"Frequency (#counts/#tot)\")\n",
    "plt.yscale(\"log\")\n",
    "plt.show()\n",
    "\n",
    "df7ar39.pedetected.describe()"
   ]
  },
  {
   "cell_type": "code",
   "execution_count": 2,
   "metadata": {},
   "outputs": [
    {
     "name": "stdout",
     "output_type": "stream",
     "text": [
      "[Info] Muons : 14837\n",
      "[Info] Muons wt Non-zero Detectinons: 14836\n",
      "[Info] Low-Energy Muons : 14836\n"
     ]
    }
   ],
   "source": [
    "# load muon wt 0 < pedetected < max (117PE)\n",
    "dirin = \"../Development/Out/T10us/Muons/\"\n",
    "filein = \"Muons_wtQEff_Snapshots_T10000_DT10000_Grp1_Seed123456789_Part1.csv\"\n",
    "\n",
    "dfmuons = pd.read_csv(os.path.join(dirin, filein), comment='#', index_col=False)\n",
    "dfmuons = dfmuons[dfmuons.columns[:-1]]   # remove last Unnamed column\n",
    "\n",
    "print(\"[Info] Muons : {}\".format(len(dfmuons)))\n",
    "dfmuons = dfmuons[dfmuons.pedetected>0]   # remove event=1 (always blank when grp=1)\n",
    "print(\"[Info] Muons wt Non-zero Detectinons: {}\".format(len(dfmuons)))\n",
    "dfmarginals = dfmuons[(dfmuons.pedetected>0)]\n",
    "print(\"[Info] Low-Energy Muons : {}\".format(len(dfmarginals)))"
   ]
  },
  {
   "cell_type": "code",
   "execution_count": 5,
   "metadata": {},
   "outputs": [
    {
     "data": {
      "text/plain": [
       "count     14836.000000\n",
       "mean       3214.474993\n",
       "std       14852.419500\n",
       "min           1.000000\n",
       "25%          21.000000\n",
       "50%         745.500000\n",
       "75%        3282.500000\n",
       "max      865951.000000\n",
       "Name: pedetected, dtype: float64"
      ]
     },
     "execution_count": 5,
     "metadata": {},
     "output_type": "execute_result"
    }
   ],
   "source": [
    "dfmarginals.pedetected.describe()"
   ]
  },
  {
   "cell_type": "code",
   "execution_count": 6,
   "metadata": {},
   "outputs": [
    {
     "name": "stdout",
     "output_type": "stream",
     "text": [
      "[Info] Loaded Muons\n",
      "[Result] Produced 14836 events, wt avg 3214.47 PE\n"
     ]
    },
    {
     "data": {
      "image/png": "[encoded data removed]",
      "text/plain": [
       "<Figure size 432x288 with 1 Axes>"
      ]
     },
     "metadata": {
      "needs_background": "light"
     },
     "output_type": "display_data"
    }
   ],
   "source": [
    "# creation of combined dataset muons + ar39s\n",
    "import numpy as np\n",
    "\n",
    "dirout = \"data/Muons/\"    # where to write combined datasets\n",
    "dirin = \"../Development/Out/T10us/Ar39_1to7Pileups\"\n",
    "fileinformat = \"Ar39_06142020_10M_Snapshots_T10000_DT10000_Grp{}_Seed123456789_Part*.csv\"\n",
    "\n",
    "bins = np.linspace(0, 300, 100)\n",
    "for i in range(1):\n",
    "    # load marginal muons\n",
    "    dfmarginals_kar39 = dfmarginals.reset_index()\n",
    "    print(\"[Info] Loaded Muons\")\n",
    "    if i > 0:\n",
    "        # load ar39\n",
    "        filein = fileinformat.format(i)    # load 1, 2, 3 ar39\n",
    "        dfKar39 = pd.read_csv(os.path.join(dirin, filein), comment='#', index_col=False)\n",
    "        dfKar39 = dfKar39[dfKar39.columns[:-1]]    # remove last unnamed col\n",
    "        dfKar39 = dfKar39[dfKar39.pedetected > 0]  # remove zero-detection events\n",
    "        dfKar39 = dfKar39.head(len(dfmarginals_kar39))    # get first N ar39 events (avoid NaN in `add`)\n",
    "        print(\"[Info] Loaded first {} events of {} Ar39s\".format(len(dfKar39), i))\n",
    "        print(\"[Info]    Their Avg pe detection: {:.2f} PE\".format(dfKar39.pedetected.mean()))\n",
    "        # combine muons + ar 39\n",
    "        dfmarginals_kar39 = dfmarginals_kar39.add(dfKar39.reset_index())\n",
    "    # columns selection (remove meaningless cols, like eventnumber (it is now the sum of creator events))\n",
    "    dfmarginals_kar39 = dfmarginals_kar39[dfmarginals_kar39.columns[2:]]\n",
    "    # cut again on energy \n",
    "    #dfmarginals_kar39 = dfmarginals_kar39[(dfmarginals_kar39.pedetected > 0) & (dfmarginals_kar39.pedetected <= 117)]    \n",
    "    print(\"[Result] Produced {} events, wt avg {:.2f} PE\".format(len(dfmarginals_kar39), dfmarginals_kar39.pedetected.mean()))\n",
    "    # plot\n",
    "    plt.title(\"Muon + {} Ar39 - Energy ()\".format(i))\n",
    "    plt.hist(dfmarginals_kar39.pedetected, bins=bins, density=True)\n",
    "    plt.vlines(117, ymin=0, ymax=.02, color='r', label=\"Cut 117 PE\")\n",
    "    plt.yscale('log')\n",
    "    plt.legend()\n",
    "    plt.show()\n",
    "    # write output\n",
    "    dfmarginals_kar39.to_csv(os.path.join(dirout, \"LowEnergyMuons_wt_{}ar39_ALL.csv\".format(i)), index=False)\n",
    "    "
   ]
  },
  {
   "cell_type": "code",
   "execution_count": 2,
   "metadata": {},
   "outputs": [],
   "source": [
    "def load_dataframe_from_files(dirin, fileprefix):\n",
    "    import glob\n",
    "    files = glob.glob(os.path.join(dirin, fileprefix))\n",
    "    print(\"[Info] Loading {}\".format(files[0]))\n",
    "    df = pd.read_csv(files[0], comment='#', index_col=False)\n",
    "    for file in files[1:]:\n",
    "        print(\"[Info] Loading {}\".format(file))\n",
    "        dftmp = pd.read_csv(file, comment='#', index_col=False)\n",
    "        df = pd.concat([df, dftmp])\n",
    "    return df"
   ]
  },
  {
   "cell_type": "code",
   "execution_count": 3,
   "metadata": {},
   "outputs": [
    {
     "name": "stdout",
     "output_type": "stream",
     "text": [
      "[Info] Loading ../Development/Out/T10us/Ar39_1to7Pileups/Ar39_06142020_10M_Snapshots_T10000_DT10000_Grp1_Seed123456789_Part1.csv\n",
      "[Info] Loading ../Development/Out/T10us/Ar39_1to7Pileups/Ar39_06142020_10M_Snapshots_T10000_DT10000_Grp1_Seed123456789_Part10.csv\n",
      "[Info] Loading ../Development/Out/T10us/Ar39_1to7Pileups/Ar39_06142020_10M_Snapshots_T10000_DT10000_Grp1_Seed123456789_Part11.csv\n",
      "[Info] Loading ../Development/Out/T10us/Ar39_1to7Pileups/Ar39_06142020_10M_Snapshots_T10000_DT10000_Grp1_Seed123456789_Part12.csv\n",
      "[Info] Loading ../Development/Out/T10us/Ar39_1to7Pileups/Ar39_06142020_10M_Snapshots_T10000_DT10000_Grp1_Seed123456789_Part13.csv\n",
      "[Info] Loading ../Development/Out/T10us/Ar39_1to7Pileups/Ar39_06142020_10M_Snapshots_T10000_DT10000_Grp1_Seed123456789_Part14.csv\n",
      "[Info] Loading ../Development/Out/T10us/Ar39_1to7Pileups/Ar39_06142020_10M_Snapshots_T10000_DT10000_Grp1_Seed123456789_Part15.csv\n",
      "[Info] Loading ../Development/Out/T10us/Ar39_1to7Pileups/Ar39_06142020_10M_Snapshots_T10000_DT10000_Grp1_Seed123456789_Part16.csv\n",
      "[Info] Loading ../Development/Out/T10us/Ar39_1to7Pileups/Ar39_06142020_10M_Snapshots_T10000_DT10000_Grp1_Seed123456789_Part17.csv\n",
      "[Info] Loading ../Development/Out/T10us/Ar39_1to7Pileups/Ar39_06142020_10M_Snapshots_T10000_DT10000_Grp1_Seed123456789_Part25.csv\n",
      "[Info] Loading ../Development/Out/T10us/Ar39_1to7Pileups/Ar39_06142020_10M_Snapshots_T10000_DT10000_Grp1_Seed123456789_Part33.csv\n",
      "[Info] Loading ../Development/Out/T10us/Ar39_1to7Pileups/Ar39_06142020_10M_Snapshots_T10000_DT10000_Grp1_Seed123456789_Part41.csv\n",
      "[Info] Loading ../Development/Out/T10us/Ar39_1to7Pileups/Ar39_06142020_10M_Snapshots_T10000_DT10000_Grp1_Seed123456789_Part5.csv\n",
      "[Info] Loading ../Development/Out/T10us/Ar39_1to7Pileups/Ar39_06142020_10M_Snapshots_T10000_DT10000_Grp1_Seed123456789_Part58.csv\n",
      "[Info] Loading ../Development/Out/T10us/Ar39_1to7Pileups/Ar39_06142020_10M_Snapshots_T10000_DT10000_Grp1_Seed123456789_Part9.csv\n",
      "[Info] Loading ../Development/Out/T10us/Ar39_1to7Pileups/Ar39_06142020_10M_Snapshots_T10000_DT10000_Grp1_Seed123456789_Part18.csv\n",
      "[Info] Loading ../Development/Out/T10us/Ar39_1to7Pileups/Ar39_06142020_10M_Snapshots_T10000_DT10000_Grp1_Seed123456789_Part19.csv\n",
      "[Info] Loading ../Development/Out/T10us/Ar39_1to7Pileups/Ar39_06142020_10M_Snapshots_T10000_DT10000_Grp1_Seed123456789_Part2.csv\n",
      "[Info] Loading ../Development/Out/T10us/Ar39_1to7Pileups/Ar39_06142020_10M_Snapshots_T10000_DT10000_Grp1_Seed123456789_Part20.csv\n",
      "[Info] Loading ../Development/Out/T10us/Ar39_1to7Pileups/Ar39_06142020_10M_Snapshots_T10000_DT10000_Grp1_Seed123456789_Part21.csv\n",
      "[Info] Loading ../Development/Out/T10us/Ar39_1to7Pileups/Ar39_06142020_10M_Snapshots_T10000_DT10000_Grp1_Seed123456789_Part22.csv\n",
      "[Info] Loading ../Development/Out/T10us/Ar39_1to7Pileups/Ar39_06142020_10M_Snapshots_T10000_DT10000_Grp1_Seed123456789_Part23.csv\n",
      "[Info] Loading ../Development/Out/T10us/Ar39_1to7Pileups/Ar39_06142020_10M_Snapshots_T10000_DT10000_Grp1_Seed123456789_Part24.csv\n",
      "[Info] Loading ../Development/Out/T10us/Ar39_1to7Pileups/Ar39_06142020_10M_Snapshots_T10000_DT10000_Grp1_Seed123456789_Part26.csv\n",
      "[Info] Loading ../Development/Out/T10us/Ar39_1to7Pileups/Ar39_06142020_10M_Snapshots_T10000_DT10000_Grp1_Seed123456789_Part27.csv\n",
      "[Info] Loading ../Development/Out/T10us/Ar39_1to7Pileups/Ar39_06142020_10M_Snapshots_T10000_DT10000_Grp1_Seed123456789_Part28.csv\n",
      "[Info] Loading ../Development/Out/T10us/Ar39_1to7Pileups/Ar39_06142020_10M_Snapshots_T10000_DT10000_Grp1_Seed123456789_Part29.csv\n",
      "[Info] Loading ../Development/Out/T10us/Ar39_1to7Pileups/Ar39_06142020_10M_Snapshots_T10000_DT10000_Grp1_Seed123456789_Part3.csv\n",
      "[Info] Loading ../Development/Out/T10us/Ar39_1to7Pileups/Ar39_06142020_10M_Snapshots_T10000_DT10000_Grp1_Seed123456789_Part30.csv\n",
      "[Info] Loading ../Development/Out/T10us/Ar39_1to7Pileups/Ar39_06142020_10M_Snapshots_T10000_DT10000_Grp1_Seed123456789_Part31.csv\n",
      "[Info] Loading ../Development/Out/T10us/Ar39_1to7Pileups/Ar39_06142020_10M_Snapshots_T10000_DT10000_Grp1_Seed123456789_Part32.csv\n",
      "[Info] Loading ../Development/Out/T10us/Ar39_1to7Pileups/Ar39_06142020_10M_Snapshots_T10000_DT10000_Grp1_Seed123456789_Part34.csv\n",
      "[Info] Loading ../Development/Out/T10us/Ar39_1to7Pileups/Ar39_06142020_10M_Snapshots_T10000_DT10000_Grp1_Seed123456789_Part35.csv\n",
      "[Info] Loading ../Development/Out/T10us/Ar39_1to7Pileups/Ar39_06142020_10M_Snapshots_T10000_DT10000_Grp1_Seed123456789_Part36.csv\n",
      "[Info] Loading ../Development/Out/T10us/Ar39_1to7Pileups/Ar39_06142020_10M_Snapshots_T10000_DT10000_Grp1_Seed123456789_Part37.csv\n",
      "[Info] Loading ../Development/Out/T10us/Ar39_1to7Pileups/Ar39_06142020_10M_Snapshots_T10000_DT10000_Grp1_Seed123456789_Part38.csv\n",
      "[Info] Loading ../Development/Out/T10us/Ar39_1to7Pileups/Ar39_06142020_10M_Snapshots_T10000_DT10000_Grp1_Seed123456789_Part39.csv\n",
      "[Info] Loading ../Development/Out/T10us/Ar39_1to7Pileups/Ar39_06142020_10M_Snapshots_T10000_DT10000_Grp1_Seed123456789_Part4.csv\n",
      "[Info] Loading ../Development/Out/T10us/Ar39_1to7Pileups/Ar39_06142020_10M_Snapshots_T10000_DT10000_Grp1_Seed123456789_Part40.csv\n",
      "[Info] Loading ../Development/Out/T10us/Ar39_1to7Pileups/Ar39_06142020_10M_Snapshots_T10000_DT10000_Grp1_Seed123456789_Part42.csv\n",
      "[Info] Loading ../Development/Out/T10us/Ar39_1to7Pileups/Ar39_06142020_10M_Snapshots_T10000_DT10000_Grp1_Seed123456789_Part43.csv\n",
      "[Info] Loading ../Development/Out/T10us/Ar39_1to7Pileups/Ar39_06142020_10M_Snapshots_T10000_DT10000_Grp1_Seed123456789_Part44.csv\n",
      "[Info] Loading ../Development/Out/T10us/Ar39_1to7Pileups/Ar39_06142020_10M_Snapshots_T10000_DT10000_Grp1_Seed123456789_Part45.csv\n",
      "[Info] Loading ../Development/Out/T10us/Ar39_1to7Pileups/Ar39_06142020_10M_Snapshots_T10000_DT10000_Grp1_Seed123456789_Part46.csv\n",
      "[Info] Loading ../Development/Out/T10us/Ar39_1to7Pileups/Ar39_06142020_10M_Snapshots_T10000_DT10000_Grp1_Seed123456789_Part47.csv\n",
      "[Info] Loading ../Development/Out/T10us/Ar39_1to7Pileups/Ar39_06142020_10M_Snapshots_T10000_DT10000_Grp1_Seed123456789_Part48.csv\n",
      "[Info] Loading ../Development/Out/T10us/Ar39_1to7Pileups/Ar39_06142020_10M_Snapshots_T10000_DT10000_Grp1_Seed123456789_Part49.csv\n",
      "[Info] Loading ../Development/Out/T10us/Ar39_1to7Pileups/Ar39_06142020_10M_Snapshots_T10000_DT10000_Grp1_Seed123456789_Part50.csv\n",
      "[Info] Loading ../Development/Out/T10us/Ar39_1to7Pileups/Ar39_06142020_10M_Snapshots_T10000_DT10000_Grp1_Seed123456789_Part51.csv\n",
      "[Info] Loading ../Development/Out/T10us/Ar39_1to7Pileups/Ar39_06142020_10M_Snapshots_T10000_DT10000_Grp1_Seed123456789_Part52.csv\n",
      "[Info] Loading ../Development/Out/T10us/Ar39_1to7Pileups/Ar39_06142020_10M_Snapshots_T10000_DT10000_Grp1_Seed123456789_Part53.csv\n",
      "[Info] Loading ../Development/Out/T10us/Ar39_1to7Pileups/Ar39_06142020_10M_Snapshots_T10000_DT10000_Grp1_Seed123456789_Part54.csv\n",
      "[Info] Loading ../Development/Out/T10us/Ar39_1to7Pileups/Ar39_06142020_10M_Snapshots_T10000_DT10000_Grp1_Seed123456789_Part55.csv\n",
      "[Info] Loading ../Development/Out/T10us/Ar39_1to7Pileups/Ar39_06142020_10M_Snapshots_T10000_DT10000_Grp1_Seed123456789_Part56.csv\n",
      "[Info] Loading ../Development/Out/T10us/Ar39_1to7Pileups/Ar39_06142020_10M_Snapshots_T10000_DT10000_Grp1_Seed123456789_Part57.csv\n",
      "[Info] Loading ../Development/Out/T10us/Ar39_1to7Pileups/Ar39_06142020_10M_Snapshots_T10000_DT10000_Grp1_Seed123456789_Part59.csv\n",
      "[Info] Loading ../Development/Out/T10us/Ar39_1to7Pileups/Ar39_06142020_10M_Snapshots_T10000_DT10000_Grp1_Seed123456789_Part6.csv\n",
      "[Info] Loading ../Development/Out/T10us/Ar39_1to7Pileups/Ar39_06142020_10M_Snapshots_T10000_DT10000_Grp1_Seed123456789_Part60.csv\n",
      "[Info] Loading ../Development/Out/T10us/Ar39_1to7Pileups/Ar39_06142020_10M_Snapshots_T10000_DT10000_Grp1_Seed123456789_Part61.csv\n",
      "[Info] Loading ../Development/Out/T10us/Ar39_1to7Pileups/Ar39_06142020_10M_Snapshots_T10000_DT10000_Grp1_Seed123456789_Part62.csv\n",
      "[Info] Loading ../Development/Out/T10us/Ar39_1to7Pileups/Ar39_06142020_10M_Snapshots_T10000_DT10000_Grp1_Seed123456789_Part63.csv\n",
      "[Info] Loading ../Development/Out/T10us/Ar39_1to7Pileups/Ar39_06142020_10M_Snapshots_T10000_DT10000_Grp1_Seed123456789_Part64.csv\n",
      "[Info] Loading ../Development/Out/T10us/Ar39_1to7Pileups/Ar39_06142020_10M_Snapshots_T10000_DT10000_Grp1_Seed123456789_Part7.csv\n",
      "[Info] Loading ../Development/Out/T10us/Ar39_1to7Pileups/Ar39_06142020_10M_Snapshots_T10000_DT10000_Grp1_Seed123456789_Part8.csv\n"
     ]
    },
    {
     "name": "stdout",
     "output_type": "stream",
     "text": [
      "[Info] Loaded first 6309048 events of 1 Ar39s\n",
      "[Info]    Their Avg pe detection: 3.51 PE\n",
      "[Result] Produced 6309048 events, wt avg 3.51 PE\n"
     ]
    },
    {
     "data": {
      "image/png": "[encoded data removed]",
      "text/plain": [
       "<Figure size 432x288 with 1 Axes>"
      ]
     },
     "metadata": {
      "needs_background": "light"
     },
     "output_type": "display_data"
    }
   ],
   "source": [
    "# creation of ar39 dataset\n",
    "import numpy as np\n",
    "\n",
    "dirout = \"data/Ar39/\"    # where to write combined datasets\n",
    "dirin = \"../Development/Out/T10us/Ar39_1to7Pileups\"\n",
    "fileinformat = \"Ar39_06142020_10M_Snapshots_T10000_DT10000_Grp{}_Seed123456789_Part*.csv\"\n",
    "\n",
    "bins = np.linspace(0, 300, 100)\n",
    "num_events_per_dataset = 10000000\n",
    "for i in range(1, 2):\n",
    "    # load ar39\n",
    "    fileinprefix = fileinformat.format(i)\n",
    "    dfKar39 = load_dataframe_from_files(dirin, fileinprefix)\n",
    "    dfKar39 = dfKar39[dfKar39.columns[:-1]]    # remove last unnamed col\n",
    "    dfKar39 = dfKar39[dfKar39.pedetected > 0]  # remove zero-detection events\n",
    "    dfKar39 = dfKar39.tail(num_events_per_dataset)    # get first N ar39 events (avoid NaN in `add`)\n",
    "    print(\"[Info] Loaded first {} events of {} Ar39s\".format(len(dfKar39), i))\n",
    "    print(\"[Info]    Their Avg pe detection: {:.2f} PE\".format(dfKar39.pedetected.mean()))\n",
    "    # columns selection (remove meaningless cols, like eventnumber (it is now the sum of creator events))\n",
    "    dfKar39 = dfKar39[dfKar39.columns[2:]]\n",
    "    # cut again on energy \n",
    "    assert(len(dfKar39[(dfKar39.pedetected <= 117)]))\n",
    "    print(\"[Result] Produced {} events, wt avg {:.2f} PE\".format(len(dfKar39), dfKar39.pedetected.mean()))\n",
    "    # plot\n",
    "    plt.title(\"{} Ar39 - Energy\".format(i))\n",
    "    plt.hist(dfKar39.pedetected, bins=bins, density=True)\n",
    "    plt.vlines(117, ymin=0, ymax=.02, color='r', label=\"Cut 117 PE\")\n",
    "    plt.yscale('log')\n",
    "    plt.legend()\n",
    "    plt.show()\n",
    "    # write output\n",
    "    dfKar39.to_csv(os.path.join(dirout, \"Ar39_{}Pileup_cut117PE_n{}.csv\".format(i, len(dfKar39))), index=False)\n",
    "    "
   ]
  },
  {
   "cell_type": "code",
   "execution_count": 4,
   "metadata": {},
   "outputs": [
    {
     "data": {
      "text/plain": [
       "count    6.309048e+06\n",
       "mean     3.514684e+00\n",
       "std      3.559003e+00\n",
       "min      1.000000e+00\n",
       "25%      1.000000e+00\n",
       "50%      2.000000e+00\n",
       "75%      4.000000e+00\n",
       "max      6.000000e+01\n",
       "Name: pedetected, dtype: float64"
      ]
     },
     "execution_count": 4,
     "metadata": {},
     "output_type": "execute_result"
    }
   ],
   "source": [
    "dfKar39.pedetected.describe()"
   ]
  },
  {
   "cell_type": "code",
   "execution_count": null,
   "metadata": {},
   "outputs": [],
   "source": []
  }
 ],
 "metadata": {
  "kernelspec": {
   "display_name": "Python 3",
   "language": "python",
   "name": "python3"
  },
  "language_info": {
   "codemirror_mode": {
    "name": "ipython",
    "version": 3
   },
   "file_extension": ".py",
   "mimetype": "text/x-python",
   "name": "python",
   "nbconvert_exporter": "python",
   "pygments_lexer": "ipython3",
   "version": "3.6.9"
  }
 },
 "nbformat": 4,
 "nbformat_minor": 4
}
