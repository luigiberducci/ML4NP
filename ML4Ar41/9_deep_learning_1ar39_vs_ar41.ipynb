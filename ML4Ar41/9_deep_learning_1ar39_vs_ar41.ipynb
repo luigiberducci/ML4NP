{
 "cells": [
  {
   "cell_type": "code",
   "execution_count": 1,
   "metadata": {},
   "outputs": [],
   "source": [
    "import os, glob, numpy as np, pandas as pd\n",
    "import matplotlib.pyplot as plt\n",
    "plt.rcParams['figure.figsize'] = [25, 15]\n",
    "plt.rcParams.update({'font.size': 18})\n",
    "import time"
   ]
  },
  {
   "cell_type": "code",
   "execution_count": 2,
   "metadata": {},
   "outputs": [],
   "source": [
    "def load_dataframe_from_files(dirin, fileprefix, max_files=100):\n",
    "    import glob\n",
    "    files = glob.glob(os.path.join(dirin, fileprefix))\n",
    "    print(\"[Info] Loading {} files wt prefix:\\n{}\".format(len(files), fileprefix))\n",
    "    df = pd.read_csv(files[0], comment='#', index_col=False)\n",
    "    for file in files[1:max_files]:\n",
    "        print(\".\", end='')\n",
    "        dftmp = pd.read_csv(file, comment='#', index_col=False)\n",
    "        df = pd.concat([df, dftmp])\n",
    "    print(\"\")\n",
    "    return df"
   ]
  },
  {
   "cell_type": "code",
   "execution_count": 3,
   "metadata": {},
   "outputs": [
    {
     "name": "stdout",
     "output_type": "stream",
     "text": [
      "[Info] Loading 1 files wt prefix:\n",
      "SnapshotAr41*.csv\n",
      "\n",
      "[Info] Loaded data in 0.043 seconds\n"
     ]
    }
   ],
   "source": [
    "init = time.time()\n",
    "dirin = os.path.join(\"..\", \"Data\", \"OutputProcessing\", \"Neutrons_Cut1000mm_09_04_2020\", \"Neutrons_Snapshots\")\n",
    "\n",
    "fileinprefix = \"SnapshotAr41*.csv\"\n",
    "df_ar41 = load_dataframe_from_files(dirin, fileinprefix)\n",
    "df_ar41 = df_ar41[df_ar41.columns[:-1]]\n",
    "\n",
    "print(\"[Info] Loaded data in {:.3f} seconds\".format(time.time() - init))"
   ]
  },
  {
   "cell_type": "code",
   "execution_count": 4,
   "metadata": {},
   "outputs": [
    {
     "name": "stdout",
     "output_type": "stream",
     "text": [
      "[Info] Loading 100 files wt prefix:\n",
      "Snapshot1Ar39*.csv\n",
      "...................................................................................................\n",
      "[Info] Loaded data in 58.177 seconds\n"
     ]
    }
   ],
   "source": [
    "init = time.time()\n",
    "dirin = os.path.join(\"..\", \"Data\", \"OutputProcessing\", \"Ar39_08_18_2020\", \"Ar39_Snapshots\")\n",
    "\n",
    "fileinprefix = \"Snapshot1Ar39*.csv\"\n",
    "df_ar39 = load_dataframe_from_files(dirin, fileinprefix)\n",
    "df_ar39 = df_ar39[df_ar39.columns[:-1]]\n",
    "\n",
    "print(\"[Info] Loaded data in {:.3f} seconds\".format(time.time() - init))"
   ]
  },
  {
   "cell_type": "markdown",
   "metadata": {},
   "source": [
    "# select data"
   ]
  },
  {
   "cell_type": "code",
   "execution_count": 9,
   "metadata": {},
   "outputs": [
    {
     "name": "stdout",
     "output_type": "stream",
     "text": [
      "[Info] Ar39: original events: 5303515, selected events: 461921\n",
      "[Info] Ar41: original events: 11733, selected events: 7203\n"
     ]
    }
   ],
   "source": [
    "min_pe, max_pe = 5, 50\n",
    "cutar39 = df_ar39[(df_ar39.pedetected>=min_pe) & (df_ar39.pedetected<=max_pe)]\n",
    "cutar41 = df_ar41[(df_ar41.pedetected>=min_pe) & (df_ar41.pedetected<=max_pe)]\n",
    "print(\"[Info] Ar39: original events: {}, selected events: {}\".format(len(df_ar39), len(cutar39)))\n",
    "print(\"[Info] Ar41: original events: {}, selected events: {}\".format(len(df_ar41), len(cutar41)))"
   ]
  },
  {
   "cell_type": "code",
   "execution_count": 10,
   "metadata": {},
   "outputs": [],
   "source": [
    "# remove test data from ar41\n",
    "n_test_ar41 = round(.10 * len(cutar41))\n",
    "id_ar41 = np.arange(len(cutar41))\n",
    "np.random.shuffle(id_ar41)\n",
    "test_ar41, train_ar41 = cutar41.iloc[id_ar41[:n_test_ar41], :], cutar41.iloc[id_ar41[n_test_ar41:], :]"
   ]
  },
  {
   "cell_type": "markdown",
   "metadata": {},
   "source": [
    "# augment ar41 data by rolling"
   ]
  },
  {
   "cell_type": "code",
   "execution_count": 11,
   "metadata": {},
   "outputs": [],
   "source": [
    "import warnings\n",
    "def augment_muons_by_roll(muon_df, n_inner_slices=12, n_outer_slices=20, n_inner_roll=3, n_outer_roll=5):\n",
    "    X_inner = muon_df.iloc[:, :n_inner_slices].to_numpy()\n",
    "    X_outer = muon_df.iloc[:, n_inner_slices:n_inner_slices+n_outer_slices].to_numpy()\n",
    "    if not n_inner_slices/n_inner_roll == n_outer_slices/n_outer_roll:\n",
    "        warnings(\"[Warning] The inner/outer rolls are not consistent. Break.\")\n",
    "        return\n",
    "    n_rolls = int(n_inner_slices / n_inner_roll)\n",
    "    for roll in np.array(np.linspace(0, n_inner_slices, n_rolls+1)[:-1], dtype='int'):\n",
    "        if roll==0:\n",
    "            XX_inner = X_inner\n",
    "        else:\n",
    "            XX_inner = np.concatenate([XX_inner, np.roll(X_inner, roll, axis=1)])\n",
    "    for roll in np.array(np.linspace(0, n_outer_slices, n_rolls+1)[:-1], dtype='int'):\n",
    "        if roll==0:\n",
    "            XX_outer = X_outer\n",
    "        else:\n",
    "            XX_outer = np.concatenate([XX_outer, np.roll(X_outer, roll, axis=1)])\n",
    "    return pd.DataFrame(np.concatenate([XX_inner, XX_outer], axis=1))"
   ]
  },
  {
   "cell_type": "code",
   "execution_count": 79,
   "metadata": {},
   "outputs": [
    {
     "name": "stdout",
     "output_type": "stream",
     "text": [
      "[Info] Augmented Ar41 Data: 25932 instances\n"
     ]
    }
   ],
   "source": [
    "aug_ar41_train = augment_muons_by_roll(train_ar41.iloc[:, 3:])\n",
    "#aug_ar41_train = pd.DataFrame(train_ar41.iloc[:, 3:].to_numpy())\n",
    "print(\"[Info] Augmented Ar41 Data: {} instances\".format(len(aug_ar41_train)))"
   ]
  },
  {
   "cell_type": "markdown",
   "metadata": {},
   "source": [
    "# undersample ar39"
   ]
  },
  {
   "cell_type": "code",
   "execution_count": 13,
   "metadata": {},
   "outputs": [],
   "source": [
    "def undersample_argon(ar39_df, number_of_instances=1000, augment_from_pe=35, augmentation_nr=5,\n",
    "                      skip_first_cols=2, nslices=72):\n",
    "    bins = np.linspace(0, ar39_df.pedetected.max()+1, ar39_df.pedetected.max()+2)\n",
    "    bin_cont, bin_edges, _ = plt.hist(ar39_df.pedetected, bins=bins, density=True, label=\"Ar39\", edgecolor='w')\n",
    "    # compute the nr of samples for each PE value,\n",
    "    # to undersample ar39 keeping the same distribution\n",
    "    avail_instances_per_pe = np.array([len(ar39_df[ar39_df.pedetected==pe]) for pe in range(0, ar39_df.pedetected.max()+1)])\n",
    "    nr_ar_samples_per_pe = np.array(np.where(np.ceil(bin_cont*number_of_instances)<=avail_instances_per_pe, np.ceil(bin_cont*number_of_instances), number_of_instances), dtype=int)\n",
    "    # Introduce a small bias on instances with \"high\" PE value\n",
    "    # to avoid to have just a few samples (e.g. 30,40,50,60 PE)\n",
    "    scaled_ar39 = pd.DataFrame()\n",
    "    for pe in range(1, ar39_df.pedetected.max()+1):\n",
    "        if pe > augment_from_pe:\n",
    "            nr_instances = augmentation_nr\n",
    "        else:\n",
    "            nr_instances = nr_ar_samples_per_pe[pe]\n",
    "        scaled_ar39 = pd.concat([scaled_ar39, ar39_df[ar39_df.pedetected==pe].iloc[:nr_instances]])\n",
    "    AA = scaled_ar39.iloc[:, skip_first_cols:skip_first_cols+nslices].to_numpy()\n",
    "    np.random.shuffle(AA)    # to avoid order by PE\n",
    "    return pd.DataFrame(AA)"
   ]
  },
  {
   "cell_type": "code",
   "execution_count": 80,
   "metadata": {},
   "outputs": [
    {
     "name": "stdout",
     "output_type": "stream",
     "text": [
      "2.5569939613342285\n"
     ]
    },
    {
     "data": {
      "image/png": "[encoded data removed]",
      "text/plain": [
       "<Figure size 1800x1080 with 1 Axes>"
      ]
     },
     "metadata": {
      "needs_background": "light"
     },
     "output_type": "display_data"
    }
   ],
   "source": [
    "init = time.time()\n",
    "skip_first_cols, n_inner_slices, n_outer_slices = 3, 12, 20\n",
    "\n",
    "train_ar39 = undersample_argon(cutar39, round(len(aug_ar41_train))*1.5, augment_from_pe=15, augmentation_nr=10, skip_first_cols=skip_first_cols, nslices=n_inner_slices+n_outer_slices)\n",
    "print(time.time() - init)"
   ]
  },
  {
   "cell_type": "code",
   "execution_count": 81,
   "metadata": {},
   "outputs": [
    {
     "name": "stdout",
     "output_type": "stream",
     "text": [
      "[Info] Training set: 64754 instances\n",
      "\tAr41: 25932 instances (0.40%)\n",
      "\tAr39: 38822 instances (0.60%)\n"
     ]
    }
   ],
   "source": [
    "print(\"[Info] Training set: {} instances\".format(len(aug_ar41_train) + len(train_ar39)))\n",
    "print(\"\\tAr41: {} instances ({:.2f}%)\".format(len(aug_ar41_train), len(aug_ar41_train) / (len(aug_ar41_train)+len(train_ar39))))\n",
    "print(\"\\tAr39: {} instances ({:.2f}%)\".format(len(train_ar39), len(train_ar39) / (len(aug_ar41_train)+len(train_ar39))))"
   ]
  },
  {
   "cell_type": "code",
   "execution_count": 82,
   "metadata": {},
   "outputs": [
    {
     "name": "stdout",
     "output_type": "stream",
     "text": [
      "[Safety Check] Training data: 64754 instances\n"
     ]
    }
   ],
   "source": [
    "aug_ar41_train[\"y\"] = 1\n",
    "train_ar39[\"y\"] = 0\n",
    "all_train = pd.concat([aug_ar41_train, train_ar39])\n",
    "X, y = all_train.iloc[:, :-1], all_train.iloc[:, -1]\n",
    "X = X.to_numpy().reshape((X.shape[0], X.shape[1], 1))    # to consistency with NN input\n",
    "print(\"[Safety Check] Training data: {} instances\".format(X.shape[0]))"
   ]
  },
  {
   "cell_type": "markdown",
   "metadata": {},
   "source": [
    "# training"
   ]
  },
  {
   "cell_type": "code",
   "execution_count": 17,
   "metadata": {},
   "outputs": [
    {
     "data": {
      "text/plain": [
       "True"
      ]
     },
     "execution_count": 17,
     "metadata": {},
     "output_type": "execute_result"
    }
   ],
   "source": [
    "import tensorflow as tf\n",
    "import tensorflow.python.util.deprecation as deprecation\n",
    "deprecation._PRINT_DEPRECATION_WARNINGS = False    # no deprecation warning print\n",
    "\n",
    "import logging\n",
    "logger = tf.get_logger()\n",
    "logger.setLevel(logging.ERROR)\n",
    "\n",
    "from sklearn.model_selection import train_test_split\n",
    "from sklearn.metrics import accuracy_score, recall_score, precision_score\n",
    "from sklearn.metrics import roc_curve, plot_roc_curve\n",
    "from sklearn.metrics import roc_auc_score\n",
    "\n",
    "tf.test.is_gpu_available()"
   ]
  },
  {
   "cell_type": "code",
   "execution_count": 47,
   "metadata": {},
   "outputs": [],
   "source": [
    "from sklearn.model_selection import RandomizedSearchCV, GridSearchCV, KFold\n",
    "from tensorflow.keras.layers import Conv1D, Conv2D, MaxPooling1D, MaxPooling2D, Flatten, Dense, Dropout\n",
    "from tensorflow.keras import Sequential"
   ]
  },
  {
   "cell_type": "code",
   "execution_count": 19,
   "metadata": {},
   "outputs": [],
   "source": [
    "def create_model(n_1_conv_layers=1, n_1_max_pooling_layers=1,\n",
    "                 n_2_conv_layers=1, n_2_max_pooling_layers=1, n_3_dense_layers=1,\n",
    "                 n_filters_1_conv_layers=64, kernel_size_1_conv_layers=6, activation_1_conv_layers='relu',\n",
    "                 pool_size_1_max_pooling_layers=3,\n",
    "                 n_filters_2_conv_layers=64, kernel_size_2_conv_layers=6, activation_2_conv_layers='relu',\n",
    "                 pool_size_2_max_pooling_layers=3,\n",
    "                 n_neurons_3_dense_layers=32, activation_3_dense_layers='relu',\n",
    "                 activation_f_layer='sigmoid',\n",
    "                 learningrate=0.01, decay=0.0, l1=0.01, l2=0.01, dropout=0.0,\n",
    "                 input_shape=(32, 1), output_shape=1):\n",
    "    print(\".\", end=\"\")\n",
    "    opt = tf.keras.optimizers.Adam(lr=learningrate, beta_1=0.9, beta_2=0.999,  decay=decay)\n",
    "    reg = tf.keras.regularizers.l1_l2(l1=l1, l2=l2)\n",
    "                                                     \n",
    "    model = Sequential()\n",
    "    \n",
    "    first=True    # for the firt layer we need to specify the input dimensions\n",
    "    for i in range(n_1_conv_layers):\n",
    "        if first:\n",
    "            model.add(Conv1D(filters=n_filters_1_conv_layers, kernel_size=kernel_size_1_conv_layers, \n",
    "                             activation=activation_1_conv_layers, input_shape=input_shape))\n",
    "            first=False\n",
    "        else: \n",
    "            model.add(Conv1D(filters=n_filters_1_conv_layers, kernel_size=kernel_size_1_conv_layers, \n",
    "                             activation=activation_1_conv_layers))\n",
    "        if dropout>0:\n",
    "            model.add(Dropout(dropout))\n",
    "         \n",
    "    for i in range(n_1_max_pooling_layers):\n",
    "        model.add(MaxPooling1D(pool_size=pool_size_1_max_pooling_layers))\n",
    "        if dropout>0:\n",
    "            model.add(Dropout(dropout))\n",
    "    \n",
    "    for i in range(n_2_conv_layers):\n",
    "        model.add(Conv1D(filters=n_filters_2_conv_layers, kernel_size=kernel_size_2_conv_layers, \n",
    "                         activation=activation_2_conv_layers))\n",
    "        if dropout>0:\n",
    "            model.add(Dropout(dropout))\n",
    "          \n",
    "    for i in range(n_2_max_pooling_layers):\n",
    "        model.add(MaxPooling1D(pool_size=pool_size_2_max_pooling_layers))\n",
    "        if dropout>0:\n",
    "            model.add(Dropout(dropout))\n",
    "    \n",
    "    model.add(Flatten())\n",
    "    \n",
    "    previous_n_neurons = 2*n_neurons_3_dense_layers\n",
    "    for i in range(n_3_dense_layers):        \n",
    "        current_n_neurons = round(previous_n_neurons/2)\n",
    "        model.add(Dense(current_n_neurons, activation=activation_3_dense_layers, kernel_regularizer=reg))\n",
    "        previous_n_neurons = current_n_neurons\n",
    "        if dropout>0:\n",
    "            model.add(Dropout(dropout))\n",
    "            \n",
    "    model.add(Dense(output_shape, activation=activation_f_layer))\n",
    "    model.compile(loss='binary_crossentropy', optimizer=opt, metrics=[tf.keras.metrics.AUC(), tf.keras.metrics.Precision()])\n",
    "    return model"
   ]
  },
  {
   "cell_type": "markdown",
   "metadata": {},
   "source": [
    "# hyperparams tuning"
   ]
  },
  {
   "cell_type": "code",
   "execution_count": 28,
   "metadata": {},
   "outputs": [],
   "source": [
    "# numbers of layers\n",
    "n_1_conv_layers = [1]    # 1. series of conv layers. here define the nr of conv layers\n",
    "n_1_max_pooling_layers = [0, 1]     # 2. series of max pooling layers\n",
    "n_2_conv_layers = [1, 2]       # 3. series of conv layers\n",
    "n_2_max_pooling_layers = [1]     # 4. series of max pooling layers\n",
    "n_3_dense_layers = [1, 2, 3]    \n",
    "\n",
    "# layers' details \n",
    "n_filters_1_conv_layers = [64, 128, 256]\n",
    "n_filters_2_conv_layers = [16, 32]\n",
    "kernel_size_1_conv_layers = [6, 7, 8]\n",
    "kernel_size_2_conv_layers = [2, 3, 4]\n",
    "pool_size_1_max_pooling_layers = [2, 3]\n",
    "pool_size_2_max_pooling_layers = [2, 3]\n",
    "n_neurons_3_dense_layers = [16, 32, 64, 128]\n",
    "\n",
    "# activation\n",
    "activation_1_conv_layers = ['relu', 'sigmoid']\n",
    "activation_2_conv_layers = ['relu', 'sigmoid']\n",
    "activation_3_dense_layers = ['relu', 'sigmoid']\n",
    "activation_f_layer = ['sigmoid']\n",
    "\n",
    "# learning algorithm parameters\n",
    "lr = [1e-1]\n",
    "decay = [1e-6]\n",
    "\n",
    "# dropout and regularisation\n",
    "dropout = [0]\n",
    "l1 = [0.0001]\n",
    "l2 = [0.0001]\n",
    "\n",
    "# dictionary summary\n",
    "param_grid = dict(n_1_conv_layers=n_1_conv_layers, n_1_max_pooling_layers=n_1_max_pooling_layers,\n",
    "                  n_2_conv_layers=n_2_conv_layers, n_2_max_pooling_layers=n_2_max_pooling_layers, n_3_dense_layers=n_3_dense_layers,\n",
    "                  n_filters_1_conv_layers=n_filters_1_conv_layers, kernel_size_1_conv_layers=kernel_size_1_conv_layers, \n",
    "                  activation_1_conv_layers=activation_1_conv_layers,\n",
    "                  pool_size_1_max_pooling_layers=pool_size_1_max_pooling_layers,\n",
    "                  n_filters_2_conv_layers=n_filters_2_conv_layers, kernel_size_2_conv_layers=kernel_size_2_conv_layers, \n",
    "                  activation_2_conv_layers=activation_2_conv_layers,\n",
    "                  pool_size_2_max_pooling_layers=pool_size_2_max_pooling_layers,\n",
    "                  n_neurons_3_dense_layers=n_neurons_3_dense_layers, activation_3_dense_layers=activation_3_dense_layers,\n",
    "                  activation_f_layer=activation_f_layer,\n",
    "                  learningrate=lr, decay=decay, l1=l1, l2=l2, dropout=dropout)"
   ]
  },
  {
   "cell_type": "code",
   "execution_count": 29,
   "metadata": {},
   "outputs": [],
   "source": [
    "from tensorflow.keras.wrappers.scikit_learn import KerasClassifier\n",
    "# model class to use in the scikit random search CV \n",
    "n_epochs, batch_size = 3, 128\n",
    "model = KerasClassifier(build_fn=create_model, epochs=n_epochs, batch_size=batch_size, verbose=0)"
   ]
  },
  {
   "cell_type": "code",
   "execution_count": 30,
   "metadata": {},
   "outputs": [],
   "source": [
    "n_random_iterations=200\n",
    "grid = RandomizedSearchCV(estimator=model, cv=KFold(3, shuffle=True), param_distributions=param_grid, scoring=\"roc_auc\",\n",
    "                          verbose=1,  n_iter=n_random_iterations, n_jobs=1)"
   ]
  },
  {
   "cell_type": "code",
   "execution_count": 31,
   "metadata": {},
   "outputs": [
    {
     "name": "stdout",
     "output_type": "stream",
     "text": [
      "[Info] Random Search CV\n",
      "\tNr Epochs: 3, Nr Random Iterations: 200\n",
      "Fitting 3 folds for each of 200 candidates, totalling 600 fits\n",
      "."
     ]
    },
    {
     "name": "stderr",
     "output_type": "stream",
     "text": [
      "[Parallel(n_jobs=1)]: Using backend SequentialBackend with 1 concurrent workers.\n"
     ]
    },
    {
     "name": "stdout",
     "output_type": "stream",
     "text": [
      "......................................................................................................................................................................................................................................................................................................................................................................................................................................................................................................................................................................................................................."
     ]
    },
    {
     "name": "stderr",
     "output_type": "stream",
     "text": [
      "[Parallel(n_jobs=1)]: Done 600 out of 600 | elapsed: 21.8min finished\n"
     ]
    },
    {
     "name": "stdout",
     "output_type": "stream",
     "text": [
      ".End in 1309.027 sec\n"
     ]
    }
   ],
   "source": [
    "print(\"[Info] Random Search CV\")\n",
    "print(\"\\tNr Epochs: {}, Nr Random Iterations: {}\".format(n_epochs, n_random_iterations))\n",
    "init = time.time()\n",
    "grid_result = grid.fit(X, y)\n",
    "print(\"End in {:.3f} sec\".format(time.time() - init))"
   ]
  },
  {
   "cell_type": "code",
   "execution_count": 32,
   "metadata": {},
   "outputs": [
    {
     "data": {
      "text/plain": [
       "{'epochs': 3,\n",
       " 'batch_size': 128,\n",
       " 'verbose': 0,\n",
       " 'pool_size_2_max_pooling_layers': 2,\n",
       " 'pool_size_1_max_pooling_layers': 3,\n",
       " 'n_neurons_3_dense_layers': 128,\n",
       " 'n_filters_2_conv_layers': 32,\n",
       " 'n_filters_1_conv_layers': 64,\n",
       " 'n_3_dense_layers': 3,\n",
       " 'n_2_max_pooling_layers': 1,\n",
       " 'n_2_conv_layers': 1,\n",
       " 'n_1_max_pooling_layers': 0,\n",
       " 'n_1_conv_layers': 1,\n",
       " 'learningrate': 0.1,\n",
       " 'l2': 0.0001,\n",
       " 'l1': 0.0001,\n",
       " 'kernel_size_2_conv_layers': 3,\n",
       " 'kernel_size_1_conv_layers': 8,\n",
       " 'dropout': 0,\n",
       " 'decay': 1e-06,\n",
       " 'activation_f_layer': 'sigmoid',\n",
       " 'activation_3_dense_layers': 'relu',\n",
       " 'activation_2_conv_layers': 'relu',\n",
       " 'activation_1_conv_layers': 'relu',\n",
       " 'build_fn': <function __main__.create_model(n_1_conv_layers=1, n_1_max_pooling_layers=1, n_2_conv_layers=1, n_2_max_pooling_layers=1, n_3_dense_layers=1, n_filters_1_conv_layers=64, kernel_size_1_conv_layers=6, activation_1_conv_layers='relu', pool_size_1_max_pooling_layers=3, n_filters_2_conv_layers=64, kernel_size_2_conv_layers=6, activation_2_conv_layers='relu', pool_size_2_max_pooling_layers=3, n_neurons_3_dense_layers=32, activation_3_dense_layers='relu', activation_f_layer='sigmoid', learningrate=0.01, decay=0.0, l1=0.01, l2=0.01, dropout=0.0, input_shape=(32, 1), output_shape=1)>}"
      ]
     },
     "execution_count": 32,
     "metadata": {},
     "output_type": "execute_result"
    }
   ],
   "source": [
    "grid_result.best_estimator_.get_params()"
   ]
  },
  {
   "cell_type": "code",
   "execution_count": 33,
   "metadata": {},
   "outputs": [],
   "source": [
    "pd.DataFrame(grid_result.cv_results_).to_csv(\"new_tuning_cnn.txt\")"
   ]
  },
  {
   "cell_type": "code",
   "execution_count": 34,
   "metadata": {},
   "outputs": [
    {
     "data": {
      "text/plain": [
       "0.9361929004032605"
      ]
     },
     "execution_count": 34,
     "metadata": {},
     "output_type": "execute_result"
    }
   ],
   "source": [
    "grid_result.best_score_"
   ]
  },
  {
   "cell_type": "markdown",
   "metadata": {},
   "source": [
    "# try model wt conv 2d"
   ]
  },
  {
   "cell_type": "code",
   "execution_count": 70,
   "metadata": {},
   "outputs": [],
   "source": [
    "def create_model2(n_filters_1_conv_layers, kernel_size_1_conv_layers, activation_1_conv_layers,\n",
    "                  n_filters_2_conv_layers, kernel_size_2_conv_layers, activation_2_conv_layers,\n",
    "                  pool_size_1_max_pooling_layers, pool_size_2_max_pooling_layers,\n",
    "                  n_3_dense_layers, n_neurons_3_dense_layers, activation_3_dense_layers,\n",
    "                  activation_f_layer,\n",
    "                  learningrate, decay, dropout, l1, l2,\n",
    "                  input_shape, output_shape):\n",
    "    print(\".\", end=\"\")\n",
    "    opt = tf.keras.optimizers.Adam(lr=learningrate, beta_1=0.9, beta_2=0.999,  decay=decay)\n",
    "    reg = tf.keras.regularizers.l1_l2(l1=l1, l2=l2)\n",
    "                                                     \n",
    "    model = Sequential()\n",
    "    \n",
    "    model.add(Conv1D(filters=n_filters_1_conv_layers, kernel_size=kernel_size_1_conv_layers, \n",
    "                             activation=activation_1_conv_layers, input_shape=input_shape))\n",
    "    if dropout>0:\n",
    "        model.add(Dropout(dropout))\n",
    "         \n",
    "    model.add(MaxPooling1D(pool_size=pool_size_1_max_pooling_layers))\n",
    "    \n",
    "    model.add(Conv1D(filters=n_filters_2_conv_layers, kernel_size=kernel_size_2_conv_layers, \n",
    "                     activation=activation_2_conv_layers))\n",
    "    if dropout>0:\n",
    "        model.add(Dropout(dropout))\n",
    "          \n",
    "    model.add(MaxPooling1D(pool_size=pool_size_2_max_pooling_layers))        \n",
    "    model.add(Flatten())\n",
    "    \n",
    "    previous_n_neurons = 2*n_neurons_3_dense_layers\n",
    "    for i in range(n_3_dense_layers):        \n",
    "        current_n_neurons = round(previous_n_neurons/2)\n",
    "        model.add(Dense(current_n_neurons, activation=activation_3_dense_layers, kernel_regularizer=reg))\n",
    "        previous_n_neurons = current_n_neurons\n",
    "        if dropout>0:\n",
    "            model.add(Dropout(dropout))\n",
    "            \n",
    "    model.add(Dense(output_shape, activation=activation_f_layer))\n",
    "    model.compile(loss='binary_crossentropy', optimizer=opt, metrics=[tf.keras.metrics.AUC(), tf.keras.metrics.Precision()])\n",
    "    return model"
   ]
  },
  {
   "cell_type": "code",
   "execution_count": 84,
   "metadata": {},
   "outputs": [
    {
     "name": "stdout",
     "output_type": "stream",
     "text": [
      "."
     ]
    }
   ],
   "source": [
    "m = create_model2(n_filters_1_conv_layers=128, kernel_size_1_conv_layers=10, activation_1_conv_layers=\"relu\",\n",
    "                  n_filters_2_conv_layers=64, kernel_size_2_conv_layers=5, activation_2_conv_layers=\"relu\",\n",
    "                  pool_size_1_max_pooling_layers=2, pool_size_2_max_pooling_layers=2, \n",
    "                  n_3_dense_layers=3, n_neurons_3_dense_layers=128, activation_3_dense_layers=\"relu\",\n",
    "                  learningrate=.01, decay=1e-6, activation_f_layer=\"sigmoid\",\n",
    "                  dropout=0.2, l1=.0001, l2=.0001,\n",
    "                  input_shape=(32, 1), output_shape=1)"
   ]
  },
  {
   "cell_type": "code",
   "execution_count": 85,
   "metadata": {},
   "outputs": [
    {
     "name": "stdout",
     "output_type": "stream",
     "text": [
      "Model: \"sequential_878\"\n",
      "_________________________________________________________________\n",
      "Layer (type)                 Output Shape              Param #   \n",
      "=================================================================\n",
      "conv1d_2189 (Conv1D)         (None, 23, 128)           1408      \n",
      "_________________________________________________________________\n",
      "dropout (Dropout)            (None, 23, 128)           0         \n",
      "_________________________________________________________________\n",
      "max_pooling1d_1314 (MaxPooli (None, 11, 128)           0         \n",
      "_________________________________________________________________\n",
      "conv1d_2190 (Conv1D)         (None, 7, 64)             41024     \n",
      "_________________________________________________________________\n",
      "dropout_1 (Dropout)          (None, 7, 64)             0         \n",
      "_________________________________________________________________\n",
      "max_pooling1d_1315 (MaxPooli (None, 3, 64)             0         \n",
      "_________________________________________________________________\n",
      "flatten_830 (Flatten)        (None, 192)               0         \n",
      "_________________________________________________________________\n",
      "dense_2523 (Dense)           (None, 128)               24704     \n",
      "_________________________________________________________________\n",
      "dropout_2 (Dropout)          (None, 128)               0         \n",
      "_________________________________________________________________\n",
      "dense_2524 (Dense)           (None, 64)                8256      \n",
      "_________________________________________________________________\n",
      "dropout_3 (Dropout)          (None, 64)                0         \n",
      "_________________________________________________________________\n",
      "dense_2525 (Dense)           (None, 32)                2080      \n",
      "_________________________________________________________________\n",
      "dropout_4 (Dropout)          (None, 32)                0         \n",
      "_________________________________________________________________\n",
      "dense_2526 (Dense)           (None, 1)                 33        \n",
      "=================================================================\n",
      "Total params: 77,505\n",
      "Trainable params: 77,505\n",
      "Non-trainable params: 0\n",
      "_________________________________________________________________\n"
     ]
    }
   ],
   "source": [
    "m.summary()"
   ]
  },
  {
   "cell_type": "code",
   "execution_count": 86,
   "metadata": {},
   "outputs": [
    {
     "name": "stdout",
     "output_type": "stream",
     "text": [
      "Epoch 1/50\n",
      "2024/2024 [==============================] - 11s 5ms/step - loss: 0.3750 - auc_830: 0.9212 - precision_830: 0.8848\n",
      "Epoch 2/50\n",
      "2024/2024 [==============================] - 11s 5ms/step - loss: 0.3573 - auc_830: 0.9282 - precision_830: 0.8911\n",
      "Epoch 3/50\n",
      "2024/2024 [==============================] - 11s 6ms/step - loss: 0.3493 - auc_830: 0.9302 - precision_830: 0.8945\n",
      "Epoch 4/50\n",
      "2024/2024 [==============================] - 11s 5ms/step - loss: 0.3361 - auc_830: 0.9315 - precision_830: 0.8906\n",
      "Epoch 5/50\n",
      "2024/2024 [==============================] - 11s 5ms/step - loss: 0.3465 - auc_830: 0.9308 - precision_830: 0.8953\n",
      "Epoch 6/50\n",
      "2024/2024 [==============================] - 11s 6ms/step - loss: 0.3461 - auc_830: 0.9304 - precision_830: 0.8884\n",
      "Epoch 7/50\n",
      "2024/2024 [==============================] - 11s 5ms/step - loss: 0.3421 - auc_830: 0.9314 - precision_830: 0.8887\n",
      "Epoch 8/50\n",
      "2024/2024 [==============================] - 11s 5ms/step - loss: 0.3284 - auc_830: 0.9343 - precision_830: 0.8904\n",
      "Epoch 9/50\n",
      "2024/2024 [==============================] - 11s 5ms/step - loss: 0.3450 - auc_830: 0.9305 - precision_830: 0.8853\n",
      "Epoch 10/50\n",
      "2024/2024 [==============================] - 11s 5ms/step - loss: 0.3318 - auc_830: 0.9345 - precision_830: 0.8808\n",
      "Epoch 11/50\n",
      "2024/2024 [==============================] - 11s 5ms/step - loss: 0.3271 - auc_830: 0.9349 - precision_830: 0.8999\n",
      "Epoch 12/50\n",
      "2024/2024 [==============================] - 11s 5ms/step - loss: 0.3278 - auc_830: 0.9345 - precision_830: 0.8853\n",
      "Epoch 13/50\n",
      "2024/2024 [==============================] - 11s 5ms/step - loss: 0.3341 - auc_830: 0.9322 - precision_830: 0.8976\n",
      "Epoch 14/50\n",
      "2024/2024 [==============================] - 11s 5ms/step - loss: 0.3343 - auc_830: 0.9332 - precision_830: 0.8819\n",
      "Epoch 15/50\n",
      "2024/2024 [==============================] - 11s 5ms/step - loss: 0.3337 - auc_830: 0.9346 - precision_830: 0.8823\n",
      "Epoch 16/50\n",
      "2024/2024 [==============================] - 11s 5ms/step - loss: 0.3367 - auc_830: 0.9321 - precision_830: 0.8718\n",
      "Epoch 17/50\n",
      "2024/2024 [==============================] - 11s 5ms/step - loss: 0.3279 - auc_830: 0.9347 - precision_830: 0.8848\n",
      "Epoch 18/50\n",
      "2024/2024 [==============================] - 11s 5ms/step - loss: 0.3445 - auc_830: 0.9300 - precision_830: 0.8853\n",
      "Epoch 19/50\n",
      "2024/2024 [==============================] - 11s 5ms/step - loss: 0.3300 - auc_830: 0.9352 - precision_830: 0.9011\n",
      "Epoch 20/50\n",
      "2024/2024 [==============================] - 11s 5ms/step - loss: 0.3255 - auc_830: 0.9350 - precision_830: 0.8745\n",
      "Epoch 21/50\n",
      "2024/2024 [==============================] - 11s 5ms/step - loss: 0.3473 - auc_830: 0.9307 - precision_830: 0.8853\n",
      "Epoch 22/50\n",
      "2024/2024 [==============================] - 11s 5ms/step - loss: 0.3252 - auc_830: 0.9362 - precision_830: 0.8893\n",
      "Epoch 23/50\n",
      "2024/2024 [==============================] - 11s 5ms/step - loss: 0.3296 - auc_830: 0.9344 - precision_830: 0.8872\n",
      "Epoch 24/50\n",
      "2024/2024 [==============================] - 11s 5ms/step - loss: 0.3634 - auc_830: 0.9270 - precision_830: 0.8891\n",
      "Epoch 25/50\n",
      "2024/2024 [==============================] - 11s 5ms/step - loss: 0.3331 - auc_830: 0.9343 - precision_830: 0.8636\n",
      "Epoch 26/50\n",
      "2024/2024 [==============================] - 11s 5ms/step - loss: 0.3250 - auc_830: 0.9355 - precision_830: 0.8807\n",
      "Epoch 27/50\n",
      "2024/2024 [==============================] - 11s 5ms/step - loss: 0.3218 - auc_830: 0.9360 - precision_830: 0.8761\n",
      "Epoch 28/50\n",
      "2024/2024 [==============================] - 11s 6ms/step - loss: 0.3297 - auc_830: 0.9336 - precision_830: 0.8676\n",
      "Epoch 29/50\n",
      "2024/2024 [==============================] - 11s 5ms/step - loss: 0.3287 - auc_830: 0.9335 - precision_830: 0.8682\n",
      "Epoch 30/50\n",
      "2024/2024 [==============================] - 11s 5ms/step - loss: 0.3199 - auc_830: 0.9353 - precision_830: 0.8836\n",
      "Epoch 31/50\n",
      "2024/2024 [==============================] - 11s 6ms/step - loss: 0.3289 - auc_830: 0.9338 - precision_830: 0.8769\n",
      "Epoch 32/50\n",
      "2024/2024 [==============================] - 11s 5ms/step - loss: 0.3286 - auc_830: 0.9333 - precision_830: 0.8717\n",
      "Epoch 33/50\n",
      "2024/2024 [==============================] - 11s 5ms/step - loss: 0.3210 - auc_830: 0.9374 - precision_830: 0.8826\n",
      "Epoch 34/50\n",
      "2024/2024 [==============================] - 11s 5ms/step - loss: 0.3238 - auc_830: 0.9353 - precision_830: 0.8740\n",
      "Epoch 35/50\n",
      "2024/2024 [==============================] - 11s 5ms/step - loss: 0.3217 - auc_830: 0.9360 - precision_830: 0.8854\n",
      "Epoch 36/50\n",
      "2024/2024 [==============================] - 11s 5ms/step - loss: 0.3199 - auc_830: 0.9375 - precision_830: 0.8970\n",
      "Epoch 37/50\n",
      "2024/2024 [==============================] - 11s 5ms/step - loss: 0.3331 - auc_830: 0.9326 - precision_830: 0.8594\n",
      "Epoch 38/50\n",
      "2024/2024 [==============================] - 11s 5ms/step - loss: 0.3193 - auc_830: 0.9357 - precision_830: 0.8661\n",
      "Epoch 39/50\n",
      "2024/2024 [==============================] - 11s 5ms/step - loss: 0.3196 - auc_830: 0.9359 - precision_830: 0.8678\n",
      "Epoch 40/50\n",
      "2024/2024 [==============================] - 11s 5ms/step - loss: 0.3486 - auc_830: 0.9314 - precision_830: 0.8842\n",
      "Epoch 41/50\n",
      "2024/2024 [==============================] - 11s 5ms/step - loss: 0.3204 - auc_830: 0.9369 - precision_830: 0.8878\n",
      "Epoch 42/50\n",
      "2024/2024 [==============================] - 11s 5ms/step - loss: 0.3184 - auc_830: 0.9387 - precision_830: 0.9015\n",
      "Epoch 43/50\n",
      "2024/2024 [==============================] - 11s 6ms/step - loss: 0.3117 - auc_830: 0.9374 - precision_830: 0.8845\n",
      "Epoch 44/50\n",
      "2024/2024 [==============================] - 12s 6ms/step - loss: 0.3106 - auc_830: 0.9379 - precision_830: 0.8836\n",
      "Epoch 45/50\n",
      "2024/2024 [==============================] - 11s 5ms/step - loss: 0.3268 - auc_830: 0.9341 - precision_830: 0.8582\n",
      "Epoch 46/50\n",
      "2024/2024 [==============================] - 11s 5ms/step - loss: 0.3172 - auc_830: 0.9374 - precision_830: 0.8600\n",
      "Epoch 47/50\n",
      "2024/2024 [==============================] - 11s 6ms/step - loss: 0.3284 - auc_830: 0.9335 - precision_830: 0.8666\n",
      "Epoch 48/50\n",
      "2024/2024 [==============================] - 11s 6ms/step - loss: 0.3258 - auc_830: 0.9358 - precision_830: 0.8611\n",
      "Epoch 49/50\n",
      "2024/2024 [==============================] - 11s 5ms/step - loss: 0.3221 - auc_830: 0.9356 - precision_830: 0.8760\n",
      "Epoch 50/50\n",
      "2024/2024 [==============================] - 12s 6ms/step - loss: 0.3198 - auc_830: 0.9364 - precision_830: 0.8657\n"
     ]
    }
   ],
   "source": [
    "results = m.fit(X, y, epochs=50)"
   ]
  },
  {
   "cell_type": "markdown",
   "metadata": {},
   "source": [
    "# test"
   ]
  },
  {
   "cell_type": "code",
   "execution_count": 95,
   "metadata": {},
   "outputs": [],
   "source": [
    "# Compute features muon\n",
    "import time\n",
    "\n",
    "df_test_ar41_feat = pd.DataFrame(test_ar41.iloc[:, 3:].to_numpy())\n",
    "df_test_1ar39_feat = pd.DataFrame(cutar39.iloc[:, 3:].to_numpy())"
   ]
  },
  {
   "cell_type": "code",
   "execution_count": 98,
   "metadata": {},
   "outputs": [],
   "source": [
    "# create label\n",
    "df_test_1ar39_feat[\"y\"] = 0\n",
    "df_test_ar41_feat[\"y\"] = 1\n",
    "\n",
    "# data preparation\n",
    "all_test_data = pd.concat([df_test_1ar39_feat, df_test_ar41_feat], axis=0)\n",
    "XX, yy = all_test_data.iloc[:, :-1], all_test_data.iloc[:, -1]\n",
    "XX = XX.to_numpy().reshape((XX.shape[0], XX.shape[1], 1))    # to consistency with NN input"
   ]
  },
  {
   "cell_type": "code",
   "execution_count": 100,
   "metadata": {},
   "outputs": [
    {
     "name": "stdout",
     "output_type": "stream",
     "text": [
      "[Info] Inference 462641 instances wt CNN: 21.496 seconds\n"
     ]
    }
   ],
   "source": [
    "# inference\n",
    "init = time.time()\n",
    "y_pred_proba_cnn = m.predict_proba(XX)\n",
    "print(\"[Info] Inference {} instances wt CNN: {:.3f} seconds\".format(XX.shape[0], time.time()-init))\n",
    "\n",
    "all_test_data[\"y_cnn\"] = y_pred_proba_cnn"
   ]
  },
  {
   "cell_type": "code",
   "execution_count": 101,
   "metadata": {},
   "outputs": [],
   "source": [
    "# plot roc curve\n",
    "cnn_fpr, cnn_tpr, cnn_threshold = roc_curve(yy, all_test_data[\"y_cnn\"])"
   ]
  },
  {
   "cell_type": "code",
   "execution_count": 104,
   "metadata": {},
   "outputs": [
    {
     "name": "stdout",
     "output_type": "stream",
     "text": [
      "[Info] CNN: Threshold: 0.50 => TPR: 0.732, FPR=0.023\n",
      "[Info] CNN: Threshold: 0.75 => TPR: 0.640, FPR=0.006\n",
      "[Info] CNN: Threshold: 0.85 => TPR: 0.621, FPR=0.003\n"
     ]
    },
    {
     "data": {
      "image/png": "[encoded data removed]",
      "text/plain": [
       "<Figure size 1800x1080 with 1 Axes>"
      ]
     },
     "metadata": {
      "needs_background": "light"
     },
     "output_type": "display_data"
    }
   ],
   "source": [
    "highlight_thresholds = [.50, .75, .85]\n",
    "\n",
    "plt.plot(cnn_fpr, cnn_tpr, label=\"CNN\", linewidth=2)\n",
    "for threshold in highlight_thresholds:\n",
    "    cnn_mid_threshold = np.argmin(abs(cnn_threshold-threshold))\n",
    "    plt.scatter(cnn_fpr[cnn_mid_threshold], cnn_tpr[cnn_mid_threshold], label=\"CNN Threshold: {:.2f}\".format(cnn_threshold[cnn_mid_threshold]))\n",
    "    print(\"[Info] CNN: Threshold: {:.2f} => TPR: {:.3f}, FPR={:.3f}\".format(cnn_threshold[cnn_mid_threshold], cnn_tpr[cnn_mid_threshold], cnn_fpr[cnn_mid_threshold]))\n",
    "\n",
    "plt.text(.5, .5, \"CNN AUC: {:.5f}\".format(roc_auc_score(yy, all_test_data[\"y_cnn\"])))\n",
    "\n",
    "plt.title(\"Evaluation CNN VS RandomForest on Test Set\")\n",
    "plt.xlabel(\"False Positive Rate\")\n",
    "plt.ylabel(\"True Positive Rate\")\n",
    "plt.legend()\n",
    "plt.show()"
   ]
  },
  {
   "cell_type": "code",
   "execution_count": null,
   "metadata": {},
   "outputs": [],
   "source": []
  }
 ],
 "metadata": {
  "kernelspec": {
   "display_name": "Python 3",
   "language": "python",
   "name": "python3"
  },
  "language_info": {
   "codemirror_mode": {
    "name": "ipython",
    "version": 3
   },
   "file_extension": ".py",
   "mimetype": "text/x-python",
   "name": "python",
   "nbconvert_exporter": "python",
   "pygments_lexer": "ipython3",
   "version": "3.6.9"
  }
 },
 "nbformat": 4,
 "nbformat_minor": 4
}
