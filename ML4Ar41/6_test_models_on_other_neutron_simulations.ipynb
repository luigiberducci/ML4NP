{
 "cells": [
  {
   "cell_type": "markdown",
   "metadata": {},
   "source": [
    "# Test trained models on other Ar41 data"
   ]
  },
  {
   "cell_type": "code",
   "execution_count": 1,
   "metadata": {},
   "outputs": [],
   "source": [
    "import os, glob, numpy as np, pandas as pd\n",
    "import matplotlib.pyplot as plt\n",
    "import time\n",
    "plt.rcParams['figure.figsize'] = [25, 15]\n",
    "plt.rcParams.update({'font.size': 18})"
   ]
  },
  {
   "cell_type": "code",
   "execution_count": 2,
   "metadata": {},
   "outputs": [],
   "source": [
    "def load_dataframe_from_files(dirin, fileprefix, max_files=100):\n",
    "    import glob\n",
    "    files = glob.glob(os.path.join(dirin, fileprefix))\n",
    "    print(\"[Info] Loading {} files wt prefix:\\n{}\".format(len(files), fileprefix))\n",
    "    df = pd.read_csv(files[0], comment='#', index_col=False)\n",
    "    for file in files[1:max_files]:\n",
    "        print(\".\", end='')\n",
    "        dftmp = pd.read_csv(file, comment='#', index_col=False)\n",
    "        df = pd.concat([df, dftmp])\n",
    "    print(\"\")\n",
    "    return df"
   ]
  },
  {
   "cell_type": "code",
   "execution_count": 3,
   "metadata": {},
   "outputs": [
    {
     "name": "stdout",
     "output_type": "stream",
     "text": [
      "[Info] Loading 1 files wt prefix:\n",
      "SnapshotAr41NGS*\n",
      "\n",
      "[Info] Loaded all Ar41 in 0.05 seconds\n"
     ]
    }
   ],
   "source": [
    "# Load Ar41\n",
    "init = time.time()\n",
    "dirin = os.path.join(\"..\", \"Data\", \"OutputProcessing\", \"Neutrons_Cut1000mm_09_04_2020\", \"Neutrons_Snapshots\", \"test\")\n",
    "\n",
    "fileprefix = \"SnapshotAr41NGS*\"\n",
    "dfallar41 = load_dataframe_from_files(dirin, fileprefix)\n",
    "print(\"[Info] Loaded all Ar41 in {:.2f} seconds\".format(time.time() - init))"
   ]
  },
  {
   "cell_type": "code",
   "execution_count": 4,
   "metadata": {},
   "outputs": [
    {
     "name": "stdout",
     "output_type": "stream",
     "text": [
      "[Info] Loaded 10797 Ar41 snapshots from NeutronsGS simulation\n"
     ]
    }
   ],
   "source": [
    "print(\"[Info] Loaded {} Ar41 snapshots from NeutronsGS simulation\".format(len(dfallar41)))"
   ]
  },
  {
   "cell_type": "markdown",
   "metadata": {},
   "source": [
    "# first step: cut NPE"
   ]
  },
  {
   "cell_type": "code",
   "execution_count": 7,
   "metadata": {},
   "outputs": [
    {
     "name": "stdout",
     "output_type": "stream",
     "text": [
      "[Info] 2954 events (0.274 %) have > 50 PE\n",
      "[Info] 3798 events (0.352 %) have < 5 PE\n"
     ]
    }
   ],
   "source": [
    "print(\"[Info] {} events ({:.3f} %) have > 50 PE\".format(len(dfallar41[(dfallar41.pedetected>50)]), \n",
    "                                                len(dfallar41[(dfallar41.pedetected>50)])/len(dfallar41)))\n",
    "print(\"[Info] {} events ({:.3f} %) have < 5 PE\".format(len(dfallar41[(dfallar41.pedetected<5)]),                                                 \n",
    "                                                len(dfallar41[(dfallar41.pedetected<5)])/len(dfallar41)))"
   ]
  },
  {
   "cell_type": "code",
   "execution_count": 11,
   "metadata": {},
   "outputs": [
    {
     "name": "stdout",
     "output_type": "stream",
     "text": [
      "[Info] Restrict focus on the remaining Ar41 wt detections in [5, 50]: 4045 instances (0.375 %)\n"
     ]
    }
   ],
   "source": [
    "dfcutar41 = dfallar41[(dfallar41.pedetected>=5) & (dfallar41.pedetected<=50)]\n",
    "print(\"[Info] Restrict focus on the remaining Ar41 wt detections in [5, 50]: {} instances ({:.3f} %)\".format(len(dfcutar41), \n",
    "                                                                                                 len(dfcutar41)/len(dfallar41)))"
   ]
  },
  {
   "cell_type": "markdown",
   "metadata": {},
   "source": [
    "# features"
   ]
  },
  {
   "cell_type": "code",
   "execution_count": 12,
   "metadata": {},
   "outputs": [],
   "source": [
    "# Create Features\n",
    "def pe_detected(row):\n",
    "    return np.sum(row.to_numpy())\n",
    "\n",
    "def nr_active_slices(row):\n",
    "    return np.nonzero(row.to_numpy())[0].shape[0]\n",
    "\n",
    "def mean_npe(row):\n",
    "    return np.mean(row.to_numpy())\n",
    "\n",
    "def mean_npe_active(row):\n",
    "    rownp = row.to_numpy()\n",
    "    rownonzero = np.nonzero(rownp)[0]\n",
    "    return np.mean(rownp[rownonzero]) if rownonzero.shape[0]>0 else -1\n",
    "\n",
    "def std_npe(row):\n",
    "    return np.std(row.to_numpy())\n",
    "\n",
    "def std_npe_active(row):\n",
    "    rownp = row.to_numpy()\n",
    "    rownonzero = np.nonzero(rownp)[0]\n",
    "    return np.std(rownp[rownonzero]) if rownonzero.shape[0]>0 else -1\n",
    "\n",
    "def range_detections(row):\n",
    "    rownp = row.to_numpy()\n",
    "    rownonzero = np.nonzero(rownp)[0]\n",
    "    return rownonzero[-1] - rownonzero[0] + 1 if rownonzero.shape[0]>0 else -1\n",
    "\n",
    "def spatial_var(row):\n",
    "    rownp = row.to_numpy()\n",
    "    ids = np.repeat(np.argwhere(rownp>0), rownp[rownp>0])\n",
    "    return np.var(ids) if ids.shape[0]>0 else -1\n",
    "\n",
    "def spatial_std(row):\n",
    "    rownp = row.to_numpy()\n",
    "    ids = np.repeat(np.argwhere(rownp>0), rownp[rownp>0])\n",
    "    return np.std(ids) if ids.shape[0]>0 else -1"
   ]
  },
  {
   "cell_type": "code",
   "execution_count": 14,
   "metadata": {},
   "outputs": [
    {
     "name": "stdout",
     "output_type": "stream",
     "text": [
      "Compute Mu Inner features: 0.341 sec\n",
      "Compute Mu Outer features: 0.511 sec\n",
      "Compute combined features: 0.004 sec\n"
     ]
    }
   ],
   "source": [
    "# Compute features muon\n",
    "import time\n",
    "n_inner_slices, n_outer_slices = 12, 20\n",
    "init = time.time()\n",
    "df_ar41_feat = pd.DataFrame()\n",
    "df_ar41_feat[\"PEDetected_inner\"] = dfcutar41.iloc[:, 3:3+n_inner_slices].apply(lambda row: pe_detected(row), axis=1)\n",
    "df_ar41_feat[\"NActiveSlices_inner\"] = dfcutar41.iloc[:, 3:3+n_inner_slices].apply(lambda row: nr_active_slices(row), axis=1)\n",
    "df_ar41_feat[\"MeanNPEActive_inner\"] = dfcutar41.iloc[:, 3:3+n_inner_slices].apply(lambda row: mean_npe_active(row), axis=1)\n",
    "df_ar41_feat[\"SpatialRange_inner\"] = dfcutar41.iloc[:, 3:3+n_inner_slices].apply(lambda row: range_detections(row), axis=1)\n",
    "df_ar41_feat[\"SpatialVar_inner\"] = dfcutar41.iloc[:, 3:3+n_inner_slices].apply(lambda row: spatial_var(row), axis=1)\n",
    "print(\"Compute Mu Inner features: {:.3f} sec\".format(time.time() - init))\n",
    "init = time.time()\n",
    "df_ar41_feat[\"PEDetected_outer\"] = dfcutar41.iloc[:, 3+n_inner_slices:3+n_inner_slices+n_outer_slices].apply(lambda row: pe_detected(row), axis=1)\n",
    "df_ar41_feat[\"NActiveSlices_outer\"] = dfcutar41.iloc[:, 3+n_inner_slices:3+n_inner_slices+n_outer_slices].apply(lambda row: nr_active_slices(row), axis=1)\n",
    "df_ar41_feat[\"MeanNPEActive_outer\"] = dfcutar41.iloc[:, 3+n_inner_slices:3+n_inner_slices+n_outer_slices].apply(lambda row: mean_npe_active(row), axis=1)\n",
    "df_ar41_feat[\"SpatialRange_outer\"] = dfcutar41.iloc[:, 3+n_inner_slices:3+n_inner_slices+n_outer_slices].apply(lambda row: range_detections(row), axis=1)\n",
    "df_ar41_feat[\"SpatialVar_outer\"] = dfcutar41.iloc[:, 3+n_inner_slices:3+n_inner_slices+n_outer_slices].apply(lambda row: spatial_var(row), axis=1)\n",
    "print(\"Compute Mu Outer features: {:.3f} sec\".format(time.time() - init))\n",
    "init = time.time()\n",
    "df_ar41_feat[\"PEDetected_tot\"] = df_ar41_feat[\"PEDetected_inner\"] + df_ar41_feat[\"PEDetected_outer\"]\n",
    "df_ar41_feat[\"NActiveSlices_tot\"] = df_ar41_feat[\"NActiveSlices_inner\"] + df_ar41_feat[\"NActiveSlices_outer\"]\n",
    "df_ar41_feat[\"MeanNPEActive_tot\"] = df_ar41_feat[\"PEDetected_tot\"] / df_ar41_feat[\"NActiveSlices_tot\"]\n",
    "df_ar41_feat = df_ar41_feat.fillna(-1)\n",
    "print(\"Compute combined features: {:.3f} sec\".format(time.time() - init))"
   ]
  },
  {
   "cell_type": "markdown",
   "metadata": {},
   "source": [
    "# load models"
   ]
  },
  {
   "cell_type": "code",
   "execution_count": 15,
   "metadata": {},
   "outputs": [],
   "source": [
    "from joblib import load\n",
    "\n",
    "dt = load(\"models/dt_08_09_2020.joblib\")\n",
    "ada = load(\"models/ada_08_09_2020.joblib\")\n",
    "rf = load(\"models/rf_08_09_2020.joblib\")\n",
    "svm = load(\"models/svm_08_09_2020.joblib\")\n",
    "logit = load(\"models/logit_08_09_2020.joblib\")\n",
    "elastic = load(\"models/elastic_08_09_2020.joblib\")"
   ]
  },
  {
   "cell_type": "code",
   "execution_count": 16,
   "metadata": {},
   "outputs": [],
   "source": [
    "# create label\n",
    "df_ar41_feat[\"y\"] = 1    # since label not used, we use it to mark the class of pileup\n",
    "\n",
    "X, y = df_ar41_feat.iloc[:, :-1], df_ar41_feat.iloc[:, -1]\n",
    "X = np.array(X)\n",
    "y = np.where(y<0, 0, 1)"
   ]
  },
  {
   "cell_type": "code",
   "execution_count": 22,
   "metadata": {},
   "outputs": [
    {
     "name": "stdout",
     "output_type": "stream",
     "text": [
      "[Info] Inference 4045 instances wt DTree: 0.001 seconds\n",
      "[Info] Inference 4045 instances wt AdaBoost: 0.168 seconds\n",
      "[Info] Inference 4045 instances wt RandomForest: 0.015 seconds\n",
      "[Info] Inference 4045 instances wt SVM: 0.664 seconds\n",
      "[Info] Inference 4045 instances wt LogisticRegression: 0.001 seconds\n",
      "[Info] Inference 4045 instances wt ElasticNet: 0.001 seconds\n"
     ]
    }
   ],
   "source": [
    "# inference\n",
    "init = time.time()\n",
    "df_ar41_feat[\"y_dt\"] = dt.predict_proba(X)[:, 1]\n",
    "print(\"[Info] Inference {} instances wt DTree: {:.3f} seconds\".format(X.shape[0], time.time()-init))\n",
    "\n",
    "init = time.time()\n",
    "df_ar41_feat[\"y_ada\"] = ada.predict_proba(X)[:, 1]\n",
    "print(\"[Info] Inference {} instances wt AdaBoost: {:.3f} seconds\".format(X.shape[0], time.time()-init))\n",
    "\n",
    "init = time.time()\n",
    "df_ar41_feat[\"y_rf\"] = rf.predict_proba(X)[:, 1]\n",
    "print(\"[Info] Inference {} instances wt RandomForest: {:.3f} seconds\".format(X.shape[0], time.time()-init))\n",
    "\n",
    "init = time.time()\n",
    "df_ar41_feat[\"y_svm\"] = svm.predict_proba(X)[:, 1]\n",
    "print(\"[Info] Inference {} instances wt SVM: {:.3f} seconds\".format(X.shape[0], time.time()-init))\n",
    "\n",
    "init = time.time()\n",
    "df_ar41_feat[\"y_logit\"] = logit.predict_proba(X)[:, 1]\n",
    "print(\"[Info] Inference {} instances wt LogisticRegression: {:.3f} seconds\".format(X.shape[0], time.time()-init))\n",
    "\n",
    "init = time.time()\n",
    "df_ar41_feat[\"y_elastic\"] = elastic.predict(X)\n",
    "print(\"[Info] Inference {} instances wt ElasticNet: {:.3f} seconds\".format(X.shape[0], time.time()-init))"
   ]
  },
  {
   "cell_type": "code",
   "execution_count": 23,
   "metadata": {},
   "outputs": [
    {
     "name": "stdout",
     "output_type": "stream",
     "text": [
      "[Info] Efficiency DTree: 0.74438\n",
      "[Info] Efficiency AdaBoost: 0.77429\n",
      "[Info] Efficiency RandomForest: 0.82002\n",
      "[Info] Efficiency SVM: 0.77651\n",
      "[Info] Efficiency LogisticRegression: 0.74561\n",
      "[Info] Efficiency ElasticNet: 0.53449\n"
     ]
    }
   ],
   "source": [
    "dt_eff = len(df_ar41_feat[(df_ar41_feat.y==1) & (df_ar41_feat.y_dt>.50)])/len(df_ar41_feat[(df_ar41_feat.y==1)])\n",
    "ada_eff = len(df_ar41_feat[(df_ar41_feat.y==1) & (df_ar41_feat.y_ada>.50)])/len(df_ar41_feat[(df_ar41_feat.y==1)])\n",
    "rf_eff = len(df_ar41_feat[(df_ar41_feat.y==1) & (df_ar41_feat.y_rf>.50)])/len(df_ar41_feat[(df_ar41_feat.y==1)])\n",
    "\n",
    "print(\"[Info] Efficiency DTree: {:.5f}\".format(dt_eff))\n",
    "print(\"[Info] Efficiency AdaBoost: {:.5f}\".format(ada_eff))\n",
    "print(\"[Info] Efficiency RandomForest: {:.5f}\".format(rf_eff))\n",
    "\n",
    "svm_eff = len(df_ar41_feat[(df_ar41_feat.y==1) & (df_ar41_feat.y_svm>.50)])/len(df_ar41_feat[(df_ar41_feat.y==1)])\n",
    "logit_eff = len(df_ar41_feat[(df_ar41_feat.y==1) & (df_ar41_feat.y_logit>.50)])/len(df_ar41_feat[(df_ar41_feat.y==1)])\n",
    "elastic_eff = len(df_ar41_feat[(df_ar41_feat.y==1) & (df_ar41_feat.y_elastic>.50)])/len(df_ar41_feat[(df_ar41_feat.y==1)])\n",
    "\n",
    "print(\"[Info] Efficiency SVM: {:.5f}\".format(svm_eff))\n",
    "print(\"[Info] Efficiency LogisticRegression: {:.5f}\".format(logit_eff))\n",
    "print(\"[Info] Efficiency ElasticNet: {:.5f}\".format(elastic_eff))"
   ]
  },
  {
   "cell_type": "code",
   "execution_count": 3,
   "metadata": {},
   "outputs": [],
   "source": [
    "import os, glob, numpy as np, pandas as pd\n",
    "import matplotlib.pyplot as plt\n",
    "import time\n",
    "plt.rcParams['figure.figsize'] = [25, 15]\n",
    "plt.rcParams.update({'font.size': 44})"
   ]
  },
  {
   "cell_type": "code",
   "execution_count": 5,
   "metadata": {},
   "outputs": [
    {
     "data": {
      "image/png": "[encoded data removed]",
      "text/plain": [
       "<Figure size 1800x1080 with 1 Axes>"
      ]
     },
     "metadata": {
      "needs_background": "light"
     },
     "output_type": "display_data"
    }
   ],
   "source": [
    "tprs = [.74438, .74429, .82002, .77651, .74561, .53449]\n",
    "names = [\"DTree\", \"AdaBoost\", \"RndForest\", \"SVM\", \"Logit\", \"ElasticNet\"]\n",
    "\n",
    "plt.bar(range(6), tprs)\n",
    "plt.xticks(range(6), names)\n",
    "plt.ylim(.5, 1)\n",
    "plt.show()"
   ]
  },
  {
   "cell_type": "code",
   "execution_count": null,
   "metadata": {},
   "outputs": [],
   "source": []
  }
 ],
 "metadata": {
  "kernelspec": {
   "display_name": "Python 3",
   "language": "python",
   "name": "python3"
  },
  "language_info": {
   "codemirror_mode": {
    "name": "ipython",
    "version": 3
   },
   "file_extension": ".py",
   "mimetype": "text/x-python",
   "name": "python",
   "nbconvert_exporter": "python",
   "pygments_lexer": "ipython3",
   "version": "3.6.9"
  }
 },
 "nbformat": 4,
 "nbformat_minor": 4
}
