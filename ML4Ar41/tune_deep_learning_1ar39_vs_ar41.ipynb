{
 "cells": [
  {
   "cell_type": "code",
   "execution_count": 1,
   "metadata": {},
   "outputs": [],
   "source": [
    "import os, glob, numpy as np, pandas as pd\n",
    "import matplotlib.pyplot as plt\n",
    "plt.rcParams['figure.figsize'] = [25, 15]\n",
    "plt.rcParams.update({'font.size': 18})\n",
    "import time"
   ]
  },
  {
   "cell_type": "code",
   "execution_count": 2,
   "metadata": {},
   "outputs": [],
   "source": [
    "def load_dataframe_from_files(dirin, fileprefix, max_files=100):\n",
    "    import glob\n",
    "    files = glob.glob(os.path.join(dirin, fileprefix))\n",
    "    print(\"[Info] Loading {} files wt prefix:\\n{}\".format(len(files), fileprefix))\n",
    "    df = pd.read_csv(files[0], comment='#', index_col=False)\n",
    "    for file in files[1:max_files]:\n",
    "        print(\".\", end='')\n",
    "        dftmp = pd.read_csv(file, comment='#', index_col=False)\n",
    "        df = pd.concat([df, dftmp])\n",
    "    print(\"\")\n",
    "    return df"
   ]
  },
  {
   "cell_type": "code",
   "execution_count": 3,
   "metadata": {},
   "outputs": [
    {
     "name": "stdout",
     "output_type": "stream",
     "text": [
      "[Info] Loading 1 files wt prefix:\n",
      "SnapshotAr41*.csv\n",
      "\n",
      "[Info] Loaded data in 0.034 seconds\n"
     ]
    }
   ],
   "source": [
    "init = time.time()\n",
    "dirin = os.path.join(\"..\", \"Data\", \"OutputProcessing\", \"Neutrons_Cut1000mm_09_04_2020\", \"Neutrons_Snapshots\")\n",
    "\n",
    "fileinprefix = \"SnapshotAr41*.csv\"\n",
    "df_ar41 = load_dataframe_from_files(dirin, fileinprefix)\n",
    "df_ar41 = df_ar41[df_ar41.columns[:-1]]\n",
    "\n",
    "print(\"[Info] Loaded data in {:.3f} seconds\".format(time.time() - init))"
   ]
  },
  {
   "cell_type": "code",
   "execution_count": 4,
   "metadata": {},
   "outputs": [
    {
     "name": "stdout",
     "output_type": "stream",
     "text": [
      "[Info] Loading 100 files wt prefix:\n",
      "Snapshot1Ar39*.csv\n",
      "...................................................................................................\n",
      "[Info] Loaded data in 59.476 seconds\n"
     ]
    }
   ],
   "source": [
    "init = time.time()\n",
    "dirin = os.path.join(\"..\", \"Data\", \"OutputProcessing\", \"Ar39_08_18_2020\", \"Ar39_Snapshots\")\n",
    "\n",
    "fileinprefix = \"Snapshot1Ar39*.csv\"\n",
    "df_ar39 = load_dataframe_from_files(dirin, fileinprefix)\n",
    "df_ar39 = df_ar39[df_ar39.columns[:-1]]\n",
    "\n",
    "print(\"[Info] Loaded data in {:.3f} seconds\".format(time.time() - init))"
   ]
  },
  {
   "cell_type": "markdown",
   "metadata": {},
   "source": [
    "# select data"
   ]
  },
  {
   "cell_type": "code",
   "execution_count": 5,
   "metadata": {},
   "outputs": [
    {
     "name": "stdout",
     "output_type": "stream",
     "text": [
      "[Info] Ar39: original events: 5303515, selected events: 461921\n",
      "[Info] Ar41: original events: 11733, selected events: 7203\n"
     ]
    }
   ],
   "source": [
    "min_pe, max_pe = 5, 50\n",
    "cutar39 = df_ar39[(df_ar39.pedetected>=min_pe) & (df_ar39.pedetected<=max_pe)]\n",
    "cutar41 = df_ar41[(df_ar41.pedetected>=min_pe) & (df_ar41.pedetected<=max_pe)]\n",
    "print(\"[Info] Ar39: original events: {}, selected events: {}\".format(len(df_ar39), len(cutar39)))\n",
    "print(\"[Info] Ar41: original events: {}, selected events: {}\".format(len(df_ar41), len(cutar41)))"
   ]
  },
  {
   "cell_type": "code",
   "execution_count": 6,
   "metadata": {},
   "outputs": [],
   "source": [
    "# remove test data from ar41\n",
    "n_test_ar41 = round(.10 * len(cutar41))\n",
    "id_ar41 = np.arange(len(cutar41))\n",
    "np.random.shuffle(id_ar41)\n",
    "test_ar41, train_ar41 = cutar41.iloc[id_ar41[:n_test_ar41], :], cutar41.iloc[id_ar41[n_test_ar41:], :]"
   ]
  },
  {
   "cell_type": "markdown",
   "metadata": {},
   "source": [
    "# augment ar41 data by rolling"
   ]
  },
  {
   "cell_type": "code",
   "execution_count": 7,
   "metadata": {},
   "outputs": [],
   "source": [
    "import warnings\n",
    "def augment_muons_by_roll(muon_df, n_inner_slices=12, n_outer_slices=20, n_inner_roll=3, n_outer_roll=5):\n",
    "    X_inner = muon_df.iloc[:, :n_inner_slices].to_numpy()\n",
    "    X_outer = muon_df.iloc[:, n_inner_slices:n_inner_slices+n_outer_slices].to_numpy()\n",
    "    if not n_inner_slices/n_inner_roll == n_outer_slices/n_outer_roll:\n",
    "        warnings(\"[Warning] The inner/outer rolls are not consistent. Break.\")\n",
    "        return\n",
    "    n_rolls = int(n_inner_slices / n_inner_roll)\n",
    "    for roll in np.array(np.linspace(0, n_inner_slices, n_rolls+1)[:-1], dtype='int'):\n",
    "        if roll==0:\n",
    "            XX_inner = X_inner\n",
    "        else:\n",
    "            XX_inner = np.concatenate([XX_inner, np.roll(X_inner, roll, axis=1)])\n",
    "    for roll in np.array(np.linspace(0, n_outer_slices, n_rolls+1)[:-1], dtype='int'):\n",
    "        if roll==0:\n",
    "            XX_outer = X_outer\n",
    "        else:\n",
    "            XX_outer = np.concatenate([XX_outer, np.roll(X_outer, roll, axis=1)])\n",
    "    return pd.DataFrame(np.concatenate([XX_inner, XX_outer], axis=1))"
   ]
  },
  {
   "cell_type": "code",
   "execution_count": 11,
   "metadata": {},
   "outputs": [
    {
     "name": "stdout",
     "output_type": "stream",
     "text": [
      "[Info] Augmented Ar41 Data: 6483 instances\n"
     ]
    }
   ],
   "source": [
    "#aug_ar41_train = augment_muons_by_roll(train_ar41.iloc[:, 3:])\n",
    "aug_ar41_train = pd.DataFrame(train_ar41.iloc[:, 3:].to_numpy())\n",
    "print(\"[Info] Augmented Ar41 Data: {} instances\".format(len(aug_ar41_train)))"
   ]
  },
  {
   "cell_type": "markdown",
   "metadata": {},
   "source": [
    "# undersample ar39"
   ]
  },
  {
   "cell_type": "code",
   "execution_count": 12,
   "metadata": {},
   "outputs": [],
   "source": [
    "def undersample_argon(ar39_df, number_of_instances=1000, augment_from_pe=35, augmentation_nr=5,\n",
    "                      skip_first_cols=2, nslices=72):\n",
    "    bins = np.linspace(0, ar39_df.pedetected.max()+1, ar39_df.pedetected.max()+2)\n",
    "    bin_cont, bin_edges, _ = plt.hist(ar39_df.pedetected, bins=bins, density=True, label=\"Ar39\", edgecolor='w')\n",
    "    # compute the nr of samples for each PE value,\n",
    "    # to undersample ar39 keeping the same distribution\n",
    "    avail_instances_per_pe = np.array([len(ar39_df[ar39_df.pedetected==pe]) for pe in range(0, ar39_df.pedetected.max()+1)])\n",
    "    nr_ar_samples_per_pe = np.array(np.where(np.ceil(bin_cont*number_of_instances)<=avail_instances_per_pe, np.ceil(bin_cont*number_of_instances), number_of_instances), dtype=int)\n",
    "    # Introduce a small bias on instances with \"high\" PE value\n",
    "    # to avoid to have just a few samples (e.g. 30,40,50,60 PE)\n",
    "    scaled_ar39 = pd.DataFrame()\n",
    "    for pe in range(1, ar39_df.pedetected.max()+1):\n",
    "        if pe > augment_from_pe:\n",
    "            nr_instances = augmentation_nr\n",
    "        else:\n",
    "            nr_instances = nr_ar_samples_per_pe[pe]\n",
    "        scaled_ar39 = pd.concat([scaled_ar39, ar39_df[ar39_df.pedetected==pe].iloc[:nr_instances]])\n",
    "    AA = scaled_ar39.iloc[:, skip_first_cols:skip_first_cols+nslices].to_numpy()\n",
    "    np.random.shuffle(AA)    # to avoid order by PE\n",
    "    return pd.DataFrame(AA)"
   ]
  },
  {
   "cell_type": "code",
   "execution_count": 13,
   "metadata": {},
   "outputs": [
    {
     "name": "stdout",
     "output_type": "stream",
     "text": [
      "2.269014835357666\n"
     ]
    },
    {
     "data": {
      "image/png": "[encoded data removed]",
      "text/plain": [
       "<Figure size 1800x1080 with 1 Axes>"
      ]
     },
     "metadata": {
      "needs_background": "light"
     },
     "output_type": "display_data"
    }
   ],
   "source": [
    "init = time.time()\n",
    "skip_first_cols, n_inner_slices, n_outer_slices = 3, 12, 20\n",
    "\n",
    "train_ar39 = undersample_argon(cutar39, round(len(aug_ar41_train))*1.5, augment_from_pe=15, augmentation_nr=10, skip_first_cols=skip_first_cols, nslices=n_inner_slices+n_outer_slices)\n",
    "print(time.time() - init)"
   ]
  },
  {
   "cell_type": "code",
   "execution_count": 14,
   "metadata": {},
   "outputs": [
    {
     "name": "stdout",
     "output_type": "stream",
     "text": [
      "[Info] Training set: 16268 instances\n",
      "\tAr41: 6483 instances (0.40%)\n",
      "\tAr39: 9785 instances (0.60%)\n"
     ]
    }
   ],
   "source": [
    "print(\"[Info] Training set: {} instances\".format(len(aug_ar41_train) + len(train_ar39)))\n",
    "print(\"\\tAr41: {} instances ({:.2f}%)\".format(len(aug_ar41_train), len(aug_ar41_train) / (len(aug_ar41_train)+len(train_ar39))))\n",
    "print(\"\\tAr39: {} instances ({:.2f}%)\".format(len(train_ar39), len(train_ar39) / (len(aug_ar41_train)+len(train_ar39))))"
   ]
  },
  {
   "cell_type": "code",
   "execution_count": 15,
   "metadata": {},
   "outputs": [
    {
     "name": "stdout",
     "output_type": "stream",
     "text": [
      "[Safety Check] Training data: 16268 instances\n"
     ]
    }
   ],
   "source": [
    "aug_ar41_train[\"y\"] = 1\n",
    "train_ar39[\"y\"] = 0\n",
    "all_train = pd.concat([aug_ar41_train, train_ar39])\n",
    "X, y = all_train.iloc[:, :-1], all_train.iloc[:, -1]\n",
    "X = X.to_numpy().reshape((X.shape[0], X.shape[1], 1))    # to consistency with NN input\n",
    "print(\"[Safety Check] Training data: {} instances\".format(X.shape[0]))"
   ]
  },
  {
   "cell_type": "markdown",
   "metadata": {},
   "source": [
    "# training"
   ]
  },
  {
   "cell_type": "code",
   "execution_count": 16,
   "metadata": {},
   "outputs": [
    {
     "data": {
      "text/plain": [
       "True"
      ]
     },
     "execution_count": 16,
     "metadata": {},
     "output_type": "execute_result"
    }
   ],
   "source": [
    "import tensorflow as tf\n",
    "import tensorflow.python.util.deprecation as deprecation\n",
    "deprecation._PRINT_DEPRECATION_WARNINGS = False    # no deprecation warning print\n",
    "\n",
    "import logging\n",
    "logger = tf.get_logger()\n",
    "logger.setLevel(logging.ERROR)\n",
    "\n",
    "from sklearn.model_selection import train_test_split\n",
    "from sklearn.metrics import accuracy_score, recall_score, precision_score\n",
    "from sklearn.metrics import roc_curve, plot_roc_curve\n",
    "from sklearn.metrics import roc_auc_score\n",
    "\n",
    "tf.test.is_gpu_available()"
   ]
  },
  {
   "cell_type": "code",
   "execution_count": 17,
   "metadata": {},
   "outputs": [],
   "source": [
    "from sklearn.model_selection import RandomizedSearchCV, GridSearchCV, KFold\n",
    "from tensorflow.keras.layers import Conv1D, MaxPooling1D, Flatten, Dense, Dropout\n",
    "from tensorflow.keras import Sequential"
   ]
  },
  {
   "cell_type": "code",
   "execution_count": 18,
   "metadata": {},
   "outputs": [],
   "source": [
    "def create_model(n_1_conv_layers=1, n_1_max_pooling_layers=1,\n",
    "                 n_2_conv_layers=1, n_2_max_pooling_layers=1, n_3_dense_layers=1,\n",
    "                 n_filters_1_conv_layers=64, kernel_size_1_conv_layers=6, activation_1_conv_layers='relu',\n",
    "                 pool_size_1_max_pooling_layers=3,\n",
    "                 n_filters_2_conv_layers=64, kernel_size_2_conv_layers=6, activation_2_conv_layers='relu',\n",
    "                 pool_size_2_max_pooling_layers=3,\n",
    "                 n_neurons_3_dense_layers=32, activation_3_dense_layers='relu',\n",
    "                 activation_f_layer='sigmoid',\n",
    "                 learningrate=0.01, decay=0.0, l1=0.01, l2=0.01, dropout=0.0,\n",
    "                 input_shape=(32, 1), output_shape=1):\n",
    "    print(\".\", end=\"\")\n",
    "    opt = tf.keras.optimizers.Adam(lr=learningrate, beta_1=0.9, beta_2=0.999,  decay=decay)\n",
    "    reg = tf.keras.regularizers.l1_l2(l1=l1, l2=l2)\n",
    "                                                     \n",
    "    model = Sequential()\n",
    "    \n",
    "    first=True    # for the firt layer we need to specify the input dimensions\n",
    "    for i in range(n_1_conv_layers):\n",
    "        if first:\n",
    "            model.add(Conv1D(filters=n_filters_1_conv_layers, kernel_size=kernel_size_1_conv_layers, \n",
    "                             activation=activation_1_conv_layers, input_shape=input_shape))\n",
    "            first=False\n",
    "        else: \n",
    "            model.add(Conv1D(filters=n_filters_1_conv_layers, kernel_size=kernel_size_1_conv_layers, \n",
    "                             activation=activation_1_conv_layers))\n",
    "        if dropout>0:\n",
    "            model.add(Dropout(dropout))\n",
    "         \n",
    "    for i in range(n_1_max_pooling_layers):\n",
    "        model.add(MaxPooling1D(pool_size=pool_size_1_max_pooling_layers))\n",
    "        if dropout>0:\n",
    "            model.add(Dropout(dropout))\n",
    "    \n",
    "    for i in range(n_2_conv_layers):\n",
    "        model.add(Conv1D(filters=n_filters_2_conv_layers, kernel_size=kernel_size_2_conv_layers, \n",
    "                         activation=activation_2_conv_layers))\n",
    "        if dropout>0:\n",
    "            model.add(Dropout(dropout))\n",
    "          \n",
    "    for i in range(n_2_max_pooling_layers):\n",
    "        model.add(MaxPooling1D(pool_size=pool_size_2_max_pooling_layers))\n",
    "        if dropout>0:\n",
    "            model.add(Dropout(dropout))\n",
    "    \n",
    "    model.add(Flatten())\n",
    "    \n",
    "    previous_n_neurons = 2*n_neurons_3_dense_layers\n",
    "    for i in range(n_3_dense_layers):        \n",
    "        current_n_neurons = round(previous_n_neurons/2)\n",
    "        model.add(Dense(current_n_neurons, activation=activation_3_dense_layers, kernel_regularizer=reg))\n",
    "        previous_n_neurons = current_n_neurons\n",
    "        if dropout>0:\n",
    "            model.add(Dropout(dropout))\n",
    "            \n",
    "    model.add(Dense(output_shape, activation=activation_f_layer))\n",
    "    model.compile(loss='binary_crossentropy', optimizer=opt, metrics=[tf.keras.metrics.AUC(), tf.keras.metrics.Precision()])\n",
    "    return model"
   ]
  },
  {
   "cell_type": "code",
   "execution_count": 19,
   "metadata": {},
   "outputs": [
    {
     "name": "stdout",
     "output_type": "stream",
     "text": [
      "."
     ]
    }
   ],
   "source": [
    "# define general architectur - # layers\n",
    "n_1_conv_layers=2              # 1. series of conv layers. here define the nr of conv layers\n",
    "n_1_max_pooling_layers=1       # 2. series of max pooling layers\n",
    "n_2_conv_layers=1              # 3. series of conv layers\n",
    "n_2_max_pooling_layers=1       # 4. series of max pooling layers\n",
    "n_3_dense_layers=2             # 5. flatten -> series of dense layers\n",
    "\n",
    "# define layers' details\n",
    "n_filters_1_conv_layers, kernel_size_1_conv_layers = 64, 6\n",
    "n_filters_2_conv_layers, kernel_size_2_conv_layers = 64, 3\n",
    "n_neurons_3_dense_layers = 32\n",
    "pool_size_1_max_pooling_layers=3\n",
    "pool_size_2_max_pooling_layers=3\n",
    "\n",
    "# define activation functions\n",
    "activation_1_conv_layers = activation_2_conv_layers = activation_3_dense_layers = 'relu'\n",
    "activation_f_layer='sigmoid'\n",
    "                 \n",
    "# optimizer\n",
    "lr, decay = .01, .0\n",
    "# regularization\n",
    "dropout = 0.0\n",
    "l1, l2 = .01, .02\n",
    "\n",
    "m=create_model(n_1_conv_layers=n_1_conv_layers, n_1_max_pooling_layers=n_1_max_pooling_layers,\n",
    "             n_2_conv_layers=n_2_conv_layers, n_2_max_pooling_layers=n_2_max_pooling_layers, n_3_dense_layers=n_3_dense_layers,\n",
    "             n_filters_1_conv_layers=n_filters_1_conv_layers, kernel_size_1_conv_layers=kernel_size_1_conv_layers, \n",
    "             activation_1_conv_layers=activation_1_conv_layers,\n",
    "             pool_size_1_max_pooling_layers=pool_size_1_max_pooling_layers,\n",
    "             n_filters_2_conv_layers=n_filters_2_conv_layers, kernel_size_2_conv_layers=kernel_size_2_conv_layers, \n",
    "             activation_2_conv_layers=activation_2_conv_layers,\n",
    "             pool_size_2_max_pooling_layers=pool_size_2_max_pooling_layers,\n",
    "             n_neurons_3_dense_layers=n_neurons_3_dense_layers, activation_3_dense_layers=activation_3_dense_layers,\n",
    "             activation_f_layer=activation_f_layer,\n",
    "             learningrate=lr, decay=decay, l1=l1, l2=l2, dropout=dropout,\n",
    "             input_shape=(32, 1), output_shape=1)"
   ]
  },
  {
   "cell_type": "code",
   "execution_count": 20,
   "metadata": {},
   "outputs": [
    {
     "name": "stdout",
     "output_type": "stream",
     "text": [
      "Model: \"sequential\"\n",
      "_________________________________________________________________\n",
      "Layer (type)                 Output Shape              Param #   \n",
      "=================================================================\n",
      "conv1d (Conv1D)              (None, 27, 64)            448       \n",
      "_________________________________________________________________\n",
      "conv1d_1 (Conv1D)            (None, 22, 64)            24640     \n",
      "_________________________________________________________________\n",
      "max_pooling1d (MaxPooling1D) (None, 7, 64)             0         \n",
      "_________________________________________________________________\n",
      "conv1d_2 (Conv1D)            (None, 5, 64)             12352     \n",
      "_________________________________________________________________\n",
      "max_pooling1d_1 (MaxPooling1 (None, 1, 64)             0         \n",
      "_________________________________________________________________\n",
      "flatten (Flatten)            (None, 64)                0         \n",
      "_________________________________________________________________\n",
      "dense (Dense)                (None, 32)                2080      \n",
      "_________________________________________________________________\n",
      "dense_1 (Dense)              (None, 16)                528       \n",
      "_________________________________________________________________\n",
      "dense_2 (Dense)              (None, 1)                 17        \n",
      "=================================================================\n",
      "Total params: 40,065\n",
      "Trainable params: 40,065\n",
      "Non-trainable params: 0\n",
      "_________________________________________________________________\n"
     ]
    }
   ],
   "source": [
    "m.summary()"
   ]
  },
  {
   "cell_type": "code",
   "execution_count": 21,
   "metadata": {},
   "outputs": [
    {
     "name": "stdout",
     "output_type": "stream",
     "text": [
      "Epoch 1/10\n",
      "509/509 [==============================] - 3s 5ms/step - loss: 0.5806 - auc: 0.8765 - precision: 0.8436\n",
      "Epoch 2/10\n",
      "509/509 [==============================] - 3s 5ms/step - loss: 0.4173 - auc: 0.9084 - precision: 0.8127\n",
      "Epoch 3/10\n",
      "509/509 [==============================] - 3s 5ms/step - loss: 0.3988 - auc: 0.9163 - precision: 0.8107\n",
      "Epoch 4/10\n",
      "509/509 [==============================] - 3s 5ms/step - loss: 0.3962 - auc: 0.9167 - precision: 0.8164\n",
      "Epoch 5/10\n",
      "509/509 [==============================] - 3s 5ms/step - loss: 0.3897 - auc: 0.9195 - precision: 0.8139\n",
      "Epoch 6/10\n",
      "509/509 [==============================] - 3s 5ms/step - loss: 0.3883 - auc: 0.9213 - precision: 0.8163\n",
      "Epoch 7/10\n",
      "509/509 [==============================] - 3s 5ms/step - loss: 0.3828 - auc: 0.9235 - precision: 0.8217\n",
      "Epoch 8/10\n",
      "509/509 [==============================] - 3s 5ms/step - loss: 0.3775 - auc: 0.9234 - precision: 0.8195\n",
      "Epoch 9/10\n",
      "509/509 [==============================] - 3s 5ms/step - loss: 0.3766 - auc: 0.9253 - precision: 0.8254\n",
      "Epoch 10/10\n",
      "509/509 [==============================] - 3s 5ms/step - loss: 0.3911 - auc: 0.9253 - precision: 0.8162\n"
     ]
    }
   ],
   "source": [
    "results = m.fit(X, y, epochs=10, shuffle=True)"
   ]
  },
  {
   "cell_type": "markdown",
   "metadata": {},
   "source": [
    "# hyperparams tuning"
   ]
  },
  {
   "cell_type": "code",
   "execution_count": 37,
   "metadata": {},
   "outputs": [],
   "source": [
    "# numbers of layers\n",
    "n_1_conv_layers = [1, 2]    # 1. series of conv layers. here define the nr of conv layers\n",
    "n_1_max_pooling_layers = [1]     # 2. series of max pooling layers\n",
    "n_2_conv_layers = [1]       # 3. series of conv layers\n",
    "n_2_max_pooling_layers = [1]     # 4. series of max pooling layers\n",
    "n_3_dense_layers = [1, 2]    \n",
    "\n",
    "# layers' details \n",
    "n_filters_1_conv_layers = [64]\n",
    "n_filters_2_conv_layers = [32]\n",
    "kernel_size_1_conv_layers = [4, 5, 6, 7, 8]\n",
    "kernel_size_2_conv_layers = [2, 3, 4]\n",
    "pool_size_1_max_pooling_layers = [2, 3]\n",
    "pool_size_2_max_pooling_layers = [2, 3]\n",
    "n_neurons_3_dense_layers = [16, 32, 64]\n",
    "\n",
    "# activation\n",
    "activation_1_conv_layers = ['relu']\n",
    "activation_2_conv_layers = ['relu']\n",
    "activation_3_dense_layers = ['relu']\n",
    "activation_f_layer = ['sigmoid']\n",
    "\n",
    "# learning algorithm parameters\n",
    "lr = [1e-1]\n",
    "decay = [1e-6]\n",
    "\n",
    "# dropout and regularisation\n",
    "dropout = [0]\n",
    "l1 = [0.0001]\n",
    "l2 = [0.0001]\n",
    "\n",
    "# dictionary summary\n",
    "param_grid = dict(n_1_conv_layers=n_1_conv_layers, n_1_max_pooling_layers=n_1_max_pooling_layers,\n",
    "                  n_2_conv_layers=n_2_conv_layers, n_2_max_pooling_layers=n_2_max_pooling_layers, n_3_dense_layers=n_3_dense_layers,\n",
    "                  n_filters_1_conv_layers=n_filters_1_conv_layers, kernel_size_1_conv_layers=kernel_size_1_conv_layers, \n",
    "                  activation_1_conv_layers=activation_1_conv_layers,\n",
    "                  pool_size_1_max_pooling_layers=pool_size_1_max_pooling_layers,\n",
    "                  n_filters_2_conv_layers=n_filters_2_conv_layers, kernel_size_2_conv_layers=kernel_size_2_conv_layers, \n",
    "                  activation_2_conv_layers=activation_2_conv_layers,\n",
    "                  pool_size_2_max_pooling_layers=pool_size_2_max_pooling_layers,\n",
    "                  n_neurons_3_dense_layers=n_neurons_3_dense_layers, activation_3_dense_layers=activation_3_dense_layers,\n",
    "                  activation_f_layer=activation_f_layer,\n",
    "                  learningrate=lr, decay=decay, l1=l1, l2=l2, dropout=dropout)"
   ]
  },
  {
   "cell_type": "code",
   "execution_count": 38,
   "metadata": {},
   "outputs": [],
   "source": [
    "from tensorflow.keras.wrappers.scikit_learn import KerasClassifier\n",
    "# model class to use in the scikit random search CV \n",
    "n_epochs, batch_size = 3, 64\n",
    "model = KerasClassifier(build_fn=create_model, epochs=n_epochs, batch_size=batch_size, verbose=0)"
   ]
  },
  {
   "cell_type": "code",
   "execution_count": 39,
   "metadata": {},
   "outputs": [],
   "source": [
    "n_random_iterations=100\n",
    "grid = RandomizedSearchCV(estimator=model, cv=KFold(3, shuffle=True), param_distributions=param_grid, scoring=\"roc_auc\",\n",
    "                          verbose=1,  n_iter=n_random_iterations, n_jobs=1)"
   ]
  },
  {
   "cell_type": "code",
   "execution_count": 40,
   "metadata": {},
   "outputs": [
    {
     "name": "stdout",
     "output_type": "stream",
     "text": [
      "[Info] Random Search CV\n",
      "\tNr Epochs: 3, Nr Random Iterations: 100\n",
      "Fitting 3 folds for each of 100 candidates, totalling 300 fits\n",
      "."
     ]
    },
    {
     "name": "stderr",
     "output_type": "stream",
     "text": [
      "[Parallel(n_jobs=1)]: Using backend SequentialBackend with 1 concurrent workers.\n"
     ]
    },
    {
     "name": "stdout",
     "output_type": "stream",
     "text": [
      "..........................................................................................................................................................................................................................................................................................................."
     ]
    },
    {
     "name": "stderr",
     "output_type": "stream",
     "text": [
      "[Parallel(n_jobs=1)]: Done 300 out of 300 | elapsed: 15.7min finished\n"
     ]
    },
    {
     "name": "stdout",
     "output_type": "stream",
     "text": [
      ".End in 947.941 sec\n"
     ]
    }
   ],
   "source": [
    "print(\"[Info] Random Search CV\")\n",
    "print(\"\\tNr Epochs: {}, Nr Random Iterations: {}\".format(n_epochs, n_random_iterations))\n",
    "init = time.time()\n",
    "grid_result = grid.fit(X, y)\n",
    "print(\"End in {:.3f} sec\".format(time.time() - init))"
   ]
  },
  {
   "cell_type": "code",
   "execution_count": 41,
   "metadata": {},
   "outputs": [
    {
     "data": {
      "text/plain": [
       "{'epochs': 3,\n",
       " 'batch_size': 64,\n",
       " 'verbose': 0,\n",
       " 'pool_size_2_max_pooling_layers': 2,\n",
       " 'pool_size_1_max_pooling_layers': 2,\n",
       " 'n_neurons_3_dense_layers': 32,\n",
       " 'n_filters_2_conv_layers': 32,\n",
       " 'n_filters_1_conv_layers': 64,\n",
       " 'n_3_dense_layers': 2,\n",
       " 'n_2_max_pooling_layers': 1,\n",
       " 'n_2_conv_layers': 1,\n",
       " 'n_1_max_pooling_layers': 1,\n",
       " 'n_1_conv_layers': 1,\n",
       " 'learningrate': 0.1,\n",
       " 'l2': 0.0001,\n",
       " 'l1': 0.0001,\n",
       " 'kernel_size_2_conv_layers': 3,\n",
       " 'kernel_size_1_conv_layers': 4,\n",
       " 'dropout': 0,\n",
       " 'decay': 1e-06,\n",
       " 'activation_f_layer': 'sigmoid',\n",
       " 'activation_3_dense_layers': 'relu',\n",
       " 'activation_2_conv_layers': 'relu',\n",
       " 'activation_1_conv_layers': 'relu',\n",
       " 'build_fn': <function __main__.create_model(n_1_conv_layers=1, n_1_max_pooling_layers=1, n_2_conv_layers=1, n_2_max_pooling_layers=1, n_3_dense_layers=1, n_filters_1_conv_layers=64, kernel_size_1_conv_layers=6, activation_1_conv_layers='relu', pool_size_1_max_pooling_layers=3, n_filters_2_conv_layers=64, kernel_size_2_conv_layers=6, activation_2_conv_layers='relu', pool_size_2_max_pooling_layers=3, n_neurons_3_dense_layers=32, activation_3_dense_layers='relu', activation_f_layer='sigmoid', learningrate=0.01, decay=0.0, l1=0.01, l2=0.01, dropout=0.0, input_shape=(32, 1), output_shape=1)>}"
      ]
     },
     "execution_count": 41,
     "metadata": {},
     "output_type": "execute_result"
    }
   ],
   "source": [
    "grid_result.best_estimator_.get_params()"
   ]
  },
  {
   "cell_type": "code",
   "execution_count": 42,
   "metadata": {},
   "outputs": [
    {
     "data": {
      "text/html": [
       "<div>\n",
       "<style scoped>\n",
       "    .dataframe tbody tr th:only-of-type {\n",
       "        vertical-align: middle;\n",
       "    }\n",
       "\n",
       "    .dataframe tbody tr th {\n",
       "        vertical-align: top;\n",
       "    }\n",
       "\n",
       "    .dataframe thead th {\n",
       "        text-align: right;\n",
       "    }\n",
       "</style>\n",
       "<table border=\"1\" class=\"dataframe\">\n",
       "  <thead>\n",
       "    <tr style=\"text-align: right;\">\n",
       "      <th></th>\n",
       "      <th>mean_fit_time</th>\n",
       "      <th>std_fit_time</th>\n",
       "      <th>mean_score_time</th>\n",
       "      <th>std_score_time</th>\n",
       "      <th>param_pool_size_2_max_pooling_layers</th>\n",
       "      <th>param_pool_size_1_max_pooling_layers</th>\n",
       "      <th>param_n_neurons_3_dense_layers</th>\n",
       "      <th>param_n_filters_2_conv_layers</th>\n",
       "      <th>param_n_filters_1_conv_layers</th>\n",
       "      <th>param_n_3_dense_layers</th>\n",
       "      <th>...</th>\n",
       "      <th>param_activation_3_dense_layers</th>\n",
       "      <th>param_activation_2_conv_layers</th>\n",
       "      <th>param_activation_1_conv_layers</th>\n",
       "      <th>params</th>\n",
       "      <th>split0_test_score</th>\n",
       "      <th>split1_test_score</th>\n",
       "      <th>split2_test_score</th>\n",
       "      <th>mean_test_score</th>\n",
       "      <th>std_test_score</th>\n",
       "      <th>rank_test_score</th>\n",
       "    </tr>\n",
       "  </thead>\n",
       "  <tbody>\n",
       "    <tr>\n",
       "      <th>0</th>\n",
       "      <td>3.152977</td>\n",
       "      <td>0.051601</td>\n",
       "      <td>0.195898</td>\n",
       "      <td>0.003457</td>\n",
       "      <td>3</td>\n",
       "      <td>2</td>\n",
       "      <td>32</td>\n",
       "      <td>32</td>\n",
       "      <td>64</td>\n",
       "      <td>2</td>\n",
       "      <td>...</td>\n",
       "      <td>relu</td>\n",
       "      <td>relu</td>\n",
       "      <td>relu</td>\n",
       "      <td>{'pool_size_2_max_pooling_layers': 3, 'pool_si...</td>\n",
       "      <td>0.500000</td>\n",
       "      <td>0.500785</td>\n",
       "      <td>0.500000</td>\n",
       "      <td>0.500262</td>\n",
       "      <td>0.000370</td>\n",
       "      <td>94</td>\n",
       "    </tr>\n",
       "    <tr>\n",
       "      <th>1</th>\n",
       "      <td>2.803178</td>\n",
       "      <td>0.019173</td>\n",
       "      <td>0.172742</td>\n",
       "      <td>0.003427</td>\n",
       "      <td>3</td>\n",
       "      <td>2</td>\n",
       "      <td>64</td>\n",
       "      <td>32</td>\n",
       "      <td>64</td>\n",
       "      <td>2</td>\n",
       "      <td>...</td>\n",
       "      <td>relu</td>\n",
       "      <td>relu</td>\n",
       "      <td>relu</td>\n",
       "      <td>{'pool_size_2_max_pooling_layers': 3, 'pool_si...</td>\n",
       "      <td>0.923653</td>\n",
       "      <td>0.916784</td>\n",
       "      <td>0.895114</td>\n",
       "      <td>0.911850</td>\n",
       "      <td>0.012162</td>\n",
       "      <td>20</td>\n",
       "    </tr>\n",
       "    <tr>\n",
       "      <th>2</th>\n",
       "      <td>3.037249</td>\n",
       "      <td>0.181077</td>\n",
       "      <td>0.189088</td>\n",
       "      <td>0.002977</td>\n",
       "      <td>3</td>\n",
       "      <td>3</td>\n",
       "      <td>64</td>\n",
       "      <td>32</td>\n",
       "      <td>64</td>\n",
       "      <td>1</td>\n",
       "      <td>...</td>\n",
       "      <td>relu</td>\n",
       "      <td>relu</td>\n",
       "      <td>relu</td>\n",
       "      <td>{'pool_size_2_max_pooling_layers': 3, 'pool_si...</td>\n",
       "      <td>0.500000</td>\n",
       "      <td>0.914543</td>\n",
       "      <td>0.500000</td>\n",
       "      <td>0.638181</td>\n",
       "      <td>0.195418</td>\n",
       "      <td>81</td>\n",
       "    </tr>\n",
       "    <tr>\n",
       "      <th>3</th>\n",
       "      <td>2.765217</td>\n",
       "      <td>0.011618</td>\n",
       "      <td>0.176853</td>\n",
       "      <td>0.004830</td>\n",
       "      <td>2</td>\n",
       "      <td>2</td>\n",
       "      <td>32</td>\n",
       "      <td>32</td>\n",
       "      <td>64</td>\n",
       "      <td>2</td>\n",
       "      <td>...</td>\n",
       "      <td>relu</td>\n",
       "      <td>relu</td>\n",
       "      <td>relu</td>\n",
       "      <td>{'pool_size_2_max_pooling_layers': 2, 'pool_si...</td>\n",
       "      <td>0.925770</td>\n",
       "      <td>0.929030</td>\n",
       "      <td>0.932063</td>\n",
       "      <td>0.928954</td>\n",
       "      <td>0.002570</td>\n",
       "      <td>7</td>\n",
       "    </tr>\n",
       "    <tr>\n",
       "      <th>4</th>\n",
       "      <td>2.952124</td>\n",
       "      <td>0.167122</td>\n",
       "      <td>0.171789</td>\n",
       "      <td>0.001543</td>\n",
       "      <td>2</td>\n",
       "      <td>3</td>\n",
       "      <td>64</td>\n",
       "      <td>32</td>\n",
       "      <td>64</td>\n",
       "      <td>2</td>\n",
       "      <td>...</td>\n",
       "      <td>relu</td>\n",
       "      <td>relu</td>\n",
       "      <td>relu</td>\n",
       "      <td>{'pool_size_2_max_pooling_layers': 2, 'pool_si...</td>\n",
       "      <td>0.906997</td>\n",
       "      <td>0.827919</td>\n",
       "      <td>0.912528</td>\n",
       "      <td>0.882481</td>\n",
       "      <td>0.038647</td>\n",
       "      <td>33</td>\n",
       "    </tr>\n",
       "    <tr>\n",
       "      <th>...</th>\n",
       "      <td>...</td>\n",
       "      <td>...</td>\n",
       "      <td>...</td>\n",
       "      <td>...</td>\n",
       "      <td>...</td>\n",
       "      <td>...</td>\n",
       "      <td>...</td>\n",
       "      <td>...</td>\n",
       "      <td>...</td>\n",
       "      <td>...</td>\n",
       "      <td>...</td>\n",
       "      <td>...</td>\n",
       "      <td>...</td>\n",
       "      <td>...</td>\n",
       "      <td>...</td>\n",
       "      <td>...</td>\n",
       "      <td>...</td>\n",
       "      <td>...</td>\n",
       "      <td>...</td>\n",
       "      <td>...</td>\n",
       "      <td>...</td>\n",
       "    </tr>\n",
       "    <tr>\n",
       "      <th>95</th>\n",
       "      <td>3.126762</td>\n",
       "      <td>0.489004</td>\n",
       "      <td>0.182998</td>\n",
       "      <td>0.013891</td>\n",
       "      <td>2</td>\n",
       "      <td>2</td>\n",
       "      <td>16</td>\n",
       "      <td>32</td>\n",
       "      <td>64</td>\n",
       "      <td>2</td>\n",
       "      <td>...</td>\n",
       "      <td>relu</td>\n",
       "      <td>relu</td>\n",
       "      <td>relu</td>\n",
       "      <td>{'pool_size_2_max_pooling_layers': 2, 'pool_si...</td>\n",
       "      <td>0.902780</td>\n",
       "      <td>0.913948</td>\n",
       "      <td>0.877870</td>\n",
       "      <td>0.898199</td>\n",
       "      <td>0.015081</td>\n",
       "      <td>29</td>\n",
       "    </tr>\n",
       "    <tr>\n",
       "      <th>96</th>\n",
       "      <td>2.959947</td>\n",
       "      <td>0.032623</td>\n",
       "      <td>0.179500</td>\n",
       "      <td>0.002233</td>\n",
       "      <td>2</td>\n",
       "      <td>2</td>\n",
       "      <td>32</td>\n",
       "      <td>32</td>\n",
       "      <td>64</td>\n",
       "      <td>2</td>\n",
       "      <td>...</td>\n",
       "      <td>relu</td>\n",
       "      <td>relu</td>\n",
       "      <td>relu</td>\n",
       "      <td>{'pool_size_2_max_pooling_layers': 2, 'pool_si...</td>\n",
       "      <td>0.500000</td>\n",
       "      <td>0.903345</td>\n",
       "      <td>0.915370</td>\n",
       "      <td>0.772905</td>\n",
       "      <td>0.193036</td>\n",
       "      <td>55</td>\n",
       "    </tr>\n",
       "    <tr>\n",
       "      <th>97</th>\n",
       "      <td>2.904988</td>\n",
       "      <td>0.028340</td>\n",
       "      <td>0.174323</td>\n",
       "      <td>0.002301</td>\n",
       "      <td>2</td>\n",
       "      <td>2</td>\n",
       "      <td>32</td>\n",
       "      <td>32</td>\n",
       "      <td>64</td>\n",
       "      <td>2</td>\n",
       "      <td>...</td>\n",
       "      <td>relu</td>\n",
       "      <td>relu</td>\n",
       "      <td>relu</td>\n",
       "      <td>{'pool_size_2_max_pooling_layers': 2, 'pool_si...</td>\n",
       "      <td>0.922654</td>\n",
       "      <td>0.870682</td>\n",
       "      <td>0.933854</td>\n",
       "      <td>0.909063</td>\n",
       "      <td>0.027522</td>\n",
       "      <td>23</td>\n",
       "    </tr>\n",
       "    <tr>\n",
       "      <th>98</th>\n",
       "      <td>3.031878</td>\n",
       "      <td>0.102424</td>\n",
       "      <td>0.189689</td>\n",
       "      <td>0.003793</td>\n",
       "      <td>2</td>\n",
       "      <td>2</td>\n",
       "      <td>64</td>\n",
       "      <td>32</td>\n",
       "      <td>64</td>\n",
       "      <td>1</td>\n",
       "      <td>...</td>\n",
       "      <td>relu</td>\n",
       "      <td>relu</td>\n",
       "      <td>relu</td>\n",
       "      <td>{'pool_size_2_max_pooling_layers': 2, 'pool_si...</td>\n",
       "      <td>0.500000</td>\n",
       "      <td>0.919098</td>\n",
       "      <td>0.500000</td>\n",
       "      <td>0.639699</td>\n",
       "      <td>0.197565</td>\n",
       "      <td>78</td>\n",
       "    </tr>\n",
       "    <tr>\n",
       "      <th>99</th>\n",
       "      <td>3.085936</td>\n",
       "      <td>0.460265</td>\n",
       "      <td>0.179290</td>\n",
       "      <td>0.008318</td>\n",
       "      <td>3</td>\n",
       "      <td>2</td>\n",
       "      <td>64</td>\n",
       "      <td>32</td>\n",
       "      <td>64</td>\n",
       "      <td>1</td>\n",
       "      <td>...</td>\n",
       "      <td>relu</td>\n",
       "      <td>relu</td>\n",
       "      <td>relu</td>\n",
       "      <td>{'pool_size_2_max_pooling_layers': 3, 'pool_si...</td>\n",
       "      <td>0.916567</td>\n",
       "      <td>0.931997</td>\n",
       "      <td>0.926682</td>\n",
       "      <td>0.925082</td>\n",
       "      <td>0.006400</td>\n",
       "      <td>9</td>\n",
       "    </tr>\n",
       "  </tbody>\n",
       "</table>\n",
       "<p>100 rows × 32 columns</p>\n",
       "</div>"
      ],
      "text/plain": [
       "    mean_fit_time  std_fit_time  mean_score_time  std_score_time  \\\n",
       "0        3.152977      0.051601         0.195898        0.003457   \n",
       "1        2.803178      0.019173         0.172742        0.003427   \n",
       "2        3.037249      0.181077         0.189088        0.002977   \n",
       "3        2.765217      0.011618         0.176853        0.004830   \n",
       "4        2.952124      0.167122         0.171789        0.001543   \n",
       "..            ...           ...              ...             ...   \n",
       "95       3.126762      0.489004         0.182998        0.013891   \n",
       "96       2.959947      0.032623         0.179500        0.002233   \n",
       "97       2.904988      0.028340         0.174323        0.002301   \n",
       "98       3.031878      0.102424         0.189689        0.003793   \n",
       "99       3.085936      0.460265         0.179290        0.008318   \n",
       "\n",
       "   param_pool_size_2_max_pooling_layers param_pool_size_1_max_pooling_layers  \\\n",
       "0                                     3                                    2   \n",
       "1                                     3                                    2   \n",
       "2                                     3                                    3   \n",
       "3                                     2                                    2   \n",
       "4                                     2                                    3   \n",
       "..                                  ...                                  ...   \n",
       "95                                    2                                    2   \n",
       "96                                    2                                    2   \n",
       "97                                    2                                    2   \n",
       "98                                    2                                    2   \n",
       "99                                    3                                    2   \n",
       "\n",
       "   param_n_neurons_3_dense_layers param_n_filters_2_conv_layers  \\\n",
       "0                              32                            32   \n",
       "1                              64                            32   \n",
       "2                              64                            32   \n",
       "3                              32                            32   \n",
       "4                              64                            32   \n",
       "..                            ...                           ...   \n",
       "95                             16                            32   \n",
       "96                             32                            32   \n",
       "97                             32                            32   \n",
       "98                             64                            32   \n",
       "99                             64                            32   \n",
       "\n",
       "   param_n_filters_1_conv_layers param_n_3_dense_layers  ...  \\\n",
       "0                             64                      2  ...   \n",
       "1                             64                      2  ...   \n",
       "2                             64                      1  ...   \n",
       "3                             64                      2  ...   \n",
       "4                             64                      2  ...   \n",
       "..                           ...                    ...  ...   \n",
       "95                            64                      2  ...   \n",
       "96                            64                      2  ...   \n",
       "97                            64                      2  ...   \n",
       "98                            64                      1  ...   \n",
       "99                            64                      1  ...   \n",
       "\n",
       "   param_activation_3_dense_layers param_activation_2_conv_layers  \\\n",
       "0                             relu                           relu   \n",
       "1                             relu                           relu   \n",
       "2                             relu                           relu   \n",
       "3                             relu                           relu   \n",
       "4                             relu                           relu   \n",
       "..                             ...                            ...   \n",
       "95                            relu                           relu   \n",
       "96                            relu                           relu   \n",
       "97                            relu                           relu   \n",
       "98                            relu                           relu   \n",
       "99                            relu                           relu   \n",
       "\n",
       "   param_activation_1_conv_layers  \\\n",
       "0                            relu   \n",
       "1                            relu   \n",
       "2                            relu   \n",
       "3                            relu   \n",
       "4                            relu   \n",
       "..                            ...   \n",
       "95                           relu   \n",
       "96                           relu   \n",
       "97                           relu   \n",
       "98                           relu   \n",
       "99                           relu   \n",
       "\n",
       "                                               params split0_test_score  \\\n",
       "0   {'pool_size_2_max_pooling_layers': 3, 'pool_si...          0.500000   \n",
       "1   {'pool_size_2_max_pooling_layers': 3, 'pool_si...          0.923653   \n",
       "2   {'pool_size_2_max_pooling_layers': 3, 'pool_si...          0.500000   \n",
       "3   {'pool_size_2_max_pooling_layers': 2, 'pool_si...          0.925770   \n",
       "4   {'pool_size_2_max_pooling_layers': 2, 'pool_si...          0.906997   \n",
       "..                                                ...               ...   \n",
       "95  {'pool_size_2_max_pooling_layers': 2, 'pool_si...          0.902780   \n",
       "96  {'pool_size_2_max_pooling_layers': 2, 'pool_si...          0.500000   \n",
       "97  {'pool_size_2_max_pooling_layers': 2, 'pool_si...          0.922654   \n",
       "98  {'pool_size_2_max_pooling_layers': 2, 'pool_si...          0.500000   \n",
       "99  {'pool_size_2_max_pooling_layers': 3, 'pool_si...          0.916567   \n",
       "\n",
       "   split1_test_score split2_test_score mean_test_score std_test_score  \\\n",
       "0           0.500785          0.500000        0.500262       0.000370   \n",
       "1           0.916784          0.895114        0.911850       0.012162   \n",
       "2           0.914543          0.500000        0.638181       0.195418   \n",
       "3           0.929030          0.932063        0.928954       0.002570   \n",
       "4           0.827919          0.912528        0.882481       0.038647   \n",
       "..               ...               ...             ...            ...   \n",
       "95          0.913948          0.877870        0.898199       0.015081   \n",
       "96          0.903345          0.915370        0.772905       0.193036   \n",
       "97          0.870682          0.933854        0.909063       0.027522   \n",
       "98          0.919098          0.500000        0.639699       0.197565   \n",
       "99          0.931997          0.926682        0.925082       0.006400   \n",
       "\n",
       "   rank_test_score  \n",
       "0               94  \n",
       "1               20  \n",
       "2               81  \n",
       "3                7  \n",
       "4               33  \n",
       "..             ...  \n",
       "95              29  \n",
       "96              55  \n",
       "97              23  \n",
       "98              78  \n",
       "99               9  \n",
       "\n",
       "[100 rows x 32 columns]"
      ]
     },
     "execution_count": 42,
     "metadata": {},
     "output_type": "execute_result"
    }
   ],
   "source": [
    "pd.DataFrame(grid_result.cv_results_).to_csv(\"ra\")"
   ]
  },
  {
   "cell_type": "code",
   "execution_count": null,
   "metadata": {},
   "outputs": [],
   "source": []
  }
 ],
 "metadata": {
  "kernelspec": {
   "display_name": "Python 3",
   "language": "python",
   "name": "python3"
  },
  "language_info": {
   "codemirror_mode": {
    "name": "ipython",
    "version": 3
   },
   "file_extension": ".py",
   "mimetype": "text/x-python",
   "name": "python",
   "nbconvert_exporter": "python",
   "pygments_lexer": "ipython3",
   "version": "3.6.9"
  }
 },
 "nbformat": 4,
 "nbformat_minor": 4
}
