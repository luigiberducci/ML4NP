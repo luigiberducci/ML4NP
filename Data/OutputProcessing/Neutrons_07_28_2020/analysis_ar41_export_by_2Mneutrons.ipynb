{
 "cells": [
  {
   "cell_type": "markdown",
   "metadata": {},
   "source": [
    "# Analysis of Ar41 export by 2M Neutrons\n",
    "In this notebook, we see the exportation of Ar41 events selected by the 2M neutrons simulation.\n",
    "\n",
    "Please note that we convert the energies **in KeV** to be consistent with the previous studies."
   ]
  },
  {
   "cell_type": "code",
   "execution_count": null,
   "metadata": {},
   "outputs": [],
   "source": [
    "import pandas as pd\n",
    "import numpy as np\n",
    "import os\n",
    "import matplotlib.pyplot as plt\n",
    "plt.rcParams['figure.figsize'] = [25, 15]\n",
    "plt.rcParams.update({'font.size': 32})"
   ]
  },
  {
   "cell_type": "code",
   "execution_count": null,
   "metadata": {},
   "outputs": [],
   "source": [
    "def load_dataframe_from_files(dirin, fileprefix, max_files=100):\n",
    "    import glob\n",
    "    files = glob.glob(os.path.join(dirin, fileprefix))\n",
    "    print(\"[Info] Loading {} files wt prefix:\\n{}\".format(len(files), fileprefix))\n",
    "    df = pd.read_csv(files[0], comment='#', index_col=False)\n",
    "    for file in files[1:max_files]:\n",
    "        print(\".\", end='')\n",
    "        dftmp = pd.read_csv(file, comment='#', index_col=False)\n",
    "        df = pd.concat([df, dftmp])\n",
    "    print(\"\")\n",
    "    return df"
   ]
  },
  {
   "cell_type": "code",
   "execution_count": null,
   "metadata": {},
   "outputs": [],
   "source": [
    "df = load_dataframe_from_files(\".\", \"ExportAr41*csv\")"
   ]
  },
  {
   "cell_type": "code",
   "execution_count": null,
   "metadata": {},
   "outputs": [],
   "source": [
    "print(\"[Info] Loaded {} events wt Ar41\".format(df.eventnumber.nunique()))"
   ]
  },
  {
   "cell_type": "code",
   "execution_count": null,
   "metadata": {},
   "outputs": [],
   "source": [
    "edep_gby_event = df.groupby(\"eventnumber\").energydeposition.sum()\n",
    "edeplar_gby_event = df[df.SensitiveVolID==201].groupby(\"eventnumber\").energydeposition.sum()\n",
    "edepfib_gby_event = df[df.SensitiveVolID!=201].groupby(\"eventnumber\").energydeposition.sum()"
   ]
  },
  {
   "cell_type": "code",
   "execution_count": null,
   "metadata": {},
   "outputs": [],
   "source": [
    "bins = np.linspace(0, edep_gby_event.max(), 100)\n",
    "plt.hist([edeplar_gby_event, edepfib_gby_event], bins=bins, label=[\"Deposit in LAr\", \"Deposit on FiberCores\"], alpha=0.75, edgecolor='w', stacked=True)\n",
    "plt.xlabel(\"Energy deposition per event (MeV)\")\n",
    "plt.ylabel(\"Count(#events)\")\n",
    "plt.title(\"Energy deposition - 2M Neutrons (Only events wt Ar41)\")\n",
    "plt.text(100, 1500, \"Only LAr:\\nMean: {:.2f} KeV, Max: {:.2f} KeV\".format(edeplar_gby_event.mean(), edeplar_gby_event.max()))\n",
    "plt.text(100, 1200, \"Only FiberCores:\\nMean: {:.2f} KeV, Max: {:.2f} KeV\".format(edepfib_gby_event.mean(), edepfib_gby_event.max()))\n",
    "plt.text(100, 900, \"Almost all the deposit are in LAr.\\nDo we need to enable FiberCore? (34GB data)\")\n",
    "plt.legend()\n",
    "plt.show()"
   ]
  },
  {
   "cell_type": "markdown",
   "metadata": {},
   "source": [
    "# Conclusions:\n",
    "1. Do we really need to simulate the fiber core? Maybe we can save resources by recording only LAr entries."
   ]
  },
  {
   "cell_type": "code",
   "execution_count": null,
   "metadata": {},
   "outputs": [],
   "source": [
    "first_gammas = df[(df.PID==22) & (df.creatorprocess==\"nCapture\")].groupby([\"eventnumber\", \"tracknumber\"]).first().reset_index()"
   ]
  },
  {
   "cell_type": "code",
   "execution_count": null,
   "metadata": {},
   "outputs": [],
   "source": [
    "cum_ke_first_gammas = first_gammas.groupby(\"eventnumber\").kineticenergy.sum()"
   ]
  },
  {
   "cell_type": "code",
   "execution_count": null,
   "metadata": {},
   "outputs": [],
   "source": [
    "plt.hist(cum_ke_first_gammas, bins=500, edgecolor='k', color='w')\n",
    "plt.title(\"Energy of Gammas from Ar41 de-excitation\")\n",
    "plt.xlabel(\"energy (KeV)\")\n",
    "plt.ylabel(\"count (#events)\")\n",
    "plt.show()"
   ]
  },
  {
   "cell_type": "code",
   "execution_count": null,
   "metadata": {},
   "outputs": [],
   "source": [
    "ar41_creationtime = df[df.PID==1000180410].groupby([\"eventnumber\", \"tracknumber\"]).first().reset_index().time"
   ]
  },
  {
   "cell_type": "code",
   "execution_count": null,
   "metadata": {},
   "outputs": [],
   "source": [
    "bins = np.linspace(0, ar41_creationtime.max(), 1000)\n",
    "plt.hist(ar41_creationtime, bins=bins, density=True)\n",
    "plt.yscale(\"log\")\n",
    "plt.show()"
   ]
  },
  {
   "cell_type": "code",
   "execution_count": null,
   "metadata": {},
   "outputs": [],
   "source": [
    "ar41_creationtime.describe()"
   ]
  },
  {
   "cell_type": "code",
   "execution_count": null,
   "metadata": {},
   "outputs": [],
   "source": [
    "len(ar41_creationtime[ar41_creationtime<271*1000])/len(ar41_creationtime)"
   ]
  }
 ],
 "metadata": {
  "kernelspec": {
   "display_name": "Python 3",
   "language": "python",
   "name": "python3"
  },
  "language_info": {
   "codemirror_mode": {
    "name": "ipython",
    "version": 3
   },
   "file_extension": ".py",
   "mimetype": "text/x-python",
   "name": "python",
   "nbconvert_exporter": "python",
   "pygments_lexer": "ipython3",
   "version": "3.6.9"
  }
 },
 "nbformat": 4,
 "nbformat_minor": 2
}
